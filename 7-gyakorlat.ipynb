{
 "cells": [
  {
   "cell_type": "markdown",
   "metadata": {},
   "source": [
    "[![Open In Colab](https://colab.research.google.com/assets/colab-badge.svg)](https://colab.research.google.com/github/prokaj/elte-python/blob/main/7-gyakorlat.ipynb)"
   ]
  },
  {
   "cell_type": "markdown",
   "metadata": {},
   "source": [
    "## Házi feladatok\n",
    "\n",
    "\n",
    "1. Írjunk egy függvényt, aminek két paramétere van egy string-ekből álló lista és pozitív egész küszöbérték. A függvény visszatérési értéke azon karakterek listája, amelyek legalább a küszöbértékben megadott számú sztringben előfordulnak.\n",
    "\n",
    "   Pl. ha a függvényünk neve `frequent_chars`, akkor\n",
    "\n",
    "   ```\n",
    "   frequent_chars([\"alma\", \"malna\",\"golya\"], 3)\n",
    "   ```\n",
    "   \n",
    "   értéke `[\"a\",\"l\"]`. Ha a küszöbérték három helyett kettő lenne, akkor még az `\"m\"` is bekerülne a listába.\n",
    "   \n",
    "   A visszaadott lista legyen sorba rendezve. Lássuk el a függvényt típus annotációval, írjunk hozzá `docstring`-et (magyarul vagy angolul, ahogy kényelmesebb).\n",
    "   \n",
    "   Írjunk teszt függvényt, ami ellenőrzi, legalább az alábbi esetkre ellenőrzi a helyes működést:\n",
    "   \n",
    "   - Az eredmény nem függ a stringek sorrendjétől az argumentumként kapott listában.\n",
    "   \n",
    "   - A stringek listája üres.\n",
    "   \n",
    "   - Véletlenszerű stringekből álló lista.\n",
    "   \n",
    "   - Ugyanaz a string ismétlődik sokszor.\n",
    "\n"
   ]
  },
  {
   "cell_type": "markdown",
   "metadata": {},
   "source": [
    "- Van-e olyan adatszerkezet, ami kiszűri az ismétlődéseket?\n",
    "- Van-e olyan osztály, ami megszámolja az ismétlődéseket? "
   ]
  },
  {
   "cell_type": "code",
   "execution_count": null,
   "metadata": {},
   "outputs": [],
   "source": [
    "def frequent_chars(lst: list, n: int) -> list:\n",
    "    \"\"\"\n",
    "    Parameters:\n",
    "\n",
    "    lst: list of strings\n",
    "    n: threshold\n",
    "\n",
    "    Return value:\n",
    "\n",
    "    The list of those characters, in alphabetical order, that are in at least n strings in lst.    \n",
    "    \"\"\"\n",
    "    pass"
   ]
  },
  {
   "cell_type": "markdown",
   "metadata": {},
   "source": [
    "A teszteléshez, **Jupyteres környezet**ben, az `ipytest` csomag kényelmes. "
   ]
  },
  {
   "cell_type": "code",
   "execution_count": null,
   "metadata": {},
   "outputs": [],
   "source": [
    "try:\n",
    "    import ipytest\n",
    "    ipytest.autoconfig()\n",
    "    \n",
    "except ModuleNotFoundError:\n",
    "    print(\"Trying to install ipytest\")\n",
    "    ! pip install ipytest --quiet\n",
    "    print(\"Try again!\")"
   ]
  },
  {
   "cell_type": "code",
   "execution_count": null,
   "metadata": {},
   "outputs": [],
   "source": [
    "%%ipytest\n",
    "\n",
    "from itertools import permutations\n",
    "\n",
    "def test_frequent_chars():\n",
    "    lst = [\"alma\", \"golya\", \"malna\"]\n",
    "    for lst1 in permutations(lst):\n",
    "        assert frequent_chars(lst, 2) == frequent_chars(lst1, 2)\n",
    "    \n",
    "    assert frequent_chars([], 1) == []\n",
    "\n",
    "    assert frequent_chars([\"adgwro\", \"adgget\", \"adgw\", \"weti\"], 2) == [\"a\", \"d\", \"e\", \"g\", \"t\", \"w\"]\n",
    "\n",
    "    assert frequent_chars([\"alma\"]*5, 6) = []\n",
    "\n",
    "    assert frequent_chars([\"alma\"]*5, 4) = [\"a\", \"l\", \"m\"]\n",
    "    \n",
    "    assert frequent_chars([\"alma\"]*5, 5) = [\"a\", \"l\", \"m\"]\n"
   ]
  },
  {
   "cell_type": "markdown",
   "metadata": {},
   "source": [
    "\n",
    "2. Írjunk egy függvényt, ami egy sorozatból kigyűjti az különböző elemeket és mindegyikhez feljegyzi hol fordulnak elő. Feltehető, hogy a sorozat elemei használhatóak kulcsként egy szótárban.\n",
    "\n",
    "   Pl. Ha függvény neve collect_positions, akkor\n",
    "   \n",
    "   ```\n",
    "   collect_positions(\"ababcda\")\n",
    "   ```\n",
    "\n",
    "   hívás eredménye:\n",
    "   \n",
    "   ```\n",
    "   {\"a\": [0, 2, 6], \"b\":[1, 3], \"c\": [4], \"d\": [5]}\n",
    "   ```\n",
    "\n",
    "   A visszaadott szótárban az értékek legyenek nagyságszerinti sorba rendezve. Lássuk el a függvényt típus annotációval, írjunk hozzá docstring-et (magyarul vagy angolul, ahogy kényelmesebb).\n",
    "   \n",
    "   Írjunk teszt függvényt, ami ellenőrzi, legalább az alábbi esetkre ellenőrzi a helyes működést:\n",
    "   \n",
    "   - Az argumentum legalább 10 hosszú string\n",
    "   \n",
    "   - Az argumentum stringek legalább 10 hosszú listája.\n",
    "   \n",
    "   - Az argumentum map hivás eredménye, pl. ha az előző pontban használt lista `lst`, akkor `map(str.upper, lst)`, vagy `map(str.lower, lst)`\n",
    "   \n",
    "   - A sorozat üres.\n",
    "   \n",
    "   A megoldásban jól jöhet az `enumerate` függvény\n"
   ]
  },
  {
   "cell_type": "code",
   "execution_count": null,
   "metadata": {},
   "outputs": [],
   "source": [
    "from typing import Sequence\n",
    "\n",
    "def collect_positions(seq: Sequence) -> dict:\n",
    "    \"\"\"\n",
    "    Returns for each element in seq the list of occurences.\n",
    "    \"\"\"\n",
    "    \n",
    "    pass"
   ]
  },
  {
   "cell_type": "code",
   "execution_count": null,
   "metadata": {},
   "outputs": [],
   "source": [
    "%%ipytest\n",
    "\n",
    "def test_collect_positions():\n",
    "    assert collect_positions(\"ababcda\") == {\"a\": [0, 2, 6], \"b\":[1, 3], \"c\": [4], \"d\": [5]}\n",
    "    assert collect_positions([\"alma\", \"körte\"]) == {\"alma\":[0], \"körte\":[1]}\n",
    "    assert collect_positions(map(str.upper, [\"alma\", \"körte\"])) == {\"ALMA\":[0], \"KÖRTE\":[1]}\n",
    "    assert collect_positions([]) == {}\n",
    "\n",
    "    "
   ]
  },
  {
   "cell_type": "markdown",
   "metadata": {},
   "source": [
    "## Feladat előadásról\n",
    "\n",
    "Adva van egy szövegfile. [P0022.txt](https://eltehu.sharepoint.com/:t:/s/Crs22-23-1bevtudprogm22ea1Bevezetsatudomnyosprogramozsbaelad/EcraA_ZkX4VGpoCn4mzaCCcBlKbsnmDqrm_EejiXr7-57g?e=BhFq1M)\n",
    "\n",
    "Ebben a fájlban keresztnevek vannak. Hány olyan lényegében különböző névpár van, hogy a pár második eleme az első névnek a megfordítottja?\n",
    "\n",
    "pl. (\"NORA\", \"ARON\")\n",
    "\n",
    "\n",
    "Az (\"ARON\", \"NORA\") pár nem különbözik lényegében az előzőtől.\n",
    "\n",
    "A nevek kezdőbetűit tekintve melyik az 5 leggyakoribb? W-vel vagy C-vel kezdődik több név?"
   ]
  },
  {
   "cell_type": "code",
   "execution_count": null,
   "metadata": {},
   "outputs": [],
   "source": [
    "import urllib.request as request\n",
    "\n",
    "url = \"https://eltehu.sharepoint.com/:t:/s/Crs22-23-1bevtudprogm22ea1Bevezetsatudomnyosprogramozsbaelad/EcraA_ZkX4VGpoCn4mzaCCcBlKbsnmDqrm_EejiXr7-57g?e=BhFq1M\"\n",
    "try:\n",
    "    request.urlretrieve(url, \"P0022_names.txt\")\n",
    "\n",
    "except request.HTTPError:\n",
    "    print(\"Download manually!\")\n"
   ]
  },
  {
   "cell_type": "markdown",
   "metadata": {},
   "source": [
    "Alternatíva:\n",
    "\n",
    "- https://www.gutenberg.org/files/3201/files/NAMES.TXT\n",
    "- https://github.com/dominictarr/random-name/raw/master/names.txt\n",
    "\n",
    "1993-as gyűjtemény GB és US nevekből, részletesen [itt](https://www.gutenberg.org/ebooks/3201)"
   ]
  },
  {
   "cell_type": "code",
   "execution_count": null,
   "metadata": {},
   "outputs": [],
   "source": [
    "url = \"https://github.com/dominictarr/random-name/raw/master/names.txt\"\n",
    "\n",
    "try:\n",
    "    request.urlretrieve(url, \"P0022_names.txt\")\n",
    "\n",
    "except request.HTTPError:\n",
    "    print(\"Download manually!\")\n"
   ]
  },
  {
   "cell_type": "code",
   "execution_count": null,
   "metadata": {},
   "outputs": [],
   "source": [
    "with open(\"./P0022_names.txt\") as f:\n",
    "    names = [line.strip().upper() for line in f]\n",
    "\n",
    "len(names)"
   ]
  },
  {
   "cell_type": "code",
   "execution_count": null,
   "metadata": {},
   "outputs": [],
   "source": [
    "from itertools import combinations"
   ]
  },
  {
   "cell_type": "markdown",
   "metadata": {},
   "source": [
    "Párok brute force-szal."
   ]
  },
  {
   "cell_type": "code",
   "execution_count": null,
   "metadata": {},
   "outputs": [],
   "source": [
    "%%time\n",
    "pairs = [(a,b) for a, b in combinations(names, 2) if a[::-1]==b] + [(a,a) for a in names if a==a[::-1]]\n",
    "len(pairs)"
   ]
  },
  {
   "cell_type": "code",
   "execution_count": null,
   "metadata": {},
   "outputs": [],
   "source": [
    "%%time\n",
    "A = set(names)\n",
    "pairs = [(x, x[::-1]) for x in names if x<=x[::-1] and x[::-1] in A]\n",
    "len(pairs)"
   ]
  },
  {
   "cell_type": "code",
   "execution_count": null,
   "metadata": {},
   "outputs": [],
   "source": [
    "from collections import Counter\n",
    "\n",
    "counter = Counter(x[0] for x in names)\n",
    "counter.most_common(5)"
   ]
  },
  {
   "cell_type": "markdown",
   "metadata": {},
   "source": [
    "## Újabb feladat előadásról\n",
    "\n",
    "Adott egy kifejezés, ami a `(`, `)`, `[` és `]` karakterekből állhat. Állapítsuk meg, hogy a kifejezés helyesen zárójelezett-e vagy sem.\n",
    "\n",
    "pl. `([()])` helyes zárójelezés, `([(]))` nem az, mert a szögletes zárójelpár tartalmaz pár nélküli nyitó zárójelet.\n",
    "\n",
    "Próbáljuk megoldani stack-kel (listával)."
   ]
  },
  {
   "cell_type": "code",
   "execution_count": null,
   "metadata": {},
   "outputs": [],
   "source": [
    "pairs = \"()[]{}\"\n",
    "closing_symbols = dict(zip(pairs[1::2], pairs[::2]))\n",
    "opening = set(closing_symbols.values())"
   ]
  },
  {
   "cell_type": "code",
   "execution_count": null,
   "metadata": {},
   "outputs": [],
   "source": [
    "print(f\"opening = {''.join(opening)},  closing_symbols={closing_symbols}\")"
   ]
  },
  {
   "cell_type": "markdown",
   "metadata": {},
   "source": [
    "Egészítsük ki a következő kódot!"
   ]
  },
  {
   "cell_type": "code",
   "execution_count": null,
   "metadata": {},
   "outputs": [],
   "source": [
    "def is_balanced(string):\n",
    "    stack = []\n",
    "    for x in string:\n",
    "        if x in opening:\n",
    "            stack.append(x)\n",
    "        else:\n",
    "            if ???:\n",
    "                return False\n",
    "    return ???"
   ]
  },
  {
   "cell_type": "code",
   "execution_count": null,
   "metadata": {},
   "outputs": [],
   "source": [
    "%%ipytest\n",
    "\n",
    "def test_is_balanced():\n",
    "    assert is_balanced(\"[([(()[]())])]\") == True\n",
    "    assert is_balanced(\"[[))\") == False\n",
    "    assert is_balanced(\"\") == True\n",
    "    assert is_balanced(\"[\") == False\n",
    "    assert is_balanced(\")\") == False"
   ]
  },
  {
   "cell_type": "markdown",
   "metadata": {},
   "source": [
    "## Osztály defínicó\n",
    "\n",
    "Már láttuk, hogy osztályt a `class` kulcsszóval lehet definiálni.\n",
    "\n",
    "```\n",
    "class MyClass:\n",
    "    ....\n",
    "```\n",
    "\n",
    "Általában legalább az alábbi metódusokat implementálja az ember\n",
    "\n",
    "- `__init__`. Ezt akkor hívja meg a Python értelmező, amikor egyedet létrehozunk.\n",
    "  ```\n",
    "  obj = MyClass(paraméterek)\n",
    "  ```\n",
    "\n",
    "- `__repr__`. Ezt akkor hívja meg a Python értelmező, amikor interaktív környezetben a visszatérési értéket meg kell mutatni, vagy `repr(obj)` esetén. Nincs benne `print`, egy sztinget ad vissza, amit az interpreter kiír.\n",
    "\n",
    "- `__str__`. Ezt akkor hívja meg a Python értelmező, amikor `print`-eljük az objektumot. Ennek sincs mellékhatása, egy sztringet ad vissza, amit aztán a rendszer ha akar kiír. \n",
    "\n",
    "`class` neveket CamelCase konvencióval szokás megadni. Azaz ha több szóból áll a név akkor szóköz nélkül a szavak nagy kezdőbetűvel összefűzve: `my class -> MyClass`, `symmetric matrix ->SymmetricMatrix` "
   ]
  },
  {
   "cell_type": "code",
   "execution_count": null,
   "metadata": {},
   "outputs": [],
   "source": [
    "class Dummy:\n",
    "    def __init__(self, arg1=1, arg2=2, *, kwarg=None):\n",
    "        print(f\"{type(self).__name__}.__init__ called with ({arg1}, {arg2}, kwarg={kwarg})\")\n",
    "        self.arg1 = arg1\n",
    "        self.arg2 = arg2\n",
    "        self.kwarg = kwarg\n",
    "\n",
    "    def __str__(self):\n",
    "        print(f\"{type(self).__name__}.__str__\")\n",
    "        \n",
    "        return \"Dummy class\"\n",
    "\n",
    "    def __repr__(self):\n",
    "        print(f\"{type(self).__name__}.__repr__\")\n",
    "\n",
    "        return f\"{type(self).__name__}({self.arg1}, {self.arg2}, kwarg={self.kwarg})\""
   ]
  },
  {
   "cell_type": "code",
   "execution_count": null,
   "metadata": {},
   "outputs": [],
   "source": [
    "obj = Dummy()\n",
    "print(\"---\")\n",
    "print(\"calling str:\")\n",
    "str(obj)\n",
    "print(\"---\")\n",
    "print(\"calling repr:\")\n",
    "repr(obj)\n",
    "print(\"---\")\n",
    "print(\"f-string:\")\n",
    "print(f\"str:{str(obj)}, repr:{repr(obj)}\")\n",
    "print(\"---\")\n",
    "print(\"printing obj:\", obj)\n",
    "print(\"---\")\n",
    "print(\"REPL print:\")\n",
    "obj"
   ]
  },
  {
   "cell_type": "markdown",
   "metadata": {},
   "source": [
    "### Példa kevésbé triviális osztályra, egyéni azonosító minden egyednek."
   ]
  },
  {
   "cell_type": "code",
   "execution_count": null,
   "metadata": {},
   "outputs": [],
   "source": [
    "class ID:\n",
    "    code: int = -1\n",
    "    \n",
    "    def __init__(self):\n",
    "        self.code = self.next_id()\n",
    "\n",
    "    def __repr__(self) -> str:\n",
    "        return f\"ID({self.code}/{type(self).code})\"\n",
    "    \n",
    "    @classmethod\n",
    "    def next_id(cls) -> int:\n",
    "        cls.code += 1\n",
    "        return cls.code\n"
   ]
  },
  {
   "cell_type": "code",
   "execution_count": null,
   "metadata": {},
   "outputs": [],
   "source": [
    "i0 = ID()\n",
    "i1 = ID()\n",
    "i2 = ID()\n",
    "\n",
    "\n",
    "i0,i1,i2, ID.__dict__, i0.__dict__"
   ]
  },
  {
   "cell_type": "markdown",
   "metadata": {},
   "source": [
    "### Halmaz típus listával\n",
    "\n",
    "Előadáson javasolta az előadó, hogy implementáljuk a halmaz típus néhány műveletét **lista** segítségével. \n",
    "\n",
    "Egészítsük ki az alábbi kódot:"
   ]
  },
  {
   "cell_type": "code",
   "execution_count": null,
   "metadata": {},
   "outputs": [],
   "source": [
    "class Set:\n",
    "    def __init__(self, initial_value=None):\n",
    "        ## jó ez így?? Ha nem javítsuk ki!\n",
    "        ## pl. Set((1,1,1)) mi lesz?\n",
    "        self._value = [] if initial_value is None else list(initial_value)\n",
    "    \n",
    "    def __str__(self):\n",
    "        return f\"{type(self).__name__} with {len(self._value)} element.\"\n",
    "    \n",
    "    def __repr__(self):\n",
    "        return f\"{{{', '.join(map(repr, self._value))}}}\"\n",
    "    \n",
    "    def add(self, other):\n",
    "        pass\n",
    "\n",
    "    def union(self, other):\n",
    "        pass\n",
    "\n",
    "    def update(self, other):\n",
    "        return self\n",
    "\n",
    "    def intersection(self, other):\n",
    "        pass\n",
    "\n",
    "    def difference(self, other):\n",
    "        pass\n",
    "\n",
    "    def __or__(self, other):\n",
    "        print(f\"__or__({self!r}, {other!r})\")\n",
    "        return self.union(other)\n",
    "\n",
    "    def __and__(self, other):\n",
    "        print(f\"__and__({self!r}, {other!r})\")\n",
    "        pass\n",
    "\n",
    "    def __xor__(self, other):\n",
    "        print(f\"__xor__({self!r}, {other!r})\")\n",
    "        pass\n",
    "\n",
    "    def __add__(self, other):\n",
    "        return self.union(other)\n",
    "\n",
    "    def __iadd__(self, other):\n",
    "        print(f\"__iadd__({self!r}, {other!r})\")\n",
    "        return self\n",
    "\n",
    "    ## adjuk hozzá a __sub__, __isub__, __iand__, __ior__, __ixor__ stb dunder metódusokat is.\n",
    "    ## először tényleges implementáció nélkül, a fenti stílusban.\n",
    "\n"
   ]
  },
  {
   "cell_type": "code",
   "execution_count": null,
   "metadata": {},
   "outputs": [],
   "source": [
    "A = Set((1,2,3))\n",
    "B = Set((2,4))\n",
    "A += B\n",
    "print(A)\n",
    "A|B, A&B, A^B, A+B"
   ]
  },
  {
   "cell_type": "markdown",
   "metadata": {},
   "source": [
    "### Conway Game of Life\n",
    "\n",
    "The Game of Life is a cellular automaton created by mathematician John Conway in 1970. The game consists of a board of cells that are either on or off. One creates an initial configuration of these on/off states and observes how it evolves. There are four simple rules to determine the next state of the game board, given the current state:\n",
    "\n",
    "- **Overpopulation**: if a living cell is surrounded by more than three living cells, it dies.\n",
    "- **Stasis**: if a living cell is surrounded by two or three living cells, it survives.\n",
    "- **Underpopulation**: if a living cell is surrounded by fewer than two living cells, it dies.\n",
    "- **Reproduction**: if a dead cell is surrounded by exactly three cells, it becomes a live cell.\n",
    "\n",
    "\n",
    "Írjunk egy osztályt a játékhoz, pl. az `__init__` metódus hozzalétre a megadott konfigurációnak megfelelő objektumot. Legyen egy `step` metódus, ami a rendszert a következő állapotába viszi és a `show` metódus pedig\n",
    "valahogy ábrázolja `grafikus`-an az aktuális állapotot. \n",
    "\n",
    "Tegyük fel, hogy a rács amin a rendszer él, egy $n\\times n$-es rács, ahol mindkét irányban ciklikusan körbemegyünk,\n",
    "azaz a csúcsokat modulo $n$ tekintjük.\n"
   ]
  },
  {
   "cell_type": "code",
   "execution_count": null,
   "metadata": {},
   "outputs": [],
   "source": [
    "class ConwayGoL:\n",
    "    def __init__(self, state, n):\n",
    "        self.state = list(state)\n",
    "        self.n = n\n",
    "    def step(self):\n",
    "\n",
    "        return self\n",
    "    def show(self):\n",
    "        pass\n",
    "    \n",
    "    def __repr__(self):\n",
    "        return f\"{type(self).__name__}({self.state}, {self.n})\""
   ]
  },
  {
   "cell_type": "code",
   "execution_count": null,
   "metadata": {},
   "outputs": [],
   "source": [
    "import random\n",
    "\n",
    "init_state = [] ## ???\n",
    "conway = ConwayGoL(init_state, 0)\n",
    "conway.show()\n",
    "conway.step()\n",
    "conway.show()"
   ]
  },
  {
   "cell_type": "markdown",
   "metadata": {},
   "source": [
    "A játék állapotának leírásához egy $n\\times n$ rács minden pontjáról tudni kell, hogy foglalt-e vagy sem.\n",
    "\n",
    "```\n",
    "n = 11\n",
    "state = [0]*(n*n)\n",
    "```\n",
    "\n",
    "Véletlenszerű kezdeti állapot:\n",
    "```\n",
    "state = [random.randint(0,1) for _ in range(n*n)]\n",
    "```"
   ]
  },
  {
   "cell_type": "code",
   "execution_count": null,
   "metadata": {},
   "outputs": [],
   "source": [
    "def random_state(n, p):\n",
    "    return [int(random.random()<p) for _ in range(n*n)]\n",
    "\n",
    "state = random_state(11, 0.2)\n",
    "print(state)"
   ]
  },
  {
   "cell_type": "markdown",
   "metadata": {},
   "source": [
    "Szebb megjelenítés?"
   ]
  },
  {
   "cell_type": "code",
   "execution_count": null,
   "metadata": {},
   "outputs": [],
   "source": [
    "def as_matrix(lst, n):\n",
    "    return [lst[i:i+n] for i in range(0, len(lst), n)]\n",
    "\n",
    "print('\\n'.join(''.join(map(str, line)) for line in as_matrix(state, n)))\n"
   ]
  },
  {
   "cell_type": "code",
   "execution_count": null,
   "metadata": {},
   "outputs": [],
   "source": [
    "symbols = \"\\u2b1c\\u2b1b\"\n",
    "print('\\n'.join(''.join(symbols[x] for x in line) for line in as_matrix(state, n)))\n"
   ]
  },
  {
   "cell_type": "code",
   "execution_count": null,
   "metadata": {},
   "outputs": [],
   "source": [
    "import matplotlib.pyplot as plt \n",
    "import time\n",
    "\n",
    "\n",
    "img = plt.matshow(as_matrix(state, n), cmap=\"viridis\")\n",
    "img.axes.axis(False)\n",
    "for pos in range(0,12):\n",
    "    img.axes.axhline(y=pos-0.5, color=\"white\")\n",
    "    img.axes.axvline(x=pos-0.5, color=\"white\")\n",
    "img\n"
   ]
  },
  {
   "cell_type": "code",
   "execution_count": null,
   "metadata": {},
   "outputs": [],
   "source": [
    "\n",
    "def cgol_show(self):\n",
    "    symbols = \"\\u2b1c\\u2b1b\"\n",
    "    state = as_matrix([symbols[x] for x in self.state], self.n)\n",
    "    return '\\n'.join(''.join(line) for line in state)\n",
    "\n",
    "ConwayGoL.__str__ = cgol_show\n",
    "ConwayGoL.show = cgol_show\n",
    "\n",
    "    "
   ]
  },
  {
   "cell_type": "code",
   "execution_count": null,
   "metadata": {},
   "outputs": [],
   "source": [
    "conway = ConwayGoL(state, 11)\n",
    "print(conway)"
   ]
  },
  {
   "cell_type": "markdown",
   "metadata": {},
   "source": [
    "A `step` metódushoz ki kellene számolni egy adott csúcs foglalt szomszédainak számát `cnt`. Ha ez kész,\n",
    "akkor az $i$ csúcs új állapota:\n",
    "\n",
    "$$\n",
    "    \\text{state}_{t+1}[i]=\n",
    "    \\begin{cases}\n",
    "    1 &\\text{Ha $\\text{cnt}[i]\\in\\{2,3\\}$ és $\\text{state}_t[i]=1$}\\\\\n",
    "    1 &\\text{Ha $\\text{cnt}[i]\\in\\{3\\}$ és $\\text{state}_t[i]=0$}\\\\\n",
    "    0 &\\text{különben}\n",
    "    \\end{cases}\n",
    "$$"
   ]
  },
  {
   "cell_type": "code",
   "execution_count": null,
   "metadata": {},
   "outputs": [],
   "source": [
    "def newstate(state, count):\n",
    "    return [int((c==3)|((c==2) & (s==1))) for s, c in  zip(state, count)]"
   ]
  },
  {
   "cell_type": "code",
   "execution_count": null,
   "metadata": {},
   "outputs": [],
   "source": [
    "import ipytest \n",
    "ipytest.autoconfig()"
   ]
  },
  {
   "cell_type": "code",
   "execution_count": null,
   "metadata": {},
   "outputs": [],
   "source": [
    "%%ipytest\n",
    "\n",
    "def test_newstate():\n",
    "    res = [0]*9\n",
    "    res[2] = 1\n",
    "    res[3] = 1\n",
    "    assert newstate([1]*9, list(range(9))) == res\n",
    "    res = [0]*9\n",
    "    res[3] = 1    \n",
    "    assert newstate([0]*9, list(range(9))) == res\n"
   ]
  },
  {
   "cell_type": "code",
   "execution_count": null,
   "metadata": {},
   "outputs": [],
   "source": [
    "def idx(i, d_row, d_col, n):\n",
    "    i, j = divmod(i, n)\n",
    "    i = (i+d_row) % n\n",
    "    j = (j+d_col) % n\n",
    "    return i*n+j\n",
    "\n",
    "def count_neighbors(state, n):\n",
    "    strides = [(0,-1), (0, 1), (1,-1), (1,0), (1,1), (-1,-1), (-1,0), (-1,1)] \n",
    "    lens = len(state)\n",
    "    return [sum(state[idx(i,di,dj,n)] for di, dj in strides) for i in range(lens)]\n",
    "\n",
    "def cgol_step(self):\n",
    "    count = count_neighbors(self.state, self.n)\n",
    "    self.state = newstate(self.state, count)\n",
    "    return self\n",
    "    \n",
    "ConwayGoL.step = cgol_step"
   ]
  },
  {
   "cell_type": "code",
   "execution_count": null,
   "metadata": {},
   "outputs": [],
   "source": [
    "@classmethod\n",
    "def cgol_from_random_state(cls, n, p):\n",
    "    return cls(random_state(n, p), n)\n",
    "\n",
    "ConwayGoL.from_random_state=cgol_from_random_state"
   ]
  },
  {
   "cell_type": "code",
   "execution_count": null,
   "metadata": {},
   "outputs": [],
   "source": [
    "conway = ConwayGoL.from_random_state(4, 0.3)\n",
    "print(conway)\n",
    "print(as_matrix(count_neighbors(conway.state, conway.n), 4))"
   ]
  },
  {
   "cell_type": "code",
   "execution_count": null,
   "metadata": {},
   "outputs": [],
   "source": [
    "conway = ConwayGoL.from_random_state(5, 0.5)\n",
    "print(conway)\n",
    "print(\"-\"*20)\n",
    "print(conway.step())"
   ]
  },
  {
   "cell_type": "markdown",
   "metadata": {},
   "source": [
    "Tudunk-e valami animációszerűt készíteni? Jupyter notebook-ban pl. a következő képpen lehet: "
   ]
  },
  {
   "cell_type": "code",
   "execution_count": null,
   "metadata": {},
   "outputs": [],
   "source": [
    "from ipywidgets import Output\n",
    "from time import sleep\n",
    "\n",
    "out = Output()\n",
    "display(out)\n",
    "conway = ConwayGoL.from_random_state(n=31, p=0.2)\n",
    "\n",
    "for i in range(100):\n",
    "    out.clear_output(True)\n",
    "    with out:\n",
    "        print(f\"After {i} steps:\\n{conway}\")  \n",
    "    sleep(0.2)\n",
    "    conway.step()\n",
    "    if conway.is_empty():\n",
    "        break\n"
   ]
  },
  {
   "cell_type": "markdown",
   "metadata": {},
   "source": [
    "Ha parancssorból dolgozunk, akkor valami ilyesmit lehetne tenni"
   ]
  },
  {
   "cell_type": "code",
   "execution_count": null,
   "metadata": {},
   "outputs": [],
   "source": [
    "%%writefile conway.py\n",
    "\n",
    "import random\n",
    "\n",
    "def as_matrix(lst, n):\n",
    "    return [lst[i:i+n] for i in range(0, len(lst), n)]\n",
    "\n",
    "def random_state(n, p):\n",
    "    return [int(random.random()<p) for _ in range(n*n)]\n",
    "\n",
    "def idx(i, d_row, d_col, n):\n",
    "    i, j = divmod(i, n)\n",
    "    i = (i+d_row) % n\n",
    "    j = (j+d_col) % n\n",
    "    return i*n+j\n",
    "\n",
    "def count_neighbors(state, n):\n",
    "    lens = len(state)\n",
    "    strides = [(0,-1), (0, 1), (1,-1), (1,0), (1,1), (-1,-1), (-1,0), (-1,1)] \n",
    "\n",
    "    return [sum(state[idx(i, di, dj, n)] for di, dj in strides) for i in range(lens)]\n",
    "\n",
    "def newstate(state, count):\n",
    "    return [int((c==3)|((c==2) & (s==1))) for s, c in  zip(state, count)]\n",
    "\n",
    "class ConwayGoL:\n",
    "    symbols = \"\\u2b1c\\u2b1b\"\n",
    "    \n",
    "    def __init__(self, state, n):\n",
    "        self.state = list(state)\n",
    "        self.n = n\n",
    "        assert len(state) == n*n\n",
    "\n",
    "    def step(self):\n",
    "        count = count_neighbors(self.state, self.n)\n",
    "        self.state = newstate(self.state, count)\n",
    "        return self\n",
    "\n",
    "    def show(self):\n",
    "        return str(self)\n",
    "    \n",
    "    def __str__(self): \n",
    "        symbols = self.symbols\n",
    "        state = as_matrix([symbols[x] for x in self.state], self.n)\n",
    "        return '\\n'.join(''.join(line) for line in state)\n",
    "        \n",
    "    def __repr__(self):\n",
    "        return f\"{type(self).__name__}({self.state}, {self.n})\"\n",
    "    \n",
    "    @classmethod\n",
    "    def from_random_state(cls, n, p):\n",
    "        return cls(random_state(n, p), n)\n",
    "\n",
    "    def is_empty(self):\n",
    "        return not sum(self.state)\n",
    "\n",
    "if __name__ == \"__main__\":\n",
    "    from time import sleep\n",
    "    n = 11\n",
    "    p = 0.2\n",
    "    conway = ConwayGoL.from_random_state(n, p)\n",
    "    back_step_string = f\"{chr(27)}[{n+1}A\"\n",
    "    nsteps = 10\n",
    "    for i in range(nsteps+1):\n",
    "        print(f\"after {i} step:\")\n",
    "        print(conway)  \n",
    "        sleep(0.2)\n",
    "        conway.step()\n",
    "        if conway.is_empty():\n",
    "            break\n",
    "        if i < nsteps:\n",
    "            print(back_step_string, end=\"\")\n",
    "        \n"
   ]
  },
  {
   "cell_type": "markdown",
   "metadata": {},
   "source": [
    "Ha valamit már megírtunk és szeretnénk használni, `import`-tal elérhető. Pl."
   ]
  },
  {
   "cell_type": "code",
   "execution_count": null,
   "metadata": {},
   "outputs": [],
   "source": [
    "import conway\n",
    "ConwayGoL?"
   ]
  },
  {
   "cell_type": "markdown",
   "id": "6855010d-aa5b-4c95-a7ff-020598002ccd",
   "metadata": {},
   "source": [
    "## Mi történik a `with` statement alkalmazásakor?\n",
    "\n",
    "### Mit lehet a with mögé írni?\n",
    "\n",
    "Hasonlóan a `for`-hoz szinte bármit, aminek van két metódusa:\n",
    "\n",
    "- `__enter__`\n",
    "- `__exit__`\n",
    "\n",
    "\n",
    "    with obj as x:\n",
    "       do_something with x\n",
    "\n",
    "Itt az `obj.__enter__()` hívás eredménye lesz az x értéke és a block végén **GARANTÁLTAN** végrehajtódik az `obj.__exit__(...)` hívás.\n",
    "Az `__enter__` metódus végezheti az előkészítést, az `__exit__` a takarítást!\n",
    "\n",
    "#### Kell-e nekünk ezeket a metódusokat közvetlenül implementálni?\n",
    "\n",
    "Valójában nem. Elegendő egy generátor függvényt megírni:\n",
    "\n",
    "    import time\n",
    "    \n",
    "    def timer():\n",
    "        try:\n",
    "            start = time.time()\n",
    "            yield\n",
    "\n",
    "        finally:\n",
    "            runtime = time.time() - start\n",
    "            print(f\"run time: {runtime:3f}\")\n",
    "            \n",
    "\n",
    "Így még csak egy generátort kapunk ami egyszer visszaad semmit (`None`) majd jelzi, hogy vége van a sorozatnak. \n",
    "\n",
    "Próbáljuk ki `for`-ral"
   ]
  },
  {
   "cell_type": "code",
   "execution_count": null,
   "id": "bf7398f5-f860-4f54-bb34-4a23a657c6de",
   "metadata": {},
   "outputs": [],
   "source": [
    "import time\n",
    "    \n",
    "def timer():\n",
    "    try:\n",
    "        start = time.time()\n",
    "        yield\n",
    "\n",
    "    finally:\n",
    "        runtime = time.time() - start\n",
    "        print(f\"run time: {runtime:3f}\")\n",
    "        \n",
    "for x in timer():\n",
    "    print(x)"
   ]
  },
  {
   "cell_type": "markdown",
   "id": "9240a96f-f131-4ec6-bf82-9200ec8683d1",
   "metadata": {},
   "source": [
    "`with`-del hibát kapunk"
   ]
  },
  {
   "cell_type": "code",
   "execution_count": null,
   "id": "733bcf3e-ba03-4764-864d-dc86b59e4fb3",
   "metadata": {},
   "outputs": [],
   "source": [
    "with timer() as x:\n",
    "    print(x)"
   ]
  },
  {
   "cell_type": "markdown",
   "id": "985e67d1-afae-4523-a8df-7577354c7745",
   "metadata": {},
   "source": [
    "A `contextlib` module `contextmanager` függvénye generátorból `contextmanager`-t készít."
   ]
  },
  {
   "cell_type": "code",
   "execution_count": null,
   "id": "4bf4e118-d7a5-47cc-893c-f47a2bac8c44",
   "metadata": {},
   "outputs": [],
   "source": [
    "from contextlib import contextmanager\n",
    "timer2 = contextmanager(timer)\n",
    "with timer2() as x:\n",
    "    print(x)"
   ]
  },
  {
   "cell_type": "markdown",
   "id": "20b085c9-be51-4ad4-a5a4-40910f5c1587",
   "metadata": {},
   "source": [
    "Ha egy függvény akarunk alkalmazni egy függvényre, hogy azt átalakítsuk, de ugyanaz maradjon a neve akkor a python `@` szintakszist használja. Ilyenkor ,,dekoráljuk'' a függvényt. A `contextmanager` egy példa **dekorátor**ra.\n",
    "\n",
    "    @contextmanager\n",
    "    def timer():\n",
    "        try:\n",
    "            start = time.time()\n",
    "            yield\n",
    "\n",
    "        finally:\n",
    "            runtime = time.time() - start\n",
    "            print(f\"run time: {runtime:3f}\")\n",
    "    \n",
    "Példaként írjunk egy olyan contextmanager-t, ami jelzi nekünk, hogy mikor milyen hívás történik."
   ]
  },
  {
   "cell_type": "code",
   "execution_count": null,
   "id": "8666bd25-3915-428c-86ad-cbc4582003cd",
   "metadata": {},
   "outputs": [],
   "source": [
    "@contextmanager\n",
    "def print_whats_going_on(x):\n",
    "    print(\"try blokk előtt\")\n",
    "    try:\n",
    "        print(\"yield előtt\")\n",
    "        yield x\n",
    "        print(\"yield után\")\n",
    "    except:\n",
    "        print(\"except ág\")\n",
    "    finally:\n",
    "        print(\"finally ág\")\n",
    "    print(\"try blokk után\")"
   ]
  },
  {
   "cell_type": "code",
   "execution_count": null,
   "id": "c3ba90bb-2dde-429d-9dd8-75476b0a5225",
   "metadata": {},
   "outputs": [],
   "source": [
    "with print_whats_going_on(\"hello\") as x:\n",
    "    print(x)\n",
    "print(\"with után\")\n",
    "\n",
    "print(\"-\"*50)\n",
    "\n",
    "with print_whats_going_on(\"hello\") as x:\n",
    "    print(x)\n",
    "    raise ValueError\n",
    "print(\"with után\")\n"
   ]
  },
  {
   "cell_type": "code",
   "execution_count": null,
   "id": "39160ff6-b8bd-4e51-9117-5bb3f6a4eb59",
   "metadata": {},
   "outputs": [],
   "source": [
    "@contextmanager\n",
    "def timer():\n",
    "    try:\n",
    "        start = time.time()\n",
    "        yield\n",
    "\n",
    "    finally:\n",
    "        runtime = time.time() - start\n",
    "        print(f\"run time: {runtime:3f}\")"
   ]
  },
  {
   "cell_type": "markdown",
   "metadata": {},
   "source": [
    "Előadáson a `property` dekorátor szerepelt.\n",
    "\n",
    "A `ConwayGoL` példában utólag adtunk metódusokat az osztályunkhoz. Ezt is megtehettük volna dekorátorral.  "
   ]
  },
  {
   "cell_type": "code",
   "execution_count": null,
   "metadata": {},
   "outputs": [],
   "source": [
    "def conway_method(f):\n",
    "    setattr(ConwayGoL, f.__name__, f)\n",
    "    return f\n",
    "\n",
    "\n",
    "@conway_method\n",
    "def dummy_method(self):\n",
    "    print(\"this is a message from the new method!\")\n",
    "\n",
    "c = ConwayGoL([], 0)\n",
    "c.dummy_method()"
   ]
  },
  {
   "cell_type": "markdown",
   "metadata": {},
   "source": [
    "Azt is megtehettük volna, hogy a osztály nincs beleégetve a kódba."
   ]
  },
  {
   "cell_type": "code",
   "execution_count": null,
   "metadata": {},
   "outputs": [],
   "source": [
    "def new_method(cls):\n",
    "    def decorator(f):\n",
    "        setattr(cls, f.__name__, f)\n",
    "        return f \n",
    "    return decorator\n",
    "\n",
    "@new_method(ConwayGoL)\n",
    "def dummy_method(self):\n",
    "    print(\"Note that the old value of dummy_method is overwritten!\")"
   ]
  },
  {
   "cell_type": "code",
   "execution_count": null,
   "metadata": {},
   "outputs": [],
   "source": [
    "c.dummy_method()"
   ]
  },
  {
   "cell_type": "code",
   "execution_count": null,
   "metadata": {},
   "outputs": [],
   "source": []
  }
 ],
 "metadata": {
  "kernelspec": {
   "display_name": "base",
   "language": "python",
   "name": "python3"
  },
  "language_info": {
   "codemirror_mode": {
    "name": "ipython",
    "version": 3
   },
   "file_extension": ".py",
   "mimetype": "text/x-python",
   "name": "python",
   "nbconvert_exporter": "python",
   "pygments_lexer": "ipython3",
   "version": "3.8.13"
  },
  "orig_nbformat": 4,
  "vscode": {
   "interpreter": {
    "hash": "d8b53ac59aeb7dd99955ed1c7af180cec0b2adbd03b0a8162d4077beb5f10154"
   }
  }
 },
 "nbformat": 4,
 "nbformat_minor": 2
}
