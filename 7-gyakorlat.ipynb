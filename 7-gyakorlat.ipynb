{
 "cells": [
  {
   "cell_type": "markdown",
   "metadata": {},
   "source": [
    "[![Open In Colab](https://colab.research.google.com/assets/colab-badge.svg)](https://colab.research.google.com/github/prokaj/elte-python/blob/main/7-gyakorlat.ipynb)"
   ]
  },
  {
   "cell_type": "markdown",
   "metadata": {},
   "source": [
    "## Házi feladatok\n",
    "\n",
    "\n",
    "1. Írjunk egy függvényt, aminek két paramétere van egy string-ekből álló lista és pozitív egész küszöbérték. A függvény visszatérési értéke azon karakterek listája, amelyek legalább a küszöbértékben megadott számú sztringben előfordulnak.\n",
    "\n",
    "   Pl. ha a függvényünk neve `frequent_chars`, akkor\n",
    "\n",
    "   ```\n",
    "   frequent_chars([\"alma\", \"malna\",\"golya\"], 3)\n",
    "   ```\n",
    "   \n",
    "   értéke `[\"a\",\"l\"]`. Ha a küszöbérték három helyett kettő lenne, akkor még az `\"m\"` is bekerülne a listába.\n",
    "   \n",
    "   A visszaadott lista legyen sorba rendezve. Lássuk el a függvényt típus annotációval, írjunk hozzá `docstring`-et (magyarul vagy angolul, ahogy kényelmesebb).\n",
    "   \n",
    "   Írjunk teszt függvényt, ami ellenőrzi, legalább az alábbi esetkre ellenőrzi a helyes működést:\n",
    "   \n",
    "   - Az eredmény nem függ a stringek sorrendjétől az argumentumként kapott listában.\n",
    "   \n",
    "   - A stringek listája üres.\n",
    "   \n",
    "   - Véletlenszerű stringekből álló lista.\n",
    "   \n",
    "   - Ugyanaz a string ismétlődik sokszor.\n",
    "\n"
   ]
  },
  {
   "cell_type": "markdown",
   "metadata": {},
   "source": [
    "- Van-e olyan adatszerkezet, ami kiszűri az ismétlődéseket?\n",
    "- Van-e olyan osztály, ami megszámolja az ismétlődéseket? "
   ]
  },
  {
   "cell_type": "code",
   "execution_count": 11,
   "metadata": {},
   "outputs": [],
   "source": [
    "from collections import Counter\n",
    "from itertools import chain\n",
    "\n",
    "def frequent_chars(lst: list, n: int) -> list:\n",
    "    \"\"\"\n",
    "    Parameters:\n",
    "\n",
    "    lst: list of strings\n",
    "    n: threshold\n",
    "\n",
    "    Return value:\n",
    "\n",
    "    The list of those characters, in alphabetical order, that are in at least n strings in lst.    \n",
    "    \"\"\"\n",
    "    cnt = Counter(chain.from_iterable(map(set, lst)))\n",
    "    return sorted((x for x, c in cnt.items() if c>=n)) "
   ]
  },
  {
   "cell_type": "markdown",
   "metadata": {},
   "source": [
    "A teszteléshez, **Jupyteres környezet**ben, az `ipytest` csomag kényelmes. "
   ]
  },
  {
   "cell_type": "code",
   "execution_count": 12,
   "metadata": {},
   "outputs": [],
   "source": [
    "try:\n",
    "    import ipytest\n",
    "    ipytest.autoconfig()\n",
    "    \n",
    "except ModuleNotFoundError:\n",
    "    print(\"Trying to install ipytest\")\n",
    "    ! pip install ipytest --quiet\n",
    "    print(\"Try again!\")"
   ]
  },
  {
   "cell_type": "code",
   "execution_count": 13,
   "metadata": {},
   "outputs": [
    {
     "name": "stdout",
     "output_type": "stream",
     "text": [
      "\u001b[32m.\u001b[0m\u001b[32m                                                                                            [100%]\u001b[0m\n",
      "\u001b[32m\u001b[32m\u001b[1m1 passed\u001b[0m\u001b[32m in 0.00s\u001b[0m\u001b[0m\n"
     ]
    }
   ],
   "source": [
    "%%ipytest\n",
    "\n",
    "from itertools import permutations\n",
    "\n",
    "def test_frequent_chars():\n",
    "    lst = [\"alma\", \"golya\", \"malna\"]\n",
    "    for lst1 in permutations(lst):\n",
    "        assert frequent_chars(lst, 2) == frequent_chars(lst1, 2)\n",
    "    \n",
    "    assert frequent_chars([], 1) == []\n",
    "\n",
    "    assert frequent_chars([\"adgwro\", \"adgget\", \"adgw\", \"weti\"], 2) == [\"a\", \"d\", \"e\", \"g\", \"t\", \"w\"]\n",
    "\n",
    "    assert frequent_chars([\"alma\"]*5, 6) == []\n",
    "\n",
    "    assert frequent_chars([\"alma\"]*5, 4) == [\"a\", \"l\", \"m\"]\n",
    "    \n",
    "    assert frequent_chars([\"alma\"]*5, 5) == [\"a\", \"l\", \"m\"]\n"
   ]
  },
  {
   "cell_type": "markdown",
   "metadata": {},
   "source": [
    "\n",
    "2. Írjunk egy függvényt, ami egy sorozatból kigyűjti az különböző elemeket és mindegyikhez feljegyzi hol fordulnak elő. Feltehető, hogy a sorozat elemei használhatóak kulcsként egy szótárban.\n",
    "\n",
    "   Pl. Ha függvény neve collect_positions, akkor\n",
    "   \n",
    "   ```\n",
    "   collect_positions(\"ababcda\")\n",
    "   ```\n",
    "\n",
    "   hívás eredménye:\n",
    "   \n",
    "   ```\n",
    "   {\"a\": [0, 2, 6], \"b\":[1, 3], \"c\": [4], \"d\": [5]}\n",
    "   ```\n",
    "\n",
    "   A visszaadott szótárban az értékek legyenek nagyságszerinti sorba rendezve. Lássuk el a függvényt típus annotációval, írjunk hozzá docstring-et (magyarul vagy angolul, ahogy kényelmesebb).\n",
    "   \n",
    "   Írjunk teszt függvényt, ami ellenőrzi, legalább az alábbi esetkre ellenőrzi a helyes működést:\n",
    "   \n",
    "   - Az argumentum legalább 10 hosszú string\n",
    "   \n",
    "   - Az argumentum stringek legalább 10 hosszú listája.\n",
    "   \n",
    "   - Az argumentum map hivás eredménye, pl. ha az előző pontban használt lista `lst`, akkor `map(str.upper, lst)`, vagy `map(str.lower, lst)`\n",
    "   \n",
    "   - A sorozat üres.\n",
    "   \n",
    "   A megoldásban jól jöhet az `enumerate` függvény\n"
   ]
  },
  {
   "cell_type": "code",
   "execution_count": 15,
   "metadata": {},
   "outputs": [],
   "source": [
    "from typing import Sequence\n",
    "from collections import defaultdict\n",
    "\n",
    "def collect_positions(seq: Sequence) -> dict:\n",
    "    \"\"\"\n",
    "    Returns for each element in seq the list of occurences.\n",
    "    \"\"\"\n",
    "    d = defaultdict(list)\n",
    "    \n",
    "    for i, c in enumerate(seq):\n",
    "        d[c].append(i)\n",
    "\n",
    "    return dict(d)"
   ]
  },
  {
   "cell_type": "code",
   "execution_count": 16,
   "metadata": {},
   "outputs": [
    {
     "name": "stdout",
     "output_type": "stream",
     "text": [
      "\u001b[32m.\u001b[0m\u001b[32m                                                                                            [100%]\u001b[0m\n",
      "\u001b[32m\u001b[32m\u001b[1m1 passed\u001b[0m\u001b[32m in 0.00s\u001b[0m\u001b[0m\n"
     ]
    }
   ],
   "source": [
    "%%ipytest\n",
    "\n",
    "def test_collect_positions():\n",
    "    assert collect_positions(\"ababcda\") == {\"a\": [0, 2, 6], \"b\":[1, 3], \"c\": [4], \"d\": [5]}\n",
    "    assert collect_positions([\"alma\", \"körte\"]) == {\"alma\":[0], \"körte\":[1]}\n",
    "    assert collect_positions(map(str.upper, [\"alma\", \"körte\"])) == {\"ALMA\":[0], \"KÖRTE\":[1]}\n",
    "    assert collect_positions([]) == {}\n",
    "\n",
    "    "
   ]
  },
  {
   "cell_type": "markdown",
   "metadata": {},
   "source": [
    "## Feladat előadásról\n",
    "\n",
    "Adva van egy szövegfile. [P0022.txt](https://eltehu.sharepoint.com/:t:/s/Crs22-23-1bevtudprogm22ea1Bevezetsatudomnyosprogramozsbaelad/EcraA_ZkX4VGpoCn4mzaCCcBlKbsnmDqrm_EejiXr7-57g?e=BhFq1M)\n",
    "\n",
    "Ebben a fájlban keresztnevek vannak. Hány olyan lényegében különböző névpár van, hogy a pár második eleme az első névnek a megfordítottja?\n",
    "\n",
    "pl. (\"NORA\", \"ARON\")\n",
    "\n",
    "\n",
    "Az (\"ARON\", \"NORA\") pár nem különbözik lényegében az előzőtől.\n",
    "\n",
    "A nevek kezdőbetűit tekintve melyik az 5 leggyakoribb? W-vel vagy C-vel kezdődik több név?"
   ]
  },
  {
   "cell_type": "code",
   "execution_count": 17,
   "metadata": {},
   "outputs": [
    {
     "name": "stdout",
     "output_type": "stream",
     "text": [
      "Download manually!\n"
     ]
    }
   ],
   "source": [
    "import urllib.request as request\n",
    "\n",
    "url = \"https://eltehu.sharepoint.com/:t:/s/Crs22-23-1bevtudprogm22ea1Bevezetsatudomnyosprogramozsbaelad/EcraA_ZkX4VGpoCn4mzaCCcBlKbsnmDqrm_EejiXr7-57g?e=BhFq1M\"\n",
    "try:\n",
    "    request.urlretrieve(url, \"P0022_names.txt\")\n",
    "\n",
    "except request.HTTPError:\n",
    "    print(\"Download manually!\")\n"
   ]
  },
  {
   "cell_type": "markdown",
   "metadata": {},
   "source": [
    "Alternatíva:\n",
    "\n",
    "- https://www.gutenberg.org/files/3201/files/NAMES.TXT\n",
    "- https://github.com/dominictarr/random-name/raw/master/names.txt\n",
    "\n",
    "1993-as gyűjtemény GB és US nevekből, részletesen [itt](https://www.gutenberg.org/ebooks/3201)"
   ]
  },
  {
   "cell_type": "code",
   "execution_count": 18,
   "metadata": {},
   "outputs": [],
   "source": [
    "url = \"https://github.com/dominictarr/random-name/raw/master/names.txt\"\n",
    "\n",
    "try:\n",
    "    request.urlretrieve(url, \"P0022_names.txt\")\n",
    "\n",
    "except request.HTTPError:\n",
    "    print(\"Download manually!\")\n"
   ]
  },
  {
   "cell_type": "code",
   "execution_count": 19,
   "metadata": {},
   "outputs": [
    {
     "data": {
      "text/plain": [
       "21985"
      ]
     },
     "execution_count": 19,
     "metadata": {},
     "output_type": "execute_result"
    }
   ],
   "source": [
    "with open(\"./P0022_names.txt\") as f:\n",
    "    names = [line.strip().upper() for line in f]\n",
    "\n",
    "len(names)"
   ]
  },
  {
   "cell_type": "code",
   "execution_count": 20,
   "metadata": {},
   "outputs": [],
   "source": [
    "from itertools import combinations"
   ]
  },
  {
   "cell_type": "markdown",
   "metadata": {},
   "source": [
    "Párok brute force-szal."
   ]
  },
  {
   "cell_type": "code",
   "execution_count": 21,
   "metadata": {},
   "outputs": [
    {
     "name": "stdout",
     "output_type": "stream",
     "text": [
      "CPU times: user 22.6 s, sys: 0 ns, total: 22.6 s\n",
      "Wall time: 22.6 s\n"
     ]
    },
    {
     "data": {
      "text/plain": [
       "191"
      ]
     },
     "execution_count": 21,
     "metadata": {},
     "output_type": "execute_result"
    }
   ],
   "source": [
    "%%time\n",
    "pairs = [(a,b) for a, b in combinations(names, 2) if a[::-1]==b] + [(a,a) for a in names if a==a[::-1]]\n",
    "len(pairs)"
   ]
  },
  {
   "cell_type": "code",
   "execution_count": 22,
   "metadata": {},
   "outputs": [
    {
     "name": "stdout",
     "output_type": "stream",
     "text": [
      "CPU times: user 6.19 ms, sys: 0 ns, total: 6.19 ms\n",
      "Wall time: 6.1 ms\n"
     ]
    },
    {
     "data": {
      "text/plain": [
       "191"
      ]
     },
     "execution_count": 22,
     "metadata": {},
     "output_type": "execute_result"
    }
   ],
   "source": [
    "%%time\n",
    "A = set(names)\n",
    "pairs = [(x, x[::-1]) for x in names if x<=x[::-1] and x[::-1] in A]\n",
    "len(pairs)"
   ]
  },
  {
   "cell_type": "code",
   "execution_count": 23,
   "metadata": {},
   "outputs": [
    {
     "data": {
      "text/plain": [
       "[('S', 1763), ('M', 1691), ('C', 1602), ('A', 1544), ('B', 1541)]"
      ]
     },
     "execution_count": 23,
     "metadata": {},
     "output_type": "execute_result"
    }
   ],
   "source": [
    "from collections import Counter\n",
    "\n",
    "counter = Counter(x[0] for x in names)\n",
    "counter.most_common(5)"
   ]
  },
  {
   "cell_type": "markdown",
   "metadata": {},
   "source": [
    "## Újabb feladat előadásról\n",
    "\n",
    "Adott egy kifejezés, ami a `(`, `)`, `[` és `]` karakterekből állhat. Állapítsuk meg, hogy a kifejezés helyesen zárójelezett-e vagy sem.\n",
    "\n",
    "pl. `([()])` helyes zárójelezés, `([(]))` nem az, mert a szögletes zárójelpár tartalmaz pár nélküli nyitó zárójelet.\n",
    "\n",
    "Próbáljuk megoldani stack-kel (listával)."
   ]
  },
  {
   "cell_type": "code",
   "execution_count": 28,
   "metadata": {},
   "outputs": [],
   "source": [
    "pairs = \"()[]{}\"\n",
    "closing_to_opening = dict(zip(pairs[1::2], pairs[::2]))\n",
    "opening = set(closing_to_opening.values())"
   ]
  },
  {
   "cell_type": "code",
   "execution_count": 29,
   "metadata": {},
   "outputs": [
    {
     "name": "stdout",
     "output_type": "stream",
     "text": [
      "opening = ({[,  closing_to_opening=) -> (, ] -> [, } -> {\n"
     ]
    }
   ],
   "source": [
    "def as_mapping(d):\n",
    "    return \", \".join(\" -> \".join(x) for x in d.items())\n",
    "\n",
    "print(f\"opening = {''.join(opening)},  closing_to_opening={as_mapping(closing_to_opening)}\")"
   ]
  },
  {
   "cell_type": "markdown",
   "metadata": {},
   "source": [
    "Egészítsük ki a következő kódot!"
   ]
  },
  {
   "cell_type": "code",
   "execution_count": 34,
   "metadata": {},
   "outputs": [],
   "source": [
    "def is_balanced(string):\n",
    "    stack = []\n",
    "    for x in string:\n",
    "        if x in opening:\n",
    "            stack.append(x)\n",
    "        else:\n",
    "            if (not stack) or (stack[-1]!=closing_symbols[x]):\n",
    "                return False\n",
    "            stack.pop()\n",
    "    return not stack"
   ]
  },
  {
   "cell_type": "code",
   "execution_count": 35,
   "metadata": {},
   "outputs": [
    {
     "name": "stdout",
     "output_type": "stream",
     "text": [
      "\u001b[32m.\u001b[0m\u001b[32m                                                                                            [100%]\u001b[0m\n",
      "\u001b[32m\u001b[32m\u001b[1m1 passed\u001b[0m\u001b[32m in 0.00s\u001b[0m\u001b[0m\n"
     ]
    }
   ],
   "source": [
    "%%ipytest\n",
    "\n",
    "def test_is_balanced():\n",
    "    assert is_balanced(\"[([(()[]())])]\") == True\n",
    "    assert is_balanced(\"[[))\") == False\n",
    "    assert is_balanced(\"\") == True\n",
    "    assert is_balanced(\"[\") == False\n",
    "    assert is_balanced(\")\") == False"
   ]
  },
  {
   "cell_type": "markdown",
   "metadata": {},
   "source": [
    "## Osztály defínicó\n",
    "\n",
    "Már láttuk, hogy osztályt a `class` kulcsszóval lehet definiálni.\n",
    "\n",
    "```\n",
    "class MyClass:\n",
    "    ....\n",
    "```\n",
    "\n",
    "Általában legalább az alábbi metódusokat implementálja az ember\n",
    "\n",
    "- `__init__`. Ezt akkor hívja meg a Python értelmező, amikor egyedet létrehozunk.\n",
    "  ```\n",
    "  obj = MyClass(paraméterek)\n",
    "  ```\n",
    "\n",
    "- `__repr__`. Ezt akkor hívja meg a Python értelmező, amikor interaktív környezetben a visszatérési értéket meg kell mutatni, vagy `repr(obj)` esetén. Nincs benne `print`, egy sztinget ad vissza, amit az interpreter kiír.\n",
    "\n",
    "- `__str__`. Ezt akkor hívja meg a Python értelmező, amikor `print`-eljük az objektumot. Ennek sincs mellékhatása, egy sztringet ad vissza, amit aztán a rendszer ha akar kiír. \n",
    "\n",
    "`class` neveket CamelCase konvencióval szokás megadni. Azaz ha több szóból áll a név akkor szóköz nélkül a szavak nagy kezdőbetűvel összefűzve: `my class -> MyClass`, `symmetric matrix ->SymmetricMatrix` "
   ]
  },
  {
   "cell_type": "code",
   "execution_count": 36,
   "metadata": {},
   "outputs": [],
   "source": [
    "class Dummy:\n",
    "    def __init__(self, arg1=1, arg2=2, *, kwarg=None):\n",
    "        print(f\"{type(self).__name__}.__init__ called with ({arg1}, {arg2}, kwarg={kwarg})\")\n",
    "        self.arg1 = arg1\n",
    "        self.arg2 = arg2\n",
    "        self.kwarg = kwarg\n",
    "\n",
    "    def __str__(self):\n",
    "        print(f\"{type(self).__name__}.__str__\")\n",
    "        \n",
    "        return \"Dummy class\"\n",
    "\n",
    "    def __repr__(self):\n",
    "        print(f\"{type(self).__name__}.__repr__\")\n",
    "\n",
    "        return f\"{type(self).__name__}({self.arg1}, {self.arg2}, kwarg={self.kwarg})\""
   ]
  },
  {
   "cell_type": "code",
   "execution_count": 37,
   "metadata": {},
   "outputs": [
    {
     "name": "stdout",
     "output_type": "stream",
     "text": [
      "Dummy.__init__ called with (1, 2, kwarg=None)\n",
      "---\n",
      "calling str:\n",
      "Dummy.__str__\n",
      "---\n",
      "calling repr:\n",
      "Dummy.__repr__\n",
      "---\n",
      "f-string:\n",
      "Dummy.__str__\n",
      "Dummy.__repr__\n",
      "str:Dummy class, repr:Dummy(1, 2, kwarg=None)\n",
      "---\n",
      "printing obj: Dummy.__str__\n",
      "Dummy class\n",
      "---\n",
      "REPL print:\n",
      "Dummy.__repr__\n"
     ]
    },
    {
     "data": {
      "text/plain": [
       "Dummy(1, 2, kwarg=None)"
      ]
     },
     "execution_count": 37,
     "metadata": {},
     "output_type": "execute_result"
    }
   ],
   "source": [
    "obj = Dummy()\n",
    "print(\"---\")\n",
    "print(\"calling str:\")\n",
    "str(obj)\n",
    "print(\"---\")\n",
    "print(\"calling repr:\")\n",
    "repr(obj)\n",
    "print(\"---\")\n",
    "print(\"f-string:\")\n",
    "print(f\"str:{str(obj)}, repr:{repr(obj)}\")\n",
    "print(\"---\")\n",
    "print(\"printing obj:\", obj)\n",
    "print(\"---\")\n",
    "print(\"REPL print:\")\n",
    "obj"
   ]
  },
  {
   "cell_type": "markdown",
   "metadata": {},
   "source": [
    "### Példa kevésbé triviális osztályra, egyéni azonosító minden egyednek."
   ]
  },
  {
   "cell_type": "code",
   "execution_count": 38,
   "metadata": {},
   "outputs": [],
   "source": [
    "class ID:\n",
    "    code: int = -1\n",
    "    \n",
    "    def __init__(self):\n",
    "        self.code = self.next_id()\n",
    "\n",
    "    def __repr__(self) -> str:\n",
    "        return f\"ID({self.code}/{type(self).code})\"\n",
    "    \n",
    "    @classmethod\n",
    "    def next_id(cls) -> int:\n",
    "        cls.code += 1\n",
    "        return cls.code\n"
   ]
  },
  {
   "cell_type": "code",
   "execution_count": 39,
   "metadata": {},
   "outputs": [
    {
     "data": {
      "text/plain": [
       "(ID(0/2),\n",
       " ID(1/2),\n",
       " ID(2/2),\n",
       " mappingproxy({'__module__': '__main__',\n",
       "               '__annotations__': {'code': int},\n",
       "               'code': 2,\n",
       "               '__init__': <function __main__.ID.__init__(self)>,\n",
       "               '__repr__': <function __main__.ID.__repr__(self) -> str>,\n",
       "               'next_id': <classmethod at 0x7f1cda15f8b0>,\n",
       "               '__dict__': <attribute '__dict__' of 'ID' objects>,\n",
       "               '__weakref__': <attribute '__weakref__' of 'ID' objects>,\n",
       "               '__doc__': None}),\n",
       " {'code': 0})"
      ]
     },
     "execution_count": 39,
     "metadata": {},
     "output_type": "execute_result"
    }
   ],
   "source": [
    "i0 = ID()\n",
    "i1 = ID()\n",
    "i2 = ID()\n",
    "\n",
    "\n",
    "i0,i1,i2, ID.__dict__, i0.__dict__"
   ]
  },
  {
   "cell_type": "markdown",
   "metadata": {},
   "source": [
    "### Halmaz típus listával\n",
    "\n",
    "Előadáson javasolta az előadó, hogy implementáljuk a halmaz típus néhány műveletét **lista** segítségével. \n",
    "\n",
    "Egészítsük ki az alábbi kódot:"
   ]
  },
  {
   "cell_type": "code",
   "execution_count": 47,
   "metadata": {},
   "outputs": [],
   "source": [
    "class Set:\n",
    "    def __init__(self, initial_value=None):\n",
    "        ## jó ez így?? Ha nem javítsuk ki!\n",
    "        ## pl. Set((1,1,1)) mi lesz? \n",
    "        # self._value = [] if initial_value is None else list(initial_value)\n",
    "    \n",
    "        self._value = []\n",
    "        if initial_value is not None:\n",
    "            for x in initial_value:\n",
    "                self.add(x)\n",
    "\n",
    "    def __str__(self):\n",
    "        return f\"{type(self).__name__} with {len(self._value)} element.\"\n",
    "    \n",
    "    def __repr__(self):\n",
    "        return f\"{{{', '.join(map(repr, self._value))}}}\"\n",
    "    \n",
    "    def add(self, x):\n",
    "        if x not in self._value:\n",
    "            self._value.append(x)\n",
    "        return self\n",
    "\n",
    "    def union(self, other):\n",
    "        result = Set(self._value)\n",
    "        return result.update(other)\n",
    "\n",
    "    def update(self, other):\n",
    "        for x in other:\n",
    "            self.add(x)\n",
    "        return self\n",
    "\n",
    "    def intersection(self, other):\n",
    "        result = Set()\n",
    "        for x in other:\n",
    "            if x in self:\n",
    "                result.add(x)\n",
    "        return result\n",
    "\n",
    "    def difference(self, other):\n",
    "        result = Set()\n",
    "        for x in self:\n",
    "            if x not in other:\n",
    "                result.add(x)\n",
    "        return result\n",
    "\n",
    "    def __or__(self, other):\n",
    "        # only for testing that | really calls this\n",
    "        print(f\"__or__({self!r}, {other!r})\")\n",
    "        return self.union(other)\n",
    "\n",
    "    def __and__(self, other):\n",
    "        # only for testing that & really calls this\n",
    "        print(f\"__and__({self!r}, {other!r})\")\n",
    "        return self.intersection(other)\n",
    "\n",
    "    def __iter__(self):\n",
    "        return iter(self._value)\n",
    "\n",
    "    def __contains__(self, x):\n",
    "        return x in self._value        \n",
    "\n",
    "    def __xor__(self, other):\n",
    "        # only for testing if ^ really calls this\n",
    "        print(f\"__xor__({self!r}, {other!r})\")\n",
    "        result = Set()\n",
    "        for x in other:\n",
    "            if x not in self:\n",
    "                result.add(x)\n",
    "        for x in self:\n",
    "            if x not in other:\n",
    "                result.add(x)\n",
    "        return result\n",
    "\n",
    "    def __add__(self, other):\n",
    "        return self.union(other)\n",
    "\n",
    "    def __iadd__(self, other):\n",
    "        # only for testing if += really calls this\n",
    "        print(f\"__iadd__({self!r}, {other!r})\")\n",
    "        return self.update(other)\n",
    "\n",
    "    ## adjuk hozzá a __sub__, __isub__, __iand__, __ior__, __ixor__ stb dunder metódusokat is.\n",
    "    ## először tényleges implementáció nélkül, a fenti stílusban.\n",
    "\n"
   ]
  },
  {
   "cell_type": "code",
   "execution_count": 49,
   "metadata": {},
   "outputs": [
    {
     "name": "stdout",
     "output_type": "stream",
     "text": [
      "__iadd__({1, 2, 3}, {2, 4})\n",
      "Set with 4 element., {1, 2, 3, 4}\n",
      "__or__({1, 2, 3, 4}, {2, 4})\n",
      "__and__({1, 2, 3, 4}, {2, 4})\n",
      "__xor__({1, 2, 3, 4}, {2, 4})\n"
     ]
    },
    {
     "data": {
      "text/plain": [
       "({1, 2, 3, 4}, {2, 4}, {1, 3}, {1, 2, 3, 4})"
      ]
     },
     "execution_count": 49,
     "metadata": {},
     "output_type": "execute_result"
    }
   ],
   "source": [
    "A = Set((1,2,3))\n",
    "B = Set((2,4))\n",
    "A += B\n",
    "print(f\"{A}, {repr(A)}\")\n",
    "A|B, A&B, A^B, A+B"
   ]
  },
  {
   "cell_type": "code",
   "execution_count": null,
   "metadata": {},
   "outputs": [],
   "source": []
  }
 ],
 "metadata": {
  "kernelspec": {
   "display_name": "base",
   "language": "python",
   "name": "python3"
  },
  "language_info": {
   "codemirror_mode": {
    "name": "ipython",
    "version": 3
   },
   "file_extension": ".py",
   "mimetype": "text/x-python",
   "name": "python",
   "nbconvert_exporter": "python",
   "pygments_lexer": "ipython3",
   "version": "3.8.13"
  },
  "orig_nbformat": 4,
  "vscode": {
   "interpreter": {
    "hash": "d8b53ac59aeb7dd99955ed1c7af180cec0b2adbd03b0a8162d4077beb5f10154"
   }
  }
 },
 "nbformat": 4,
 "nbformat_minor": 2
}
