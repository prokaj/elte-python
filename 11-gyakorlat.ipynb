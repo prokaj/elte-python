{
  "cells": [
    {
      "cell_type": "markdown",
      "metadata": {
        "id": "qTgZj2x3jiVX"
      },
      "source": [
        "[![Open In Colab](https://colab.research.google.com/assets/colab-badge.svg)](https://colab.research.google.com/github/prokaj/elte-python/blob/main/11-gyakorlat.ipynb)"
      ]
    },
    {
      "cell_type": "markdown",
      "metadata": {
        "id": "KEYGTN3DjiVf"
      },
      "source": [
        "# Házi feladatok"
      ]
    },
    {
      "cell_type": "markdown",
      "metadata": {
        "id": "u4LDp8ULjiVi"
      },
      "source": [
        "## Polygon osztály további metódusai.\n",
        "\n",
        "A gyakorlaton látott `Polygon` osztályt egészítsük ki egy `is_inner` metódussal, ami egy tetszőleges síkbeli pontról eldönti, hogy a polygon belsejében van-e (a visszatérési érték `bool` típusú, `True` vagy `False`). Egy egyszerű algoritmus ennek eldöntésére a következő. Indítsunk ki egy félegyenest az adott pontból. Számoljuk meg, hogy hányszor metszi a polygont. Mivel a félegyenes ,,vége” a polygon külsejéhez tartozik és minden átmetszéssel egyik oldalról átkerülünk a mások oldalra ezért a metszések számának paritása megadja, hogy melyik oldalon vagyunk. Amire oda kell figyelni, az az hogy ha félegyenes tartalmazza valamelyik élet, akkor a fenti érvelés nem korrekt!\n",
        "\n",
        "Emellett implementáljuk az `is_polygon` metódust, ami ellenőrzi, hogy a polygon csúcsai között nincsennek ismétlődések és a különböző élek nem metszik egymást belső pontban. Az `__init__` metódus egészítsük ki ellenőrzéssel, ha a kapott csúcs sorozatot nem tekinthető polygonnak dobjon hibát!\n",
        "\n",
        "Ellenőrzésképpen készítsünk néhány polygont, legyen köztük konvex és nem konvex is és rajzoljuk a `Polygon` típus `draw` metódusával. Az ábra tartalmazzon egy választott pontot a belőle kiinduló félegyenes alkalmas darabjával és a metszéspontokkal.\n"
      ]
    },
    {
      "cell_type": "code",
      "execution_count": 28,
      "metadata": {
        "id": "mH07igk9jiVk"
      },
      "outputs": [],
      "source": [
        "import math\n",
        "import numpy as np\n",
        "from itertools import cycle, combinations\n",
        "import matplotlib.pyplot as plt\n",
        "\n",
        "def Point(x, y):\n",
        "    return np.array([x,y])\n",
        "\n",
        "Vec = Point\n",
        "\n",
        "class Polygon:\n",
        "\n",
        "    def __init__(self, nodes):\n",
        "        self.nodes = nodes\n",
        "        if not self.is_polygon():\n",
        "            raise ValueError('Not a polygon')\n",
        "\n",
        "    def area(self):\n",
        "        if self.is_convex():\n",
        "            nodes = np.array(self.nodes)\n",
        "            nodes = nodes-nodes[0]\n",
        "            area = 0\n",
        "            for v1, v2 in zip(nodes[1:], nodes[2:]):\n",
        "                area += abs(v1[0]*v2[1]-v1[1]*v2[0])\n",
        "            return area\n",
        "        else:\n",
        "            raise NotImplementedError\n",
        "            \n",
        "\n",
        "    def perimeter(self):\n",
        "        total = 0\n",
        "        for i, p in enumerate(self.nodes, 1):\n",
        "            j = i % len(self.nodes)\n",
        "            total += np.linalg.norm(self.nodes[j]-p)\n",
        "        return total\n",
        "\n",
        "    def is_convex(self):\n",
        "        nodes = np.array(self.nodes + self.nodes[:1])\n",
        "        edges = np.diff(nodes, axis=0)\n",
        "        idx = np.array([ i % len(edges) for i in range(1, len(edges)+1) ])\n",
        "        edges1 = edges[idx]\n",
        "        sgn = (rotate90(edges) * edges1).sum(axis=1)\n",
        "        return (min(sgn)*max(sgn)>=0)\n",
        "\n",
        "    def draw(self, *args, fill=False, **kwargs):\n",
        "        for i, p0 in enumerate(self.nodes):\n",
        "            p1 = self.nodes[(i+1) % len(self.nodes)]\n",
        "        x, y = np.concatenate((self.nodes, self.nodes[:1]), axis=0).T\n",
        "        if fill:\n",
        "            plt.fill(x, y, alpha=0.5)\n",
        "        plt.plot(x, y, *args, **kwargs) \n",
        "        plt.axis('equal')\n",
        "    \n",
        "    def __repr__(self):\n",
        "        return f'{type(self).__name__}({[tuple(x) for x in self.nodes]})'\n",
        "\n",
        "    \n",
        "    def edge_lines(self):\n",
        "        for i, p in enumerate(self.nodes):\n",
        "            next_p = self.nodes[(i+1) % len(self.nodes)]\n",
        "            yield Line(p, next_p-p)\n",
        "\n",
        "    def is_polygon(self):\n",
        "\n",
        "        if len(set((tuple(node) for node in self.nodes)))<len(self.nodes):\n",
        "            return False\n",
        "        edges = list(self.edge_lines())\n",
        "        for (i1, e1), (i2, e2) in combinations(enumerate(edges), 2):\n",
        "            if (i2==i1+1) or (i1==0 and i2==len(edges)-1):\n",
        "                continue \n",
        "            s, t = e1.intersection(e2)\n",
        "            if 0<=s<=1 and 0<=t<=1:\n",
        "                return False\n",
        "        return True\n",
        "\n",
        "\n",
        "\n",
        "    def is_inner(self, point, return_line=False):\n",
        "        \n",
        "        edges = list(self.edge_lines())\n",
        "        while True:\n",
        "            line = Line(point, np.random.normal(size=2))\n",
        "            \n",
        "            while any(line.is_parallel(edge) for edge in edges):\n",
        "                line = Line(point, np.random.normal(size=2))\n",
        "            \n",
        "            t_values =[edge.intersection(line) for edge in edges]\n",
        "            \n",
        "            if all(not zero_or_one(t) for (t, s) in t_values):\n",
        "                break\n",
        "        \n",
        "        # print(f\"{t_values=}\")\n",
        "        points = [edge.point(t) for edge, (t, s) in zip(edges, t_values) if (0<t<1) and (s>=0)]\n",
        "        is_inner = not is_even(len(points)) \n",
        "        \n",
        "        if return_line:\n",
        "            return is_inner, line, points\n",
        "        \n",
        "        return is_inner\n",
        "\n",
        "\n",
        "def rotate90(x):\n",
        "    return np.flip(x, -1)*np.array([-1, 1])\n",
        "\n",
        "class Rectangle(Polygon):\n",
        "    \n",
        "    def __init__(self, P1, P2, r):\n",
        "        \"\"\"\n",
        "        Assuming that e is P1P2 rotated counterclockwise by 90 degree\n",
        "        P1, P2, P2+r e, P1+re\n",
        "        \"\"\"\n",
        "        v = rotate90(P2-P1)*r\n",
        "        super(Rectangle, self).__init__([P1, P2, P2+v, P1+v])\n",
        "        \n",
        "    \n",
        "class Square(Rectangle):\n",
        "\n",
        "    def __init__(self, P1, P2):\n",
        "        super(Square, self).__init__(P1, P2, 1)\n",
        "\n",
        "def is_even(n):\n",
        "    return bool(n%2==0)\n",
        "\n",
        "def zero_or_one(t: float) -> bool:\n",
        "    return (t==0) or (t==1)\n",
        "\n",
        "class Line:\n",
        "    \n",
        "    def __init__(self, p: np.ndarray, e: np.ndarray):\n",
        "        if (e==0).all():\n",
        "            raise ValueError\n",
        "        self.p = p\n",
        "        self.e = e\n",
        "\n",
        "    def is_parallel(self, other) -> bool:\n",
        "        return np.linalg.det(np.stack((self.e, other.e))) == 0\n",
        "    \n",
        "    def intersection(self, other) -> float:\n",
        "        if self.is_parallel(other):\n",
        "            return np.array([np.Inf,np.Inf])\n",
        "        a = np.column_stack((self.e, -other.e))\n",
        "        b = other.p - self.p\n",
        "        return np.linalg.solve(a, b)\n",
        "    \n",
        "    def point(self, t: float):\n",
        "        return self.p + t*self.e\n",
        "    \n",
        "    def draw(self, half_line=False):\n",
        "        if not half_line:\n",
        "            plt.axline(self.p, self.p+self.e)\n",
        "        else:\n",
        "            x0, x1 = plt.xlim()\n",
        "            y0, y1 = plt.ylim()\n",
        "            for edge in [\n",
        "                Line(Point(x0, y0), Vec(0,y1-y0)),\n",
        "                Line(Point(x1, y0), Vec(0,y1-y0)),\n",
        "                Line(Point(x0, y0), Vec(x1-x0,0)),\n",
        "                Line(Point(x0, y1), Vec(x1-x0,0))                \n",
        "            ]:\n",
        "                t, s = self.intersection(edge)\n",
        "                if t>0 and (0<=s<=1):\n",
        "                    break\n",
        "            p = edge.point(s)\n",
        "\n",
        "            plt.plot(*np.stack((self.p, p), axis=1) )\n",
        "            plt.xlim(x0, x1)\n",
        "            plt.ylim(y0, y1)\n",
        "        \n",
        "        \n",
        "\n"
      ]
    },
    {
      "cell_type": "code",
      "execution_count": 3,
      "metadata": {
        "id": "YU341V5EjiV2"
      },
      "outputs": [],
      "source": [
        "try:\n",
        "    import ipytest\n",
        "    ipytest.autoconfig()\n",
        "except ModuleNotFoundError:\n",
        "    ! pip install ipytest"
      ]
    },
    {
      "cell_type": "markdown",
      "metadata": {
        "id": "Iv1kr0WgjiV3"
      },
      "source": [
        "Célszerű ellenőrizni, jól működik-e a `Line` osztály."
      ]
    },
    {
      "cell_type": "code",
      "execution_count": 4,
      "metadata": {
        "colab": {
          "base_uri": "https://localhost:8080/"
        },
        "id": "a1L5XOkvjiV3",
        "outputId": "a8bef6fc-11bb-4940-b12c-c37fde3f2795"
      },
      "outputs": [
        {
          "output_type": "stream",
          "name": "stdout",
          "text": [
            "\u001b[32m.\u001b[0m\u001b[32m                                                                                            [100%]\u001b[0m\n",
            "\u001b[32m\u001b[32m\u001b[1m1 passed\u001b[0m\u001b[32m in 0.06s\u001b[0m\u001b[0m\n"
          ]
        }
      ],
      "source": [
        "%%ipytest\n",
        "\n",
        "def test_Line():\n",
        "    p0 = np.array([1,0])\n",
        "    p1 = np.array([0,1])\n",
        "    l0 = Line(p0, p1)\n",
        "    l1 = Line(p1, p1)\n",
        "    l2 = Line(p1, p0)\n",
        "    assert l0.is_parallel(l1) == True\n",
        "    assert l0.is_parallel(l2) == False\n",
        "    assert tuple(l0.intersection(l2)) == (1, 1)"
      ]
    },
    {
      "cell_type": "code",
      "execution_count": 8,
      "metadata": {
        "colab": {
          "base_uri": "https://localhost:8080/",
          "height": 282
        },
        "id": "efgk2k2sjiV6",
        "outputId": "7d909ef4-3112-43d9-d906-e4fa15b96f0e"
      },
      "outputs": [
        {
          "output_type": "stream",
          "name": "stdout",
          "text": [
            "False, 2\n"
          ]
        },
        {
          "output_type": "display_data",
          "data": {
            "text/plain": [
              "<Figure size 432x288 with 1 Axes>"
            ],
            "image/png": "[encoded data removed]"
          },
          "metadata": {
            "needs_background": "light"
          }
        }
      ],
      "source": [
        "nodes = np.array([[0,0], [2,0], [3, 1], [2,2], [1,1], [0,2]]) - np.array([1,1])\n",
        "p1 = Polygon(list(nodes))\n",
        "p1.draw()\n",
        "p = np.random.normal(size=2)\n",
        "plt.plot(*p, 'or')\n",
        "is_inner, line, points = p1.is_inner(p, True)\n",
        "print(f\"{is_inner}, {len(points)}\")\n",
        "line.draw(True)\n",
        "if len(points)>0:\n",
        "    plt.plot(*np.stack(points,axis=1), 'ob')\n",
        "plt.grid()\n",
        "plt.show()"
      ]
    },
    {
      "cell_type": "markdown",
      "metadata": {
        "id": "NJHiKnvEjiV7"
      },
      "source": [
        "Írjuk meg az `is_polygon` metódust"
      ]
    },
    {
      "cell_type": "code",
      "source": [
        "p = Square(Point(0,0),Point(1,0))\n",
        "len(set((tuple(node) for node in p.nodes))), len(p.nodes)\n",
        "p.is_polygon()"
      ],
      "metadata": {
        "colab": {
          "base_uri": "https://localhost:8080/"
        },
        "id": "wmwR9Bgbni_Z",
        "outputId": "291ae857-db5d-491c-dfd8-f166f41d7b36"
      },
      "execution_count": 27,
      "outputs": [
        {
          "output_type": "execute_result",
          "data": {
            "text/plain": [
              "True"
            ]
          },
          "metadata": {},
          "execution_count": 27
        }
      ]
    },
    {
      "cell_type": "code",
      "source": [
        "%%ipytest\n",
        "import pytest\n",
        "\n",
        "def test_is_p():\n",
        "    p = Square(Point(0,0),Point(1,0))\n",
        "    with pytest.raises(ValueError):\n",
        "        Polygon([Point(0,0), Point(0,1), Point(1,0), Point(1,1)])"
      ],
      "metadata": {
        "colab": {
          "base_uri": "https://localhost:8080/"
        },
        "id": "sq_QylVKkGyx",
        "outputId": "e5d4a69e-d4a7-4136-a984-0274888f7ded"
      },
      "execution_count": 31,
      "outputs": [
        {
          "output_type": "stream",
          "name": "stdout",
          "text": [
            "\u001b[32m.\u001b[0m\u001b[32m                                                                                            [100%]\u001b[0m\n",
            "\u001b[32m\u001b[32m\u001b[1m1 passed\u001b[0m\u001b[32m in 0.01s\u001b[0m\u001b[0m\n"
          ]
        }
      ]
    },
    {
      "cell_type": "markdown",
      "metadata": {
        "id": "nIwa-Sd_jiWA"
      },
      "source": [
        "# Futási idő mérése\n",
        "\n",
        "Korábban láttunk néhány lehetőséget.\n",
        "\n",
        "- `%%time`  cella `magic command` jupyter notebookban az eredmények mellé kiírja a **cella** végrehajtáshoz szükséges időt.\n",
        "- `%time` sor `magic command` jupyter notebookban kiírja a **sor** végrehajtáshoz szükséges időt.\n",
        "- `%timeit` sor `magic command` a sorban levő kifejezést sokszor kiértékeli a futási időkből készült statisztikát kiírja\n",
        "- `time.time` vagy `time.perf_counter_ns` a futási idő mérésére használható\n",
        "\n",
        "\n",
        "A `timeit` nem csak mágikus parancsként érhető el."
      ]
    },
    {
      "cell_type": "code",
      "execution_count": 33,
      "metadata": {
        "id": "0z5cP534jiWA"
      },
      "outputs": [],
      "source": [
        "import time\n",
        "import timeit\n",
        "import math\n",
        "import matplotlib.pyplot as plt\n"
      ]
    },
    {
      "cell_type": "markdown",
      "metadata": {
        "id": "st2XUItajiWB"
      },
      "source": [
        "A következő csak illusztráció. Annak hogy 101-szer ismételjük, hogy egy 10 hosszú ciklusban az `np.logaddexp` függvényt nincs jelentősége. "
      ]
    },
    {
      "cell_type": "code",
      "execution_count": 34,
      "metadata": {
        "colab": {
          "base_uri": "https://localhost:8080/"
        },
        "id": "UHTvN8WjjiWB",
        "outputId": "355074f2-730d-48f9-fd01-5a7684da0257"
      },
      "outputs": [
        {
          "output_type": "stream",
          "name": "stdout",
          "text": [
            "(16, 101)\n"
          ]
        }
      ],
      "source": [
        "def measure_time(k):\n",
        "    timer = timeit.Timer(\n",
        "        stmt = 'np.logaddexp(0, x)',\n",
        "        globals = {\n",
        "            'np': np,\n",
        "            'x': np.random.normal(size=(k,k))\n",
        "        }\n",
        "    )\n",
        "    return timer.repeat(101, 10)\n",
        "\n",
        "time_data = np.array([measure_time(k) for k in range(16, 257, 16)])\n",
        "print(time_data.shape)\n"
      ]
    },
    {
      "cell_type": "code",
      "execution_count": 35,
      "metadata": {
        "colab": {
          "base_uri": "https://localhost:8080/",
          "height": 268
        },
        "id": "ptGOb_fsjiWC",
        "outputId": "934e0c61-9941-4beb-a8d2-e196b963f847"
      },
      "outputs": [
        {
          "output_type": "display_data",
          "data": {
            "text/plain": [
              "<Figure size 432x288 with 1 Axes>"
            ],
            "image/png": "[encoded data removed]"
          },
          "metadata": {
            "needs_background": "light"
          }
        }
      ],
      "source": [
        "\n",
        "mu = time_data.mean(axis=1)\n",
        "sigma = time_data.std(axis=1)\n",
        "\n",
        "plt.plot(range(16,257,16), mu, 'o-', markersize=3)\n",
        "\n",
        "plt.fill_between(range(16,257,16), mu-2*sigma, mu+2*sigma, alpha=0.3)\n",
        "\n",
        "plt.xticks(range(16,257,16))\n",
        "\n",
        "plt.grid()\n"
      ]
    },
    {
      "cell_type": "code",
      "execution_count": 36,
      "metadata": {
        "colab": {
          "base_uri": "https://localhost:8080/",
          "height": 513
        },
        "id": "6tbzc662jiWD",
        "outputId": "cca77dfe-b87f-41fc-91b7-dc2553ef62fd"
      },
      "outputs": [
        {
          "output_type": "display_data",
          "data": {
            "text/plain": [
              "<Figure size 432x288 with 1 Axes>"
            ],
            "image/png": "[encoded data removed]"
          },
          "metadata": {
            "needs_background": "light"
          }
        },
        {
          "output_type": "display_data",
          "data": {
            "text/plain": [
              "<Figure size 432x288 with 1 Axes>"
            ],
            "image/png": "[encoded data removed]"
          },
          "metadata": {
            "needs_background": "light"
          }
        }
      ],
      "source": [
        "k = 14\n",
        "plt.plot(time_data[k], 'o')\n",
        "plt.axhline(mu[k])\n",
        "\n",
        "plt.fill_between(x=plt.xlim(), y1=mu[k]-2*sigma[k], y2=mu[k]+2*sigma[k], alpha=0.3)\n",
        "#plt.axhline(mu[k]+2*sigma[14])  \n",
        "#plt.axhline(mu[k]-2*sigma[14])\n",
        "plt.grid()\n",
        "plt.show()\n",
        "plt.hist(time_data[k])\n",
        "plt.grid()\n",
        "plt.show()"
      ]
    },
    {
      "cell_type": "markdown",
      "metadata": {
        "id": "x0u41JVUjiWD"
      },
      "source": [
        "Tegyük fel, hogy lépések számát szeretnénk egy függvényen belül megszámolni.\n",
        "```\n",
        "def f(k):\n",
        "    ...\n",
        "    while cond:\n",
        "        ...\n",
        "    \n",
        "    return ...\n",
        "```\n",
        "\n",
        "Nem biztos, hogy a következő a legszebb megoldás, de használható anélkül, hogy két példányban kellene a \n",
        "függvényt megírni:\n",
        "```\n",
        "def f(k, fake_cond=lambda:True):\n",
        "    ...\n",
        "    while cond and fake_cond():\n",
        "        ...\n",
        "    return ...\n",
        "```\n",
        "Ha `f(k)` alakban hívjuk meg, akkor a korábbi számolás történik. Ha azonban\n",
        "```\n",
        "class Count:\n",
        "    def __init__(self):\n",
        "        self.cnt = 0\n",
        "    def __call__(self):\n",
        "        self.cnt +=1\n",
        "        return True\n",
        "\n",
        "counter = Count()\n",
        "f(k, counter)\n",
        "counter.cnt\n",
        "```\n",
        "akkor visszakapjuk a lépések számát, pontosabban hányszor hajtottuk végre a while ciklus törzsét. \n",
        "\n",
        "Példaként nézzük meg, intervallum felezéssel hány lépés alatt jutunk el $f(x)$  közelébe, mondjuk $10^{-6}$ relatív pontossággal, ahol $x\\geq 0$, $f$ a $g$ inverze a pozitív félegyenesen és $g(x)=x\\arctan(x)$. \n",
        "A relatív pontosság itt azt jelenti, hogy ha $y$ a hívás eredménye, akkor $y*(1-10^{-6})<=f(x)<=y*(1+10^{-6})$. "
      ]
    },
    {
      "cell_type": "code",
      "execution_count": null,
      "metadata": {
        "id": "IUQ7slagjiWG",
        "outputId": "0ac78bd1-5c4c-4b01-d0b3-7cc5ad154d8c"
      },
      "outputs": [
        {
          "data": {
            "text/plain": [
              "[<matplotlib.lines.Line2D at 0x7f523cbe44f0>]"
            ]
          },
          "execution_count": 483,
          "metadata": {},
          "output_type": "execute_result"
        },
        {
          "data": {
            "image/png": "[encoded data removed]",
            "text/plain": [
              "<Figure size 640x480 with 1 Axes>"
            ]
          },
          "metadata": {},
          "output_type": "display_data"
        }
      ],
      "source": [
        "def g(x):\n",
        "    return x*np.arctan(x)\n",
        "\n",
        "x = np.linspace(-3, 3, 101)\n",
        "plt.plot(x,g(x))"
      ]
    },
    {
      "cell_type": "code",
      "execution_count": 44,
      "metadata": {
        "id": "C9Dq8813jiWG"
      },
      "outputs": [],
      "source": [
        "eps = 1e-12\n",
        "\n",
        "def g(x):\n",
        "    return x*math.atan(x)\n",
        "\n",
        "def f(x, cond=lambda: True):\n",
        "    if x <0:\n",
        "        raise ValueError\n",
        "    if x == 0:\n",
        "        return 0\n",
        "\n",
        "    x1 = 1+2*x/math.pi\n",
        "    y1 = g(x1)\n",
        "    x0, y0 = 0, g(0)  \n",
        "    y = x\n",
        "    xmid = (x0+x1)/2\n",
        "    while ((x1-x0)> (eps* max(1,xmid))) and cond():\n",
        "        ymid = g(xmid)\n",
        "        if ymid>y:\n",
        "            x1, y1 = xmid, ymid\n",
        "        else:\n",
        "            x0, y0 = xmid, ymid\n",
        "        xmid = (x0+x1)/2\n",
        "    return xmid"
      ]
    },
    {
      "cell_type": "code",
      "execution_count": 41,
      "metadata": {
        "colab": {
          "base_uri": "https://localhost:8080/"
        },
        "id": "VHY6VwZNjiWH",
        "outputId": "85aa87c2-df93-49c9-9a19-19d2b2be9afd"
      },
      "outputs": [
        {
          "output_type": "stream",
          "name": "stdout",
          "text": [
            "\u001b[32m.\u001b[0m\u001b[32m                                                                                            [100%]\u001b[0m\n",
            "\u001b[32m\u001b[32m\u001b[1m1 passed\u001b[0m\u001b[32m in 0.02s\u001b[0m\u001b[0m\n"
          ]
        }
      ],
      "source": [
        "%%ipytest\n",
        "\n",
        "def g(x):\n",
        "    return x*math.atan(x)\n",
        "    \n",
        "def test_f():\n",
        "    for y in np.linspace(0, 1, 20):\n",
        "        x = f(y)\n",
        "        x0, x1 = x*(1-eps), x*(1+eps)\n",
        "        assert g(x0)<=y<=g(x1)\n",
        "\n"
      ]
    },
    {
      "cell_type": "markdown",
      "metadata": {
        "id": "5MBnrwK0jiWI"
      },
      "source": [
        "Számoljuk meg a szükséges lépések számát!"
      ]
    },
    {
      "cell_type": "code",
      "execution_count": 45,
      "metadata": {
        "id": "GBk_fq24jiWI"
      },
      "outputs": [],
      "source": [
        "from functools import wraps\n",
        "class Count:\n",
        "    def __init__(self):\n",
        "        self.cnt = 0\n",
        "    def __call__(self):\n",
        "        self.cnt += 1\n",
        "        return True\n",
        "\n",
        "def with_counts(f):\n",
        "    @wraps(f)\n",
        "    def _f(k):\n",
        "        cnt = Count()\n",
        "        result = f(k, cnt)\n",
        "        return result, cnt.cnt\n",
        "    return _f\n",
        "\n",
        "f = with_counts(f)\n",
        "\n",
        "\n"
      ]
    },
    {
      "cell_type": "code",
      "execution_count": 46,
      "metadata": {
        "colab": {
          "base_uri": "https://localhost:8080/",
          "height": 282
        },
        "id": "ZiCmvFANjiWI",
        "outputId": "8453fcf9-9872-45a4-ffa7-bcd3ff043933"
      },
      "outputs": [
        {
          "output_type": "execute_result",
          "data": {
            "text/plain": [
              "[<matplotlib.lines.Line2D at 0x7f05ebac9510>]"
            ]
          },
          "metadata": {},
          "execution_count": 46
        },
        {
          "output_type": "display_data",
          "data": {
            "text/plain": [
              "<Figure size 432x288 with 1 Axes>"
            ],
            "image/png": "[encoded data removed]"
          },
          "metadata": {
            "needs_background": "light"
          }
        }
      ],
      "source": [
        "count_data = [f(x)[1] for x in np.linspace(0, 2, 100)]\n",
        "plt.plot(count_data, 'o', markersize=1)"
      ]
    },
    {
      "cell_type": "markdown",
      "metadata": {
        "id": "F8s1g5TyjiWJ"
      },
      "source": [
        "## Newton-Raphson módszer\n"
      ]
    },
    {
      "cell_type": "markdown",
      "metadata": {
        "id": "h3l66EF4jiWJ"
      },
      "source": [
        ",,Szép'' $f$ esetén keressük az $f(x)=0$ egyenlet megoldását. pl. ha $g$-t akarjuk invertálni az $y$ helyen, akkor \n",
        "$f(x) = g(x)-y$. Tegyük fel, hogy van egy kezdeti tippünk a megoldásra $x_0$. \n",
        "Ha $x_0$ nem megoldás, akkor módosítsuk:\n",
        "$$\n",
        "f(x_0+\\Delta)= f(x_0)+ f'(x_0) \\Delta +\\text{hiba}\n",
        "$$\n",
        "Ha már közel vagyunk a megoldáshoz (a lineáris közelítés hibája kicsi, kisebb mint $f(x_0)$), akkor $\\Delta = -f(x_0)/f'(x_0)$ választással még közelebb kerülünk a keresett értékhez.\n",
        "$$\n",
        "    x_{n+1} =  x_n -\\frac{f(x_n)}{f'(x_n)}\n",
        "$$\n",
        "Pl. Ha a fenti $g$ függvényt nézzük, akkor $f(x) = g(x)-y$, $f'(x)=g'(x)=\\arctan(x)+\\frac{x}{1+x^2}$.\n",
        "\n",
        "A derivált $x=0$-ban eltűnik, de ha $f(x)=0$ és $x_0\\geq x$, akkor $x_n\\geq x$ minden $n$-re, így ez nem okozhat gondot ha $y>0$ \n",
        "$$\n",
        "\\frac{f(x)}{f'(x)}=\\frac{x\\arctan(x)-y}{\\arctan(x)+\\frac{x}{1+x^2}}\n",
        "$$\n",
        "Míg $y=0$ esetén \n",
        "$$\n",
        "\\frac{f(x)}{f'(x)}=\\frac{x\\arctan(x)}{\\arctan(x)+\\frac{x}{1+x^2}}\\to 0 \\quad\\text{ha $x\\to0$}\n",
        "$$\n",
        " "
      ]
    },
    {
      "cell_type": "code",
      "execution_count": 47,
      "metadata": {
        "id": "QnOpfKc1jiWW"
      },
      "outputs": [],
      "source": [
        "def f_NR(x, cond = lambda: True):\n",
        "    y = x\n",
        "    z = 1+ max(y-g(1), 0) * 2\n",
        "    while (g(z)>y) and cond():\n",
        "        deltaf = g(z)-y \n",
        "        df = math.atan(z)+z/(1+z*z)\n",
        "        z = z-deltaf/df\n",
        "    return z\n"
      ]
    },
    {
      "cell_type": "code",
      "execution_count": 50,
      "metadata": {
        "colab": {
          "base_uri": "https://localhost:8080/"
        },
        "id": "nhiYxtwNjiWX",
        "outputId": "9e628ab4-2e5f-47fa-9517-ba802c187d84"
      },
      "outputs": [
        {
          "output_type": "stream",
          "name": "stdout",
          "text": [
            "100.0\n"
          ]
        },
        {
          "output_type": "execute_result",
          "data": {
            "text/plain": [
              "2"
            ]
          },
          "metadata": {},
          "execution_count": 50
        }
      ],
      "source": [
        "cnt = Count()\n",
        "print(g(f_NR(100, cnt)))\n",
        "cnt.cnt"
      ]
    },
    {
      "cell_type": "markdown",
      "metadata": {
        "id": "7pYqhpxnjiWX"
      },
      "source": [
        "## Korábbi szorgalmi feladat.\n",
        "\n",
        "Harmonikus sor alatt, az $\\sum_{n=1}^\\infty\n",
        "  \\frac1n$ sort értjük. Ennek a részletösszegeit szeretnénk kiszámítani\n",
        "legalább $10^{-8}$ pontossággal. Ehhez használhatnánk, a definíciót:\n",
        "```{python}\n",
        "def harmonic_sum_slow(n: int) -> float:\n",
        "    return sum(1/k for k in reversed(range(1, n+1)))\n",
        "```\n",
        "\n",
        "azonban ez túlságosan lassú. A művelet igény lineáris $n$-ben és\n",
        "körülbelül $n=25*10^6$ esetén már egy másodperc körüli a futási idő.\n",
        "\n",
        "A kiindulást a következő ötlet szolgáltathatja, $n\\geq 1$-re:\n",
        "$$\n",
        "\\begin{aligned}\n",
        "    \\log\\left({n+\\frac12}\\right) - \\log\\left({n-\\frac12}\\right)\n",
        "    &=\\int_{n-\\frac1{2}}^{n+\\frac1{2}} \\frac1{x} dx\\\\\n",
        "    &= \\int_{-\\frac1{2}}^{\\frac1{2}} \\frac1{n+x} dx\\\\\n",
        "    & = \\frac1n +\\int_{-\\frac1{2}}^{\\frac1{2}} \\frac1{(n+x)}\n",
        "      -\\frac1ndx\\\\\n",
        "    & = \\frac1n +\\int_{-\\frac1{2}}^{\\frac1{2}} \\frac{x}{(n+x)n}dx\\\\\n",
        "    & = \\frac1n +\\int_{0}^{\\frac1{2}} \\frac{2x^2}{(n^2-x^2)n}dx    \n",
        "\\end{aligned}\n",
        "$$ Ebből becsüljük meg $\\frac1n$ és a bal oldal eltérését.\n",
        "Végül az összeg első néhány tagját megtartva, a többit közelítve a\n",
        "logaritmus megváltozásával próbáljunk gyorsabb és az előírt pontosságú\n",
        "módszert találni.\n",
        "\n",
        "Egy másik lehetőség $1/n+1/(n+1)$ és $2\\log(1+1/n)$ összehasonlítása."
      ]
    },
    {
      "cell_type": "code",
      "execution_count": null,
      "metadata": {
        "id": "Au-hXhXbjiWX"
      },
      "outputs": [],
      "source": [
        "def harmonic_sum_slow(n: int) -> float:\n",
        "    return sum(1/k for k in reversed(range(1, n+1)))"
      ]
    },
    {
      "cell_type": "code",
      "execution_count": null,
      "metadata": {
        "id": "RwTfxmJFjiWZ",
        "outputId": "39e4fd31-e04c-4782-f85a-531d610040c6"
      },
      "outputs": [
        {
          "name": "stdout",
          "output_type": "stream",
          "text": [
            "CPU times: user 1.01 s, sys: 0 ns, total: 1.01 s\n",
            "Wall time: 1.01 s\n"
          ]
        },
        {
          "data": {
            "text/plain": [
              "17.611602067734673"
            ]
          },
          "execution_count": 264,
          "metadata": {},
          "output_type": "execute_result"
        }
      ],
      "source": [
        "%%time\n",
        "harmonic_sum_slow(25*(10**6))"
      ]
    },
    {
      "cell_type": "markdown",
      "metadata": {
        "id": "iat-jsn-jiWa"
      },
      "source": [
        "A megadott formula alapján\n",
        "$$\n",
        "\\begin{aligned}\n",
        "\\left|\\frac1n - \\int_{n-1/2}^{n+1/2} \\frac1{x}dx\\right| \n",
        "&= \\int_0^{1/2} \\frac{2x^2}{(n^2-x^2)n}dx\\\\\n",
        "&\\leq \\frac1{(n^2-1)n}\\int_0^{1/2} 2x^2dx=\\frac1{12(n^2-1)n}\n",
        "\\end{aligned}\n",
        "$$\n",
        "Ha $n_0$-tól összegzünk, akkor\n",
        "$$\n",
        "\\begin{aligned}\n",
        "\\sum_{n=n_0}^\\infty \\frac1{(n^2-1)n}& =\n",
        "\\sum_{n=n_0}^\\infty \\frac1{(n-1)(n+1)n}\\\\\n",
        "&= \\frac12\\sum_{n=n_0}^\\infty \\frac1{n-1}+\\frac1{n+1} -\\frac{2}{n}\\\\\n",
        "&=\\frac12\\left\\{\\sum_{n=n_0-1}\\frac{1}{n}+\\sum_{n=n_0+1}\\frac1n-2\\sum_{n=n_0}\\frac1n\\right\\}\\\\\n",
        "&=\\frac12\\left\\{\\frac1{n_0-1}-\\frac1{n_0}\\right\\}=\\frac{1}{2n_0(n_0-1)}\n",
        "\\end{aligned}\n",
        "$$\n",
        "\n",
        "Ebből az adódik, hogy\n",
        "$$\n",
        "\\left|\\sum_{n=n_0}^{n_1} \\frac1n - \\log\\left(\\frac{n_1+1/2}{n_0-1/2}\\right)\\right|\n",
        "\\leq \\frac{1}{24(n_0(n_0-1))}\n",
        "$$\n",
        "\n",
        "A logaritmus értékét pontosnak vehetjük, így a közelítés hibája akkor lesz kisebb, mint $10^{-8}$, ha\n",
        "$$\n",
        "    24*n_0(n_0-1)>10^8 \n",
        "$$"
      ]
    },
    {
      "cell_type": "code",
      "execution_count": null,
      "metadata": {
        "id": "TKHptlCkjiWa",
        "outputId": "9ce83175-6bc3-4c1f-dd1f-06d12cf58c69"
      },
      "outputs": [
        {
          "name": "stdout",
          "output_type": "stream",
          "text": [
            "((1e8)/24)**0.5=2041.241452319315\n"
          ]
        }
      ],
      "source": [
        "print(f\"{((1e8)/24)**0.5=}\")\n",
        "n0 = 2500 \n"
      ]
    },
    {
      "cell_type": "code",
      "execution_count": null,
      "metadata": {
        "id": "nKXsKzenjiWb"
      },
      "outputs": [],
      "source": [
        "import math\n",
        "\n",
        "def harmonic_sum_faster(n: int) -> float:\n",
        "    n0 = min(n, 2500)\n",
        "    return sum(1/k for k in reversed(range(1, n0+1))) + math.log((n+0.5)/(n0+0.5))"
      ]
    },
    {
      "cell_type": "code",
      "execution_count": null,
      "metadata": {
        "id": "8ChxxZMyjiWc",
        "outputId": "84ff735a-1443-4ac8-ee74-9a2ea1acb3e5"
      },
      "outputs": [
        {
          "name": "stdout",
          "output_type": "stream",
          "text": [
            "\u001b[32m.\u001b[0m\u001b[32m                                                                                            [100%]\u001b[0m\n",
            "\u001b[32m\u001b[32m\u001b[1m1 passed\u001b[0m\u001b[32m in 0.47s\u001b[0m\u001b[0m\n"
          ]
        }
      ],
      "source": [
        "%%ipytest\n",
        "\n",
        "def test_hs():\n",
        "    for n in range(1, 1000):\n",
        "        assert harmonic_sum_slow(n) == harmonic_sum_faster(n) \n",
        "\n",
        "    for n in range(5000, 100_001, 2_500):\n",
        "        assert abs(harmonic_sum_slow(n)-harmonic_sum_faster(n))<1e-8\n",
        "\n",
        "    for n in range(500_000, 1_000_001, 50_000):\n",
        "        assert abs(harmonic_sum_slow(n)-harmonic_sum_faster(n))<1e-8\n"
      ]
    },
    {
      "cell_type": "code",
      "execution_count": null,
      "metadata": {
        "id": "m-7tG92LjiWc",
        "outputId": "a55c22c7-5a4b-4290-faa9-9cd5ed73e495"
      },
      "outputs": [
        {
          "name": "stdout",
          "output_type": "stream",
          "text": [
            "CPU times: user 72 µs, sys: 62 µs, total: 134 µs\n",
            "Wall time: 141 µs\n"
          ]
        },
        {
          "data": {
            "text/plain": [
              "18.997896420517897"
            ]
          },
          "execution_count": 278,
          "metadata": {},
          "output_type": "execute_result"
        }
      ],
      "source": [
        "%%time\n",
        "harmonic_sum_faster(10**8)"
      ]
    },
    {
      "cell_type": "markdown",
      "metadata": {
        "id": "Gj_tZI1DjiWc"
      },
      "source": [
        "Lehet-e az eljárást iterálni?\n",
        "\n",
        "Kicsit messzebbről ránézve a feladatra. Adott $g_0$ ,,szép'' függvény és keressük $\\sum_{n=n_0}^{n_1} g_0(n)$ közelítését.\n",
        "Ehhez $g_0(n)$-et $\\int_{-1/2}^{1/2} g_0(x)dx$-et hasonlítjuk össze.\n",
        "\n",
        "Legyen $w\\equiv1$, $g(x)=g_0(x+n)$. A közelítés hibája:\n",
        "$$\n",
        "\\begin{aligned}\n",
        "    \\int_{-1/2}^{1/2} w(x) (g(x)-g(0)) dx \n",
        "    &= \\int_0^{1/2} w(x) (g(x)-g(0)+(g(-x)-g(0)))dx\\\\\n",
        "    &=\\int_0^{1/2} w(x)\\int_0^x g'(y)-g'(-y) dy dx\\\\\n",
        "    &=\\int_0^{1/2} \\int_y^{1/2} w(x)dx (g'(y)-g'(-y))dy\\\\\n",
        "    &=\\int_0^{1/2} w_1(y) \\int_0^y (g''(z)+g''(-z))dz\\\\\n",
        "    &=\\int_0^{1/2} \\int_z^{1/2} w_1(y)dy (g''(z)+g''(-z)) dz\\\\\n",
        "    &=\\int_{-1/2}^{1/2} w_2(z) g''(z) dz\n",
        "\\end{aligned}\n",
        "$$\n",
        "ahol $w_1$, $w_2$ páros függvények $w_{i+1}(x)=\\int_x^{1/2} w_i(y)dy$, ha $x\\in[0,1/2]$.\n",
        "Pl. \n",
        "$$\n",
        "w_0=1,\\quad w_1(x)=\\int_x^{1/2} 1 dy=1/2-x,\\quad w_2(x)=\\int_x^{1/2}(1/2-y) dy=\\frac{(1/2-x)^2}{2}\n",
        "$$\n",
        "Általában $w_i(x)=(1/2-x)^{i}/{i!}$\n",
        "\n",
        "Jelölje $\\bar w_i$ a $w_i$ integrálját\n",
        "$$\n",
        "\\begin{aligned}\n",
        "\\int_{-1/2}^{1/2} w_2(z) g''(z) dz &=\n",
        "\\bar{w_2}\\int_{-1/2}^{1/2}  g''(z) dz+ \\int_{-1/2}^{1/2} (w_2(z)-\\bar{w_2}) (g''(z)-g''(0)) dz\\\\\n",
        "&=\n",
        "\\bar{w_2}\\int_{-1/2}^{1/2}  g''(z) dz+ \\int_{-1/2}^{1/2} (w_4(z)-\\bar{w_2}w_2(z)) g^{(4)}(z) dz\\\\\n",
        "&=\n",
        "\\sum_{k=1}^K c_{2k}\\int_{-1/2}^{1/2}  g^{(2k)}(z) dz + \n",
        "\\int_{-1/2}^{1/2} v_{2K+2}(z) g^{(2K+2)}(z) dz.\n",
        "\\end{aligned}\n",
        "$$\n",
        "\n",
        "Mik a megjelenő konstansok?\n",
        "$$\n",
        "\\begin{aligned}\n",
        "w_k(x)&=\\frac{(1/2-x)^{k}}{k!},\\quad\\bar{w_k}=\\int_{-1/2}^{1/2} w_k(x)dx =2 w_{k+1}(0)=\\frac{1}{2^{k} (k+1)!}\\\\\n",
        "v_2 &= w_2,\\quad c_2=\\bar{w}_2,\\quad v_4=w_4-c_2w_2\n",
        "\\end{aligned}\n",
        "$$\n",
        "Általában:\n",
        "$$\n",
        "\\begin{aligned}\n",
        "v_{2k} &= w_{2k} - c_2 w_{2(k-1)} -\\cdots - c_{2(k-1)}w_2\\\\\n",
        "c_{2k} &= \\bar{w}_{2k} - c_2 \\bar{w}_{2(k-1)} -\\cdots - c_{2(k-1)}\\bar{w}_2\n",
        "\\end{aligned} \n",
        "$$\n",
        "\n",
        "Összefoglalva:\n",
        "\n",
        "$$\n",
        "\\left|\\sum_{n=n_0}^{n_1} g(n)-\\sum_{k=0}^{K} c_{2k}\\int_{n_0-{1/2}}^{n_1+{1/2}} g^{(2k)}(x)dx\\right|\\leq \n",
        "\\left|\\sum_{n=n_0}^{n_1} \\int_{-{1/2}}^{1/2} {v_{2K+2}(z)} g^{2(K+1)}(z+n)dz\\right|\\leq\\max |v_{2K+2}| \\int_{n_0-1/2}^{n_1+1/2} |g^{(2K+2)} (z)|dz.\n",
        "$$\n",
        "\n",
        "$\\max v_{2k}$-t is tudjuk becsülni:\n",
        "$$\n",
        "\\begin{aligned}\n",
        "\\max |v_{2k}|\n",
        "&= \\max\\left|w_{2k} - c_2 w_{2(k-1)} -\\cdots - c_{2(k-1)}w_2\\right|\\\\\n",
        "&\\leq w_{2k}(0) + |c_2 |w_{2(k-1)}(0) +\\cdots + |c_{2(k-1)}|w_2(0) \\\\\n",
        "&=\\frac12(\\bar{w}_{2k-1} + |c_2| \\bar{w}_{2(k-1)-1} +\\cdots + |c_{2(k-1)}| \\bar{w}_1)\n",
        "\\end{aligned}\n",
        "$$\n"
      ]
    },
    {
      "cell_type": "code",
      "execution_count": null,
      "metadata": {
        "id": "goobrNj6jiWd",
        "outputId": "0dfc2bd7-5527-4b9a-bf55-a47da0833c79"
      },
      "outputs": [
        {
          "data": {
            "text/html": [
              "<div>\n",
              "<style scoped>\n",
              "    .dataframe tbody tr th:only-of-type {\n",
              "        vertical-align: middle;\n",
              "    }\n",
              "\n",
              "    .dataframe tbody tr th {\n",
              "        vertical-align: top;\n",
              "    }\n",
              "\n",
              "    .dataframe thead th {\n",
              "        text-align: right;\n",
              "    }\n",
              "</style>\n",
              "<table border=\"1\" class=\"dataframe\">\n",
              "  <thead>\n",
              "    <tr style=\"text-align: right;\">\n",
              "      <th></th>\n",
              "      <th>c_k</th>\n",
              "      <th>max_v</th>\n",
              "      <th>k</th>\n",
              "      <th>r_k</th>\n",
              "    </tr>\n",
              "  </thead>\n",
              "  <tbody>\n",
              "    <tr>\n",
              "      <th>0</th>\n",
              "      <td>4.166667e-02</td>\n",
              "      <td>7.812500e-03</td>\n",
              "      <td>2</td>\n",
              "      <td>2.840909e-03</td>\n",
              "    </tr>\n",
              "    <tr>\n",
              "      <th>1</th>\n",
              "      <td>-1.215278e-03</td>\n",
              "      <td>2.821181e-04</td>\n",
              "      <td>4</td>\n",
              "      <td>4.069622e-05</td>\n",
              "    </tr>\n",
              "    <tr>\n",
              "      <th>2</th>\n",
              "      <td>3.203538e-05</td>\n",
              "      <td>8.170315e-06</td>\n",
              "      <td>6</td>\n",
              "      <td>1.168847e-06</td>\n",
              "    </tr>\n",
              "    <tr>\n",
              "      <th>3</th>\n",
              "      <td>-8.202608e-07</td>\n",
              "      <td>2.166371e-07</td>\n",
              "      <td>8</td>\n",
              "      <td>5.737393e-08</td>\n",
              "    </tr>\n",
              "    <tr>\n",
              "      <th>4</th>\n",
              "      <td>2.083598e-08</td>\n",
              "      <td>5.565266e-09</td>\n",
              "      <td>10</td>\n",
              "      <td>4.385153e-09</td>\n",
              "    </tr>\n",
              "    <tr>\n",
              "      <th>5</th>\n",
              "      <td>-5.281610e-10</td>\n",
              "      <td>1.415339e-10</td>\n",
              "      <td>12</td>\n",
              "      <td>4.866401e-10</td>\n",
              "    </tr>\n",
              "    <tr>\n",
              "      <th>6</th>\n",
              "      <td>1.338090e-11</td>\n",
              "      <td>3.588940e-12</td>\n",
              "      <td>14</td>\n",
              "      <td>7.424370e-11</td>\n",
              "    </tr>\n",
              "    <tr>\n",
              "      <th>7</th>\n",
              "      <td>-3.389577e-13</td>\n",
              "      <td>9.093421e-14</td>\n",
              "      <td>16</td>\n",
              "      <td>1.492473e-11</td>\n",
              "    </tr>\n",
              "    <tr>\n",
              "      <th>8</th>\n",
              "      <td>8.585997e-15</td>\n",
              "      <td>2.303554e-15</td>\n",
              "      <td>18</td>\n",
              "      <td>3.824491e-12</td>\n",
              "    </tr>\n",
              "    <tr>\n",
              "      <th>9</th>\n",
              "      <td>-2.174865e-16</td>\n",
              "      <td>5.835074e-17</td>\n",
              "      <td>20</td>\n",
              "      <td>1.216970e-12</td>\n",
              "    </tr>\n",
              "    <tr>\n",
              "      <th>10</th>\n",
              "      <td>5.509000e-18</td>\n",
              "      <td>1.478048e-18</td>\n",
              "      <td>22</td>\n",
              "      <td>4.708024e-13</td>\n",
              "    </tr>\n",
              "    <tr>\n",
              "      <th>11</th>\n",
              "      <td>-1.395446e-19</td>\n",
              "      <td>3.743944e-20</td>\n",
              "      <td>24</td>\n",
              "      <td>2.176172e-13</td>\n",
              "    </tr>\n",
              "    <tr>\n",
              "      <th>12</th>\n",
              "      <td>3.534707e-21</td>\n",
              "      <td>9.483523e-22</td>\n",
              "      <td>26</td>\n",
              "      <td>1.184463e-13</td>\n",
              "    </tr>\n",
              "    <tr>\n",
              "      <th>13</th>\n",
              "      <td>-8.953517e-23</td>\n",
              "      <td>2.402205e-23</td>\n",
              "      <td>28</td>\n",
              "      <td>7.498220e-14</td>\n",
              "    </tr>\n",
              "    <tr>\n",
              "      <th>14</th>\n",
              "      <td>2.267952e-24</td>\n",
              "      <td>6.084855e-25</td>\n",
              "      <td>30</td>\n",
              "      <td>5.462511e-14</td>\n",
              "    </tr>\n",
              "    <tr>\n",
              "      <th>15</th>\n",
              "      <td>-5.744791e-26</td>\n",
              "      <td>1.541312e-26</td>\n",
              "      <td>32</td>\n",
              "      <td>4.537524e-14</td>\n",
              "    </tr>\n",
              "    <tr>\n",
              "      <th>16</th>\n",
              "      <td>1.455172e-27</td>\n",
              "      <td>3.904189e-28</td>\n",
              "      <td>34</td>\n",
              "      <td>4.263111e-14</td>\n",
              "    </tr>\n",
              "    <tr>\n",
              "      <th>17</th>\n",
              "      <td>-3.685995e-29</td>\n",
              "      <td>9.889425e-30</td>\n",
              "      <td>36</td>\n",
              "      <td>4.497924e-14</td>\n",
              "    </tr>\n",
              "    <tr>\n",
              "      <th>18</th>\n",
              "      <td>9.336734e-31</td>\n",
              "      <td>2.505021e-31</td>\n",
              "      <td>38</td>\n",
              "      <td>5.295565e-14</td>\n",
              "    </tr>\n",
              "    <tr>\n",
              "      <th>19</th>\n",
              "      <td>-2.365022e-32</td>\n",
              "      <td>6.345292e-33</td>\n",
              "      <td>40</td>\n",
              "      <td>6.917541e-14</td>\n",
              "    </tr>\n",
              "  </tbody>\n",
              "</table>\n",
              "</div>"
            ],
            "text/plain": [
              "             c_k         max_v   k           r_k\n",
              "0   4.166667e-02  7.812500e-03   2  2.840909e-03\n",
              "1  -1.215278e-03  2.821181e-04   4  4.069622e-05\n",
              "2   3.203538e-05  8.170315e-06   6  1.168847e-06\n",
              "3  -8.202608e-07  2.166371e-07   8  5.737393e-08\n",
              "4   2.083598e-08  5.565266e-09  10  4.385153e-09\n",
              "5  -5.281610e-10  1.415339e-10  12  4.866401e-10\n",
              "6   1.338090e-11  3.588940e-12  14  7.424370e-11\n",
              "7  -3.389577e-13  9.093421e-14  16  1.492473e-11\n",
              "8   8.585997e-15  2.303554e-15  18  3.824491e-12\n",
              "9  -2.174865e-16  5.835074e-17  20  1.216970e-12\n",
              "10  5.509000e-18  1.478048e-18  22  4.708024e-13\n",
              "11 -1.395446e-19  3.743944e-20  24  2.176172e-13\n",
              "12  3.534707e-21  9.483523e-22  26  1.184463e-13\n",
              "13 -8.953517e-23  2.402205e-23  28  7.498220e-14\n",
              "14  2.267952e-24  6.084855e-25  30  5.462511e-14\n",
              "15 -5.744791e-26  1.541312e-26  32  4.537524e-14\n",
              "16  1.455172e-27  3.904189e-28  34  4.263111e-14\n",
              "17 -3.685995e-29  9.889425e-30  36  4.497924e-14\n",
              "18  9.336734e-31  2.505021e-31  38  5.295565e-14\n",
              "19 -2.365022e-32  6.345292e-33  40  6.917541e-14"
            ]
          },
          "execution_count": 574,
          "metadata": {},
          "output_type": "execute_result"
        }
      ],
      "source": [
        "from itertools import islice\n",
        "import math \n",
        "import pandas as pd\n",
        "\n",
        "def barw(k):\n",
        "    return 1/((2**k) * math.factorial(k+1))\n",
        "\n",
        "def c_seq():\n",
        "    c = [1/24]\n",
        "    while True:\n",
        "        yield c[-1]\n",
        "        k = len(c)\n",
        "        c0 = sum(ci*barw(2*i) for i, ci in enumerate(reversed(c), 1))\n",
        "        c.append(barw(2*(k+1))-c0)\n",
        "    \n",
        "def c_values(n):\n",
        "    return list(islice(c_seq(), n))\n",
        "\n",
        "def max_v(c):\n",
        "    k = len(c)\n",
        "    c0 = sum(abs(ci)*barw(2*i-1) for i, ci in enumerate(reversed(c), 1))\n",
        "    return 0.5*(barw(2*k+1)+c0)\n",
        "\n",
        "n0 = 5\n",
        "c = c_values(20)\n",
        "df = pd.DataFrame(\n",
        "    {\n",
        "        'c_k': c,\n",
        "        'max_v': [max_v(c[:k]) for k in range(1,len(c)+1)]\n",
        "    }\n",
        ")\n",
        "df['k'] = [2*i for i in range(1, len(df)+1)]\n",
        "df['r_k'] = df.max_v*df.k.apply(lambda k: math.factorial(k)*((n0+0.5)**(-k+1)))\n",
        "df\n",
        "#print(max_v(c)*math.factorial(2*k)*((10+.5)**(-(2*k+1))))\n",
        "\n"
      ]
    },
    {
      "cell_type": "code",
      "execution_count": null,
      "metadata": {
        "id": "1CycGdiHjiWe"
      },
      "outputs": [],
      "source": [
        "def harmonic_sum_fast(n: int) -> float:\n",
        "    n0 = min(n, 10)\n",
        "    c = c_values(5)\n",
        "    result = sum(1/k for k in reversed(range(1, n0+1))) + math.log((n+0.5)/(n0+0.5))\n",
        "    for i, ci in enumerate(c, 1):\n",
        "        k = 2*i\n",
        "        result += ci * math.factorial(k-1)*((n+0.5)**(-k) -(n0+0.5)**(-k))  \n",
        "    return  result\n",
        "\n",
        "def mk_harmonic_mean(N0=10, K=5):\n",
        "    c = c_values(K)\n",
        "\n",
        "    def harmonic_sum(n: int) -> float:\n",
        "        n0 = min(n, N0)\n",
        "        result = sum(1/k for k in reversed(range(1, n0+1))) + math.log((n+0.5)/(n0+0.5))\n",
        "        factorial = 1\n",
        "        a0 = a = 1/((n+0.5)*(n+0.5))\n",
        "        b0 = b = 1/((n0+0.5)*(n0+0.5))\n",
        "        for i, ci in enumerate(c, 1):\n",
        "            result += ci * factorial*(a - b)\n",
        "            factorial *= (2*i)*(2*i+1)\n",
        "            a *= a0\n",
        "            b *= b0\n",
        "             \n",
        "        return  result\n",
        "\n",
        "    return harmonic_sum\n",
        "\n",
        "harmonic_sum = mk_harmonic_mean(N0=10, K=5)"
      ]
    },
    {
      "cell_type": "code",
      "execution_count": null,
      "metadata": {
        "id": "_otcXTbmjiWe",
        "outputId": "c56bdf74-fbe8-454d-c6f8-edb8bca6642e"
      },
      "outputs": [
        {
          "name": "stdout",
          "output_type": "stream",
          "text": [
            "\u001b[32m.\u001b[0m\u001b[32m.\u001b[0m\u001b[32m                                                                                           [100%]\u001b[0m\n",
            "\u001b[32m\u001b[32m\u001b[1m2 passed\u001b[0m\u001b[32m in 0.91s\u001b[0m\u001b[0m\n"
          ]
        }
      ],
      "source": [
        "%%ipytest\n",
        "\n",
        "def test_hs2():\n",
        "    for n in range(1, 1000):\n",
        "        assert abs(harmonic_sum_slow(n) - harmonic_sum_fast(n))<1e-8 \n",
        "\n",
        "    for n in range(5000, 100_001, 2_500):\n",
        "        assert abs(harmonic_sum_slow(n)-harmonic_sum_fast(n))<1e-8\n",
        "\n",
        "    for n in range(500_000, 1_000_001, 50_000):\n",
        "        assert abs(harmonic_sum_slow(n)-harmonic_sum_fast(n))<1e-8\n",
        "\n",
        "\n",
        "def test_hs3():\n",
        "    for n in range(1, 1000):\n",
        "        assert abs(harmonic_sum_slow(n) - harmonic_sum(n))<1e-8 \n",
        "\n",
        "    for n in range(5000, 100_001, 2_500):\n",
        "        assert abs(harmonic_sum_slow(n)-harmonic_sum(n))<1e-8\n",
        "\n",
        "    for n in range(500_000, 1_000_001, 50_000):\n",
        "        assert abs(harmonic_sum_slow(n)-harmonic_sum(n))<1e-8\n"
      ]
    },
    {
      "cell_type": "code",
      "execution_count": null,
      "metadata": {
        "id": "2ozg9cGJjiWe",
        "outputId": "9f5a2dc9-57fa-4104-f943-27287abd2813"
      },
      "outputs": [
        {
          "name": "stdout",
          "output_type": "stream",
          "text": [
            "CPU times: user 27 µs, sys: 21 µs, total: 48 µs\n",
            "Wall time: 51 µs\n"
          ]
        },
        {
          "data": {
            "text/plain": [
              "18.997896413853887"
            ]
          },
          "execution_count": 339,
          "metadata": {},
          "output_type": "execute_result"
        }
      ],
      "source": [
        "%%time\n",
        "harmonic_sum_fast(10**8)"
      ]
    },
    {
      "cell_type": "code",
      "execution_count": null,
      "metadata": {
        "id": "wKutJzINjiWf",
        "outputId": "4b8e59c3-0d47-43e9-aec0-c163de9b258d"
      },
      "outputs": [
        {
          "name": "stdout",
          "output_type": "stream",
          "text": [
            "CPU times: user 16 µs, sys: 13 µs, total: 29 µs\n",
            "Wall time: 32.9 µs\n"
          ]
        },
        {
          "data": {
            "text/plain": [
              "18.997896413853887"
            ]
          },
          "execution_count": 341,
          "metadata": {},
          "output_type": "execute_result"
        }
      ],
      "source": [
        "%%time\n",
        "harmonic_sum(10**8)"
      ]
    },
    {
      "cell_type": "markdown",
      "metadata": {
        "id": "yo-PWRFqEhNe"
      },
      "source": [
        "# `with` statement"
      ]
    },
    {
      "cell_type": "markdown",
      "metadata": {
        "id": "6855010d-aa5b-4c95-a7ff-020598002ccd"
      },
      "source": [
        "\n",
        " \n",
        "## Mi történik a `with` statement alkalmazásakor?\n",
        "\n",
        "### Mit lehet a with mögé írni?\n",
        "\n",
        "Hasonlóan a `for`-hoz szinte bármit, aminek van két metódusa:\n",
        "\n",
        "- `__enter__`\n",
        "- `__exit__`\n",
        "\n",
        "\n",
        "    with obj as x:\n",
        "       do_something with x\n",
        "\n",
        "Itt az `obj.__enter__()` hívás eredménye lesz az x értéke és a block végén **GARANTÁLTAN** végrehajtódik az `obj.__exit__(...)` hívás.\n",
        "Az `__enter__` metódus végezheti az előkészítést, az `__exit__` a takarítást!\n",
        "\n",
        "#### Kell-e nekünk ezeket a metódusokat közvetlenül implementálni?\n",
        "\n",
        "Valójában nem. Elegendő egy generátor függvényt megírni:\n",
        "\n",
        "    import time\n",
        "    \n",
        "    def timer():\n",
        "        try:\n",
        "            start = time.time()\n",
        "            yield\n",
        "\n",
        "        finally:\n",
        "            runtime = time.time() - start\n",
        "            print(f\"run time: {runtime:3f}\")\n",
        "            \n",
        "\n",
        "Így még csak egy generátort kapunk ami egyszer visszaad semmit (`None`) majd jelzi, hogy vége van a sorozatnak. \n",
        "\n",
        "Próbáljuk ki `for`-ral"
      ]
    },
    {
      "cell_type": "code",
      "execution_count": null,
      "metadata": {
        "id": "bf7398f5-f860-4f54-bb34-4a23a657c6de"
      },
      "outputs": [],
      "source": [
        "import time\n",
        "    \n",
        "def timer():\n",
        "    try:\n",
        "        start = time.time()\n",
        "        yield\n",
        "\n",
        "    finally:\n",
        "        runtime = time.time() - start\n",
        "        print(f\"run time: {runtime:3f}\")\n",
        "        \n",
        "for x in timer():\n",
        "    print(x)"
      ]
    },
    {
      "cell_type": "markdown",
      "metadata": {
        "id": "9240a96f-f131-4ec6-bf82-9200ec8683d1"
      },
      "source": [
        "`with`-del hibát kapunk"
      ]
    },
    {
      "cell_type": "code",
      "execution_count": null,
      "metadata": {
        "id": "733bcf3e-ba03-4764-864d-dc86b59e4fb3"
      },
      "outputs": [],
      "source": [
        "with timer() as x:\n",
        "    print(x)"
      ]
    },
    {
      "cell_type": "markdown",
      "metadata": {
        "id": "985e67d1-afae-4523-a8df-7577354c7745"
      },
      "source": [
        "A `contextlib` module `contextmanager` függvénye generátorból `contextmanager`-t készít."
      ]
    },
    {
      "cell_type": "code",
      "execution_count": null,
      "metadata": {
        "id": "4bf4e118-d7a5-47cc-893c-f47a2bac8c44"
      },
      "outputs": [],
      "source": [
        "from contextlib import contextmanager\n",
        "timer2 = contextmanager(timer)\n",
        "with timer2() as x:\n",
        "    print(x)"
      ]
    },
    {
      "cell_type": "markdown",
      "metadata": {
        "id": "20b085c9-be51-4ad4-a5a4-40910f5c1587"
      },
      "source": [
        "Ha egy függvény akarunk alkalmazni egy függvényre, hogy azt átalakítsuk, de ugyanaz maradjon a neve akkor a python `@` szintakszist használja. Ilyenkor ,,dekoráljuk'' a függvényt. A `contextmanager` egy példa **dekorátor**ra.\n",
        "\n",
        "    @contextmanager\n",
        "    def timer():\n",
        "        try:\n",
        "            start = time.time()\n",
        "            yield\n",
        "\n",
        "        finally:\n",
        "            runtime = time.time() - start\n",
        "            print(f\"run time: {runtime:3f}\")\n",
        "    \n",
        "Példaként írjunk egy olyan contextmanager-t, ami jelzi nekünk, hogy mikor milyen hívás történik."
      ]
    },
    {
      "cell_type": "code",
      "execution_count": null,
      "metadata": {
        "id": "8666bd25-3915-428c-86ad-cbc4582003cd"
      },
      "outputs": [],
      "source": [
        "@contextmanager\n",
        "def print_whats_going_on(x):\n",
        "    print(\"try blokk előtt\")\n",
        "    try:\n",
        "        print(\"yield előtt\")\n",
        "        yield x\n",
        "        print(\"yield után\")\n",
        "    except:\n",
        "        print(\"except ág\")\n",
        "    finally:\n",
        "        print(\"finally ág\")\n",
        "    print(\"try blokk után\")"
      ]
    },
    {
      "cell_type": "code",
      "execution_count": null,
      "metadata": {
        "id": "c3ba90bb-2dde-429d-9dd8-75476b0a5225"
      },
      "outputs": [],
      "source": [
        "with print_whats_going_on(\"hello\") as x:\n",
        "    print(x)\n",
        "print(\"with után\")\n",
        "\n",
        "print(\"-\"*50)\n",
        "\n",
        "with print_whats_going_on(\"hello\") as x:\n",
        "    print(x)\n",
        "    raise ValueError\n",
        "print(\"with után\")\n"
      ]
    },
    {
      "cell_type": "code",
      "execution_count": null,
      "metadata": {
        "id": "39160ff6-b8bd-4e51-9117-5bb3f6a4eb59"
      },
      "outputs": [],
      "source": [
        "@contextmanager\n",
        "def timer():\n",
        "    try:\n",
        "        start = time.time()\n",
        "        yield\n",
        "\n",
        "    finally:\n",
        "        runtime = time.time() - start\n",
        "        print(f\"run time: {runtime:3f}\")"
      ]
    },
    {
      "cell_type": "code",
      "execution_count": null,
      "metadata": {
        "id": "j1pSQlLVEhNj"
      },
      "outputs": [],
      "source": [
        "t = timer()\n",
        "with t:\n",
        "    time.sleep(0.5)"
      ]
    },
    {
      "cell_type": "markdown",
      "metadata": {
        "id": "qH7u9zpOEhNk"
      },
      "source": [
        "Használhatjuk-e többször a `timer`-ünket?"
      ]
    },
    {
      "cell_type": "code",
      "execution_count": null,
      "metadata": {
        "id": "tD1QgoNDEhNk"
      },
      "outputs": [],
      "source": [
        "t = timer()\n",
        "with t:\n",
        "    time.sleep(0.5)\n",
        "with t:\n",
        "    time.sleep(0.5)\n"
      ]
    },
    {
      "cell_type": "markdown",
      "metadata": {
        "id": "124JUP-lEhNl"
      },
      "source": [
        "## Tudunk-e olyan contextmanagert készíteni, ami többször felhasználható?\n",
        "\n",
        "pl.\n",
        "\n",
        "```\n",
        "with indented:\n",
        "    indented.print(\"első\")\n",
        "    with indented:\n",
        "        indented.print(\"második\")\n",
        "    indented.print(\"harmadik\")\n",
        "```\n",
        "\n",
        "ahol kimenetként azt várnánk, hogy\n",
        "```\n",
        "  első\n",
        "    második\n",
        "  harmadik\n",
        "```"
      ]
    },
    {
      "cell_type": "code",
      "execution_count": null,
      "metadata": {
        "id": "-RZ15-Y-EhNu"
      },
      "outputs": [],
      "source": [
        "class Indent:\n",
        "    def __init__(self, indent='  '):\n",
        "        self.level = 0\n",
        "        self.indent = indent\n",
        "    \n",
        "    def __enter__(self):\n",
        "        self.level += 1\n",
        "        return None\n",
        "    \n",
        "    def __exit__(self, *args):\n",
        "        self.level -= 1\n",
        "    \n",
        "    def print(self, x):\n",
        "        indent = self.indent*self.level \n",
        "        x = str(x)\n",
        "        print('\\n'.join(indent+line for line in x.split('\\n')))\n"
      ]
    },
    {
      "cell_type": "code",
      "execution_count": null,
      "metadata": {
        "id": "dzXZVrjsEhNw"
      },
      "outputs": [],
      "source": [
        "indented = Indent('...')\n",
        "text = \"\"\"Többsoros szöveg:\n",
        "Első\n",
        "Második\n",
        "\"\"\"\n",
        "with indented:\n",
        "    indented.print(\"első\")\n",
        "    with indented:\n",
        "        indented.print(\"második\")\n",
        "        with indented:\n",
        "            indented.print(text)\n",
        "    indented.print(\"harmadik\")"
      ]
    },
    {
      "cell_type": "markdown",
      "metadata": {
        "id": "B8Jx6VP-jiWk"
      },
      "source": [
        "# Feladatok előadásról"
      ]
    },
    {
      "cell_type": "markdown",
      "metadata": {
        "id": "cz2Rue3fjiWk"
      },
      "source": [
        "Előadáson a föld népességének alakulása szerepelt egy [Kaggle](https://www.kaggle.com) adathalmazon. Mi a \n",
        "[https://www.gapminder.org/data/] oldalról származó adatokat fogjuk használni. \n",
        "\n",
        "FREE DATA FROM WORLD BANK VIA GAPMINDER.ORG, CC-BY LICENSE\n",
        "\n",
        "Felmásoltam őket az óra github repojára, a letöltési címek:\n"
      ]
    },
    {
      "cell_type": "code",
      "execution_count": null,
      "metadata": {
        "id": "LI8LAuqPjiWl"
      },
      "outputs": [],
      "source": [
        "csv_files = {\n",
        "    \"income\": \"income_per_person_gdppercapita_ppp_inflation_adjusted.csv\",\n",
        "    \"life_expectancy\": \"life_expectancy_years.csv\",\n",
        "    \"population\": \"population_total.csv\"\n",
        "}\n",
        "regions_url = \"http://gapm.io/dl_geo\"\n",
        "\n",
        "baseurl = \"https://github.com/prokaj/elte-python/raw/main/\""
      ]
    },
    {
      "cell_type": "markdown",
      "metadata": {
        "id": "iwOv862SjiWl"
      },
      "source": [
        "## Kérdések előadásról:\n",
        "\n",
        "* Melyek a Föld legsűrűbben lakott országai?\n",
        "* Melyek a legritkábban lakott országok?\n",
        "* Földrészenként melyik a három legritkábban lakott ország?\n",
        "* Melyik földrész népessége nőtt a legtöbbet 1970 óta?"
      ]
    },
    {
      "cell_type": "code",
      "execution_count": null,
      "metadata": {
        "id": "OLsRuM55jiWl"
      },
      "outputs": [],
      "source": [
        "import pandas as pd\n",
        "import numpy as np\n",
        "import plotly.express as px"
      ]
    },
    {
      "cell_type": "code",
      "execution_count": null,
      "metadata": {
        "id": "rpIcun80jiW2"
      },
      "outputs": [],
      "source": [
        "\n",
        "gapminder = px.data.gapminder()\n",
        "gapminder\n"
      ]
    },
    {
      "cell_type": "code",
      "execution_count": null,
      "metadata": {
        "id": "A9bJAurWjiW2"
      },
      "outputs": [],
      "source": [
        "print(gapminder.describe())\n",
        "print(gapminder.info())\n"
      ]
    },
    {
      "cell_type": "code",
      "execution_count": null,
      "metadata": {
        "id": "hA06pktkjiW4"
      },
      "outputs": [],
      "source": [
        "px.scatter(data_frame= gapminder,\n",
        "           x= \"gdpPercap\",\n",
        "           y=\"lifeExp\", \n",
        "           animation_frame=\"year\",\n",
        "           animation_group=\"country\",\n",
        "           size=\"pop\", \n",
        "           color=\"continent\", \n",
        "           hover_name=\"country\",\n",
        "           log_x=True, \n",
        "           size_max=55, \n",
        "           range_x=[100, 100000], \n",
        "           range_y=[25,90])"
      ]
    },
    {
      "cell_type": "markdown",
      "metadata": {
        "id": "NBzq-VX6jiW5"
      },
      "source": [
        "Részletesebb adatok:"
      ]
    },
    {
      "cell_type": "code",
      "execution_count": null,
      "metadata": {
        "id": "EQU9J0hdjiW5"
      },
      "outputs": [],
      "source": [
        "\n",
        "url = baseurl+csv_files['income']\n",
        "print(url)\n",
        "df = pd.read_csv(url, dtype=str)\n",
        "df.head()"
      ]
    },
    {
      "cell_type": "code",
      "execution_count": null,
      "metadata": {
        "id": "IkkdBwfijiW5"
      },
      "outputs": [],
      "source": [
        "from collections import defaultdict\n",
        "col_types = defaultdict(list)\n",
        "for col in df.columns:\n",
        "    col_types[str(df[[col]].values.dtype)].append(col)\n",
        "\n",
        "print(dict(col_types))\n",
        "    \n"
      ]
    },
    {
      "cell_type": "markdown",
      "metadata": {
        "id": "LkXGDT7_jiW5"
      },
      "source": [
        "## Feladat.\n",
        "\n",
        "Olvassuk be az adatokat és válaszoljuk meg a fenti kérdéseket: \n",
        "\n",
        "* Melyek a Föld legsűrűbben lakott országai?\n",
        "* Melyek a legritkábban lakott országok?\n",
        "* Földrészenként melyik a három legritkábban lakott ország?\n",
        "* Melyik földrész népessége nőtt a legtöbbet 1970 óta?"
      ]
    },
    {
      "cell_type": "markdown",
      "metadata": {
        "id": "eJH0SZ18EhNL"
      },
      "source": [
        "# Conway Game of Life"
      ]
    },
    {
      "cell_type": "markdown",
      "metadata": {
        "id": "PlXRypn7EhNL"
      },
      "source": [
        "\n",
        "The Game of Life is a cellular automaton created by mathematician John Conway in 1970. The game consists of a board of cells that are either on or off. One creates an initial configuration of these on/off states and observes how it evolves. There are four simple rules to determine the next state of the game board, given the current state:\n",
        "\n",
        "- **Overpopulation**: if a living cell is surrounded by more than three living cells, it dies.\n",
        "- **Stasis**: if a living cell is surrounded by two or three living cells, it survives.\n",
        "- **Underpopulation**: if a living cell is surrounded by fewer than two living cells, it dies.\n",
        "- **Reproduction**: if a dead cell is surrounded by exactly three cells, it becomes a live cell.\n",
        "\n",
        "\n",
        "Írjunk egy osztályt a játékhoz, pl. az `__init__` metódus hozzalétre a megadott konfigurációnak megfelelő objektumot. Legyen egy `step` metódus, ami a rendszert a következő állapotába viszi és az `__str__` metódus pedig\n",
        "valahogy ábrázolja az aktuális állapotot. \n",
        "\n",
        "Tegyük fel, hogy a rács amin a rendszer él, egy $n\\times n$-es rács, ahol mindkét irányban ciklikusan körbemegyünk,\n",
        "azaz a csúcsokat modulo $n$ tekintjük.\n"
      ]
    },
    {
      "cell_type": "code",
      "execution_count": null,
      "metadata": {
        "id": "XKnQLfutEhNM"
      },
      "outputs": [],
      "source": [
        "class ConwayGoL:\n",
        "    \n",
        "    def __init__(self, state):\n",
        "        self.state = list(state)\n",
        "\n",
        "    def step(self):\n",
        "        return self\n",
        "\n",
        "    def __repr__(self):\n",
        "        return f\"{type(self).__name__}({self.state})\""
      ]
    },
    {
      "cell_type": "code",
      "execution_count": null,
      "metadata": {
        "id": "xPaz5ZWJEhNN"
      },
      "outputs": [],
      "source": [
        "import random\n",
        "\n",
        "init_state = [] ## ???\n",
        "conway = ConwayGoL(init_state)\n",
        "\n",
        "conway.step()\n"
      ]
    },
    {
      "cell_type": "markdown",
      "metadata": {
        "id": "ncvyx37aEhNN"
      },
      "source": [
        "A játék állapotának leírásához egy $n\\times n$ rács minden pontjáról tudni kell, hogy foglalt-e vagy sem.\n",
        "\n",
        "```\n",
        "n = 11\n",
        "state = [[0]*n for _ in range(n)]\n",
        "```\n",
        "\n",
        "Véletlenszerű kezdeti állapot:\n",
        "```\n",
        "state = [[random.randint(0,1) for _ in range(n)] for _ in range(n)]\n",
        "```"
      ]
    },
    {
      "cell_type": "code",
      "execution_count": null,
      "metadata": {
        "id": "FBK6wsG6EhNO"
      },
      "outputs": [],
      "source": [
        "def random_state(n, m, p):\n",
        "    return [[int(random.random()<p) for _ in range(m)] for _ in range(n)]\n",
        "\n",
        "state = random_state(11, 25, 0.2)\n",
        "print(state)"
      ]
    },
    {
      "cell_type": "markdown",
      "metadata": {
        "id": "-E4t9V34EhNO"
      },
      "source": [
        "Szebb megjelenítés?"
      ]
    },
    {
      "cell_type": "code",
      "execution_count": null,
      "metadata": {
        "id": "rKm4aPSHEhNO"
      },
      "outputs": [],
      "source": [
        "def as_matrix(lst, n):\n",
        "    return [lst[i:i+n] for i in range(0, len(lst), n)]\n",
        "\n",
        "print('\\n'.join(''.join(map(str, line)) for line in state))\n"
      ]
    },
    {
      "cell_type": "code",
      "execution_count": null,
      "metadata": {
        "id": "Mo9lFIo5EhNP"
      },
      "outputs": [],
      "source": [
        "symbols = \"\\u2b1c\\u2b1b\"\n",
        "print('\\n'.join(''.join(symbols[x] for x in line) for line in state))\n"
      ]
    },
    {
      "cell_type": "code",
      "execution_count": null,
      "metadata": {
        "id": "5ynLSVHFEhNP"
      },
      "outputs": [],
      "source": [
        "import matplotlib.pyplot as plt \n",
        "\n",
        "img = plt.matshow(state, cmap=\"viridis\")\n",
        "#img.axes.axis(False)\n",
        "n, m = len(state), len(state[0])\n",
        "for pos in range(0, n+1):\n",
        "    img.axes.axhline(y=pos-0.5, color=\"white\")\n",
        "for pos in range(0, m+1):\n",
        "    img.axes.axvline(x=pos-0.5, color=\"white\")\n",
        "\n",
        "plt.show()\n"
      ]
    },
    {
      "cell_type": "code",
      "execution_count": null,
      "metadata": {
        "id": "53nRVem4EhNR"
      },
      "outputs": [],
      "source": [
        "\n",
        "def cgol_str(self):\n",
        "    symbols = \"\\u2b1c\\u2b1b\"\n",
        "    return '\\n'.join(''.join(symbols[x] for x in line) for line in self.state)\n",
        "\n",
        "ConwayGoL.__str__ = cgol_str\n",
        "\n",
        "    "
      ]
    },
    {
      "cell_type": "code",
      "execution_count": null,
      "metadata": {
        "id": "Js9icRItEhNR"
      },
      "outputs": [],
      "source": [
        "conway = ConwayGoL(state)\n",
        "print(conway)"
      ]
    },
    {
      "cell_type": "markdown",
      "metadata": {
        "id": "NwISMDDvEhNR"
      },
      "source": [
        "A `step` metódushoz ki kellene számolni egy adott csúcs foglalt szomszédainak számát `cnt`. Ha ez kész,\n",
        "akkor az $i$ csúcs új állapota:\n",
        "\n",
        "$$\n",
        "    \\text{state}_{t+1}[i]=\n",
        "    \\begin{cases}\n",
        "    1 &\\text{Ha $\\text{cnt}[i]\\in\\{2,3\\}$ és $\\text{state}_t[i]=1$}\\\\\n",
        "    1 &\\text{Ha $\\text{cnt}[i]\\in\\{3\\}$ és $\\text{state}_t[i]=0$}\\\\\n",
        "    0 &\\text{különben}\n",
        "    \\end{cases}\n",
        "$$"
      ]
    },
    {
      "cell_type": "code",
      "execution_count": null,
      "metadata": {
        "id": "NetE2InDEhNS"
      },
      "outputs": [],
      "source": [
        "def newstate(state, count):\n",
        "    return [int((c==3)|((c==2) & (s==1))) for s, c in  zip(state, count)]"
      ]
    },
    {
      "cell_type": "code",
      "execution_count": null,
      "metadata": {
        "id": "8CKn57ZDEhNS"
      },
      "outputs": [],
      "source": [
        "%%ipytest\n",
        "\n",
        "def test_newstate():\n",
        "    res = [0]*9\n",
        "    res[2] = 1\n",
        "    res[3] = 1\n",
        "    assert newstate([1]*9, list(range(9))) == res\n",
        "    res = [0]*9\n",
        "    res[3] = 1    \n",
        "    assert newstate([0]*9, list(range(9))) == res\n"
      ]
    },
    {
      "cell_type": "code",
      "execution_count": null,
      "metadata": {
        "id": "0ZpQJl2DEhNT"
      },
      "outputs": [],
      "source": [
        "def count_neighbors(state):\n",
        "    strides = [(0,-1), (0, 1), (1,-1), (1,0), (1,1), (-1,-1), (-1,0), (-1,1)] \n",
        "    n, m = len(state), len(state[0])\n",
        "    return [ [sum(state[(i+di) % n][(j+dj) % m] for di, dj in strides) for j in range(m)] for i in range(n)]\n",
        "\n",
        "def cgol_step(self):\n",
        "    counts = count_neighbors(self.state)\n",
        "    self.state = [ newstate(line, cnt) for line, cnt in zip(self.state, counts) ]\n",
        "    return self\n",
        "    \n",
        "ConwayGoL.step = cgol_step"
      ]
    },
    {
      "cell_type": "code",
      "execution_count": null,
      "metadata": {
        "id": "zyCFdmOIEhNT"
      },
      "outputs": [],
      "source": [
        "@classmethod\n",
        "def cgol_from_random_state(cls, n, m,  p):\n",
        "    return cls(random_state(n, m, p))\n",
        "\n",
        "ConwayGoL.from_random_state=cgol_from_random_state"
      ]
    },
    {
      "cell_type": "code",
      "execution_count": null,
      "metadata": {
        "id": "pYZAR6DyEhNU"
      },
      "outputs": [],
      "source": [
        "conway = ConwayGoL.from_random_state(4, 4, 0.3)\n",
        "print(conway)\n",
        "print(count_neighbors(conway.state))"
      ]
    },
    {
      "cell_type": "code",
      "execution_count": null,
      "metadata": {
        "id": "gULSpM2nEhNU"
      },
      "outputs": [],
      "source": [
        "conway = ConwayGoL.from_random_state(5, 5, 0.5)\n",
        "print(conway)\n",
        "print(\"-\"*20)\n",
        "print(conway.step())"
      ]
    },
    {
      "cell_type": "markdown",
      "metadata": {
        "id": "MMsJO58mEhNV"
      },
      "source": [
        "Tudunk-e valami animációszerűt készíteni? Jupyter notebook-ban pl. a következő képpen lehet: "
      ]
    },
    {
      "cell_type": "code",
      "execution_count": null,
      "metadata": {
        "id": "-VxEV5BEEhNV"
      },
      "outputs": [],
      "source": [
        "from ipywidgets import Output\n",
        "from time import sleep\n",
        "\n",
        "out = Output()\n",
        "display(out)\n",
        "conway = ConwayGoL.from_random_state(n=31, m=55, p=0.2)\n",
        "\n",
        "for i in range(100):\n",
        "    out.clear_output(True)\n",
        "    with out:\n",
        "        print(f\"After {i} steps:\\n{conway}\")  \n",
        "    sleep(0.2)\n",
        "    conway.step()\n"
      ]
    },
    {
      "cell_type": "markdown",
      "metadata": {
        "id": "NorKvbYvEhNV"
      },
      "source": [
        "Ha parancssorból dolgozunk, akkor valami ilyesmit lehetne tenni"
      ]
    },
    {
      "cell_type": "code",
      "execution_count": null,
      "metadata": {
        "id": "xpMYSt_SEhNW"
      },
      "outputs": [],
      "source": [
        "%%writefile conway.py\n",
        "\n",
        "import random\n",
        "\n",
        "\n",
        "def random_state(n, m, p):\n",
        "    return [ [ int(random.random()<p) for _ in range(m) ] for _ in range(n) ]\n",
        "\n",
        "def count_neighbors(state):\n",
        "    strides = [(0,-1), (0, 1), (1,-1), (1,0), (1,1), (-1,-1), (-1,0), (-1,1)] \n",
        "    n, m = len(state), len(state[0])\n",
        "    return [ [sum(state[(i+di) % n][(j+dj) % m] for di, dj in strides) for j in range(m)] for i in range(n)]\n",
        "\n",
        "def newstate(state, count):\n",
        "    return [int((c==3)|((c==2) & (s==1))) for s, c in  zip(state, count)]\n",
        "\n",
        "class ConwayGoL:\n",
        "    symbols = \"\\u2b1c\\u2b1b\"\n",
        "    \n",
        "    def __init__(self, state):\n",
        "        self.state = list(state)\n",
        "        \n",
        "    def step(self):\n",
        "        counts = count_neighbors(self.state)\n",
        "        self.state = [ newstate(line, cnt) for line, cnt in zip(self.state, counts) ]\n",
        "        return self\n",
        "\n",
        "    \n",
        "    def __str__(self): \n",
        "        symbols = self.symbols\n",
        "        return '\\n'.join(''.join(symbols[x] for x in line) for line in self.state)\n",
        "\n",
        "    def __repr__(self):\n",
        "        return f\"{type(self).__name__}({self.state})\"\n",
        "    \n",
        "    @classmethod\n",
        "    def from_random_state(cls, n, m, p):\n",
        "        return cls(random_state(n, m, p))\n",
        "\n",
        "    def is_empty(self):\n",
        "        return not any(any(line) for line in self.state)\n",
        "\n",
        "\n",
        "def clear_terminal(n):\n",
        "    print(f\"{chr(27)}[{n+1}A\", end=\"\")\n",
        "\n",
        "def main(n=11, m=25, p=0.2, nsteps=10, clear_screen=clear_terminal):\n",
        "    from time import sleep\n",
        "    conway = ConwayGoL.from_random_state(n, m, p)\n",
        "    for i in range(nsteps+1):\n",
        "        if i>0:\n",
        "            clear_screen(n)\n",
        "        print(f\"after {i} step:\")\n",
        "        print(conway)  \n",
        "        sleep(0.2)\n",
        "        conway.step()\n",
        "        if conway.is_empty():\n",
        "            break\n",
        "    \n",
        "if __name__ == \"__main__\":\n",
        "    main()\n",
        "    "
      ]
    },
    {
      "cell_type": "markdown",
      "metadata": {
        "id": "1sHjBkrrEhNX"
      },
      "source": [
        "Ha valamit már megírtunk és szeretnénk használni, `import`-tal elérhető. Pl."
      ]
    },
    {
      "cell_type": "markdown",
      "metadata": {
        "id": "vS2mPYU0EhNX"
      },
      "source": [
        "### Tudunk-e paramétereket adni a python scriptnek?\n",
        "\n",
        "Amikor egy python scriptet futtatunk, a parancssor (amivel a futást indítottuk) a `sys` modul `argv` változójában érhető el."
      ]
    },
    {
      "cell_type": "code",
      "execution_count": null,
      "metadata": {
        "id": "jHPXCutCEhNY"
      },
      "outputs": [],
      "source": [
        "import sys\n",
        "sys.argv"
      ]
    },
    {
      "cell_type": "code",
      "execution_count": null,
      "metadata": {
        "id": "wTyIkQrUEhNY"
      },
      "outputs": [],
      "source": [
        "! python -c 'import sys; print(sys.argv)' -alma\n"
      ]
    },
    {
      "cell_type": "markdown",
      "metadata": {
        "id": "B_WWySlnEhNY"
      },
      "source": [
        "Egy nagyon egyszerű megoldás, ha minden opciónak a neve a paraméter amit beállít és egyenlőségjel után az értéke:\n",
        "pl. n=11 m=25 nstep=10 p=0.2"
      ]
    },
    {
      "cell_type": "code",
      "execution_count": null,
      "metadata": {
        "id": "AcM_i35sEhNZ"
      },
      "outputs": [],
      "source": [
        "cmdline = \"conway.py -n=11 -m=25 -nstep=10 -p=0.2\"\n",
        "argv = cmdline.split()\n",
        "params =[param.split(\"=\") for param in argv[1:]]\n",
        "params"
      ]
    },
    {
      "cell_type": "markdown",
      "metadata": {
        "id": "9cgtJx-NEhNZ"
      },
      "source": [
        "Minden paraméterről tudni kellene, hogy milyen típusú!"
      ]
    },
    {
      "cell_type": "code",
      "execution_count": null,
      "metadata": {
        "id": "5aly_9AGEhNZ"
      },
      "outputs": [],
      "source": [
        "param_types={'-n': int, '-m': int, '-nstep': int, '-p': float}\n",
        "params = {k.replace(\"-\",\"\"): param_types[k](v)  for k, v in (param.split(\"=\") for param in argv[1:])}\n",
        "params"
      ]
    },
    {
      "cell_type": "markdown",
      "metadata": {
        "id": "CzA2jqxOEhNZ"
      },
      "source": [
        "Ezek után a `main` függvényt a megadott paraméterekkel meg tudjuk hívni:\n",
        "\n",
        "```\n",
        "    main(**params)\n",
        "```\n",
        "Mi van a `default` értékekkel, `help`-pel stb.\n",
        "\n",
        "Ezeket mind meg tudnánk írni, de nem kell. Van kész megoldás `python`-ban.\n",
        "\n",
        "Az `argparse` könvytár mindent megcsinál, ami nekünk kell."
      ]
    },
    {
      "cell_type": "code",
      "execution_count": null,
      "metadata": {
        "id": "55hNdPpxEhNa"
      },
      "outputs": [],
      "source": [
        "import argparse\n",
        "\n",
        "help(argparse)"
      ]
    },
    {
      "cell_type": "markdown",
      "metadata": {
        "id": "vsV1HWB1EhNa"
      },
      "source": [
        "A `conway.py` file végét cseréljük le erre.\n",
        "```\n",
        "if __name__==\"__main__\":\n",
        "\n",
        "    import argparse\n",
        "    \n",
        "    parser = argparse.ArgumentParser(description='Conways Game of Life')\n",
        "\n",
        "    parser.add_argument(\n",
        "        '-n', '--nrows', \n",
        "        type=int, \n",
        "        default=11, \n",
        "        help='number of rows'\n",
        "        )\n",
        "\n",
        "    parser.add_argument(\n",
        "        '-m', '--ncols',\n",
        "        type=int, \n",
        "        default=25, \n",
        "        help='number of columns'\n",
        "        )\n",
        "\n",
        "    parser.add_argument(\n",
        "        '-p', '--density',\n",
        "        type=float, \n",
        "        default=0.2,\n",
        "        help='initial density')\n",
        "    \n",
        "    parser.add_argument(\n",
        "        '--nsteps', \n",
        "        type=int, \n",
        "        default=10, \n",
        "        help='steps to display'\n",
        "        )\n",
        "\n",
        "    args = parser.parse_args()\n",
        "    \n",
        "    main(n=args.n, m=args.m, p=args.p, nsteps=args.nsteps)\n",
        "```\n",
        "    "
      ]
    },
    {
      "cell_type": "code",
      "execution_count": null,
      "metadata": {
        "id": "zBO2BpyXEhNb"
      },
      "outputs": [],
      "source": [
        "# import importlib\n",
        "# importlib.reload(conway)"
      ]
    },
    {
      "cell_type": "code",
      "execution_count": null,
      "metadata": {
        "id": "EOFyZa75EhNb"
      },
      "outputs": [],
      "source": [
        "import conway\n",
        "\n",
        "out1 = Output()\n",
        "display(out1)\n",
        "\n",
        "with out1:\n",
        "    conway.main(clear_screen=lambda n: out1.clear_output(True))"
      ]
    },
    {
      "cell_type": "markdown",
      "metadata": {
        "id": "2H4xKBosEhNc"
      },
      "source": [
        "Az `argparse` könyvtár nem a legkényelmesebb. Alternatívák:\n",
        "\n",
        "- [Docopt](http://docopt.org/)\n",
        "- [Click](https://pypi.org/project/click/)\n",
        "- [clize](https://github.com/epsy/clize)\n",
        "\n",
        "és még sok másik is!"
      ]
    },
    {
      "cell_type": "markdown",
      "metadata": {
        "id": "Iol-WRR9EhNc"
      },
      "source": [
        "## Itt is használhattunk volna dekorátort"
      ]
    },
    {
      "cell_type": "markdown",
      "metadata": {
        "id": "MhdsFQXqEhNc"
      },
      "source": [
        "\n",
        "A `ConwayGoL` példában utólag adtunk metódusokat az osztályunkhoz. Ezt is megtehettük volna dekorátorral.  "
      ]
    },
    {
      "cell_type": "code",
      "execution_count": null,
      "metadata": {
        "id": "7DMGcbR3EhNd"
      },
      "outputs": [],
      "source": [
        "def conway_method(f):\n",
        "    setattr(ConwayGoL, f.__name__, f)\n",
        "    return f\n",
        "\n",
        "\n",
        "@conway_method\n",
        "def dummy_method(self):\n",
        "    print(\"this is a message from the new method!\")\n",
        "\n",
        "c = ConwayGoL([], 0)\n",
        "c.dummy_method()"
      ]
    },
    {
      "cell_type": "markdown",
      "metadata": {
        "id": "Kfka4pDpEhNd"
      },
      "source": [
        "Azt is megtehettük volna, hogy a osztály nincs beleégetve a kódba."
      ]
    },
    {
      "cell_type": "code",
      "execution_count": null,
      "metadata": {
        "id": "5DmXIzA8EhNd"
      },
      "outputs": [],
      "source": [
        "def new_method(cls):\n",
        "    def decorator(f):\n",
        "        setattr(cls, f.__name__, f)\n",
        "        return f \n",
        "    return decorator\n",
        "\n",
        "@new_method(ConwayGoL)\n",
        "def dummy_method(self):\n",
        "    print(\"Note that the old value of dummy_method is overwritten!\")"
      ]
    },
    {
      "cell_type": "code",
      "execution_count": null,
      "metadata": {
        "id": "CTuWgR0KEhNe"
      },
      "outputs": [],
      "source": [
        "c.dummy_method()"
      ]
    },
    {
      "cell_type": "markdown",
      "metadata": {
        "id": "AgBqmqxgjiXS"
      },
      "source": [
        "# További feladatok a félév során\n",
        "\n",
        "- Character RNN Arany összesre\n",
        "\n",
        "- MNIST \n",
        "\n",
        "- Első előadás bevezető példái (arc, hangulat felismerés)\n",
        "\n",
        "- Prím számok eloszlása\n"
      ]
    },
    {
      "cell_type": "code",
      "execution_count": null,
      "metadata": {
        "id": "xggjXDLQjiXS"
      },
      "outputs": [],
      "source": []
    }
  ],
  "metadata": {
    "kernelspec": {
      "display_name": "base",
      "language": "python",
      "name": "python3"
    },
    "language_info": {
      "codemirror_mode": {
        "name": "ipython",
        "version": 3
      },
      "file_extension": ".py",
      "mimetype": "text/x-python",
      "name": "python",
      "nbconvert_exporter": "python",
      "pygments_lexer": "ipython3",
      "version": "3.8.13"
    },
    "orig_nbformat": 4,
    "vscode": {
      "interpreter": {
        "hash": "d8b53ac59aeb7dd99955ed1c7af180cec0b2adbd03b0a8162d4077beb5f10154"
      }
    },
    "colab": {
      "provenance": []
    }
  },
  "nbformat": 4,
  "nbformat_minor": 0
}