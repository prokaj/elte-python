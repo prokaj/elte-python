{
 "cells": [
  {
   "cell_type": "markdown",
   "metadata": {},
   "source": [
    "[![Open In Colab](https://colab.research.google.com/assets/colab-badge.svg)](https://colab.research.google.com/github/prokaj/elte-python/blob/main/6-gyakorlat.ipynb)"
   ]
  },
  {
   "cell_type": "markdown",
   "metadata": {},
   "source": [
    "## Feladatok előadásról\n",
    "\n",
    "\n",
    "### 2-sum\n",
    "\n",
    "Adott egy $n\\leq 10^5$ szám és egy $n$ hosszú $a$ lista, melynek elemeire $-10^{5} \\leq a_i \\leq 10^5$ teljesül.\n",
    "\n",
    "Keressünk olyan $1\\leq p<q\\leq n$ indexpárt, hogy $a[p] = −a[q]$, ha ilyen létezik.\n",
    "\n",
    "\n",
    "Például:\n",
    "```\n",
    "5\n",
    "5 4 -5 6 8\n",
    "```\n",
    "\n",
    "itt egy lehetséges válasz `(0, 2)`\n",
    "\n",
    "**Ötlet**: iteráljunk végig az indexpárokon és vizsgáljuk meg minden esetben, hogy teljesíti-e a feltételeket.\n",
    "\n",
    "Ezt a megoldási módszert, amiben potenciálisan minden lehetséges jelöltet kipróbálunk, **brute force**-alapú (nyers erő) megoldásnak nevezünk. A brute force megoldás mindig működik, a kérdés inkább az, hogy vajon nem tudunk-e ennél jobbat kitalálni."
   ]
  },
  {
   "cell_type": "code",
   "execution_count": 1,
   "metadata": {},
   "outputs": [],
   "source": [
    "from itertools import combinations\n",
    "\n",
    "def solve_2_sum(seq):\n",
    "    for (i1, x1), (i2, x2) in combinations(enumerate(seq), 2):\n",
    "        if x1 == -x2:\n",
    "            return i1, i2\n",
    "                \n",
    "    return None\n"
   ]
  },
  {
   "cell_type": "code",
   "execution_count": 2,
   "metadata": {},
   "outputs": [],
   "source": [
    "def format_ns(t):\n",
    "    for unit in ['ns', 'μs', 'ms']:\n",
    "        if t<1000:\n",
    "            return f\"{t:.2f} {unit}\"\n",
    "        t /= 1000\n",
    "    return f\"{t:.2f} s\""
   ]
  },
  {
   "cell_type": "code",
   "execution_count": 3,
   "metadata": {},
   "outputs": [
    {
     "name": "stdout",
     "output_type": "stream",
     "text": [
      "run time: 31.35 ms\n",
      "solution: (1, 6739), check xs[res]=(30064, -30064)\n",
      "run time: 75.22 μs\n",
      "solution: None, check xs[res]=None\n",
      "run time: 6.71 ms\n",
      "solution: None, check xs[res]=None\n",
      "run time: 544.29 ms\n",
      "solution: None, check xs[res]=None\n"
     ]
    }
   ],
   "source": [
    "import random\n",
    "import time\n",
    "\n",
    "random.seed(2112)\n",
    "\n",
    "xss = [[random.randint(-10**5, 10**5) for _ in range(50_000)],\n",
    "       list(range(1,51)),\n",
    "       list(range(1,501)),\n",
    "       list(range(1,5_001))]\n",
    "\n",
    "for xs in xss:\n",
    "    t = time.perf_counter_ns()\n",
    "    res = solve_2_sum(xs)\n",
    "    print(f\"run time: {format_ns(time.perf_counter_ns() - t)}\")\n",
    "    print(f\"solution: {res}, check xs[res]={tuple(xs[i] for i in res) if res else res}\")\n",
    "\n"
   ]
  },
  {
   "cell_type": "markdown",
   "metadata": {},
   "source": [
    "A futási idő négyzetes a sorozat hosszában. Ha a bemenet 50_000 hosszúságú, akkor várhatóan\n",
    "$$\n",
    "    550*100~\\text{ms} = 55~000~\\text{ms} = 55~\\text{s} \n",
    "$$\n",
    "a futási idő"
   ]
  },
  {
   "cell_type": "markdown",
   "metadata": {},
   "source": [
    "Milyen típus lenne alkalmas a már látott értékek és legalább egy hozzájuk tartozó index tárolására?\n",
    "\n",
    "Egészítsük ki a következő függvényt"
   ]
  },
  {
   "cell_type": "code",
   "execution_count": 4,
   "metadata": {},
   "outputs": [],
   "source": [
    "def solve_2_sum_better(seq):\n",
    "    \n",
    "    for i, x in enumerate(seq):\n",
    "        ## ha -x volt korábban return \n",
    "        pass\n",
    "    return None"
   ]
  },
  {
   "cell_type": "code",
   "execution_count": 5,
   "metadata": {},
   "outputs": [
    {
     "name": "stdout",
     "output_type": "stream",
     "text": [
      "---xs min=-99999, max=99997, len(xs)=50000\n",
      "   run time: 1.49 ms\n",
      "   solution: None, check xs[res]=None\n",
      "---\n",
      "---xs min=1, max=50, len(xs)=50\n",
      "   run time: 2.86 μs\n",
      "   solution: None, check xs[res]=None\n",
      "---\n",
      "---xs min=1, max=500, len(xs)=500\n",
      "   run time: 12.71 μs\n",
      "   solution: None, check xs[res]=None\n",
      "---\n",
      "---xs min=1, max=5000, len(xs)=5000\n",
      "   run time: 150.02 μs\n",
      "   solution: None, check xs[res]=None\n",
      "---\n",
      "---xs min=1, max=50000, len(xs)=50000\n",
      "   run time: 1.51 ms\n",
      "   solution: None, check xs[res]=None\n",
      "---\n",
      "---xs min=1, max=1, len(xs)=50\n",
      "   run time: 2.86 μs\n",
      "   solution: None, check xs[res]=None\n",
      "---\n",
      "---xs min=1, max=1, len(xs)=500\n",
      "   run time: 12.29 μs\n",
      "   solution: None, check xs[res]=None\n",
      "---\n",
      "---xs min=1, max=1, len(xs)=5000\n",
      "   run time: 144.85 μs\n",
      "   solution: None, check xs[res]=None\n",
      "---\n",
      "---xs min=1, max=1, len(xs)=50000\n",
      "   run time: 1.59 ms\n",
      "   solution: None, check xs[res]=None\n",
      "---\n"
     ]
    }
   ],
   "source": [
    "random.seed(2112)\n",
    "\n",
    "xss = [\n",
    "       [random.randint(-10**5, 10**5) for _ in range(50_000)], \n",
    "       list(range(1,51)),list(range(1,501)),\n",
    "       list(range(1,5_001)),\n",
    "       list(range(1,50_001)),\n",
    "       [1]*50, [1]*500, [1]*5_000, [1]*50_000\n",
    "       ]\n",
    "       \n",
    "\n",
    "for xs in xss:\n",
    "    print(f\"---xs min={min(xs)}, max={max(xs)}, len(xs)={len(xs)}\")\n",
    "\n",
    "    t = time.perf_counter_ns()\n",
    "    res = solve_2_sum_better(xs)\n",
    "    print(f\"   run time: {format_ns(time.perf_counter_ns() - t)}\")\n",
    "    print(f\"   solution: {res}, check xs[res]={tuple(xs[i] for i in res) if res else res}\")\n",
    "    print(\"---\")"
   ]
  },
  {
   "cell_type": "markdown",
   "metadata": {},
   "source": [
    "## Fibonacci zárt alakban\n",
    "\n",
    "Ötlet. $f_{n} = f_{n-1}+f_{n-2}$ megoldását keressük $f_n=x^n$ alakban, alkalmas $x$-szel. Azaz oldjuk meg a\n",
    "$$\n",
    "    x^{n} = x^{n-1}+x^{n-2},\\quad n\\geq 2\n",
    "$$\n",
    "egyenletet. Az azonosan nulla sorozat nem érdekel minket. Ha $x\\neq0$, akkor átosztás és átrendezés után\n",
    "$$\n",
    "    x^2-x-1=0\\quad x_{1,2}=\\frac{1\\pm\\sqrt{(-1)^2-4\\cdot(-1)}}{2}=\\frac{1\\pm\\sqrt{5}}2\n",
    "$$\n",
    "Tetszőleges $c_1,c_2\\in\\mathbb{R}$ számokra\n",
    "$$\n",
    "    f_n=c_1 x_1^n +c_2x_2^n\n",
    "$$ \n",
    "kielégíti a Fibinacci sorozat rekurzióját. Ahhoz, hogy $f_0=0$, $f_1=1$ is teljesüljön,\n",
    "$$\n",
    "    f_0 = c_1+c_2 = 0,\\quad f_1=c_1x_1+c_2x_2=c_1(x_1-x_2)=1\n",
    "$$\n",
    "is kell. $x_1-x_2=\\sqrt{5}$, azaz $c_1=\\frac{\\sqrt{5}}{5}$ és $c_2=-\\frac{\\sqrt{5}}{5}$.\n",
    "\n",
    "A $f_0=0$, $f_1=1$ kezdeti értékekből induló sorozat $n$. tagja zárt alakban tehát:\n",
    "$$\n",
    "    f_0=0,\\quad\n",
    "    f_1=1,\\quad\n",
    "    f_n = \\frac{1}{\\sqrt{5}}\\left(\\left(\\frac{1+\\sqrt{5}}{2}\\right)^n- \\left(\\frac{1-\\sqrt{5}}{2}\\right)^n\\right)\n",
    "$$\n",
    "\n",
    "\n",
    "Előadás a sorozatot $f_0=1$, $f_1=1$-ből indítottuk. Ez csak az index eltolását jelenti, ha ugyanis $f_0=0$, $f_1=1$, akkor $f_2=1$ és megkapjuk az elődáson szereplő értékeket az eggyel nagyobb indexű helyen.\n",
    "\n",
    "Előadás változatra a zárt alak:\n",
    "$$\n",
    "    f_0=1,\\quad\n",
    "    f_1=1,\\quad\n",
    "    f_n = \\frac{1}{\\sqrt{5}}\\left(\\left(\\frac{1+\\sqrt{5}}{2}\\right)^{n+1}- \\left(\\frac{1-\\sqrt{5}}{2}\\right)^{n+1}\\right)\n",
    "$$\n",
    "\n",
    "**Próbáljuk ki, hogy működik-e?**\n",
    "\n",
    "Egészítsük ki a következő függvény definíciót!"
   ]
  },
  {
   "cell_type": "code",
   "execution_count": 6,
   "metadata": {},
   "outputs": [],
   "source": [
    "import math\n",
    "\n",
    "sqrt5 = math.sqrt(5)\n",
    "\n",
    "def fibonacci_super_fast(n):\n",
    "    pass\n",
    "\n",
    "\n",
    "def fibonacci(n):\n",
    "    a, b = 1, 1\n",
    "    for _ in range(n):\n",
    "        a, b = a+b, a\n",
    "    return b"
   ]
  },
  {
   "cell_type": "code",
   "execution_count": 7,
   "metadata": {},
   "outputs": [],
   "source": [
    "try:\n",
    "    import ipytest\n",
    "    ipytest.autoconfig()\n",
    "    \n",
    "except ModuleNotFoundError:\n",
    "    print(\"Trying to install ipytest\")\n",
    "    ! pip install ipytest --quiet\n",
    "    print(\"Try again!\")"
   ]
  },
  {
   "cell_type": "code",
   "execution_count": 8,
   "metadata": {},
   "outputs": [
    {
     "name": "stdout",
     "output_type": "stream",
     "text": [
      "\u001b[32m.\u001b[0m\u001b[31mF\u001b[0m\u001b[31m                                                                                           [100%]\u001b[0m\n",
      "============================================= FAILURES =============================================\n",
      "\u001b[31m\u001b[1m____________________________________ test_super_fibonacci_fast _____________________________________\u001b[0m\n",
      "\n",
      "    \u001b[94mdef\u001b[39;49;00m \u001b[92mtest_super_fibonacci_fast\u001b[39;49;00m():\n",
      "        \u001b[94mfor\u001b[39;49;00m n \u001b[95min\u001b[39;49;00m \u001b[96mrange\u001b[39;49;00m(\u001b[94m100\u001b[39;49;00m):\n",
      ">           \u001b[94massert\u001b[39;49;00m fibonacci(n) == fibonacci_super_fast(n)\n",
      "\u001b[1m\u001b[31mE           assert 1 == None\u001b[0m\n",
      "\u001b[1m\u001b[31mE            +  where 1 = fibonacci(0)\u001b[0m\n",
      "\u001b[1m\u001b[31mE            +  and   None = fibonacci_super_fast(0)\u001b[0m\n",
      "\n",
      "\u001b[1m\u001b[31m/tmp/ipykernel_591802/882599773.py\u001b[0m:10: AssertionError\n",
      "===================================== short test summary info ======================================\n",
      "FAILED tmpa99y5wau.py::test_super_fibonacci_fast - assert 1 == None\n",
      "\u001b[31m\u001b[31m\u001b[1m1 failed\u001b[0m, \u001b[32m1 passed\u001b[0m\u001b[31m in 0.08s\u001b[0m\u001b[0m\n"
     ]
    }
   ],
   "source": [
    "%%ipytest\n",
    "\n",
    "def test_fibonacci():\n",
    "    assert fibonacci(0) == 1\n",
    "    assert fibonacci(1) == 1\n",
    "    assert fibonacci(2) == 2\n",
    "    assert fibonacci(3) == 3\n",
    "    assert fibonacci(4) == 5\n",
    "    \n",
    "def test_super_fibonacci_fast():\n",
    "    for n in range(100):\n",
    "        assert fibonacci(n) == fibonacci_super_fast(n)\n",
    "    "
   ]
  },
  {
   "cell_type": "markdown",
   "metadata": {},
   "source": [
    "Mi okozza a hibát? Meg lehet oldani?\n",
    "\n",
    "Ötletek:\n",
    "\n",
    "1. $a+b\\sqrt{5}$ alakú számokkal dolgozunk, ahol $a$, $b$ racionális. A python képes kezelni racionális számokat\n",
    "   `Fraction` erre építve definálhatunk egy osztályt, ami a $\\mathbb(Q)(\\sqrt{5})=\\left\\{a+b\\sqrt{5}\\colon a,b\\in\\mathbb{Q}\\right\\}$ testet implementálja: Összeadás, kivonás, szorzás, osztás, hatványozás és akkor a kerekítési hibáktól megszabadulunk. (HF.)\n",
    "\n",
    "2. Újra gondoljuk a zárt alakot.\n",
    "   \n",
    "   Ha $v_n=(f_{n+1},f_n)^T$, akkor $n>0$-re\n",
    "   $$\n",
    "      v_n = \\begin{pmatrix}f_{n+1}\\\\f_{n}\\end{pmatrix} = \n",
    "      \\underbrace{\\begin{pmatrix}1 & 1\\\\ 1 & 0\\end{pmatrix}}_{=A}\\begin{pmatrix}f_{n}\\\\f_{n-1}\\end{pmatrix} = A v_{n-1}\n",
    "   $$\n",
    "   Itt $v_0=(1,1)^T$ és iterálva az összefüggést:\n",
    "   $$\n",
    "      v_n=Av_{n-1}=A(A v_{n-2})=\\cdots= A^n v_0\n",
    "   $$\n",
    "   Az $A$ mátrix elemei egészek, $A^n$ is ilyen, azaz elég az (egész értékű) $A$ mátrix $n$. hatványát kiszámolni.\n",
    "   $$\n",
    "      f_n = (0, 1) A^n v_0\n",
    "   $$\n",
    "\n",
    "   Ha $n = \\sum_{i} r_i 2^i$, ahol $r_i\\in\\{0,1\\}$ a diakikus jegyek sorozata, akkor\n",
    "   $$\n",
    "      A^n = \\prod_{i: r_i=1} A^{2^i}\n",
    "   $$ \n",
    "\n",
    "   Írjunk egy függvényt, ami $2\\times 2$ mátrixok szorzatát számolja ki! Ennek segítségével implementáljuk a mátrix hatványozást!\n",
    "\n",
    "   Mátrixokat kényelmesen ábrázolhatunk listákkal, pl. `A = [A_11, A_12, A_21, A_22]`. Ráadásul a mi esetünkben, a mátrix szimmetrikus, az hatványozásnál megmarad, akár ezt is kihasználhatjuk.\n",
    "\n",
    "\n",
    "#### Mi köze a két zárt alaknak egymáshoz?\n",
    "\n",
    "Otthon gondolkodjunk rajta!"
   ]
  },
  {
   "cell_type": "code",
   "execution_count": 9,
   "metadata": {},
   "outputs": [],
   "source": [
    "\n",
    "def mat_mul(A, B):\n",
    "    \"\"\"\n",
    "    product of self-adjoint 2x2 matrices\n",
    "    given in the following format\n",
    "    A = [A_11, A_12, A_22]\n",
    "    \n",
    "    The return value has the same format!\n",
    "    \"\"\"\n",
    "    return [A[0]*B[0]+A[1]*B[1], A[0]*B[1]+A[1]*B[2], A[1]*B[1]+A[2]*B[2]]\n",
    "\n",
    "def mat_pow(A, n):\n",
    "    n, r = divmod(n, 2)\n",
    "    B =  A if r==1 else [1, 0, 1]## identity matrix \n",
    "    while n>0:\n",
    "        A = mat_mul(A, A)\n",
    "        n, r = divmod(n, 2)\n",
    "        if r==1:\n",
    "            B = mat_mul(B, A)\n",
    "    return B\n",
    "    \n",
    "\n",
    "def mat_str(A):\n",
    "    a = [str(ai) for ai in A]\n",
    "    max_width = max(len(ai) for ai in a)\n",
    "    format_str = f\">{max_width}\"\n",
    "    return  f\"{a[0]:{format_str}} {a[1]:{format_str}}\\n{a[1]:{format_str}} {a[2]:{format_str}}\"\n"
   ]
  },
  {
   "cell_type": "code",
   "execution_count": 10,
   "metadata": {},
   "outputs": [
    {
     "name": "stdout",
     "output_type": "stream",
     "text": [
      "A=\n",
      "1 1\n",
      "1 0\n",
      "---\n",
      "A^2=\n",
      "2 1\n",
      "1 1\n",
      "---\n",
      "A^4=\n",
      "5 3\n",
      "3 2\n",
      "---\n",
      "A^8=\n",
      "34 21\n",
      "21 13\n",
      "---\n",
      "A^16=\n",
      "1597  987\n",
      " 987  610\n",
      "---\n",
      "A^32=\n",
      "3524578 2178309\n",
      "2178309 1346269\n",
      "---\n",
      "A^64=\n",
      "17167680177565 10610209857723\n",
      "10610209857723  6557470319842\n",
      "---\n"
     ]
    }
   ],
   "source": [
    "A = [1,1,0]\n",
    "print(f\"A=\\n{mat_str([1,1,0])}\\n---\")\n",
    "\n",
    "B = mat_mul(A, A)\n",
    "exponent=2\n",
    "print(f\"A^{exponent}=\\n{mat_str(B)}\\n---\")\n",
    "\n",
    "for _ in range(5):\n",
    "    B = mat_mul(B, B)\n",
    "    exponent *= 2\n",
    "    print(f\"A^{exponent}=\\n{mat_str(B)}\\n---\")\n"
   ]
  },
  {
   "cell_type": "code",
   "execution_count": 11,
   "metadata": {},
   "outputs": [
    {
     "name": "stdout",
     "output_type": "stream",
     "text": [
      "\u001b[32m.\u001b[0m\u001b[32m                                                                                            [100%]\u001b[0m\n",
      "\u001b[32m\u001b[32m\u001b[1m1 passed\u001b[0m\u001b[32m in 0.00s\u001b[0m\u001b[0m\n"
     ]
    }
   ],
   "source": [
    "%%ipytest\n",
    "\n",
    "def test_mat_exp():\n",
    "    A = [1,1,1]\n",
    "    assert mat_pow(A, 0) == [1, 0, 1]\n",
    "    assert mat_pow(A, 1) == A\n",
    "    B = A\n",
    "    for k in range(2, 10):\n",
    "        B = mat_mul(B, A)\n",
    "        assert mat_pow(A, k) == B"
   ]
  },
  {
   "cell_type": "code",
   "execution_count": 12,
   "metadata": {},
   "outputs": [],
   "source": [
    "def fibonacci_fast(n):\n",
    "    A = [1, 1, 0]\n",
    "    B = mat_pow(A, n)\n",
    "    # B = A**n\n",
    "    # (0, 1) B (1, 1)^T = B_21+B_22\n",
    "    return B[1]+B[2]"
   ]
  },
  {
   "cell_type": "code",
   "execution_count": 13,
   "metadata": {},
   "outputs": [
    {
     "name": "stdout",
     "output_type": "stream",
     "text": [
      "\u001b[32m.\u001b[0m\u001b[32m                                                                                            [100%]\u001b[0m\n",
      "\u001b[32m\u001b[32m\u001b[1m1 passed\u001b[0m\u001b[32m in 0.01s\u001b[0m\u001b[0m\n"
     ]
    }
   ],
   "source": [
    "%%ipytest\n",
    "\n",
    "def test_fibonacci_fast():\n",
    "    for n in range(100):\n",
    "        assert fibonacci(n) == fibonacci_fast(n)\n"
   ]
  },
  {
   "cell_type": "markdown",
   "metadata": {},
   "source": [
    "Melyik változat a gyorsabb?"
   ]
  },
  {
   "cell_type": "code",
   "execution_count": 14,
   "metadata": {},
   "outputs": [
    {
     "name": "stdout",
     "output_type": "stream",
     "text": [
      "           fibonacci(10): 857 ns ± 17.8 ns per loop (mean ± std. dev. of 7 runs, 1,000,000 loops each)\n",
      "      fibonacci_fast(10): 2.3 µs ± 14.1 ns per loop (mean ± std. dev. of 7 runs, 100,000 loops each)\n",
      "          fibonacci(100): 3.59 µs ± 29 ns per loop (mean ± std. dev. of 7 runs, 100,000 loops each)\n",
      "     fibonacci_fast(100): 4.15 µs ± 50.6 ns per loop (mean ± std. dev. of 7 runs, 100,000 loops each)\n",
      "         fibonacci(1000): 45 µs ± 426 ns per loop (mean ± std. dev. of 7 runs, 10,000 loops each)\n",
      "    fibonacci_fast(1000): 8.65 µs ± 46.1 ns per loop (mean ± std. dev. of 7 runs, 100,000 loops each)\n",
      "        fibonacci(10000): 1.21 ms ± 30.2 µs per loop (mean ± std. dev. of 7 runs, 1,000 loops each)\n",
      "   fibonacci_fast(10000): 81.2 µs ± 547 ns per loop (mean ± std. dev. of 7 runs, 10,000 loops each)\n"
     ]
    }
   ],
   "source": [
    "for n in [10, 100, 1000, 10_000]:\n",
    "    for f in [fibonacci, fibonacci_fast]:\n",
    "        txt = f\"{f.__name__}({n}):\"\n",
    "        print(f\"{txt:>25}\", end=\" \")\n",
    "        %timeit f(n)\n",
    "\n"
   ]
  },
  {
   "cell_type": "markdown",
   "metadata": {},
   "source": [
    "### Mátrix class\n",
    "\n",
    "Néhány műveletet defináltunk 2x2 szimmetrikus mátrixokra. Ezt elegánsabban is megtehetjük. "
   ]
  },
  {
   "cell_type": "code",
   "execution_count": 15,
   "metadata": {},
   "outputs": [],
   "source": [
    "class SymmetricMatrix:\n",
    "    \"\"\"Symmetric 2x2 matrix\"\"\"\n",
    "    \n",
    "    def __init__(self, values):\n",
    "        self.values = list(values)\n",
    "    \n",
    "    def __mul__(self, other):\n",
    "        A = self.values\n",
    "        B = other.values \n",
    "        result = [A[0]*B[0]+A[1]*B[1], A[0]*B[1]+A[1]*B[2], A[1]*B[1]+A[2]*B[2]]\n",
    "        return type(self)(result)\n",
    "\n",
    "    def __add__(self, other):\n",
    "        return type(self)(ai+bi for ai, bi in zip(self.values, other.values))\n",
    "    \n",
    "    def __pow__(self, n):\n",
    "        n, r = divmod(n, 2)\n",
    "        B = self if r==1 else type(self)([1, 0, 1]) ## identity matrix\n",
    "        A = self \n",
    "        while n>0:\n",
    "            A = A * A\n",
    "            n, r = divmod(n, 2)\n",
    "            if r==1:\n",
    "                B = B * A\n",
    "        return B\n",
    "\n",
    "    def __repr__(self):\n",
    "        return f\"{type(self).__name__}({self.values})\"\n",
    "\n",
    "    def __str__(self):\n",
    "        a = [str(ai) for ai in self.values]\n",
    "        max_width = max(len(ai) for ai in a)\n",
    "        format_str = f\">{max_width}\"\n",
    "        return  f\"{a[0]:{format_str}} {a[1]:{format_str}}\\n{a[1]:{format_str}} {a[2]:{format_str}}\"\n"
   ]
  },
  {
   "cell_type": "code",
   "execution_count": 16,
   "metadata": {},
   "outputs": [],
   "source": [
    "def fibonacci_fast2(n):\n",
    "    B = SymmetricMatrix([1, 1, 0])**n\n",
    "    # B = A**n\n",
    "    # (0, 1) B (1, 1)^T = B_21+B_22\n",
    "    _, b , c = B.values\n",
    "    return b+c"
   ]
  },
  {
   "cell_type": "code",
   "execution_count": 17,
   "metadata": {},
   "outputs": [
    {
     "name": "stdout",
     "output_type": "stream",
     "text": [
      "\u001b[32m.\u001b[0m\u001b[32m                                                                                            [100%]\u001b[0m\n",
      "\u001b[32m\u001b[32m\u001b[1m1 passed\u001b[0m\u001b[32m in 0.01s\u001b[0m\u001b[0m\n"
     ]
    }
   ],
   "source": [
    "%%ipytest\n",
    "\n",
    "def test_fibonacci_fast():\n",
    "    for n in range(100):\n",
    "        assert fibonacci(n) == fibonacci_fast2(n)\n"
   ]
  },
  {
   "cell_type": "code",
   "execution_count": 22,
   "metadata": {},
   "outputs": [
    {
     "name": "stdout",
     "output_type": "stream",
     "text": [
      "          fibonacci(100): 3.62 µs ± 31.5 ns per loop (mean ± std. dev. of 7 runs, 100,000 loops each)\n",
      "     fibonacci_fast(100): 4.13 µs ± 20.1 ns per loop (mean ± std. dev. of 7 runs, 100,000 loops each)\n",
      "    fibonacci_fast2(100): 7.37 µs ± 36.5 ns per loop (mean ± std. dev. of 7 runs, 100,000 loops each)\n",
      "         fibonacci(1000): 43.9 µs ± 410 ns per loop (mean ± std. dev. of 7 runs, 10,000 loops each)\n",
      "    fibonacci_fast(1000): 8.62 µs ± 41.1 ns per loop (mean ± std. dev. of 7 runs, 100,000 loops each)\n",
      "   fibonacci_fast2(1000): 13.6 µs ± 87.1 ns per loop (mean ± std. dev. of 7 runs, 100,000 loops each)\n"
     ]
    }
   ],
   "source": [
    "for n in [100, 1000]:\n",
    "    for f in [fibonacci, fibonacci_fast, fibonacci_fast2]:\n",
    "        txt = f\"{f.__name__}({n}):\"\n",
    "        print(f\"{txt:>25}\", end=\" \")\n",
    "        %timeit f(n)\n"
   ]
  },
  {
   "cell_type": "markdown",
   "metadata": {},
   "source": [
    "Az eleganciának ára van. Lehetne optimalizálni a hatványozást úgy, \n",
    "hogy csak a végén hozzuk létre a SymmetricMatrix típust"
   ]
  },
  {
   "cell_type": "markdown",
   "id": "71460458-f8fc-4048-bbe4-1409edb204d8",
   "metadata": {},
   "source": [
    "## Kivételkezelés\n",
    "\n",
    "    try:\n",
    "        pass\n",
    "    except:\n",
    "        pass\n",
    "    else:\n",
    "        pass\n",
    "    finally:\n",
    "        pass\n",
    "        \n",
    "Nem nagyon fogunk olyan kódot írni, ami ezt használja. Kivéve két esetet:\n",
    "\n",
    "- üres sorozat kezelése `next` `iter` hívásoknál: `StopIteration`\n",
    "\n",
    "- Adatok letöltése internetről. `TimeoutError`, `HTTPError` stb.\n",
    "\n",
    "- Saját kontexus `with` statementhez, hasonló ahhoz, amit file olvasásnál láttunk előadáson.\n",
    "\n",
    "\n",
    "****\n"
   ]
  },
  {
   "cell_type": "markdown",
   "id": "11a9530e-0696-4185-a8df-df9fe5be1adf",
   "metadata": {},
   "source": [
    "## Olvasás fileból\n",
    "\n",
    "    with open(filename, mode) as file:\n",
    "       do_something with file\n",
    "       \n",
    "- `filename` a file elérési útja\n",
    "- `mode` \n",
    "  + `r` reading olvasás\n",
    "  + `w` writing írás\n",
    "  + `b` binary\n",
    "  + `t` text\n",
    "  + `a` append\n",
    "  \n",
    "  Ha nem adjuk meg `rt`.\n",
    "  \n",
    "  Lehetne még `r, w, rb, wb, a`\n",
    "  \n",
    "\n",
    "### Feladat.\n",
    "\n",
    "Írjuk meg a `grep` program egyszerűsített változatát.\n",
    "\n",
    "A `grep` soronként olvas egy szövegfileból és a megadott mintát tartalmazó sorokat kiírja a kimenetre.\n",
    "\n",
    "Képes arra, hogy kiírja a mintát tartalmazó sorral együtt azt megelőző és azt követő néhány sort is.\n",
    "\n",
    "A mi változatunk egy generator függvény lesz, ami a megadott file soraiból azokat tartja meg, amik az adott mintát tartalmazzák.\n"
   ]
  },
  {
   "cell_type": "code",
   "execution_count": 19,
   "id": "316c42df-3182-4844-816e-782a682ca47e",
   "metadata": {},
   "outputs": [
    {
     "name": "stdout",
     "output_type": "stream",
     "text": [
      "Overwriting test.txt\n"
     ]
    }
   ],
   "source": [
    "%%writefile test.txt\n",
    "első sor\n",
    "második sor\n",
    "harmadik\n",
    "utolsó"
   ]
  },
  {
   "cell_type": "code",
   "execution_count": 20,
   "id": "931f66a4-17e6-4c3a-83b6-9c6642c8d768",
   "metadata": {},
   "outputs": [
    {
     "name": "stdout",
     "output_type": "stream",
     "text": [
      "<_io.TextIOWrapper name='test.txt' mode='r' encoding='UTF-8'>\n",
      "---test.txt:\n",
      "első sor\n",
      "második sor\n",
      "harmadik\n",
      "utolsó\n",
      "---\n"
     ]
    }
   ],
   "source": [
    "filename = \"test.txt\"\n",
    "\n",
    "with open(filename, \"r\") as file:\n",
    "    print(file)\n",
    "    print(f\"---{filename}:\")\n",
    "    for line in file:\n",
    "        print(line, end=\"\")\n",
    "    print(\"---\")\n",
    "        "
   ]
  },
  {
   "cell_type": "markdown",
   "id": "382882e8-7677-4958-893e-fc5bc7cc78aa",
   "metadata": {},
   "source": [
    "Egészítsük ki a következő kódot!"
   ]
  },
  {
   "cell_type": "code",
   "execution_count": 23,
   "id": "f79f9dec-df6f-4da2-8f60-e1eb6a73666d",
   "metadata": {},
   "outputs": [],
   "source": [
    "def simple_grep(filename: str, pattern: str): # Generator[str]\n",
    "    with open(filename, \"r\") as file:\n",
    "        for line in file:\n",
    "            if pattern in line:\n",
    "                yield line"
   ]
  },
  {
   "cell_type": "code",
   "execution_count": 24,
   "metadata": {},
   "outputs": [
    {
     "data": {
      "text/plain": [
       "['első sor\\n', 'utolsó\\n']"
      ]
     },
     "execution_count": 24,
     "metadata": {},
     "output_type": "execute_result"
    }
   ],
   "source": [
    "list(simple_grep(\"test.txt\", \"ls\"))"
   ]
  },
  {
   "cell_type": "markdown",
   "id": "467cd086-bc0e-4136-83f9-0744201ee400",
   "metadata": {},
   "source": [
    "### Adatok olvasása netről\n",
    "\n",
    "Ez  megoldható `urllib.request` modullal\n"
   ]
  },
  {
   "cell_type": "code",
   "execution_count": 25,
   "id": "6926f7d9-313c-4d54-a0be-d4e52ec1ec60",
   "metadata": {},
   "outputs": [
    {
     "name": "stdout",
     "output_type": "stream",
     "text": [
      "<class 'bytes'>\n"
     ]
    }
   ],
   "source": [
    "import urllib.request as request\n",
    "\n",
    "url = \"https://www.gutenberg.org/files/1342/1342-0.txt\" # Pride and prejudice\n",
    "url = \"https://www.gutenberg.org/ebooks/67098.txt.utf-8\" # Winnie the pooh\n",
    "\n",
    "with request.urlopen(url) as file:\n",
    "    btext = file.read()\n",
    "\n",
    "print(type(btext))"
   ]
  },
  {
   "cell_type": "code",
   "execution_count": 26,
   "id": "aad25cf6-7c2d-45bb-a896-392bd82932f7",
   "metadata": {},
   "outputs": [],
   "source": [
    "text = btext.decode()\n",
    "lines = text.split(\"\\n\")\n"
   ]
  },
  {
   "cell_type": "code",
   "execution_count": 28,
   "id": "0a6e99ef-dcb0-4d27-abca-4c92ae3fde7f",
   "metadata": {},
   "outputs": [
    {
     "data": {
      "text/plain": [
       "(4003,\n",
       " ['                        When We Were Very Young\\r',\n",
       "  '\\r',\n",
       "  '    \"_The best book of verses for children_ _ever written._\"--A. EDWARD\\r',\n",
       "  '    NEWTON in _The Atlantic Monthly_.\\r',\n",
       "  '\\r',\n",
       "  '              Fourteen Songs from When We Were Very Young\\r',\n",
       "  '\\r',\n",
       "  '    Words by A. A. Milne. Music by H. Fraser-Simson. Decorations by\\r',\n",
       "  '    E. H. Shepard.\\r',\n",
       "  '\\r'])"
      ]
     },
     "execution_count": 28,
     "metadata": {},
     "output_type": "execute_result"
    }
   ],
   "source": [
    "len(lines), lines[40:50]"
   ]
  },
  {
   "cell_type": "markdown",
   "metadata": {},
   "source": [
    "### File letöltés "
   ]
  },
  {
   "cell_type": "code",
   "execution_count": 29,
   "id": "feed9d0b-ee55-4058-b405-3c541d74683f",
   "metadata": {},
   "outputs": [
    {
     "name": "stdout",
     "output_type": "stream",
     "text": [
      "\u001b[0;31mSignature:\u001b[0m \u001b[0mrequest\u001b[0m\u001b[0;34m.\u001b[0m\u001b[0murlretrieve\u001b[0m\u001b[0;34m(\u001b[0m\u001b[0murl\u001b[0m\u001b[0;34m,\u001b[0m \u001b[0mfilename\u001b[0m\u001b[0;34m=\u001b[0m\u001b[0;32mNone\u001b[0m\u001b[0;34m,\u001b[0m \u001b[0mreporthook\u001b[0m\u001b[0;34m=\u001b[0m\u001b[0;32mNone\u001b[0m\u001b[0;34m,\u001b[0m \u001b[0mdata\u001b[0m\u001b[0;34m=\u001b[0m\u001b[0;32mNone\u001b[0m\u001b[0;34m)\u001b[0m\u001b[0;34m\u001b[0m\u001b[0;34m\u001b[0m\u001b[0m\n",
      "\u001b[0;31mDocstring:\u001b[0m\n",
      "Retrieve a URL into a temporary location on disk.\n",
      "\n",
      "Requires a URL argument. If a filename is passed, it is used as\n",
      "the temporary file location. The reporthook argument should be\n",
      "a callable that accepts a block number, a read size, and the\n",
      "total file size of the URL target. The data argument should be\n",
      "valid URL encoded data.\n",
      "\n",
      "If a filename is passed and the URL points to a local resource,\n",
      "the result is a copy from local file to new file.\n",
      "\n",
      "Returns a tuple containing the path to the newly created\n",
      "data file as well as the resulting HTTPMessage object.\n",
      "\u001b[0;31mFile:\u001b[0m      ~/.config/jupyterlab-desktop/jlab_server/lib/python3.8/urllib/request.py\n",
      "\u001b[0;31mType:\u001b[0m      function\n"
     ]
    }
   ],
   "source": [
    "request.urlretrieve?"
   ]
  },
  {
   "cell_type": "code",
   "execution_count": 30,
   "id": "03c2511c-6590-4ff5-a4ea-494b615f235f",
   "metadata": {},
   "outputs": [
    {
     "data": {
      "text/plain": [
       "('winnie-the-pooh.txt', <http.client.HTTPMessage at 0x7fa1d1209d90>)"
      ]
     },
     "execution_count": 30,
     "metadata": {},
     "output_type": "execute_result"
    }
   ],
   "source": [
    "request.urlretrieve(url, \"winnie-the-pooh.txt\")"
   ]
  },
  {
   "cell_type": "code",
   "execution_count": 31,
   "id": "50fb50d7-c730-4082-baf8-212e44dc909a",
   "metadata": {},
   "outputs": [
    {
     "name": "stdout",
     "output_type": "stream",
     "text": [
      "1-gyakorlat.ipynb  6-gyakorlat.ipynb  Digraph.gv       test.txt\n",
      "2-gyakorlat.ipynb  7-gyakorlat.ipynb  Digraph.gv.pdf   winnie-the-pooh.txt\n",
      "3-gyakorlat.ipynb  8-gyakorlat.ipynb  P0022_names.txt\n",
      "4-gyakorlat.ipynb  9-gyakorlat.ipynb  __pycache__\n",
      "5-gyakorlat.ipynb  conway.py\t      README.md\n"
     ]
    }
   ],
   "source": [
    "! ls"
   ]
  },
  {
   "cell_type": "code",
   "execution_count": 32,
   "id": "ee22c0a8-aabf-4319-b2a9-8175407e561d",
   "metadata": {},
   "outputs": [
    {
     "name": "stdout",
     "output_type": "stream",
     "text": [
      "The Project Gutenberg eBook of Winnie-the-Pooh, by A. A. Milne\n",
      "\n",
      "This eBook is for the use of anyone anywhere in the United States and\n",
      "most other parts of the world at no cost and with almost no restrictions\n",
      "whatsoever. You may copy it, give it away or re-use it under the terms\n",
      "of the Project Gutenberg License included with this eBook or online at\n",
      "www.gutenberg.org. If you are not located in the United States, you\n",
      "will have to check the laws of the country where you are located before\n",
      "using this eBook.\n",
      "\n"
     ]
    }
   ],
   "source": [
    "! head winnie-the-pooh.txt"
   ]
  },
  {
   "cell_type": "code",
   "execution_count": 33,
   "id": "981ef8c7-eb1d-43d5-876d-d28cd7d6c61c",
   "metadata": {},
   "outputs": [],
   "source": [
    "def simple_grep(filename: str, pattern: str): # Generator[str]\n",
    "    with open(filename, \"r\") as file:\n",
    "        for lineno, line in enumerate(file):\n",
    "            if pattern in line.lower():\n",
    "                yield lineno, line"
   ]
  },
  {
   "cell_type": "markdown",
   "id": "a3d5efda-87d1-43cb-9737-12c9eb9d4d7e",
   "metadata": {},
   "source": [
    "## Melyek a leggyakoribb szavak a Micimackó angol változatában? "
   ]
  },
  {
   "cell_type": "code",
   "execution_count": 34,
   "id": "cc2303ad-145a-4070-afd3-184f0511c0a0",
   "metadata": {},
   "outputs": [],
   "source": [
    "from collections import Counter"
   ]
  },
  {
   "cell_type": "code",
   "execution_count": 35,
   "id": "5fdc87fc-ef4a-40a3-8209-cf028530bf5a",
   "metadata": {},
   "outputs": [],
   "source": [
    "def words(lines):\n",
    "    for line in lines:\n",
    "        for word in line.split():\n",
    "            yield word"
   ]
  },
  {
   "cell_type": "markdown",
   "metadata": {},
   "source": [
    "Gondoljuk meg, hogyan tudnánk az írásjelektől megszabadulni!"
   ]
  },
  {
   "cell_type": "code",
   "execution_count": 36,
   "id": "b9b7315a-3da4-4657-9e42-c000b7438b6f",
   "metadata": {},
   "outputs": [
    {
     "data": {
      "text/plain": [
       "4557"
      ]
     },
     "execution_count": 36,
     "metadata": {},
     "output_type": "execute_result"
    }
   ],
   "source": [
    "with open(\"winnie-the-pooh.txt\") as textfile:\n",
    "    counter = Counter(map(str.lower, words(textfile)))\n",
    "len(counter)"
   ]
  },
  {
   "cell_type": "code",
   "execution_count": 38,
   "id": "4346c5fe-0ab5-4acb-b412-304e543b2126",
   "metadata": {},
   "outputs": [
    {
     "data": {
      "text/plain": [
       "[('and', 995),\n",
       " ('the', 879),\n",
       " ('to', 634),\n",
       " ('he', 634),\n",
       " ('a', 588),\n",
       " ('of', 507),\n",
       " ('said', 445),\n",
       " ('it', 369),\n",
       " ('in', 322),\n",
       " ('you', 320),\n",
       " ('was', 288),\n",
       " ('i', 273),\n",
       " ('his', 220),\n",
       " ('that', 212),\n",
       " ('as', 185),\n",
       " ('with', 165),\n",
       " ('had', 164),\n",
       " ('pooh', 164),\n",
       " ('at', 159),\n",
       " ('for', 156)]"
      ]
     },
     "execution_count": 38,
     "metadata": {},
     "output_type": "execute_result"
    }
   ],
   "source": [
    "counter.most_common(20)"
   ]
  },
  {
   "cell_type": "markdown",
   "metadata": {},
   "source": [
    "## Feladat előadásról\n",
    "\n",
    "Adva van egy szövegfile. [P0022.txt](https://eltehu.sharepoint.com/:t:/s/Crs22-23-1bevtudprogm22ea1Bevezetsatudomnyosprogramozsbaelad/EcraA_ZkX4VGpoCn4mzaCCcBlKbsnmDqrm_EejiXr7-57g?e=BhFq1M)\n",
    "\n",
    "Ebben a fájlban keresztnevek vannak. Hány olyan lényegében különböző névpár van, hogy a pár második eleme az első névnek a megfordítottja?\n",
    "\n",
    "pl. (\"NORA\", \"ARON\")\n",
    "\n",
    "\n",
    "Az (\"ARON\", \"NORA\") pár nem különbözik lényegében az előzőtől.\n",
    "\n",
    "A nevek kezdőbetűit tekintve melyik az 5 leggyakoribb? W-vel vagy C-vel kezdődik több név?"
   ]
  },
  {
   "cell_type": "code",
   "execution_count": 39,
   "metadata": {},
   "outputs": [
    {
     "name": "stdout",
     "output_type": "stream",
     "text": [
      "Downnload manually!\n"
     ]
    }
   ],
   "source": [
    "import urllib.request as request\n",
    "\n",
    "url = \"https://eltehu.sharepoint.com/:t:/s/Crs22-23-1bevtudprogm22ea1Bevezetsatudomnyosprogramozsbaelad/EcraA_ZkX4VGpoCn4mzaCCcBlKbsnmDqrm_EejiXr7-57g?e=BhFq1M\"\n",
    "try:\n",
    "    request.urlretrieve(url, \"P0022_names.txt\")\n",
    "\n",
    "except request.HTTPError:\n",
    "    print(\"Downnload manually!\")\n"
   ]
  },
  {
   "cell_type": "code",
   "execution_count": 40,
   "metadata": {},
   "outputs": [
    {
     "data": {
      "text/plain": [
       "21985"
      ]
     },
     "execution_count": 40,
     "metadata": {},
     "output_type": "execute_result"
    }
   ],
   "source": [
    "with open(\"./P0022_names.txt\") as f:\n",
    "    names = [line.strip() for line in f]\n",
    "len(names)"
   ]
  },
  {
   "cell_type": "code",
   "execution_count": 41,
   "metadata": {},
   "outputs": [],
   "source": [
    "from itertools import combinations\n"
   ]
  },
  {
   "cell_type": "markdown",
   "metadata": {},
   "source": [
    "Párok brute force-szal."
   ]
  },
  {
   "cell_type": "code",
   "execution_count": 42,
   "metadata": {},
   "outputs": [
    {
     "name": "stdout",
     "output_type": "stream",
     "text": [
      "CPU times: user 22.5 s, sys: 20 ms, total: 22.5 s\n",
      "Wall time: 22.6 s\n"
     ]
    },
    {
     "data": {
      "text/plain": [
       "[]"
      ]
     },
     "execution_count": 42,
     "metadata": {},
     "output_type": "execute_result"
    }
   ],
   "source": [
    "%%time\n",
    "[(a,b) for a, b in combinations(names, 2) if a[::-1]==b] + [(a,a) for a in names if a==a[::-1]]\n"
   ]
  },
  {
   "cell_type": "code",
   "execution_count": 43,
   "metadata": {},
   "outputs": [
    {
     "name": "stdout",
     "output_type": "stream",
     "text": [
      "CPU times: user 12.8 ms, sys: 2 µs, total: 12.8 ms\n",
      "Wall time: 11.8 ms\n"
     ]
    },
    {
     "data": {
      "text/plain": [
       "0"
      ]
     },
     "execution_count": 43,
     "metadata": {},
     "output_type": "execute_result"
    }
   ],
   "source": [
    "%%time\n",
    "A = set(names)\n",
    "pairs = [(x, x[::-1]) for x in names if x<=x[::-1] and x[::-1] in A]\n",
    "len(pairs)"
   ]
  },
  {
   "cell_type": "code",
   "execution_count": 44,
   "metadata": {},
   "outputs": [
    {
     "data": {
      "text/plain": [
       "[('S', 1763), ('M', 1691), ('C', 1602), ('A', 1544), ('B', 1541)]"
      ]
     },
     "execution_count": 44,
     "metadata": {},
     "output_type": "execute_result"
    }
   ],
   "source": [
    "from collections import Counter\n",
    "\n",
    "counter = Counter(x[0] for x in names)\n",
    "counter.most_common(5)"
   ]
  },
  {
   "cell_type": "code",
   "execution_count": null,
   "metadata": {},
   "outputs": [],
   "source": []
  }
 ],
 "metadata": {
  "kernelspec": {
   "display_name": "Python 3.8.13 ('base')",
   "language": "python",
   "name": "python3"
  },
  "language_info": {
   "codemirror_mode": {
    "name": "ipython",
    "version": 3
   },
   "file_extension": ".py",
   "mimetype": "text/x-python",
   "name": "python",
   "nbconvert_exporter": "python",
   "pygments_lexer": "ipython3",
   "version": "3.8.13"
  },
  "orig_nbformat": 4,
  "vscode": {
   "interpreter": {
    "hash": "d8b53ac59aeb7dd99955ed1c7af180cec0b2adbd03b0a8162d4077beb5f10154"
   }
  }
 },
 "nbformat": 4,
 "nbformat_minor": 2
}
