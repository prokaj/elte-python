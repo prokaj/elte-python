{
 "cells": [
  {
   "cell_type": "markdown",
   "id": "4f4eaa6a",
   "metadata": {},
   "source": [
    "[![Open In Colab](https://colab.research.google.com/assets/colab-badge.svg)](https://colab.research.google.com/github/prokaj/elte-python/blob/main1-gyakorlat.ipynb)\n",
    "\n",
    "### Értékek és típusok\n",
    "\n",
    "Egy programozási nyelvnek fel kell tudnia ismerni különböző típusú értékeket. A Pythonban négy alapvető értékfajta (adattípus) van: egész (int), valós (float), karakterlánc vagy sztring (string) és logikai (bool).\n",
    "Egy érték típusára rákérdezhetünk a type függvénnyel.\n"
   ]
  },
  {
   "cell_type": "code",
   "execution_count": 2,
   "id": "c2299973",
   "metadata": {},
   "outputs": [
    {
     "data": {
      "text/plain": [
       "(int, float, str, bool)"
      ]
     },
     "execution_count": 2,
     "metadata": {},
     "output_type": "execute_result"
    }
   ],
   "source": [
    "a = 1 # int\n",
    "b = 1.232 # float\n",
    "c = \"alma\" # str\n",
    "d = True # or False bool\n",
    "type(a), type(b), type(c), type(d)"
   ]
  },
  {
   "cell_type": "code",
   "execution_count": 133,
   "id": "c4c53f12",
   "metadata": {
    "scrolled": true
   },
   "outputs": [
    {
     "data": {
      "text/plain": [
       "int"
      ]
     },
     "execution_count": 133,
     "metadata": {},
     "output_type": "execute_result"
    }
   ],
   "source": [
    "type(12)"
   ]
  },
  {
   "cell_type": "markdown",
   "id": "892bb29f",
   "metadata": {},
   "source": [
    "Egy egész lehet pozitív és negatív is, tizedespont nélkül írjuk, és nagyságukra nincs korlát, de nem kezdhetjük nullával."
   ]
  },
  {
   "cell_type": "code",
   "execution_count": 134,
   "id": "d9135e24",
   "metadata": {},
   "outputs": [
    {
     "ename": "SyntaxError",
     "evalue": "leading zeros in decimal integer literals are not permitted; use an 0o prefix for octal integers (690730769.py, line 1)",
     "output_type": "error",
     "traceback": [
      "\u001b[0;36m  Input \u001b[0;32mIn [134]\u001b[0;36m\u001b[0m\n\u001b[0;31m    09\u001b[0m\n\u001b[0m     ^\u001b[0m\n\u001b[0;31mSyntaxError\u001b[0m\u001b[0;31m:\u001b[0m leading zeros in decimal integer literals are not permitted; use an 0o prefix for octal integers\n"
     ]
    }
   ],
   "source": [
    "09"
   ]
  },
  {
   "cell_type": "markdown",
   "id": "b3281e4f",
   "metadata": {},
   "source": [
    "A valós (float) számot tizedesponttal írjuk. (Ezek máshogy tárolódnak, mint az egészek, a valós számokkal végzett műveletek több memóriát is igényelnek.)"
   ]
  },
  {
   "cell_type": "markdown",
   "id": "ac319572",
   "metadata": {},
   "source": [
    "Egész számokat ezres blokkokba csoportosítva is megadhatjuk:"
   ]
  },
  {
   "cell_type": "code",
   "execution_count": 135,
   "id": "d518a8f2",
   "metadata": {},
   "outputs": [
    {
     "data": {
      "text/plain": [
       "1000456123"
      ]
     },
     "execution_count": 135,
     "metadata": {},
     "output_type": "execute_result"
    }
   ],
   "source": [
    "1_000_456_123"
   ]
  },
  {
   "cell_type": "code",
   "execution_count": 136,
   "id": "59cad1ba",
   "metadata": {},
   "outputs": [
    {
     "data": {
      "text/plain": [
       "float"
      ]
     },
     "execution_count": 136,
     "metadata": {},
     "output_type": "execute_result"
    }
   ],
   "source": [
    "type(5.8)"
   ]
  },
  {
   "cell_type": "code",
   "execution_count": 137,
   "id": "fe1b5d40",
   "metadata": {},
   "outputs": [
    {
     "data": {
      "text/plain": [
       "float"
      ]
     },
     "execution_count": 137,
     "metadata": {},
     "output_type": "execute_result"
    }
   ],
   "source": [
    "type(2.0)"
   ]
  },
  {
   "cell_type": "code",
   "execution_count": 138,
   "id": "68b4caa7",
   "metadata": {},
   "outputs": [
    {
     "data": {
      "text/plain": [
       "float"
      ]
     },
     "execution_count": 138,
     "metadata": {},
     "output_type": "execute_result"
    }
   ],
   "source": [
    "type(0.8)"
   ]
  },
  {
   "cell_type": "code",
   "execution_count": 139,
   "id": "1d535090",
   "metadata": {},
   "outputs": [
    {
     "data": {
      "text/plain": [
       "float"
      ]
     },
     "execution_count": 139,
     "metadata": {},
     "output_type": "execute_result"
    }
   ],
   "source": [
    "type(.8)"
   ]
  },
  {
   "cell_type": "code",
   "execution_count": 140,
   "id": "85f1c44e",
   "metadata": {
    "scrolled": true
   },
   "outputs": [
    {
     "data": {
      "text/plain": [
       "float"
      ]
     },
     "execution_count": 140,
     "metadata": {},
     "output_type": "execute_result"
    }
   ],
   "source": [
    "type(056.4)"
   ]
  },
  {
   "cell_type": "markdown",
   "id": "0583423c",
   "metadata": {},
   "source": [
    "Mint látjuk, a valós szám kezdhető nullával, és nulla egész rész esetén a nulla elhagyható. A float is lehet negatív vagy pozitív. Használható a normálalak is:"
   ]
  },
  {
   "cell_type": "code",
   "execution_count": 141,
   "id": "8a5c61da",
   "metadata": {},
   "outputs": [
    {
     "data": {
      "text/plain": [
       "float"
      ]
     },
     "execution_count": 141,
     "metadata": {},
     "output_type": "execute_result"
    }
   ],
   "source": [
    "type(1.25e+12)"
   ]
  },
  {
   "cell_type": "markdown",
   "id": "d2206696",
   "metadata": {},
   "source": [
    "A harmadik fontos adattípus a sztring, amely idézőjelek közötti szöveges adatot jelent. Szimpla, dupla, vagy akár tripla, ' vagy \" típusú idézőjel is használható. A többféle idézőjel jól jöhet olyan szöveg esetén, amely maga is tartalmaz idézőjelet. Pl.:"
   ]
  },
  {
   "cell_type": "code",
   "execution_count": 142,
   "id": "fc00bbaf",
   "metadata": {},
   "outputs": [
    {
     "data": {
      "text/plain": [
       "\"Azt mondta: 'hello'.\""
      ]
     },
     "execution_count": 142,
     "metadata": {},
     "output_type": "execute_result"
    }
   ],
   "source": [
    "\"Azt mondta: 'hello'.\""
   ]
  },
  {
   "cell_type": "markdown",
   "id": "f9a62e8f",
   "metadata": {},
   "source": [
    "Megfigyelhetjük, hogy az interaktív Python shell az érték beírására visszaadja az értéket."
   ]
  },
  {
   "cell_type": "code",
   "execution_count": 143,
   "id": "26b5cfd5",
   "metadata": {},
   "outputs": [
    {
     "data": {
      "text/plain": [
       "1250000000000.0"
      ]
     },
     "execution_count": 143,
     "metadata": {},
     "output_type": "execute_result"
    }
   ],
   "source": [
    "1.25e+12"
   ]
  },
  {
   "cell_type": "code",
   "execution_count": 144,
   "id": "524c84a9",
   "metadata": {},
   "outputs": [
    {
     "data": {
      "text/plain": [
       "'Szia!'"
      ]
     },
     "execution_count": 144,
     "metadata": {},
     "output_type": "execute_result"
    }
   ],
   "source": [
    "\"Szia!\""
   ]
  },
  {
   "cell_type": "markdown",
   "id": "82337f70",
   "metadata": {},
   "source": [
    "A negyedik adattípussal, a logikaival később foglalkozunk."
   ]
  },
  {
   "cell_type": "markdown",
   "id": "90b3dc10",
   "metadata": {},
   "source": [
    "### Változók\n",
    "\n",
    "A változó egy név, amely egy értékre utal, hasonlóan egy címkéhez. Úgy is tekinthetünk rá, hogy eltárolunk benne egy értéket, hogy később rákérdezhessünk vagy dolgozhassunk vele. Amikor egy értéket eltárolunk egy változóban, azt értékadásnak nevezzük. Ez = jellel történik."
   ]
  },
  {
   "cell_type": "code",
   "execution_count": 145,
   "id": "cbdf158f",
   "metadata": {},
   "outputs": [],
   "source": [
    "n = 25"
   ]
  },
  {
   "cell_type": "markdown",
   "id": "cd3749fc",
   "metadata": {},
   "source": [
    "A fenti sorral létrehoztuk az n nevű változót, amelynek a 25 értéket adtuk. Vigyázat, az egyenlőség két oldala nem cserélhető fel, a 25 = n egyenlőség a gép számára értelmezhetetlen. A változó a bal, az érték a jobb oldalon álljon! A változó nevének a beírásával visszakapjuk az értékét interaktív módban. Később, ha programban akarunk rákérdezni egy változó értékére, akkor a print függvényt kell használnunk (print(valtozonev)), ami persze itt is működik.  "
   ]
  },
  {
   "cell_type": "code",
   "execution_count": 146,
   "id": "af49ee16",
   "metadata": {},
   "outputs": [
    {
     "data": {
      "text/plain": [
       "25"
      ]
     },
     "execution_count": 146,
     "metadata": {},
     "output_type": "execute_result"
    }
   ],
   "source": [
    "n"
   ]
  },
  {
   "cell_type": "code",
   "execution_count": 147,
   "id": "0129621c",
   "metadata": {},
   "outputs": [
    {
     "name": "stdout",
     "output_type": "stream",
     "text": [
      "25\n"
     ]
    }
   ],
   "source": [
    "print(n)"
   ]
  },
  {
   "cell_type": "markdown",
   "id": "71bfea06",
   "metadata": {},
   "source": [
    "Egy változó értékét meg is változtathatjuk, pl. egyszerűen felülírhatjuk (akár más típusú értékkel is), vagy pl. hozzáadhatunk 1-et. "
   ]
  },
  {
   "cell_type": "code",
   "execution_count": 148,
   "id": "9fd15b8a",
   "metadata": {},
   "outputs": [
    {
     "data": {
      "text/plain": [
       "40"
      ]
     },
     "execution_count": 148,
     "metadata": {},
     "output_type": "execute_result"
    }
   ],
   "source": [
    "x = 40\n",
    "x"
   ]
  },
  {
   "cell_type": "code",
   "execution_count": 149,
   "id": "de478a76",
   "metadata": {},
   "outputs": [
    {
     "data": {
      "text/plain": [
       "41"
      ]
     },
     "execution_count": 149,
     "metadata": {},
     "output_type": "execute_result"
    }
   ],
   "source": [
    "x = x + 1\n",
    "x"
   ]
  },
  {
   "cell_type": "code",
   "execution_count": 150,
   "id": "f9b4b3f1",
   "metadata": {},
   "outputs": [
    {
     "data": {
      "text/plain": [
       "50"
      ]
     },
     "execution_count": 150,
     "metadata": {},
     "output_type": "execute_result"
    }
   ],
   "source": [
    "x = 50\n",
    "x"
   ]
  },
  {
   "cell_type": "code",
   "execution_count": 151,
   "id": "dbd8611e",
   "metadata": {},
   "outputs": [
    {
     "data": {
      "text/plain": [
       "'kutya'"
      ]
     },
     "execution_count": 151,
     "metadata": {},
     "output_type": "execute_result"
    }
   ],
   "source": [
    "x = 'kutya'\n",
    "x"
   ]
  },
  {
   "cell_type": "markdown",
   "id": "5e5f7388",
   "metadata": {},
   "source": [
    "Az int, float, str és bool függvényként is használatos, amikor valamely változó értékét át akarjuk alakítani más típusúvá (ún. típuskonverziós függvények). Pl. a 2022 egész számot át szeretnénk konvertálni szöveggé: '2022', vagy fordítva:"
   ]
  },
  {
   "cell_type": "code",
   "execution_count": 152,
   "id": "1b2342ef",
   "metadata": {},
   "outputs": [
    {
     "data": {
      "text/plain": [
       "('2022', 2022)"
      ]
     },
     "execution_count": 152,
     "metadata": {},
     "output_type": "execute_result"
    }
   ],
   "source": [
    "str(2022), int('2022')"
   ]
  },
  {
   "cell_type": "code",
   "execution_count": 153,
   "id": "cc41425f",
   "metadata": {},
   "outputs": [
    {
     "data": {
      "text/plain": [
       "(str, 19, 19.0)"
      ]
     },
     "execution_count": 153,
     "metadata": {},
     "output_type": "execute_result"
    }
   ],
   "source": [
    "kor = '19'\n",
    "type(kor), int(kor), float(kor)"
   ]
  },
  {
   "cell_type": "markdown",
   "id": "370fdbde",
   "metadata": {},
   "source": [
    "### Műveletek, help\n",
    "\n",
    "Milyen műveleteket végezhetünk egy adott típussal? Több lehetőségünk van.\n",
    "\n",
    "```\n",
    "dir(int)\n",
    "```\n",
    "vagy általánosabban `dir(x)`, ahol x helyére tetszőleges python változó ill. típus kerülhet. "
   ]
  },
  {
   "cell_type": "code",
   "execution_count": 154,
   "id": "662644df",
   "metadata": {},
   "outputs": [
    {
     "name": "stdout",
     "output_type": "stream",
     "text": [
      "['__add__', '__class__', '__contains__', '__delattr__', '__dir__', '__doc__', '__eq__', '__format__', '__ge__', '__getattribute__', '__getitem__', '__getnewargs__', '__gt__', '__hash__', '__init__', '__init_subclass__', '__iter__', '__le__', '__len__', '__lt__', '__mod__', '__mul__', '__ne__', '__new__', '__reduce__', '__reduce_ex__', '__repr__', '__rmod__', '__rmul__', '__setattr__', '__sizeof__', '__str__', '__subclasshook__', 'capitalize', 'casefold', 'center', 'count', 'encode', 'endswith', 'expandtabs', 'find', 'format', 'format_map', 'index', 'isalnum', 'isalpha', 'isascii', 'isdecimal', 'isdigit', 'isidentifier', 'islower', 'isnumeric', 'isprintable', 'isspace', 'istitle', 'isupper', 'join', 'ljust', 'lower', 'lstrip', 'maketrans', 'partition', 'replace', 'rfind', 'rindex', 'rjust', 'rpartition', 'rsplit', 'rstrip', 'split', 'splitlines', 'startswith', 'strip', 'swapcase', 'title', 'translate', 'upper', 'zfill']\n",
      "['capitalize', 'casefold', 'center', 'count', 'encode', 'endswith', 'expandtabs', 'find', 'format', 'format_map', 'index', 'isalnum', 'isalpha', 'isascii', 'isdecimal', 'isdigit', 'isidentifier', 'islower', 'isnumeric', 'isprintable', 'isspace', 'istitle', 'isupper', 'join', 'ljust', 'lower', 'lstrip', 'maketrans', 'partition', 'replace', 'rfind', 'rindex', 'rjust', 'rpartition', 'rsplit', 'rstrip', 'split', 'splitlines', 'startswith', 'strip', 'swapcase', 'title', 'translate', 'upper', 'zfill']\n"
     ]
    }
   ],
   "source": [
    "print(dir(str))\n",
    "\n",
    "## nem rejtett metódusok listázása\n",
    "## később kiderül mi is történik itt\n",
    "print([ name for name in dir(str) if name[0]!=\"_\"])"
   ]
  },
  {
   "cell_type": "code",
   "execution_count": 155,
   "id": "b1e4b16b",
   "metadata": {},
   "outputs": [
    {
     "name": "stdout",
     "output_type": "stream",
     "text": [
      "\u001b[0;31mSignature:\u001b[0m \u001b[0mstr\u001b[0m\u001b[0;34m.\u001b[0m\u001b[0mstrip\u001b[0m\u001b[0;34m(\u001b[0m\u001b[0mself\u001b[0m\u001b[0;34m,\u001b[0m \u001b[0mchars\u001b[0m\u001b[0;34m=\u001b[0m\u001b[0;32mNone\u001b[0m\u001b[0;34m,\u001b[0m \u001b[0;34m/\u001b[0m\u001b[0;34m)\u001b[0m\u001b[0;34m\u001b[0m\u001b[0;34m\u001b[0m\u001b[0m\n",
      "\u001b[0;31mDocstring:\u001b[0m\n",
      "Return a copy of the string with leading and trailing whitespace removed.\n",
      "\n",
      "If chars is given and not None, remove characters in chars instead.\n",
      "\u001b[0;31mType:\u001b[0m      method_descriptor\n"
     ]
    }
   ],
   "source": [
    "## Egy kérdőjel a sor végén az adott objektum doksiját hozza elő!\n",
    "str.strip?"
   ]
  },
  {
   "cell_type": "code",
   "execution_count": 156,
   "id": "c854486a",
   "metadata": {},
   "outputs": [
    {
     "name": "stdout",
     "output_type": "stream",
     "text": [
      "\u001b[0;31mSignature:\u001b[0m \u001b[0mf\u001b[0m\u001b[0;34m(\u001b[0m\u001b[0;34m)\u001b[0m\u001b[0;34m\u001b[0m\u001b[0;34m\u001b[0m\u001b[0m\n",
      "\u001b[0;31mDocstring:\u001b[0m <no docstring>\n",
      "\u001b[0;31mSource:\u001b[0m   \n",
      "\u001b[0;32mdef\u001b[0m \u001b[0mf\u001b[0m\u001b[0;34m(\u001b[0m\u001b[0;34m)\u001b[0m\u001b[0;34m:\u001b[0m\u001b[0;34m\u001b[0m\n",
      "\u001b[0;34m\u001b[0m    \u001b[0;32mpass\u001b[0m\u001b[0;34m\u001b[0m\u001b[0;34m\u001b[0m\u001b[0m\n",
      "\u001b[0;31mFile:\u001b[0m      /tmp/ipykernel_275441/2090659091.py\n",
      "\u001b[0;31mType:\u001b[0m      function\n"
     ]
    }
   ],
   "source": [
    "def f():\n",
    "    pass\n",
    "## Két kérdőjel a sor végén az adott objektum forrás kódját hozza elő!\n",
    "f??"
   ]
  },
  {
   "cell_type": "markdown",
   "id": "a3984e4f",
   "metadata": {},
   "source": [
    "### Műveletek számokkal"
   ]
  },
  {
   "cell_type": "markdown",
   "id": "7a4fc98b",
   "metadata": {},
   "source": [
    "Az előadáson volt szó az aritmetikai művelekről (+, -, *, **, \\/, \\%). Ehhez néhány kiegészítés: \n",
    "Ha float szerepel egy kifejezésben, akkor az eredmény is float lesz:"
   ]
  },
  {
   "cell_type": "code",
   "execution_count": 157,
   "id": "022d436f",
   "metadata": {},
   "outputs": [
    {
     "data": {
      "text/plain": [
       "3.0"
      ]
     },
     "execution_count": 157,
     "metadata": {},
     "output_type": "execute_result"
    }
   ],
   "source": [
    "5-2.0"
   ]
  },
  {
   "cell_type": "markdown",
   "id": "a0ff212e",
   "metadata": {},
   "source": [
    "A hatványozás két * jellel történik, amelyek között nem lehet szóköz."
   ]
  },
  {
   "cell_type": "code",
   "execution_count": 158,
   "id": "9d86f1f4",
   "metadata": {},
   "outputs": [
    {
     "data": {
      "text/plain": [
       "8"
      ]
     },
     "execution_count": 158,
     "metadata": {},
     "output_type": "execute_result"
    }
   ],
   "source": [
    "2 ** 3"
   ]
  },
  {
   "cell_type": "markdown",
   "id": "225f0eba",
   "metadata": {},
   "source": [
    "Sokszor hasznos a // jellel végzett egész osztás: a // b megadja, hogy a-ban hányszor van meg b, továbbá a \\% jellel végzett maradékos osztás: a \\% b megadja, hogy a-t b-vel osztva mennyi a maradék."
   ]
  },
  {
   "cell_type": "code",
   "execution_count": 159,
   "id": "8a636d34",
   "metadata": {},
   "outputs": [
    {
     "data": {
      "text/plain": [
       "3"
      ]
     },
     "execution_count": 159,
     "metadata": {},
     "output_type": "execute_result"
    }
   ],
   "source": [
    "10 // 3"
   ]
  },
  {
   "cell_type": "code",
   "execution_count": 160,
   "id": "bc63d0ca",
   "metadata": {},
   "outputs": [
    {
     "data": {
      "text/plain": [
       "1"
      ]
     },
     "execution_count": 160,
     "metadata": {},
     "output_type": "execute_result"
    }
   ],
   "source": [
    "10 % 3"
   ]
  },
  {
   "cell_type": "markdown",
   "id": "79208679",
   "metadata": {},
   "source": [
    "Példák:\n",
    "1) Számítsuk ki, hogy x (pl. x = 10000) másodperc hány óra, perc ill. nap."
   ]
  },
  {
   "cell_type": "code",
   "execution_count": 161,
   "id": "1c11b552",
   "metadata": {},
   "outputs": [],
   "source": [
    "x = 10000\n",
    "orak = x // 3600\n",
    "megmaradt_masodpercek = x % 3600\n",
    "percek = megmaradt_masodpercek // 60\n",
    "masodpercek = megmaradt_masodpercek % 60"
   ]
  },
  {
   "cell_type": "code",
   "execution_count": 162,
   "id": "84969acc",
   "metadata": {},
   "outputs": [
    {
     "data": {
      "text/plain": [
       "(2, 46, 40)"
      ]
     },
     "execution_count": 162,
     "metadata": {},
     "output_type": "execute_result"
    }
   ],
   "source": [
    "orak, percek, masodpercek"
   ]
  },
  {
   "cell_type": "code",
   "execution_count": 163,
   "id": "28b05a10",
   "metadata": {},
   "outputs": [
    {
     "data": {
      "text/plain": [
       "10000"
      ]
     },
     "execution_count": 163,
     "metadata": {},
     "output_type": "execute_result"
    }
   ],
   "source": [
    "2*3600 + 46*60 + 40"
   ]
  },
  {
   "cell_type": "markdown",
   "id": "e9636638",
   "metadata": {},
   "source": [
    "2) Határozzuk meg egy egész szám (pl. n = 12896) a) utolsó, b) utolsó kettő, c) utolsó három számjegyét."
   ]
  },
  {
   "cell_type": "code",
   "execution_count": 164,
   "id": "7d958a88",
   "metadata": {},
   "outputs": [
    {
     "data": {
      "text/plain": [
       "(6, 96, 896)"
      ]
     },
     "execution_count": 164,
     "metadata": {},
     "output_type": "execute_result"
    }
   ],
   "source": [
    "x = 12896\n",
    "utolso_szamjegy = x % 10\n",
    "utolso_ket_szamjegy = x % 100\n",
    "utolso_harom_szamjegy = x % 1000\n",
    "utolso_szamjegy, utolso_ket_szamjegy, utolso_harom_szamjegy"
   ]
  },
  {
   "cell_type": "markdown",
   "id": "bfcb29f0",
   "metadata": {},
   "source": [
    "3) Hogyan vizsgálhatjuk meg, hogy egy k szám páros vagy páratlan-e?\n",
    "Ha k % 2  0-t ad eredményül, akkor páros, ha pedig 1-et, akkor páratlan."
   ]
  },
  {
   "cell_type": "code",
   "execution_count": 165,
   "id": "2887054d",
   "metadata": {},
   "outputs": [
    {
     "data": {
      "text/plain": [
       "1"
      ]
     },
     "execution_count": 165,
     "metadata": {},
     "output_type": "execute_result"
    }
   ],
   "source": [
    "k = 89\n",
    "k % 2"
   ]
  },
  {
   "cell_type": "code",
   "execution_count": 166,
   "id": "06e216c5",
   "metadata": {
    "scrolled": true
   },
   "outputs": [
    {
     "data": {
      "text/plain": [
       "0"
      ]
     },
     "execution_count": 166,
     "metadata": {},
     "output_type": "execute_result"
    }
   ],
   "source": [
    "k = 90\n",
    "k % 2"
   ]
  },
  {
   "cell_type": "markdown",
   "id": "2291e492",
   "metadata": {},
   "source": [
    "### Bit műveletek\n",
    "\n",
    "Ha egész számaink vannak, akkor azt a gép kettes számrendszerben tárolja, pl. 13=1+4+8, így a gépben tárolt érték\n",
    "egy olyan bit sorozat, aminek a vége 1101. Ha megakarjuk nézni egy szám kettes számrendszerbeli alakját, akkor a `bin`\n",
    "függvényt használhatjuk  \n",
    "\n",
    "    Signature: bin(number, /)\n",
    "    Docstring:\n",
    "    Return the binary representation of an integer.\n",
    "\n",
    "    >>> bin(2796202)\n",
    "    '0b1010101010101010101010'\n",
    "    Type:      builtin_function_or_method"
   ]
  },
  {
   "cell_type": "code",
   "execution_count": 167,
   "id": "60aa7ca0",
   "metadata": {},
   "outputs": [
    {
     "data": {
      "text/plain": [
       "'0b1101'"
      ]
     },
     "execution_count": 167,
     "metadata": {},
     "output_type": "execute_result"
    }
   ],
   "source": [
    "bin(13)"
   ]
  },
  {
   "cell_type": "markdown",
   "id": "b7174852",
   "metadata": {},
   "source": [
    "A biteket lehet ,,shiftelni\" "
   ]
  },
  {
   "cell_type": "code",
   "execution_count": 168,
   "id": "30d8fd76",
   "metadata": {},
   "outputs": [
    {
     "data": {
      "text/plain": [
       "(26, '0b1101', '0b11010')"
      ]
     },
     "execution_count": 168,
     "metadata": {},
     "output_type": "execute_result"
    }
   ],
   "source": [
    "13<<1, bin(13), bin(13<<1)"
   ]
  },
  {
   "cell_type": "code",
   "execution_count": 169,
   "id": "29fea2ac",
   "metadata": {},
   "outputs": [
    {
     "data": {
      "text/plain": [
       "(6, '0b1101', '0b110')"
      ]
     },
     "execution_count": 169,
     "metadata": {},
     "output_type": "execute_result"
    }
   ],
   "source": [
    "13>>1, bin(13), bin(13>>1)"
   ]
  },
  {
   "cell_type": "markdown",
   "id": "74f0df65",
   "metadata": {},
   "source": [
    "A bináris alakból visszalehet konvertálni, ha a számrendszer alapját is megadjuk az `int` függvénynek"
   ]
  },
  {
   "cell_type": "code",
   "execution_count": 170,
   "id": "f8190f62",
   "metadata": {},
   "outputs": [
    {
     "data": {
      "text/plain": [
       "('0b11010', 26)"
      ]
     },
     "execution_count": 170,
     "metadata": {},
     "output_type": "execute_result"
    }
   ],
   "source": [
    "bin(26), int(bin(26), base=2)"
   ]
  },
  {
   "cell_type": "markdown",
   "id": "535f63e1",
   "metadata": {},
   "source": [
    "Végül a bitenkénti műveleteket is végezhetünk. \n",
    "\n",
    "- és, AND: &\n",
    "- vagy, OR: |\n",
    "- kizáró vagy: ^\n",
    "- komplementer: ~\n",
    "\n",
    "Ha a bitsorozatra egy halmaz indikátoraként gondolunk, akkor metszet, únió és szimmetrikus differencia az első három művelet."
   ]
  },
  {
   "cell_type": "code",
   "execution_count": 171,
   "id": "16858cb4",
   "metadata": {},
   "outputs": [
    {
     "data": {
      "text/plain": [
       "('0b11001', 1)"
      ]
     },
     "execution_count": 171,
     "metadata": {},
     "output_type": "execute_result"
    }
   ],
   "source": [
    "n = 25\n",
    "bin(n), ((n) & (-n))"
   ]
  },
  {
   "cell_type": "code",
   "execution_count": 172,
   "id": "4b81575c",
   "metadata": {},
   "outputs": [
    {
     "data": {
      "text/plain": [
       "('0b1100', '0b1001')"
      ]
     },
     "execution_count": 172,
     "metadata": {},
     "output_type": "execute_result"
    }
   ],
   "source": [
    "bin(12), bin(9)"
   ]
  },
  {
   "cell_type": "code",
   "execution_count": 173,
   "id": "ba7830a5",
   "metadata": {},
   "outputs": [
    {
     "data": {
      "text/plain": [
       "('0b1000', '0b1001', '0b1101', '0b1100', '0b101')"
      ]
     },
     "execution_count": 173,
     "metadata": {},
     "output_type": "execute_result"
    }
   ],
   "source": [
    "bin(12 & 9), bin(12 and 9), bin(12 | 9), bin(12 or 9), bin(12 ^ 9)"
   ]
  },
  {
   "cell_type": "markdown",
   "id": "e42a5533",
   "metadata": {},
   "source": [
    "Ha hexadecimális alakot akarunk, akkor a `hex` függvény kell nekünk.\n",
    "\n",
    "    Signature: hex(number, /)\n",
    "    Docstring:\n",
    "    Return the hexadecimal representation of an integer.\n",
    "\n",
    "    >>> hex(12648430)\n",
    "    '0xc0ffee'"
   ]
  },
  {
   "cell_type": "code",
   "execution_count": 174,
   "id": "2ac906fa",
   "metadata": {},
   "outputs": [
    {
     "data": {
      "text/plain": [
       "('0x70', 112)"
      ]
     },
     "execution_count": 174,
     "metadata": {},
     "output_type": "execute_result"
    }
   ],
   "source": [
    "hex(112), int(hex(112), base=16)"
   ]
  },
  {
   "cell_type": "markdown",
   "id": "dafe6617",
   "metadata": {},
   "source": [
    "### Negatív számok:\n",
    "\n",
    "Itt a `bin` függvény nem fedi fel teljesen a képet."
   ]
  },
  {
   "cell_type": "code",
   "execution_count": 175,
   "id": "50eb2063",
   "metadata": {},
   "outputs": [
    {
     "name": "stdout",
     "output_type": "stream",
     "text": [
      "[1, 1, 1, 1, 1, 1, 1, 1, 1, 1, 1, 1, 1, 1, 1]\n",
      "[1, 1, 1, 1, 1, 1, 1, 1, 1, 1, 1, 1, 1, 1, 1]\n"
     ]
    }
   ],
   "source": [
    "print([(-1& (1<< i))>>i for i in range(15)])\n",
    "print([(-1& (1<< i))>>i for i in range(64,64+15)])\n"
   ]
  },
  {
   "cell_type": "markdown",
   "id": "547d1349",
   "metadata": {},
   "source": [
    "A -1-re úgy gondolhatunk, hogy minden bitje 1-es.\n",
    "\n",
    "Azaz tetszőleges pozitív $n$ esetén $-n-1$ az a szám, amivel az összeg bitjei mind 1-esek, vagyis `~`$n$. "
   ]
  },
  {
   "cell_type": "markdown",
   "id": "f69ef415",
   "metadata": {},
   "source": [
    "## Sztringkezelő műveletek\n",
    "\n",
    "A sztringekre az aritmetikai műveletek általában nem alkalmazhatók, de a + és a * jel működik, a következőképpen:"
   ]
  },
  {
   "cell_type": "code",
   "execution_count": 176,
   "id": "9c6ac34d",
   "metadata": {},
   "outputs": [
    {
     "name": "stdout",
     "output_type": "stream",
     "text": [
      "['__add__', '__class__', '__contains__', '__delattr__', '__dir__', '__doc__', '__eq__', '__format__', '__ge__', '__getattribute__', '__getitem__', '__getnewargs__', '__gt__', '__hash__', '__init__', '__init_subclass__', '__iter__', '__le__', '__len__', '__lt__', '__mod__', '__mul__', '__ne__', '__new__', '__reduce__', '__reduce_ex__', '__repr__', '__rmod__', '__rmul__', '__setattr__', '__sizeof__', '__str__', '__subclasshook__', 'capitalize', 'casefold', 'center', 'count', 'encode', 'endswith', 'expandtabs', 'find', 'format', 'format_map', 'index', 'isalnum', 'isalpha', 'isascii', 'isdecimal', 'isdigit', 'isidentifier', 'islower', 'isnumeric', 'isprintable', 'isspace', 'istitle', 'isupper', 'join', 'ljust', 'lower', 'lstrip', 'maketrans', 'partition', 'replace', 'rfind', 'rindex', 'rjust', 'rpartition', 'rsplit', 'rstrip', 'split', 'splitlines', 'startswith', 'strip', 'swapcase', 'title', 'translate', 'upper', 'zfill']\n"
     ]
    }
   ],
   "source": [
    "print(dir(str))"
   ]
  },
  {
   "cell_type": "code",
   "execution_count": 177,
   "id": "ba511e4c",
   "metadata": {},
   "outputs": [
    {
     "data": {
      "text/plain": [
       "('haha',)"
      ]
     },
     "execution_count": 177,
     "metadata": {},
     "output_type": "execute_result"
    }
   ],
   "source": [
    "'ha' + 'ha', "
   ]
  },
  {
   "cell_type": "code",
   "execution_count": 178,
   "id": "3b42fe64",
   "metadata": {},
   "outputs": [
    {
     "data": {
      "text/plain": [
       "'haha'"
      ]
     },
     "execution_count": 178,
     "metadata": {},
     "output_type": "execute_result"
    }
   ],
   "source": [
    "'ha' * 2"
   ]
  },
  {
   "cell_type": "markdown",
   "id": "06dd7ea9",
   "metadata": {},
   "source": [
    "A sztring karaktereinek indexe is van, az indexelés a 0-val kezdődik. Adott indexű karakter lekérdezése a sztring neve után szögletes zárójelbe tett indexszel történik."
   ]
  },
  {
   "cell_type": "code",
   "execution_count": 179,
   "id": "6d1a8560",
   "metadata": {},
   "outputs": [
    {
     "data": {
      "text/plain": [
       "'k'"
      ]
     },
     "execution_count": 179,
     "metadata": {},
     "output_type": "execute_result"
    }
   ],
   "source": [
    "szoveg = 'kutya'\n",
    "szoveg[0]"
   ]
  },
  {
   "cell_type": "code",
   "execution_count": 180,
   "id": "22cf59df",
   "metadata": {},
   "outputs": [
    {
     "data": {
      "text/plain": [
       "'u'"
      ]
     },
     "execution_count": 180,
     "metadata": {},
     "output_type": "execute_result"
    }
   ],
   "source": [
    "szoveg[1]"
   ]
  },
  {
   "cell_type": "markdown",
   "id": "a7276392",
   "metadata": {},
   "source": [
    "Pl. tároljuk el egy-egy változóba a kereszt- és a vezetéknevünket. Ezekből rakjuk össze a teljes nevünket szóközzel elválasztva, valamint a monogramunkat. Készítsünk egy becenevet is a vezetéknév első két betűjének a megkettőzésével."
   ]
  },
  {
   "cell_type": "code",
   "execution_count": 181,
   "id": "8cb79250",
   "metadata": {},
   "outputs": [],
   "source": [
    "vezeteknev = 'Nagy'\n",
    "keresztnev = 'Ibolya'"
   ]
  },
  {
   "cell_type": "code",
   "execution_count": 182,
   "id": "221a2e20",
   "metadata": {},
   "outputs": [
    {
     "data": {
      "text/plain": [
       "'Nagy Ibolya'"
      ]
     },
     "execution_count": 182,
     "metadata": {},
     "output_type": "execute_result"
    }
   ],
   "source": [
    "teljes_nev = vezeteknev + ' ' + keresztnev\n",
    "teljes_nev"
   ]
  },
  {
   "cell_type": "code",
   "execution_count": 183,
   "id": "f3d2a4b7",
   "metadata": {},
   "outputs": [
    {
     "data": {
      "text/plain": [
       "'N. I.'"
      ]
     },
     "execution_count": 183,
     "metadata": {},
     "output_type": "execute_result"
    }
   ],
   "source": [
    "monogram = vezeteknev[0] + '. ' + keresztnev[0] + '.'\n",
    "monogram"
   ]
  },
  {
   "cell_type": "code",
   "execution_count": 184,
   "id": "abc2ed2a",
   "metadata": {},
   "outputs": [
    {
     "data": {
      "text/plain": [
       "'NaNa'"
      ]
     },
     "execution_count": 184,
     "metadata": {},
     "output_type": "execute_result"
    }
   ],
   "source": [
    "becenev = vezeteknev[0:2]*2\n",
    "becenev"
   ]
  },
  {
   "cell_type": "markdown",
   "id": "c3f68bfb",
   "metadata": {},
   "source": [
    "Az utóbbi megoldása nem tökéletes: csak a kezdőbetűt szeretnénk nagynak látni a becenévben. A sztringeken számos ún. metódus van értelmezve. Ezek olyan függvények, amelyek közvetlenül az adott sztringhez férnek hozzá, a sztring után tett pontot követően adjuk meg őket. Pl. a lower(), upper(), capitalize() metódusokkal a sztringből előáll annak kisbetűs, nagybetűs ill. nagy kezdőbetűs változata. (Közben az eredeti sztring változatlan marad.)"
   ]
  },
  {
   "cell_type": "code",
   "execution_count": 185,
   "id": "eefc69da",
   "metadata": {},
   "outputs": [
    {
     "data": {
      "text/plain": [
       "('KUTYA', 'kutya', 'Kutya')"
      ]
     },
     "execution_count": 185,
     "metadata": {},
     "output_type": "execute_result"
    }
   ],
   "source": [
    "szo = 'kuTYa'\n",
    "szo.upper(), szo.lower(), szo.capitalize()"
   ]
  },
  {
   "cell_type": "code",
   "execution_count": 186,
   "id": "e12ef7da",
   "metadata": {},
   "outputs": [
    {
     "data": {
      "text/plain": [
       "'Nana'"
      ]
     },
     "execution_count": 186,
     "metadata": {},
     "output_type": "execute_result"
    }
   ],
   "source": [
    "becenev = (vezeteknev[0:2]*2).capitalize()\n",
    "becenev"
   ]
  },
  {
   "cell_type": "code",
   "execution_count": 187,
   "id": "da0a1511",
   "metadata": {},
   "outputs": [
    {
     "data": {
      "text/plain": [
       "('Ib', 'Ibolya', 'Ibo', 'lya')"
      ]
     },
     "execution_count": 187,
     "metadata": {},
     "output_type": "execute_result"
    }
   ],
   "source": [
    "keresztnev[0:2], keresztnev[:10], keresztnev[:-3], keresztnev[-3:]"
   ]
  },
  {
   "cell_type": "markdown",
   "id": "f3052477",
   "metadata": {},
   "source": [
    "### Konvertálás egyik típusból a másikba (casting)"
   ]
  },
  {
   "cell_type": "code",
   "execution_count": 188,
   "id": "c9439321",
   "metadata": {},
   "outputs": [
    {
     "data": {
      "text/plain": [
       "(1236, '1236', '1236', True, True, False, False)"
      ]
     },
     "execution_count": 188,
     "metadata": {},
     "output_type": "execute_result"
    }
   ],
   "source": [
    "text = \"1236\"\n",
    "int(text), str(int(text)), repr(int(text)), bool(text), bool(int(text)), bool(0), bool(\"\")"
   ]
  },
  {
   "cell_type": "code",
   "execution_count": 189,
   "id": "e4e4764b",
   "metadata": {},
   "outputs": [
    {
     "data": {
      "text/plain": [
       "(3.14, '3.14')"
      ]
     },
     "execution_count": 189,
     "metadata": {},
     "output_type": "execute_result"
    }
   ],
   "source": [
    "text = \"3.14\"\n",
    "float(text), str(float(text))"
   ]
  },
  {
   "cell_type": "code",
   "execution_count": 191,
   "id": "3bab2df1",
   "metadata": {},
   "outputs": [
    {
     "ename": "ValueError",
     "evalue": "invalid literal for int() with base 10: '3.14'",
     "output_type": "error",
     "traceback": [
      "\u001b[0;31m---------------------------------------------------------------------------\u001b[0m",
      "\u001b[0;31mValueError\u001b[0m                                Traceback (most recent call last)",
      "\u001b[1;32m/home/prokaj/vgy/22-23i/canvas/code/notebooks/gyak01.ipynb Cell 92\u001b[0m in \u001b[0;36m<cell line: 2>\u001b[0;34m()\u001b[0m\n\u001b[1;32m      <a href='vscode-notebook-cell:/home/prokaj/vgy/22-23i/canvas/code/notebooks/gyak01.ipynb#Y152sZmlsZQ%3D%3D?line=0'>1</a>\u001b[0m \u001b[39m# de\u001b[39;00m\n\u001b[0;32m----> <a href='vscode-notebook-cell:/home/prokaj/vgy/22-23i/canvas/code/notebooks/gyak01.ipynb#Y152sZmlsZQ%3D%3D?line=1'>2</a>\u001b[0m \u001b[39mint\u001b[39;49m(text)\n",
      "\u001b[0;31mValueError\u001b[0m: invalid literal for int() with base 10: '3.14'"
     ]
    }
   ],
   "source": [
    "# de\n",
    "int(text)"
   ]
  },
  {
   "cell_type": "markdown",
   "id": "437d4056",
   "metadata": {},
   "source": [
    "### Beolvasás, kiírás\n",
    "\n",
    "standard input: bemenet \n",
    "standard output: kimenet\n",
    "standard error: hibaüzenetek helye\n",
    "\n",
    "Alapértelmezésben az `input` függvény egy sornyi szöveget (`str`) olvas be, a `print` függvény pedig kiír egy sort."
   ]
  },
  {
   "cell_type": "code",
   "execution_count": 192,
   "id": "c1a83ba7",
   "metadata": {},
   "outputs": [
    {
     "name": "stdout",
     "output_type": "stream",
     "text": [
      "text='input text'\n"
     ]
    }
   ],
   "source": [
    "text = input()\n",
    "print(f\"{text=}\")"
   ]
  },
  {
   "cell_type": "markdown",
   "id": "45a177c8",
   "metadata": {},
   "source": [
    "### Szöveg formázása\n",
    "\n",
    "Talán a legegyszerűbb a formázott sztring használata:\n",
    "\n",
    "`f\"{name} egyéb szöveg\"`\n",
    "\n",
    "Ekkor a `name` helyettesítődik az aktuális értékével. A `name` helyére nem csak változó nevet, hanem tetszőleges python kifejezést tehetünk. Ekkor az kiértékelődik és az eredmény ,,szöveges\" alakja kerül `{name}` helyére. Pl.  "
   ]
  },
  {
   "cell_type": "code",
   "execution_count": 193,
   "id": "71fa97b2",
   "metadata": {},
   "outputs": [
    {
     "name": "stdout",
     "output_type": "stream",
     "text": [
      "`a` is a  <class 'int'>: 12\n",
      "`b` is a  <class 'float'>: 3.146879789454565\n",
      "`c` is a  <class 'str'>: alma\n",
      "`d` is a  <class 'bool'>: True\n"
     ]
    }
   ],
   "source": [
    "a = 12\n",
    "b = 3.14687978945456487895464645454\n",
    "c = \"alma\"\n",
    "d = True\n",
    "print(f\"`a` is a  {type(a)}: {a}\")\n",
    "print(f\"`b` is a  {type(b)}: {b}\")\n",
    "print(f\"`c` is a  {type(c)}: {c}\")\n",
    "print(f\"`d` is a  {type(d)}: {d}\")\n"
   ]
  },
  {
   "cell_type": "markdown",
   "id": "f577ad2a",
   "metadata": {},
   "source": [
    "#### Feladat\n",
    "\n",
    "Állítsuk elő a korábban szerepelt teljes nevet és monogrammot `f-string`-gel.\n",
    "Próbáljuk meg elérni, hogy a keresztnév és a vezetéknév is egy 15 karakter széles mező jobb oldalára kerüljön."
   ]
  },
  {
   "cell_type": "code",
   "execution_count": null,
   "id": "d5f83308",
   "metadata": {},
   "outputs": [],
   "source": []
  },
  {
   "cell_type": "code",
   "execution_count": null,
   "id": "a48e233c",
   "metadata": {},
   "outputs": [],
   "source": []
  },
  {
   "cell_type": "markdown",
   "id": "ba93dbbe",
   "metadata": {},
   "source": [
    "### Több érték beolvasása egy sorból.\n",
    "\n",
    "Mit kapunk az alábbi sorokkal?\n",
    "```\n",
    "a, b = \"12 34\".split()\n",
    "c, d = map(int, \"12 34\".split())\n",
    "\n",
    "```\n",
    "Le tudjuk-e írni mi is történt itt?\n",
    "\n",
    "Nem kell izgulni, később a hátterét is látni fogjuk."
   ]
  },
  {
   "cell_type": "code",
   "execution_count": null,
   "id": "7b49a44e",
   "metadata": {},
   "outputs": [],
   "source": []
  },
  {
   "cell_type": "markdown",
   "id": "b1505d1f",
   "metadata": {},
   "source": [
    "### `printf`-szerű formázás , ill. `format`\n"
   ]
  },
  {
   "cell_type": "code",
   "execution_count": 194,
   "id": "3ab6a26f",
   "metadata": {},
   "outputs": [
    {
     "data": {
      "text/plain": [
       "('2 egy szam', '\"alma\" egy szoveg', '002 egy szam', \"'  alma' egy szoveg\")"
      ]
     },
     "execution_count": 194,
     "metadata": {},
     "output_type": "execute_result"
    }
   ],
   "source": [
    "\n",
    "(\n",
    "    \"%d egy szam\" % 2, \n",
    "    \"\\\"%s\\\" egy szoveg\" % \"alma\", \n",
    "    \"%03d egy szam\" % 2, \n",
    "    \"'% 6s' egy szoveg\" % \"alma\"\n",
    ")"
   ]
  },
  {
   "cell_type": "code",
   "execution_count": 195,
   "id": "4c68cf4a",
   "metadata": {},
   "outputs": [
    {
     "data": {
      "text/plain": [
       "('2 egy szam', '\"alma\" egy szoveg', '002 egy szam', \"'  alma' egy szoveg\")"
      ]
     },
     "execution_count": 195,
     "metadata": {},
     "output_type": "execute_result"
    }
   ],
   "source": [
    "(\n",
    "    \"{a} egy szam\".format(a=2), \n",
    "    \"\\\"{s}\\\" egy szoveg\".format(s=\"alma\"), \n",
    "    \"{0:03d} egy szam\".format(2), \n",
    "    \"'{0:>6}' egy szoveg\".format(\"alma\")\n",
    ")"
   ]
  },
  {
   "cell_type": "markdown",
   "id": "3e48c11a",
   "metadata": {},
   "source": [
    "### Megoldottam a házi feladatot jupyter notebookban. Hogyan lesz ebből beadandó állomány?\n",
    "\n",
    "- Copy Paste a kedvenc editorunkba és mentés a megfelelő névvel.\n",
    "- A jupyter egyik `magic` parancsának segítségével.\n",
    "  \n",
    "  A következő cella futtatásakor a cella tartalma a megadott fileba íródik.\n"
   ]
  },
  {
   "cell_type": "code",
   "execution_count": 196,
   "id": "616c6ddf",
   "metadata": {},
   "outputs": [
    {
     "name": "stdout",
     "output_type": "stream",
     "text": [
      "Overwriting hf.py\n"
     ]
    }
   ],
   "source": [
    "%%writefile hf.py\n",
    "## hf.py\n",
    "## Mondjuk ez megoldas\n",
    "\n",
    "a = input()\n",
    "b = int(a)//2\n",
    "print(b)"
   ]
  },
  {
   "cell_type": "code",
   "execution_count": 1,
   "id": "49258095",
   "metadata": {},
   "outputs": [
    {
     "name": "stdout",
     "output_type": "stream",
     "text": [
      "hf.py\n",
      "--------------------------------------------------\n",
      "## hf.py\n",
      "## Mondjuk ez megoldas\n",
      "\n",
      "a = input()\n",
      "b = int(a)//2\n",
      "print(b)\n",
      "--------------------------------------------------\n"
     ]
    }
   ],
   "source": [
    "! ls hf.py -t\n",
    "print(\"-\"*50)\n",
    "! cat hf.py\n",
    "print(\"-\"*50)\n"
   ]
  }
 ],
 "metadata": {
  "kernelspec": {
   "display_name": "Python 3.8.13 ('base')",
   "language": "python",
   "name": "python3"
  },
  "language_info": {
   "codemirror_mode": {
    "name": "ipython",
    "version": 3
   },
   "file_extension": ".py",
   "mimetype": "text/x-python",
   "name": "python",
   "nbconvert_exporter": "python",
   "pygments_lexer": "ipython3",
   "version": "3.8.13"
  },
  "vscode": {
   "interpreter": {
    "hash": "d8b53ac59aeb7dd99955ed1c7af180cec0b2adbd03b0a8162d4077beb5f10154"
   }
  }
 },
 "nbformat": 4,
 "nbformat_minor": 5
}
