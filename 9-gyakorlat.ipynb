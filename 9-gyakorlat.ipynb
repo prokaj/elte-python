{
 "cells": [
  {
   "cell_type": "markdown",
   "metadata": {},
   "source": [
    "[![Open In Colab](https://colab.research.google.com/assets/colab-badge.svg)](https://colab.research.google.com/github/prokaj/elte-python/blob/main/9-gyakorlat.ipynb)"
   ]
  },
  {
   "cell_type": "markdown",
   "metadata": {},
   "source": [
    "# Házi feladatok"
   ]
  },
  {
   "cell_type": "markdown",
   "metadata": {},
   "source": [
    "Implementáljuk a `RandomNames` osztályt.\n",
    "\n",
    "A egyedeknek legyen egy `names` property-je, ami olvasáskor a névsort az eredeti sorrendben adja vissza, és íráskor beállítja az új névsort. A `RandomNames` legyen iterálható és az `__iter__` metódusa egy végtelen generátort adjon vissza, ami véletlen sorrendben megy végig a neveken, ha végig ért akkor újra kezdi újrasorsolt véletlen sorrendben. Az egyedek legyenek függvényszerűek is (`__call__` metódus). A függvény hívás eredménye legyen egyetlen találomra választott név a névsorból.\n",
    "\n",
    "Emlékeztető: Egy osztályban a `@property` dekorátorral tudunk `property` mezőt létrehozni. A dekorált függvény szolgál a mező kiolvasára. Ha írhatóvá szeretnénk tenni a mezőt, akkor a `mezőnév.setter` dekorátort kell használni.\n",
    "\n",
    "Pl.\n",
    "```\n",
    "class RandomNames:\n",
    "\n",
    "    @property\n",
    "    def names(self):\n",
    "        pass\n",
    "   \n",
    "    @names.setter\n",
    "    def names(self, new_value):\n",
    "        pass\n",
    "```\n",
    "A names mező írásakor végezzen ellenőrzést a függvény. Azaz ha nem sztringekből álló sorozattal hívjuk meg, akkor dobjon `ValueError`-t. A kapott nevek első betűjét írja át nagy betűvé, a többit viszont írja át kis betűre. Figyeljünk arra, hogy `rn.names = 'Attila'` hibát kell, hogy dobjon, de a sorozat nem csak lista lehet, hanem bármi amin végig lehet iterálni!\n",
    "\n",
    "Pl.\n",
    "\n",
    "```\n",
    "rn = RandomNames(['anDoR'])\n",
    "rn.names # -> ['Andor']\n",
    "rn.names = ['ALADÁR', 'elemér']\n",
    "rn.names # -> ['Aladár', 'Elemér']\n",
    "```\n",
    "\n",
    "A véletlenszerű sorrend előállításához használhatjuk a `random` modul, `shuffle` függvényét. Figyeljünk arra, hogy ez elronthatja az eredeti sorrendet!\n",
    "\n",
    "Inicializáláskor az egyed kap egy névsort. Ezt kezelje úgy, mintha names tulajdonságot írtuk volna!\n",
    "\n",
    "Írjunk teszt függvényt! Ez ellenőrizze az inicializálást, ill. names tulajdonság írását, olvasását. Úgy is, hogy a kettő között az iterátort is használtuk.\n",
    "\n",
    "Gondolkozzunk el azon, hogyan lehetne a véletlenszám generálást tartalmazó részeket tesztelni: iterátor, függvény hívás. Ha más nem jut eszünkbe, akkor az alábbi lehetőségek közül legalább egyet implementáljunk a teszt függvényben.\n",
    "\n",
    "Ha $n$ nevet adtunk meg, akkor $n$-szer iterálva az iterátort mindegyik nevet pontosan egyszer kell, hogy megkapjuk.\n",
    "\n",
    "Ha $n$ elég nagy, $n$>10, akkor két egymástól független véletlen sorrend nagyon kis valószínűséggel esik egybe.\n",
    "\n",
    "Ha sokszor hívjuk meg az egyedet, akkor mindegyik név nagyjából $1/n$\n",
    "relatív gyakorísággal kell, hogy szerepeljen. pl. ha $m$ a hívások száma, akkor $4/\\sqrt{nm}$ eltérést megengedve, csak nagyon kis valószínűséggel téved a teszt."
   ]
  },
  {
   "cell_type": "markdown",
   "metadata": {},
   "source": [
    "Most és érdemes az osztály vázával és a tesztfüggvénnyel kezdeni."
   ]
  },
  {
   "cell_type": "code",
   "execution_count": null,
   "metadata": {},
   "outputs": [],
   "source": [
    "import random \n",
    "\n",
    "    \n",
    "class RandomNames:\n",
    "    def __init__(self, names):\n",
    "        self.names = names\n",
    "\n",
    "    def __str__(self):\n",
    "        return f\"{self.names}\"\n",
    "    \n",
    "    def __repr__(self):\n",
    "        return f\"{type(self).__name__}({self.names})\"\n",
    "    \n",
    "    @property\n",
    "    def names(self):\n",
    "        return self._names\n",
    "    \n",
    "    @names.setter\n",
    "    def names(self, values):\n",
    "        ## checking\n",
    "        self._names = values\n",
    "        return self.names\n",
    "\n",
    "    def __iter__(self):\n",
    "        pass        \n",
    "\n",
    "    def __call__(self):\n",
    "        pass\n",
    "        \n",
    "\n",
    "        "
   ]
  },
  {
   "cell_type": "code",
   "execution_count": null,
   "metadata": {},
   "outputs": [],
   "source": [
    "import ipytest\n",
    "ipytest.autoconfig()"
   ]
  },
  {
   "cell_type": "code",
   "execution_count": null,
   "metadata": {},
   "outputs": [],
   "source": [
    "%%ipytest \n",
    "from pytest import raises\n",
    "from collections import Counter \n",
    "from itertools import islice\n",
    "from scipy.stats import chi2 \n",
    "import math\n",
    "\n",
    "def is_uniform(counts):\n",
    "    n = sum(counts)\n",
    "    np = n/len(counts)\n",
    "    stat = sum(((v-np)**2)/np for v in counts)\n",
    "    return chi2.sf(stat, df=len(counts)-1)>0.001\n",
    "\n",
    "def test_random_names():\n",
    "    names = list(\"abcde\".upper())\n",
    "    rn = RandomNames(list(\"abcde\"))\n",
    "    assert rn.names == names\n",
    "\n",
    "    with raises(ValueError):\n",
    "        rn.names = \"attila\"\n",
    "    \n",
    "    with raises(ValueError):\n",
    "        rn.names = [1, \"a\", \"aa\", \"bb\"]\n",
    "\n",
    "    rn.names = map(str, range(101))\n",
    "    assert rn.names == [str(i).capitalize() for i in range(101)]\n",
    "\n",
    "    rn.names = tuple(\"abcde\")\n",
    "    assert rn.names == [x.capitalize() for x in \"abcde\"]\n",
    "\n",
    "    \n",
    "    rn.names = [x*3 for x in \"abcdefghujk\"]\n",
    "\n",
    "    name_list = rn.names.copy()\n",
    "\n",
    "    for name in rn.names:\n",
    "        assert name == name.capitalize()\n",
    "\n",
    "def test_call():\n",
    "    rn = RandomNames(x*3 for x in \"abcdefghujk\")\n",
    "\n",
    "    name_list = rn.names.copy()\n",
    "\n",
    "    for name in rn.names:\n",
    "        assert name == name.capitalize()\n",
    "\n",
    "    ### __call__ \n",
    "    for _ in range(100):\n",
    "        assert rn() in rn.names \n",
    "\n",
    "    ## names should not change \n",
    "    assert rn.names == name_list\n",
    "\n",
    "    ## randomness in __call__\n",
    "    n = 10_000\n",
    "    cnt = Counter(rn() for _ in range(n))\n",
    "    assert is_uniform(list(cnt.values())) \n",
    "\n",
    "def test_iter():\n",
    "    rn = RandomNames(x*5 for x in \"abcdefghujk\")\n",
    "\n",
    "    name_list = rn.names.copy()\n",
    "\n",
    "    ### __iter__\n",
    "    assert set(islice(rn, len(rn.names))) == set(rn.names)\n",
    "\n",
    "    it = iter(rn)\n",
    "    lst1, lst2 = islice(it, len(rn.names)), islice(it, len(rn.names))\n",
    "\n",
    "    ## names should not change\n",
    "    assert rn.names == name_list\n",
    "    ## each block of len(rn.names) should be a random permutation \n",
    "    assert set(lst1) == set(rn.names)\n",
    "    assert set(lst2) == set(rn.names)\n",
    "    assert lst1 != lst2\n",
    "    \n",
    "    it = iter(rn)\n",
    "    lst = [list(islice(it, len(rn.names))) for _ in range(10_000)]\n",
    "    cnts = [list(Counter(x).values()) for x in zip(*lst)] \n",
    "    print([(min(x), max(x)) for x in cnts])\n",
    "    assert all([is_uniform(cnt) for cnt in cnts])\n",
    "    \n"
   ]
  },
  {
   "cell_type": "markdown",
   "metadata": {},
   "source": [
    "Írjuk meg a `RandomNames` osztály implementációját!"
   ]
  },
  {
   "cell_type": "code",
   "execution_count": null,
   "metadata": {},
   "outputs": [],
   "source": [
    "import random \n",
    "\n",
    "def capitalize(x):\n",
    "    if not isinstance(x, str):\n",
    "        raise ValueError\n",
    "    return x.capitalize()\n",
    "    \n",
    "class RandomNames:\n",
    "    def __init__(self, names):\n",
    "        self.names = names\n",
    "\n",
    "    def __str__(self):\n",
    "        return f\"{self.names}\"\n",
    "    \n",
    "    def __repr__(self):\n",
    "        return f\"{type(self).__name__}({self.names})\"\n",
    "    \n",
    "    @property\n",
    "    def names(self):\n",
    "        return self._names\n",
    "    \n",
    "    @names.setter\n",
    "    def names(self, values):\n",
    "        ## checking\n",
    "        if isinstance(values, str):\n",
    "            raise ValueError\n",
    "        self._names = [capitalize(x) for x in values]\n",
    "        return self.names\n",
    "\n",
    "    def __iter__(self):\n",
    "        names = self.names.copy()\n",
    "        while True:\n",
    "            random.shuffle(names)\n",
    "            for name in names:\n",
    "                yield name\n",
    "        \n",
    "\n",
    "    def __call__(self):\n",
    "        return random.choice(self._names)\n"
   ]
  },
  {
   "cell_type": "code",
   "execution_count": null,
   "metadata": {},
   "outputs": [],
   "source": [
    "rn = RandomNames(x*3 for x in \"abcde\")\n",
    "list(rn() for _ in range(10))\n",
    "rn, str(rn)"
   ]
  },
  {
   "cell_type": "markdown",
   "metadata": {
    "id": "xX12Ldw2EhND"
   },
   "source": [
    "## További példák dekorátorokra\n",
    "\n",
    "A `functools` modulban számos hasznos dekorátor található\n",
    "\n",
    "- `lru_cache`: A függvényből a memorizált változatot készíti el.\n",
    "- `partial`: `g = partial(f, 1)` hatására `g(...)` ugyanaz, mint `f(1, ...)`\n",
    "- `wraps`: lásd a dokumentációt."
   ]
  },
  {
   "cell_type": "code",
   "execution_count": null,
   "metadata": {
    "colab": {
     "base_uri": "https://localhost:8080/"
    },
    "id": "6SEMkMWkEhNE",
    "outputId": "b2eb335a-a36d-4f62-e2c9-8b54c1b17c05"
   },
   "outputs": [],
   "source": [
    "from functools import lru_cache, partial, wraps\n",
    "\n",
    "@lru_cache()\n",
    "def f(x):\n",
    "    return x*x\n",
    "\n",
    "print(f(1), f(2), f(1))\n",
    "print(f.cache_info())\n",
    "\n",
    "def add(a, b):\n",
    "    return a+b\n",
    "\n",
    "inc = partial(add, 1)\n",
    "inc(10)\n",
    "\n",
    "\n"
   ]
  },
  {
   "cell_type": "code",
   "execution_count": null,
   "metadata": {
    "id": "-92oH37NEhNE"
   },
   "outputs": [],
   "source": [
    "def decor_wo_wraps(f):\n",
    "    def h(*args):\n",
    "        print(\"decorated without wraps\")\n",
    "        return f(*args)\n",
    "    return h\n",
    "\n",
    "def decor_wraps(f):\n",
    "    @wraps(f)\n",
    "    def h(*args):\n",
    "        print(\"decorated with wraps\")\n",
    "        return f(*args)\n",
    "    return h\n"
   ]
  },
  {
   "cell_type": "code",
   "execution_count": null,
   "metadata": {
    "id": "ByF8-iu1EhNF"
   },
   "outputs": [],
   "source": [
    "@decor_wo_wraps\n",
    "def dummy_fn(a:int, b:int) -> int:\n",
    "    \"\"\"dummy fn. Nothing interesting\"\"\"\n",
    "    return a+b\n",
    "\n",
    "print(dummy_fn(1, 2))\n",
    "help(dummy_fn)"
   ]
  },
  {
   "cell_type": "code",
   "execution_count": null,
   "metadata": {
    "id": "6psXTfyIEhNG"
   },
   "outputs": [],
   "source": [
    "@decor_wraps\n",
    "def dummy_fn(a:int, b:int) ->int:\n",
    "    \"\"\"dummy fn. Nothing interesting\"\"\"\n",
    "    return a+b\n",
    "\n",
    "print(dummy_fn(1, 2))\n",
    "help(dummy_fn)"
   ]
  },
  {
   "cell_type": "markdown",
   "metadata": {
    "id": "OQyVoGCSEhNG"
   },
   "source": [
    "# Öröklődés"
   ]
  },
  {
   "cell_type": "markdown",
   "metadata": {
    "id": "64yEPt0-EhNH"
   },
   "source": [
    "Előadáson szerepelt ehhez hasonló példa. Legyenek `Polygon`, `Rectangle`, `Square` osztályaink.\n",
    "Minden négyzet téglalap és minden téglalap sokszög. Egy sokszöget a csúcsok felsorolásával adhatunk meg.\n",
    "Ebből a kerület, terület kiszámolható és eldönthető, hogy a sokszög konvex-e. Ha akarjuk pl. a `Matplotlib` könyvtárral ki is rajzolhatjuk a sokszöget.\n",
    "\n",
    "Menetközben síkvektorokkal akarunk számolni. Erre kényelmes a `numpy` könyvtárat használni."
   ]
  },
  {
   "cell_type": "code",
   "execution_count": 1,
   "metadata": {
    "id": "KpoaL_ztEhNH"
   },
   "outputs": [],
   "source": [
    "import math\n",
    "import numpy as np\n",
    "from itertools import cycle\n",
    "\n",
    "class Polygon:\n",
    "\n",
    "    def __init__(self, nodes):\n",
    "        self.nodes = nodes\n",
    "\n",
    "    def area(self):\n",
    "        if self.is_convex():\n",
    "            nodes = np.array(self.nodes)\n",
    "            nodes = nodes-nodes[0]\n",
    "            area = 0\n",
    "            for v1, v2 in zip(nodes[1:], nodes[2:]):\n",
    "                area += abs(v1[0]*v2[1]-v1[1]*v2[0])\n",
    "            return area\n",
    "        else:\n",
    "            raise NotImplementedError\n",
    "            ## hf!\n",
    "\n",
    "    def perimeter(self):\n",
    "        total = 0\n",
    "        for i, p in enumerate(self.nodes, 1):\n",
    "            j = i % len(self.nodes)\n",
    "            total += np.linalg.norm(self.nodes[j]-p)\n",
    "        return total\n",
    "\n",
    "    def is_convex(self):\n",
    "        nodes = np.array(self.nodes + self.nodes[:1])\n",
    "        edges = np.diff(nodes, axis=0)\n",
    "        idx = np.array([i%len(edges) for i in range(1, len(edges)+1)])\n",
    "        edges1 = edges[idx]\n",
    "        sgn = np.sign((rotate90(edges) * edges1).sum(axis=1))\n",
    "        return (sgn==sgn[0]).all()\n",
    "\n",
    "    def draw(self):\n",
    "        pass\n",
    "    \n",
    "    def __repr__(self):\n",
    "        return f'{type(self).__name__}({[tuple(x) for x in self.nodes]})'\n",
    "\n",
    "\n",
    "def rotate90(x):\n",
    "    return np.flip(x, -1)*np.array([-1, 1])\n",
    "\n",
    "class Rectangle(Polygon):\n",
    "    \n",
    "    def __init__(self, P1, P2, r):\n",
    "        \"\"\"\n",
    "        Assuming that e is P1P2 rotated counterclockwise by 90 degree\n",
    "        P1, P2, P2+r e, P1+re\n",
    "        \"\"\"\n",
    "        v = rotate90(P2-P1)*r\n",
    "        super(Rectangle, self).__init__([P1, P2, P2+v, P1+v])\n",
    "        \n",
    "    \n",
    "class Square(Rectangle):\n",
    "\n",
    "    def __init__(self, P1, P2):\n",
    "        super(Square, self).__init__(P1, P2, 1)\n",
    "        \n"
   ]
  },
  {
   "cell_type": "code",
   "execution_count": null,
   "metadata": {},
   "outputs": [],
   "source": [
    "rotate90(np.array([[0, 1],[1,0]]))"
   ]
  },
  {
   "cell_type": "code",
   "execution_count": 2,
   "metadata": {
    "id": "9xGVlVnXEhNI",
    "outputId": "0fa0c870-8373-4a6b-e0b6-d39efc0087c8"
   },
   "outputs": [
    {
     "name": "stdout",
     "output_type": "stream",
     "text": [
      "Square([(0, 0), (1, 1), (0, 2), (-1, 1)]) kerület: 5.66, konvex: True, terület: 4.00\n",
      "Rectangle([(0, 0), (1, 1), (-1, 3), (-2, 2)]) kerület: 8.49, konvex: True, terület: 8.00\n",
      "Polygon([(0, 0), (1, 1)]) kerület: 2.83, konvex: True, terület: 0.00\n"
     ]
    }
   ],
   "source": [
    "points = np.array([[0,0], [1,1]])\n",
    "s = Square(points[0], points[1])\n",
    "t = Rectangle(points[0], points[1], 2)\n",
    "p = Polygon(points)\n",
    "for x in [s, t, p]:\n",
    "    print(f\"{x} kerület: {x.perimeter():.2f}, konvex: {x.is_convex()}, terület: {x.area():.2f}\")\n",
    "    "
   ]
  },
  {
   "cell_type": "markdown",
   "metadata": {
    "id": "g0Z0-XWhEhNJ"
   },
   "source": [
    "Vegyük észre, hogy az `__repr__` metódust csak egyszer implementáltuk, mégis minden egyednek a saját típusát írja ki!\n"
   ]
  },
  {
   "cell_type": "markdown",
   "metadata": {},
   "source": [
    "# `Matplotlib.pyplot` könytár"
   ]
  },
  {
   "cell_type": "code",
   "execution_count": null,
   "metadata": {},
   "outputs": [],
   "source": [
    "import matplotlib.pyplot as plt \n",
    "%matplotlib inline"
   ]
  },
  {
   "cell_type": "markdown",
   "metadata": {},
   "source": [
    "A legtöbbet használt függvények a  `plot` és az `imshow`."
   ]
  },
  {
   "cell_type": "code",
   "execution_count": null,
   "metadata": {},
   "outputs": [],
   "source": [
    "plt.plot?"
   ]
  },
  {
   "cell_type": "code",
   "execution_count": null,
   "metadata": {},
   "outputs": [],
   "source": [
    "x = np.linspace(0,10, 201)\n",
    "print(x[:10])\n",
    "plt.plot(x, np.sin(x))\n",
    "plt.grid()\n",
    "plt.show()"
   ]
  },
  {
   "cell_type": "code",
   "execution_count": null,
   "metadata": {},
   "outputs": [],
   "source": [
    "url = \"https://upload.wikimedia.org/wikipedia/en/thumb/7/7d/Lenna_%28test_image%29.png/220px-Lenna_%28test_image%29.png\" \n",
    "img = plt.imread(url)\n",
    "img.shape"
   ]
  },
  {
   "cell_type": "code",
   "execution_count": null,
   "metadata": {},
   "outputs": [],
   "source": [
    "import PIL\n",
    "import urllib\n",
    "img = np.array(PIL.Image.open(urllib.request.urlopen(url)))\n",
    "img.shape"
   ]
  },
  {
   "cell_type": "code",
   "execution_count": null,
   "metadata": {},
   "outputs": [],
   "source": [
    "plt.imshow(img)\n",
    "plt.show()"
   ]
  },
  {
   "cell_type": "code",
   "execution_count": null,
   "metadata": {},
   "outputs": [],
   "source": [
    "plt.plot(*np.array(s.nodes)[[0,1,2,3,0]].T)\n",
    "plt.grid()\n",
    "plt.axis('equal')\n",
    "# plt.axis('off')\n"
   ]
  },
  {
   "cell_type": "code",
   "execution_count": null,
   "metadata": {},
   "outputs": [],
   "source": [
    "def draw(self,  *args, fill=False, **kwargs):\n",
    "    nodes = self.nodes + self.nodes[:1]\n",
    "    x, y = np.array(nodes).T\n",
    "    if fill:\n",
    "        plt.fill(x, y, alpha=0.5)\n",
    "    plt.plot(x, y, *args, **kwargs) \n",
    "    plt.axis('equal')\n",
    "\n",
    "Polygon.draw = draw"
   ]
  },
  {
   "cell_type": "code",
   "execution_count": null,
   "metadata": {},
   "outputs": [],
   "source": [
    "t.draw('o-', alpha=0.5)\n",
    "s.draw(alpha=0.5, fill=True)\n",
    "p.draw(alpha=0.5)\n",
    "plt.show()"
   ]
  },
  {
   "cell_type": "markdown",
   "metadata": {
    "id": "eJH0SZ18EhNL"
   },
   "source": [
    "# Conway Game of Life"
   ]
  },
  {
   "cell_type": "markdown",
   "metadata": {
    "id": "PlXRypn7EhNL"
   },
   "source": [
    "\n",
    "The Game of Life is a cellular automaton created by mathematician John Conway in 1970. The game consists of a board of cells that are either on or off. One creates an initial configuration of these on/off states and observes how it evolves. There are four simple rules to determine the next state of the game board, given the current state:\n",
    "\n",
    "- **Overpopulation**: if a living cell is surrounded by more than three living cells, it dies.\n",
    "- **Stasis**: if a living cell is surrounded by two or three living cells, it survives.\n",
    "- **Underpopulation**: if a living cell is surrounded by fewer than two living cells, it dies.\n",
    "- **Reproduction**: if a dead cell is surrounded by exactly three cells, it becomes a live cell.\n",
    "\n",
    "\n",
    "Írjunk egy osztályt a játékhoz, pl. az `__init__` metódus hozzalétre a megadott konfigurációnak megfelelő objektumot. Legyen egy `step` metódus, ami a rendszert a következő állapotába viszi és az `__str__` metódus pedig\n",
    "valahogy ábrázolja az aktuális állapotot. \n",
    "\n",
    "Tegyük fel, hogy a rács amin a rendszer él, egy $n\\times n$-es rács, ahol mindkét irányban ciklikusan körbemegyünk,\n",
    "azaz a csúcsokat modulo $n$ tekintjük.\n"
   ]
  },
  {
   "cell_type": "code",
   "execution_count": null,
   "metadata": {
    "id": "XKnQLfutEhNM"
   },
   "outputs": [],
   "source": [
    "class ConwayGoL:\n",
    "    \n",
    "    def __init__(self, state):\n",
    "        self.state = list(state)\n",
    "\n",
    "    def step(self):\n",
    "        return self\n",
    "\n",
    "    def __repr__(self):\n",
    "        return f\"{type(self).__name__}({self.state})\""
   ]
  },
  {
   "cell_type": "code",
   "execution_count": null,
   "metadata": {
    "id": "xPaz5ZWJEhNN"
   },
   "outputs": [],
   "source": [
    "import random\n",
    "\n",
    "init_state = [] ## ???\n",
    "conway = ConwayGoL(init_state)\n",
    "\n",
    "conway.step()\n"
   ]
  },
  {
   "cell_type": "markdown",
   "metadata": {
    "id": "ncvyx37aEhNN"
   },
   "source": [
    "A játék állapotának leírásához egy $n\\times n$ rács minden pontjáról tudni kell, hogy foglalt-e vagy sem.\n",
    "\n",
    "```\n",
    "n = 11\n",
    "state = [[0]*n for _ in range(n)]\n",
    "```\n",
    "\n",
    "Véletlenszerű kezdeti állapot:\n",
    "```\n",
    "state = [[random.randint(0,1) for _ in range(n)] for _ in range(n)]\n",
    "```"
   ]
  },
  {
   "cell_type": "code",
   "execution_count": null,
   "metadata": {
    "id": "FBK6wsG6EhNO"
   },
   "outputs": [],
   "source": [
    "def random_state(n, m, p):\n",
    "    return [[int(random.random()<p) for _ in range(m)] for _ in range(n)]\n",
    "\n",
    "state = random_state(11, 25, 0.2)\n",
    "print(state)"
   ]
  },
  {
   "cell_type": "markdown",
   "metadata": {
    "id": "-E4t9V34EhNO"
   },
   "source": [
    "Szebb megjelenítés?"
   ]
  },
  {
   "cell_type": "code",
   "execution_count": null,
   "metadata": {
    "id": "rKm4aPSHEhNO"
   },
   "outputs": [],
   "source": [
    "def as_matrix(lst, n):\n",
    "    return [lst[i:i+n] for i in range(0, len(lst), n)]\n",
    "\n",
    "print('\\n'.join(''.join(map(str, line)) for line in state))\n"
   ]
  },
  {
   "cell_type": "code",
   "execution_count": null,
   "metadata": {
    "id": "Mo9lFIo5EhNP"
   },
   "outputs": [],
   "source": [
    "symbols = \"\\u2b1c\\u2b1b\"\n",
    "print('\\n'.join(''.join(symbols[x] for x in line) for line in state))\n"
   ]
  },
  {
   "cell_type": "code",
   "execution_count": null,
   "metadata": {
    "id": "5ynLSVHFEhNP"
   },
   "outputs": [],
   "source": [
    "import matplotlib.pyplot as plt \n",
    "\n",
    "img = plt.matshow(state, cmap=\"viridis\")\n",
    "#img.axes.axis(False)\n",
    "n, m = len(state), len(state[0])\n",
    "for pos in range(0, n+1):\n",
    "    img.axes.axhline(y=pos-0.5, color=\"white\")\n",
    "for pos in range(0, m+1):\n",
    "    img.axes.axvline(x=pos-0.5, color=\"white\")\n",
    "\n",
    "plt.show()\n"
   ]
  },
  {
   "cell_type": "code",
   "execution_count": null,
   "metadata": {
    "id": "53nRVem4EhNR"
   },
   "outputs": [],
   "source": [
    "\n",
    "def cgol_str(self):\n",
    "    symbols = \"\\u2b1c\\u2b1b\"\n",
    "    return '\\n'.join(''.join(symbols[x] for x in line) for line in self.state)\n",
    "\n",
    "ConwayGoL.__str__ = cgol_str\n",
    "\n",
    "    "
   ]
  },
  {
   "cell_type": "code",
   "execution_count": null,
   "metadata": {
    "id": "Js9icRItEhNR"
   },
   "outputs": [],
   "source": [
    "conway = ConwayGoL(state)\n",
    "print(conway)"
   ]
  },
  {
   "cell_type": "markdown",
   "metadata": {
    "id": "NwISMDDvEhNR"
   },
   "source": [
    "A `step` metódushoz ki kellene számolni egy adott csúcs foglalt szomszédainak számát `cnt`. Ha ez kész,\n",
    "akkor az $i$ csúcs új állapota:\n",
    "\n",
    "$$\n",
    "    \\text{state}_{t+1}[i]=\n",
    "    \\begin{cases}\n",
    "    1 &\\text{Ha $\\text{cnt}[i]\\in\\{2,3\\}$ és $\\text{state}_t[i]=1$}\\\\\n",
    "    1 &\\text{Ha $\\text{cnt}[i]\\in\\{3\\}$ és $\\text{state}_t[i]=0$}\\\\\n",
    "    0 &\\text{különben}\n",
    "    \\end{cases}\n",
    "$$"
   ]
  },
  {
   "cell_type": "code",
   "execution_count": null,
   "metadata": {
    "id": "NetE2InDEhNS"
   },
   "outputs": [],
   "source": [
    "def newstate(state, count):\n",
    "    return [int((c==3)|((c==2) & (s==1))) for s, c in  zip(state, count)]"
   ]
  },
  {
   "cell_type": "code",
   "execution_count": null,
   "metadata": {
    "id": "8CKn57ZDEhNS"
   },
   "outputs": [],
   "source": [
    "%%ipytest\n",
    "\n",
    "def test_newstate():\n",
    "    res = [0]*9\n",
    "    res[2] = 1\n",
    "    res[3] = 1\n",
    "    assert newstate([1]*9, list(range(9))) == res\n",
    "    res = [0]*9\n",
    "    res[3] = 1    \n",
    "    assert newstate([0]*9, list(range(9))) == res\n"
   ]
  },
  {
   "cell_type": "code",
   "execution_count": null,
   "metadata": {
    "id": "0ZpQJl2DEhNT"
   },
   "outputs": [],
   "source": [
    "def count_neighbors(state):\n",
    "    strides = [(0,-1), (0, 1), (1,-1), (1,0), (1,1), (-1,-1), (-1,0), (-1,1)] \n",
    "    n, m = len(state), len(state[0])\n",
    "    return [ [sum(state[(i+di) % n][(j+dj) % m] for di, dj in strides) for j in range(m)] for i in range(n)]\n",
    "\n",
    "def cgol_step(self):\n",
    "    counts = count_neighbors(self.state)\n",
    "    self.state = [ newstate(line, cnt) for line, cnt in zip(self.state, counts) ]\n",
    "    return self\n",
    "    \n",
    "ConwayGoL.step = cgol_step"
   ]
  },
  {
   "cell_type": "code",
   "execution_count": null,
   "metadata": {
    "id": "zyCFdmOIEhNT"
   },
   "outputs": [],
   "source": [
    "@classmethod\n",
    "def cgol_from_random_state(cls, n, m,  p):\n",
    "    return cls(random_state(n, m, p))\n",
    "\n",
    "ConwayGoL.from_random_state=cgol_from_random_state"
   ]
  },
  {
   "cell_type": "code",
   "execution_count": null,
   "metadata": {
    "id": "pYZAR6DyEhNU"
   },
   "outputs": [],
   "source": [
    "conway = ConwayGoL.from_random_state(4, 4, 0.3)\n",
    "print(conway)\n",
    "print(count_neighbors(conway.state))"
   ]
  },
  {
   "cell_type": "code",
   "execution_count": null,
   "metadata": {
    "id": "gULSpM2nEhNU"
   },
   "outputs": [],
   "source": [
    "conway = ConwayGoL.from_random_state(5, 5, 0.5)\n",
    "print(conway)\n",
    "print(\"-\"*20)\n",
    "print(conway.step())"
   ]
  },
  {
   "cell_type": "markdown",
   "metadata": {
    "id": "MMsJO58mEhNV"
   },
   "source": [
    "Tudunk-e valami animációszerűt készíteni? Jupyter notebook-ban pl. a következő képpen lehet: "
   ]
  },
  {
   "cell_type": "code",
   "execution_count": null,
   "metadata": {
    "id": "-VxEV5BEEhNV"
   },
   "outputs": [],
   "source": [
    "from ipywidgets import Output\n",
    "from time import sleep\n",
    "\n",
    "out = Output()\n",
    "display(out)\n",
    "conway = ConwayGoL.from_random_state(n=31, m=55, p=0.2)\n",
    "\n",
    "for i in range(100):\n",
    "    out.clear_output(True)\n",
    "    with out:\n",
    "        print(f\"After {i} steps:\\n{conway}\")  \n",
    "    sleep(0.2)\n",
    "    conway.step()\n"
   ]
  },
  {
   "cell_type": "markdown",
   "metadata": {
    "id": "NorKvbYvEhNV"
   },
   "source": [
    "Ha parancssorból dolgozunk, akkor valami ilyesmit lehetne tenni"
   ]
  },
  {
   "cell_type": "code",
   "execution_count": null,
   "metadata": {
    "id": "xpMYSt_SEhNW"
   },
   "outputs": [],
   "source": [
    "%%writefile conway.py\n",
    "\n",
    "import random\n",
    "\n",
    "\n",
    "def random_state(n, m, p):\n",
    "    return [ [ int(random.random()<p) for _ in range(m) ] for _ in range(n) ]\n",
    "\n",
    "def count_neighbors(state):\n",
    "    strides = [(0,-1), (0, 1), (1,-1), (1,0), (1,1), (-1,-1), (-1,0), (-1,1)] \n",
    "    n, m = len(state), len(state[0])\n",
    "    return [ [sum(state[(i+di) % n][(j+dj) % m] for di, dj in strides) for j in range(m)] for i in range(n)]\n",
    "\n",
    "def newstate(state, count):\n",
    "    return [int((c==3)|((c==2) & (s==1))) for s, c in  zip(state, count)]\n",
    "\n",
    "class ConwayGoL:\n",
    "    symbols = \"\\u2b1c\\u2b1b\"\n",
    "    \n",
    "    def __init__(self, state):\n",
    "        self.state = list(state)\n",
    "        \n",
    "    def step(self):\n",
    "        counts = count_neighbors(self.state)\n",
    "        self.state = [ newstate(line, cnt) for line, cnt in zip(self.state, counts) ]\n",
    "        return self\n",
    "\n",
    "    \n",
    "    def __str__(self): \n",
    "        symbols = self.symbols\n",
    "        return '\\n'.join(''.join(symbols[x] for x in line) for line in self.state)\n",
    "\n",
    "    def __repr__(self):\n",
    "        return f\"{type(self).__name__}({self.state})\"\n",
    "    \n",
    "    @classmethod\n",
    "    def from_random_state(cls, n, m, p):\n",
    "        return cls(random_state(n, m, p))\n",
    "\n",
    "    def is_empty(self):\n",
    "        return not any(any(line) for line in self.state)\n",
    "\n",
    "\n",
    "def clear_terminal(n):\n",
    "    print(f\"{chr(27)}[{n+1}A\", end=\"\")\n",
    "\n",
    "def main(n=11, m=25, p=0.2, nsteps=10, clear_screen=clear_terminal):\n",
    "    from time import sleep\n",
    "    conway = ConwayGoL.from_random_state(n, m, p)\n",
    "    for i in range(nsteps+1):\n",
    "        if i>0:\n",
    "            clear_screen(n)\n",
    "        print(f\"after {i} step:\")\n",
    "        print(conway)  \n",
    "        sleep(0.2)\n",
    "        conway.step()\n",
    "        if conway.is_empty():\n",
    "            break\n",
    "    \n",
    "if __name__ == \"__main__\":\n",
    "    main()\n",
    "    "
   ]
  },
  {
   "cell_type": "markdown",
   "metadata": {
    "id": "1sHjBkrrEhNX"
   },
   "source": [
    "Ha valamit már megírtunk és szeretnénk használni, `import`-tal elérhető. Pl."
   ]
  },
  {
   "cell_type": "markdown",
   "metadata": {
    "id": "vS2mPYU0EhNX"
   },
   "source": [
    "### Tudunk-e paramétereket adni a python scriptnek?\n",
    "\n",
    "Amikor egy python scriptet futtatunk, a parancssor (amivel a futást indítottuk) a `sys` modul `argv` változójában érhető el."
   ]
  },
  {
   "cell_type": "code",
   "execution_count": null,
   "metadata": {
    "id": "jHPXCutCEhNY"
   },
   "outputs": [],
   "source": [
    "import sys\n",
    "sys.argv"
   ]
  },
  {
   "cell_type": "code",
   "execution_count": null,
   "metadata": {
    "id": "wTyIkQrUEhNY"
   },
   "outputs": [],
   "source": [
    "! python -c 'import sys; print(sys.argv)' -alma\n"
   ]
  },
  {
   "cell_type": "markdown",
   "metadata": {
    "id": "B_WWySlnEhNY"
   },
   "source": [
    "Egy nagyon egyszerű megoldás, ha minden opciónak a neve a paraméter amit beállít és egyenlőségjel után az értéke:\n",
    "pl. n=11 m=25 nstep=10 p=0.2"
   ]
  },
  {
   "cell_type": "code",
   "execution_count": null,
   "metadata": {
    "id": "AcM_i35sEhNZ"
   },
   "outputs": [],
   "source": [
    "cmdline = \"conway.py -n=11 -m=25 -nstep=10 -p=0.2\"\n",
    "argv = cmdline.split()\n",
    "params =[param.split(\"=\") for param in argv[1:]]\n",
    "params"
   ]
  },
  {
   "cell_type": "markdown",
   "metadata": {
    "id": "9cgtJx-NEhNZ"
   },
   "source": [
    "Minden paraméterről tudni kellene, hogy milyen típusú!"
   ]
  },
  {
   "cell_type": "code",
   "execution_count": null,
   "metadata": {
    "id": "5aly_9AGEhNZ"
   },
   "outputs": [],
   "source": [
    "param_types={'-n': int, '-m': int, '-nstep': int, '-p': float}\n",
    "params = {k.replace(\"-\",\"\"): param_types[k](v)  for k, v in (param.split(\"=\") for param in argv[1:])}\n",
    "params"
   ]
  },
  {
   "cell_type": "markdown",
   "metadata": {
    "id": "CzA2jqxOEhNZ"
   },
   "source": [
    "Ezek után a `main` függvényt a megadott paraméterekkel meg tudjuk hívni:\n",
    "\n",
    "```\n",
    "    main(**params)\n",
    "```\n",
    "Mi van a `default` értékekkel, `help`-pel stb.\n",
    "\n",
    "Ezeket mind meg tudnánk írni, de nem kell. Van kész megoldás `python`-ban.\n",
    "\n",
    "Az `argparse` könvytár mindent megcsinál, ami nekünk kell."
   ]
  },
  {
   "cell_type": "code",
   "execution_count": null,
   "metadata": {
    "id": "55hNdPpxEhNa"
   },
   "outputs": [],
   "source": [
    "import argparse\n",
    "\n",
    "help(argparse)"
   ]
  },
  {
   "cell_type": "markdown",
   "metadata": {
    "id": "vsV1HWB1EhNa"
   },
   "source": [
    "A `conway.py` file végét cseréljük le erre.\n",
    "```\n",
    "if __name__==\"__main__\":\n",
    "\n",
    "    import argparse\n",
    "    \n",
    "    parser = argparse.ArgumentParser(description='Conways Game of Life')\n",
    "\n",
    "    parser.add_argument(\n",
    "        '-n', '--nrows', \n",
    "        type=int, \n",
    "        default=11, \n",
    "        help='number of rows'\n",
    "        )\n",
    "\n",
    "    parser.add_argument(\n",
    "        '-m', '--ncols',\n",
    "        type=int, \n",
    "        default=25, \n",
    "        help='number of columns'\n",
    "        )\n",
    "\n",
    "    parser.add_argument(\n",
    "        '-p', '--density',\n",
    "        type=float, \n",
    "        default=0.2,\n",
    "        help='initial density')\n",
    "    \n",
    "    parser.add_argument(\n",
    "        '--nsteps', \n",
    "        type=int, \n",
    "        default=10, \n",
    "        help='steps to display'\n",
    "        )\n",
    "\n",
    "    args = parser.parse_args()\n",
    "    \n",
    "    main(n=args.n, m=args.m, p=args.p, nsteps=args.nsteps)\n",
    "```\n",
    "    "
   ]
  },
  {
   "cell_type": "code",
   "execution_count": null,
   "metadata": {
    "id": "zBO2BpyXEhNb"
   },
   "outputs": [],
   "source": [
    "# import importlib\n",
    "# importlib.reload(conway)"
   ]
  },
  {
   "cell_type": "code",
   "execution_count": null,
   "metadata": {
    "id": "EOFyZa75EhNb"
   },
   "outputs": [],
   "source": [
    "import conway\n",
    "\n",
    "out1 = Output()\n",
    "display(out1)\n",
    "\n",
    "with out1:\n",
    "    conway.main(clear_screen=lambda n: out1.clear_output(True))"
   ]
  },
  {
   "cell_type": "markdown",
   "metadata": {
    "id": "2H4xKBosEhNc"
   },
   "source": [
    "Az `argparse` könyvtár nem a legkényelmesebb. Alternatívák:\n",
    "\n",
    "- [Docopt](http://docopt.org/)\n",
    "- [Click](https://pypi.org/project/click/)\n",
    "- [clize](https://github.com/epsy/clize)\n",
    "\n",
    "és még sok másik is!"
   ]
  },
  {
   "cell_type": "markdown",
   "metadata": {
    "id": "Iol-WRR9EhNc"
   },
   "source": [
    "## Itt is használhattunk volna dekorátort"
   ]
  },
  {
   "cell_type": "markdown",
   "metadata": {
    "id": "MhdsFQXqEhNc"
   },
   "source": [
    "\n",
    "A `ConwayGoL` példában utólag adtunk metódusokat az osztályunkhoz. Ezt is megtehettük volna dekorátorral.  "
   ]
  },
  {
   "cell_type": "code",
   "execution_count": null,
   "metadata": {
    "id": "7DMGcbR3EhNd"
   },
   "outputs": [],
   "source": [
    "def conway_method(f):\n",
    "    setattr(ConwayGoL, f.__name__, f)\n",
    "    return f\n",
    "\n",
    "\n",
    "@conway_method\n",
    "def dummy_method(self):\n",
    "    print(\"this is a message from the new method!\")\n",
    "\n",
    "c = ConwayGoL([], 0)\n",
    "c.dummy_method()"
   ]
  },
  {
   "cell_type": "markdown",
   "metadata": {
    "id": "Kfka4pDpEhNd"
   },
   "source": [
    "Azt is megtehettük volna, hogy a osztály nincs beleégetve a kódba."
   ]
  },
  {
   "cell_type": "code",
   "execution_count": null,
   "metadata": {
    "id": "5DmXIzA8EhNd"
   },
   "outputs": [],
   "source": [
    "def new_method(cls):\n",
    "    def decorator(f):\n",
    "        setattr(cls, f.__name__, f)\n",
    "        return f \n",
    "    return decorator\n",
    "\n",
    "@new_method(ConwayGoL)\n",
    "def dummy_method(self):\n",
    "    print(\"Note that the old value of dummy_method is overwritten!\")"
   ]
  },
  {
   "cell_type": "code",
   "execution_count": null,
   "metadata": {
    "id": "CTuWgR0KEhNe"
   },
   "outputs": [],
   "source": [
    "c.dummy_method()"
   ]
  },
  {
   "cell_type": "markdown",
   "metadata": {
    "id": "yo-PWRFqEhNe"
   },
   "source": [
    "# `with` statement"
   ]
  },
  {
   "cell_type": "markdown",
   "metadata": {
    "id": "6855010d-aa5b-4c95-a7ff-020598002ccd"
   },
   "source": [
    "\n",
    " \n",
    "## Mi történik a `with` statement alkalmazásakor?\n",
    "\n",
    "### Mit lehet a with mögé írni?\n",
    "\n",
    "Hasonlóan a `for`-hoz szinte bármit, aminek van két metódusa:\n",
    "\n",
    "- `__enter__`\n",
    "- `__exit__`\n",
    "\n",
    "\n",
    "    with obj as x:\n",
    "       do_something with x\n",
    "\n",
    "Itt az `obj.__enter__()` hívás eredménye lesz az x értéke és a block végén **GARANTÁLTAN** végrehajtódik az `obj.__exit__(...)` hívás.\n",
    "Az `__enter__` metódus végezheti az előkészítést, az `__exit__` a takarítást!\n",
    "\n",
    "#### Kell-e nekünk ezeket a metódusokat közvetlenül implementálni?\n",
    "\n",
    "Valójában nem. Elegendő egy generátor függvényt megírni:\n",
    "\n",
    "    import time\n",
    "    \n",
    "    def timer():\n",
    "        try:\n",
    "            start = time.time()\n",
    "            yield\n",
    "\n",
    "        finally:\n",
    "            runtime = time.time() - start\n",
    "            print(f\"run time: {runtime:3f}\")\n",
    "            \n",
    "\n",
    "Így még csak egy generátort kapunk ami egyszer visszaad semmit (`None`) majd jelzi, hogy vége van a sorozatnak. \n",
    "\n",
    "Próbáljuk ki `for`-ral"
   ]
  },
  {
   "cell_type": "code",
   "execution_count": null,
   "metadata": {
    "id": "bf7398f5-f860-4f54-bb34-4a23a657c6de"
   },
   "outputs": [],
   "source": [
    "import time\n",
    "    \n",
    "def timer():\n",
    "    try:\n",
    "        start = time.time()\n",
    "        yield\n",
    "\n",
    "    finally:\n",
    "        runtime = time.time() - start\n",
    "        print(f\"run time: {runtime:3f}\")\n",
    "        \n",
    "for x in timer():\n",
    "    print(x)"
   ]
  },
  {
   "cell_type": "markdown",
   "metadata": {
    "id": "9240a96f-f131-4ec6-bf82-9200ec8683d1"
   },
   "source": [
    "`with`-del hibát kapunk"
   ]
  },
  {
   "cell_type": "code",
   "execution_count": null,
   "metadata": {
    "id": "733bcf3e-ba03-4764-864d-dc86b59e4fb3"
   },
   "outputs": [],
   "source": [
    "with timer() as x:\n",
    "    print(x)"
   ]
  },
  {
   "cell_type": "markdown",
   "metadata": {
    "id": "985e67d1-afae-4523-a8df-7577354c7745"
   },
   "source": [
    "A `contextlib` module `contextmanager` függvénye generátorból `contextmanager`-t készít."
   ]
  },
  {
   "cell_type": "code",
   "execution_count": null,
   "metadata": {
    "id": "4bf4e118-d7a5-47cc-893c-f47a2bac8c44"
   },
   "outputs": [],
   "source": [
    "from contextlib import contextmanager\n",
    "timer2 = contextmanager(timer)\n",
    "with timer2() as x:\n",
    "    print(x)"
   ]
  },
  {
   "cell_type": "markdown",
   "metadata": {
    "id": "20b085c9-be51-4ad4-a5a4-40910f5c1587"
   },
   "source": [
    "Ha egy függvény akarunk alkalmazni egy függvényre, hogy azt átalakítsuk, de ugyanaz maradjon a neve akkor a python `@` szintakszist használja. Ilyenkor ,,dekoráljuk'' a függvényt. A `contextmanager` egy példa **dekorátor**ra.\n",
    "\n",
    "    @contextmanager\n",
    "    def timer():\n",
    "        try:\n",
    "            start = time.time()\n",
    "            yield\n",
    "\n",
    "        finally:\n",
    "            runtime = time.time() - start\n",
    "            print(f\"run time: {runtime:3f}\")\n",
    "    \n",
    "Példaként írjunk egy olyan contextmanager-t, ami jelzi nekünk, hogy mikor milyen hívás történik."
   ]
  },
  {
   "cell_type": "code",
   "execution_count": null,
   "metadata": {
    "id": "8666bd25-3915-428c-86ad-cbc4582003cd"
   },
   "outputs": [],
   "source": [
    "@contextmanager\n",
    "def print_whats_going_on(x):\n",
    "    print(\"try blokk előtt\")\n",
    "    try:\n",
    "        print(\"yield előtt\")\n",
    "        yield x\n",
    "        print(\"yield után\")\n",
    "    except:\n",
    "        print(\"except ág\")\n",
    "    finally:\n",
    "        print(\"finally ág\")\n",
    "    print(\"try blokk után\")"
   ]
  },
  {
   "cell_type": "code",
   "execution_count": null,
   "metadata": {
    "id": "c3ba90bb-2dde-429d-9dd8-75476b0a5225"
   },
   "outputs": [],
   "source": [
    "with print_whats_going_on(\"hello\") as x:\n",
    "    print(x)\n",
    "print(\"with után\")\n",
    "\n",
    "print(\"-\"*50)\n",
    "\n",
    "with print_whats_going_on(\"hello\") as x:\n",
    "    print(x)\n",
    "    raise ValueError\n",
    "print(\"with után\")\n"
   ]
  },
  {
   "cell_type": "code",
   "execution_count": null,
   "metadata": {
    "id": "39160ff6-b8bd-4e51-9117-5bb3f6a4eb59"
   },
   "outputs": [],
   "source": [
    "@contextmanager\n",
    "def timer():\n",
    "    try:\n",
    "        start = time.time()\n",
    "        yield\n",
    "\n",
    "    finally:\n",
    "        runtime = time.time() - start\n",
    "        print(f\"run time: {runtime:3f}\")"
   ]
  },
  {
   "cell_type": "code",
   "execution_count": null,
   "metadata": {
    "id": "j1pSQlLVEhNj"
   },
   "outputs": [],
   "source": [
    "t = timer()\n",
    "with t:\n",
    "    time.sleep(0.5)"
   ]
  },
  {
   "cell_type": "markdown",
   "metadata": {
    "id": "qH7u9zpOEhNk"
   },
   "source": [
    "Használhatjuk-e többször a `timer`-ünket?"
   ]
  },
  {
   "cell_type": "code",
   "execution_count": null,
   "metadata": {
    "id": "tD1QgoNDEhNk"
   },
   "outputs": [],
   "source": [
    "t = timer()\n",
    "with t:\n",
    "    time.sleep(0.5)\n",
    "with t:\n",
    "    time.sleep(0.5)\n"
   ]
  },
  {
   "cell_type": "markdown",
   "metadata": {
    "id": "124JUP-lEhNl"
   },
   "source": [
    "## Tudunk-e olyan contextmanagert készíteni, ami többször felhasználható?\n",
    "\n",
    "pl.\n",
    "\n",
    "```\n",
    "with indented:\n",
    "    indented.print(\"első\")\n",
    "    with indented:\n",
    "        indented.print(\"második\")\n",
    "    indented.print(\"harmadik\")\n",
    "```\n",
    "\n",
    "ahol kimenetként azt várnánk, hogy\n",
    "```\n",
    "  első\n",
    "    második\n",
    "  harmadik\n",
    "```"
   ]
  },
  {
   "cell_type": "code",
   "execution_count": null,
   "metadata": {
    "id": "-RZ15-Y-EhNu"
   },
   "outputs": [],
   "source": [
    "class Indent:\n",
    "    def __init__(self, indent='  '):\n",
    "        self.level = 0\n",
    "        self.indent = indent\n",
    "    \n",
    "    def __enter__(self):\n",
    "        self.level += 1\n",
    "        return None\n",
    "    \n",
    "    def __exit__(self, *args):\n",
    "        self.level -= 1\n",
    "    \n",
    "    def print(self, x):\n",
    "        indent = self.indent*self.level \n",
    "        x = str(x)\n",
    "        print('\\n'.join(indent+line for line in x.split('\\n')))\n"
   ]
  },
  {
   "cell_type": "code",
   "execution_count": null,
   "metadata": {
    "id": "dzXZVrjsEhNw"
   },
   "outputs": [],
   "source": [
    "indented = Indent('...')\n",
    "text = \"\"\"Többsoros szöveg:\n",
    "Első\n",
    "Második\n",
    "\"\"\"\n",
    "with indented:\n",
    "    indented.print(\"első\")\n",
    "    with indented:\n",
    "        indented.print(\"második\")\n",
    "        with indented:\n",
    "            indented.print(text)\n",
    "    indented.print(\"harmadik\")"
   ]
  }
 ],
 "metadata": {
  "kernelspec": {
   "display_name": "base",
   "language": "python",
   "name": "python3"
  },
  "language_info": {
   "codemirror_mode": {
    "name": "ipython",
    "version": 3
   },
   "file_extension": ".py",
   "mimetype": "text/x-python",
   "name": "python",
   "nbconvert_exporter": "python",
   "pygments_lexer": "ipython3",
   "version": "3.8.13"
  },
  "orig_nbformat": 4,
  "vscode": {
   "interpreter": {
    "hash": "d8b53ac59aeb7dd99955ed1c7af180cec0b2adbd03b0a8162d4077beb5f10154"
   }
  }
 },
 "nbformat": 4,
 "nbformat_minor": 2
}
