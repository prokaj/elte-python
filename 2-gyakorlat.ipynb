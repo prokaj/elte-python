{
 "cells": [
  {
   "cell_type": "markdown",
   "id": "47eac9d2",
   "metadata": {},
   "source": [
    "[![Open In Colab](https://colab.research.google.com/assets/colab-badge.svg)](https://colab.research.google.com/github/prokaj/elte-python/blob/main/2-gyakorlat.ipynb)\n",
    "## Logikai (Boolean) értékek\n",
    "\n",
    "A programozás során gyakran mérlegelnünk kell, hogy egy logikai állítás igaz (True) vagy hamis (False)-e. Gyakran két dolog összehasonlításából áll a logikai állítás, ilyenkor az ==, >, <, >=, <= összehasonlító operátorok szerepelhetnek benne. Fontos, hogy az egyenlőségjelet itt megkettőzve használjuk. Ennek tagadása, a nem egyenlő: !=. Egy logikai állítás pl., hogy 3 < 10. Ezt begépelve a gép megvizsgálja, hogy igaz-e az állítás, és ha igen, akkor válaszul True, ha nem, akkor False értéket ad."
   ]
  },
  {
   "cell_type": "code",
   "execution_count": 4,
   "id": "96930818-3f7d-4173-b9e9-8f385580baf6",
   "metadata": {},
   "outputs": [],
   "source": [
    "3 < 10, 3 > 10, 3 == 10, 3 != 10"
   ]
  },
  {
   "cell_type": "markdown",
   "id": "d4da15ac",
   "metadata": {},
   "source": [
    "Sztringeknél is van értelme ilyen összehasonlításnak:"
   ]
  },
  {
   "cell_type": "code",
   "execution_count": 4,
   "id": "0cff721b",
   "metadata": {},
   "outputs": [
    {
     "data": {
      "text/plain": [
       "(False, True)"
      ]
     },
     "execution_count": 4,
     "metadata": {},
     "output_type": "execute_result"
    }
   ],
   "source": [
    "'a' == 'A', 'a'=='A'.lower()"
   ]
  },
  {
   "cell_type": "markdown",
   "id": "6648ab9f-33eb-455d-b327-10e098ea99ac",
   "metadata": {},
   "source": [
    "Néhány sztring függvény logikai értéket as vissza"
   ]
  },
  {
   "cell_type": "code",
   "execution_count": 14,
   "id": "5eb4f664-0812-44d9-8755-ad6d8bb84189",
   "metadata": {},
   "outputs": [
    {
     "data": {
      "text/plain": [
       "(False, False, True, True, True)"
      ]
     },
     "execution_count": 14,
     "metadata": {},
     "output_type": "execute_result"
    }
   ],
   "source": [
    "txt = 'aAáÁ12.;_?'\n",
    "txt = 'aAáÁ' # +'λ' \n",
    "txt.isdigit(), txt.isascii(), txt.isalnum(), txt.isalpha(), txt.isidentifier()"
   ]
  },
  {
   "cell_type": "markdown",
   "id": "8e04bb16",
   "metadata": {},
   "source": [
    "Nemcsak logikai állításoknak van True vagy False értékük, hanem minden változónak. Erről meggyőződhetünk, ha az adott változót a bool függvénnyel átkonvertáljuk Boolean-ba:"
   ]
  },
  {
   "cell_type": "code",
   "execution_count": 6,
   "id": "b19a0463",
   "metadata": {},
   "outputs": [
    {
     "data": {
      "text/plain": [
       "False"
      ]
     },
     "execution_count": 6,
     "metadata": {},
     "output_type": "execute_result"
    }
   ],
   "source": [
    "bool(0)"
   ]
  },
  {
   "cell_type": "code",
   "execution_count": 7,
   "id": "113962a2",
   "metadata": {},
   "outputs": [
    {
     "data": {
      "text/plain": [
       "True"
      ]
     },
     "execution_count": 7,
     "metadata": {},
     "output_type": "execute_result"
    }
   ],
   "source": [
    "bool(12)"
   ]
  },
  {
   "cell_type": "markdown",
   "id": "d79060cc",
   "metadata": {},
   "source": [
    "False értéke van a 0 ill 0.0 számnak, magának a False-nak, továbbá az üres adatszerkezeteknek, pl. létezik üres lista (lásd később) [], ennek is False az értéke. Minden más True. A 'False' sztring értéke True, mert ez egy nem üres sztring, de a \"\" üres sztring már False lesz."
   ]
  },
  {
   "cell_type": "code",
   "execution_count": 8,
   "id": "e5531f86",
   "metadata": {},
   "outputs": [
    {
     "data": {
      "text/plain": [
       "True"
      ]
     },
     "execution_count": 8,
     "metadata": {},
     "output_type": "execute_result"
    }
   ],
   "source": [
    "bool('False')"
   ]
  },
  {
   "cell_type": "code",
   "execution_count": 1,
   "id": "d63979fd",
   "metadata": {},
   "outputs": [
    {
     "data": {
      "text/plain": [
       "(False, True)"
      ]
     },
     "execution_count": 1,
     "metadata": {},
     "output_type": "execute_result"
    }
   ],
   "source": [
    "bool(\"\"), bool(\"a\")"
   ]
  },
  {
   "cell_type": "markdown",
   "id": "fa1617a7",
   "metadata": {},
   "source": [
    "Szerepelhet logikai állításban tartalmazás is, amelynek megvizsgálására az in operátor használható. Pl. vizsgáljuk meg, hogy az 'a' sztring benne van-e az 'alma' sztringben: "
   ]
  },
  {
   "cell_type": "code",
   "execution_count": 10,
   "id": "2f16f84f",
   "metadata": {},
   "outputs": [
    {
     "data": {
      "text/plain": [
       "True"
      ]
     },
     "execution_count": 10,
     "metadata": {},
     "output_type": "execute_result"
    }
   ],
   "source": [
    "'a' in 'alma'"
   ]
  },
  {
   "cell_type": "markdown",
   "id": "e9b5f0ca",
   "metadata": {},
   "source": [
    "Ugyanez számoknál nem működik, ezek ugyanis nem iterálhatók:"
   ]
  },
  {
   "cell_type": "code",
   "execution_count": 11,
   "id": "28f91a67",
   "metadata": {},
   "outputs": [
    {
     "ename": "TypeError",
     "evalue": "argument of type 'int' is not iterable",
     "output_type": "error",
     "traceback": [
      "\u001b[1;31m---------------------------------------------------------------------------\u001b[0m",
      "\u001b[1;31mTypeError\u001b[0m                                 Traceback (most recent call last)",
      "\u001b[1;32m~\\AppData\\Local\\Temp/ipykernel_4344/2246182208.py\u001b[0m in \u001b[0;36m<module>\u001b[1;34m\u001b[0m\n\u001b[1;32m----> 1\u001b[1;33m \u001b[1;36m3\u001b[0m \u001b[1;32min\u001b[0m \u001b[1;36m312\u001b[0m\u001b[1;33m\u001b[0m\u001b[1;33m\u001b[0m\u001b[0m\n\u001b[0m",
      "\u001b[1;31mTypeError\u001b[0m: argument of type 'int' is not iterable"
     ]
    }
   ],
   "source": [
    "3 in 312"
   ]
  },
  {
   "cell_type": "code",
   "execution_count": 3,
   "id": "1c340bc2-5dee-4889-bec1-b57e204af8d5",
   "metadata": {},
   "outputs": [
    {
     "data": {
      "text/plain": [
       "(True, True, False)"
      ]
     },
     "execution_count": 3,
     "metadata": {},
     "output_type": "execute_result"
    }
   ],
   "source": [
    "## DE:\n",
    "3 in [312, 3], 3 in (312, 3), 3 in (312, 313)"
   ]
  },
  {
   "cell_type": "markdown",
   "id": "0646bd2e",
   "metadata": {},
   "source": [
    "Változónak is adhatunk logikai értéket. Pl. legyen kor valakinek az életkora. A kor > 65 egy logikai állítás, amelynek igaz vagy hamis értéke van mindenki esetében. Tegyük fel, hogy 65 év fölött az emberek korkedvezményt kapnak egy szolgáltatás igénybevételekor. Definiálhatjuk a kap_e_korkedvezményt nevű változót, amely Boolean lesz, és logikai értéke akkor igaz, ha kor > 65. Ennek módja:"
   ]
  },
  {
   "cell_type": "code",
   "execution_count": 12,
   "id": "695a156d",
   "metadata": {},
   "outputs": [
    {
     "ename": "NameError",
     "evalue": "name 'kor' is not defined",
     "output_type": "error",
     "traceback": [
      "\u001b[1;31m---------------------------------------------------------------------------\u001b[0m",
      "\u001b[1;31mNameError\u001b[0m                                 Traceback (most recent call last)",
      "\u001b[1;32m~\\AppData\\Local\\Temp/ipykernel_4344/290100388.py\u001b[0m in \u001b[0;36m<module>\u001b[1;34m\u001b[0m\n\u001b[1;32m----> 1\u001b[1;33m \u001b[0mkap_e_korkedvezmenyt\u001b[0m \u001b[1;33m=\u001b[0m \u001b[0mkor\u001b[0m \u001b[1;33m>\u001b[0m \u001b[1;36m65\u001b[0m\u001b[1;33m\u001b[0m\u001b[1;33m\u001b[0m\u001b[0m\n\u001b[0m",
      "\u001b[1;31mNameError\u001b[0m: name 'kor' is not defined"
     ]
    }
   ],
   "source": [
    "kap_e_korkedvezmenyt = kor > 65"
   ]
  },
  {
   "cell_type": "markdown",
   "id": "a61748ef",
   "metadata": {},
   "source": [
    "Ez persze addig nem értelmezhető a gép számára, amíg a kor változónak nincsen értéke. Próbáljuk ki különféle értékekkel:"
   ]
  },
  {
   "cell_type": "code",
   "execution_count": 13,
   "id": "8a191d20",
   "metadata": {},
   "outputs": [],
   "source": [
    "kor = 45\n",
    "kap_e_korkedvezmenyt = kor > 65"
   ]
  },
  {
   "cell_type": "code",
   "execution_count": 14,
   "id": "1409153d",
   "metadata": {},
   "outputs": [
    {
     "data": {
      "text/plain": [
       "False"
      ]
     },
     "execution_count": 14,
     "metadata": {},
     "output_type": "execute_result"
    }
   ],
   "source": [
    "kap_e_korkedvezmenyt"
   ]
  },
  {
   "cell_type": "code",
   "execution_count": 20,
   "id": "a450f3a3",
   "metadata": {},
   "outputs": [],
   "source": [
    "kor = 67\n",
    "kap_e_korkedvezmenyt = kor > 65"
   ]
  },
  {
   "cell_type": "code",
   "execution_count": 21,
   "id": "e23a4a19",
   "metadata": {},
   "outputs": [
    {
     "data": {
      "text/plain": [
       "True"
      ]
     },
     "execution_count": 21,
     "metadata": {},
     "output_type": "execute_result"
    }
   ],
   "source": [
    "kap_e_korkedvezmenyt"
   ]
  },
  {
   "cell_type": "markdown",
   "id": "f1b30264",
   "metadata": {},
   "source": [
    "# Feltételes elágazások: if - elif - else\n",
    "\n",
    "Programjainkban gyakran valamilyen feltételtől vagy feltételektől függően kell különféle parancsokat vagy számításokat végrehajtatnunk a számítógéppel.\n",
    "\n",
    "Ennek legegyszerűbb esete az, amikor egy feltétel teljesülése esetén szeretnénk végrehajtani egy parancsot vagy parancssort (csak egy ág van). A feltétel (condition) valamilyen logikai állítás, amelynek True vagy False az értéke. Szintaktikája:"
   ]
  },
  {
   "cell_type": "code",
   "execution_count": null,
   "id": "8ba85ad2",
   "metadata": {},
   "outputs": [],
   "source": [
    "if condition:\n",
    "    do_something"
   ]
  },
  {
   "cell_type": "markdown",
   "id": "4ac502ae",
   "metadata": {},
   "source": [
    "Ez tehát úgy értendő, hogy: ha a 'condition' szerinti feltétel teljesül, akkor hajtsa végre a kettőspont utáni sorban (általában 4 hellyel) beljebb kezdett blokkot (ez több sorból is állhat). Sem a kettőspont, sem a beljebb kezdés nem maradhat el! \n",
    "\n",
    "Pl. \n",
    "1) Ha kor > 65, írassuk ki a képernyőre: A belépés ingyenes!"
   ]
  },
  {
   "cell_type": "code",
   "execution_count": null,
   "id": "7ee73bfe",
   "metadata": {},
   "outputs": [],
   "source": [
    "if kor > 65:\n",
    "    print('A belépés ingyenes!')"
   ]
  },
  {
   "cell_type": "code",
   "execution_count": 25,
   "id": "ec8cfa9b",
   "metadata": {},
   "outputs": [
    {
     "name": "stdout",
     "output_type": "stream",
     "text": [
      "A belépés ingyenes!\n"
     ]
    }
   ],
   "source": [
    "kor = 80\n",
    "if kor > 65:\n",
    "    print('A belépés ingyenes!')"
   ]
  },
  {
   "cell_type": "code",
   "execution_count": 26,
   "id": "981fd442",
   "metadata": {},
   "outputs": [],
   "source": [
    "kor = 40\n",
    "if kor > 65:\n",
    "    print('A belépés ingyenes!')"
   ]
  },
  {
   "cell_type": "markdown",
   "id": "b9977e45",
   "metadata": {},
   "source": [
    "A második esetben nem teljesült az if utáni feltétel, így nem történt semmi."
   ]
  },
  {
   "cell_type": "markdown",
   "id": "f3b53aee",
   "metadata": {},
   "source": [
    "### Kétirányú elágazás:\n",
    "\n",
    "Ezt akkor használjuk, ha az adott feltétel teljesülése ill. nem teljesülése esetén is szeretnénk valamit végrehajtatni. Azaz: ha a 'condition' szerinti feltétel teljesül, ezt, ha pedig nem teljesül akkor azt szeretnénk elvégeztetni.\n",
    "\n",
    "    if condition:\n",
    "        do_something1\n",
    "    else:\n",
    "        do_something2\n",
    "    \n",
    "Pl. 2) Ha n osztható 2-vel, akkor írja ki a gép, hogy \"n páros\", ha pedig nem akkor azt, hogy \"n páratlan\":\n",
    "\n",
    "    if n % 2 == 0:\n",
    "        print(f'{n} páros')\n",
    "    else:\n",
    "        print(f'{n} páratlan')"
   ]
  },
  {
   "cell_type": "code",
   "execution_count": 1,
   "id": "91730940",
   "metadata": {},
   "outputs": [
    {
     "name": "stdout",
     "output_type": "stream",
     "text": [
      "7 páratlan\n"
     ]
    }
   ],
   "source": [
    "n = 7\n",
    "if n % 2 == 0:\n",
    "    print(f'{n} páros')\n",
    "else:\n",
    "    print(f'{n} páratlan')"
   ]
  },
  {
   "cell_type": "code",
   "execution_count": 2,
   "id": "cd1ff27e",
   "metadata": {},
   "outputs": [
    {
     "name": "stdout",
     "output_type": "stream",
     "text": [
      "8 páros\n"
     ]
    }
   ],
   "source": [
    "n = 8\n",
    "if n % 2 == 0:\n",
    "    print(f'{n} páros')\n",
    "else:\n",
    "    print(f'{n} páratlan')"
   ]
  },
  {
   "cell_type": "markdown",
   "id": "18a18de2",
   "metadata": {},
   "source": [
    "Hogy lehet még rövidebben megoldani? Értelmezzük az alábbi kódot:"
   ]
  },
  {
   "cell_type": "code",
   "execution_count": 29,
   "id": "e992e04b",
   "metadata": {},
   "outputs": [
    {
     "name": "stdout",
     "output_type": "stream",
     "text": [
      "n páros\n"
     ]
    }
   ],
   "source": [
    "if n % 2:\n",
    "    print(f'{n} páratlan')\n",
    "else:\n",
    "    print(f'{n} páros')"
   ]
  },
  {
   "cell_type": "markdown",
   "id": "fbc09e21",
   "metadata": {},
   "source": [
    "Ugyanez függvénnyel"
   ]
  },
  {
   "cell_type": "code",
   "execution_count": 3,
   "id": "4a55a1e0",
   "metadata": {},
   "outputs": [],
   "source": [
    "def print_ifeven(n):\n",
    "    if n % 2:\n",
    "        print(f'{n} páratlan')\n",
    "    else:\n",
    "        print(f'{n} páros')"
   ]
  },
  {
   "cell_type": "code",
   "execution_count": 4,
   "id": "edd47a34",
   "metadata": {},
   "outputs": [
    {
     "name": "stdout",
     "output_type": "stream",
     "text": [
      "4 páros\n",
      "7 páratlan\n"
     ]
    },
    {
     "data": {
      "text/plain": [
       "(<function __main__.print_ifeven(n)>, None, None)"
      ]
     },
     "execution_count": 4,
     "metadata": {},
     "output_type": "execute_result"
    }
   ],
   "source": [
    "print_ifeven, print_ifeven(4), print_ifeven(7)"
   ]
  },
  {
   "cell_type": "markdown",
   "id": "644a8b09",
   "metadata": {},
   "source": [
    "Pl. 3) Ha kor > 65, írassuk ki, hogy 'A belépés ingyenes.', egyébként pedig azt, hogy 'A belépőjegy ára 1000 Ft.'"
   ]
  },
  {
   "cell_type": "code",
   "execution_count": null,
   "id": "12077ed4",
   "metadata": {},
   "outputs": [],
   "source": [
    "if kor > 65:\n",
    "    print('A belépés ingyenes.')\n",
    "else:\n",
    "    print('A belépőjegy ára 1000 Ft.')"
   ]
  },
  {
   "cell_type": "markdown",
   "id": "02263bce",
   "metadata": {},
   "source": [
    "Pl. 4) Határozzuk meg két szám maximumát!"
   ]
  },
  {
   "cell_type": "code",
   "execution_count": null,
   "id": "81be4d23",
   "metadata": {},
   "outputs": [],
   "source": [
    "if a > b:\n",
    "    maximum = a\n",
    "else:\n",
    "    maximum = b"
   ]
  },
  {
   "cell_type": "markdown",
   "id": "a1a6d2a3-ff86-48eb-992c-8908ae315838",
   "metadata": {},
   "source": [
    "### Többirányú elágazás:\n",
    "\n",
    "Ilyet használunk, ha különböző feltételek teljesülése esetén más és más utasításokat szeretnénk végrehajtatni. Szintaktitkája:\n",
    "\n",
    "    if condition1:\n",
    "        do_something1\n",
    "    elif condition2:\n",
    "        do_something2\n",
    "    elif condition3:\n",
    "        do_something3\n",
    "        .\n",
    "        .\n",
    "        .\n",
    "    else:\n",
    "        do_something\n",
    "        \n",
    "\n",
    "Pl. \n",
    "\n",
    "5) Határozzuk meg egy szám előjelét! (Ha $x < 0$, akkor legyen -1, ha $x = 0$, akkor 0, egyébként +1). Próbáljuk ki három különböző előjelű $x$ számra. "
   ]
  },
  {
   "cell_type": "code",
   "execution_count": 33,
   "id": "f434a032",
   "metadata": {},
   "outputs": [
    {
     "data": {
      "text/plain": [
       "0"
      ]
     },
     "execution_count": 33,
     "metadata": {},
     "output_type": "execute_result"
    }
   ],
   "source": [
    "x = 0\n",
    "if x < 0:\n",
    "    e = -1\n",
    "elif x == 0:\n",
    "    e = 0\n",
    "else:\n",
    "    e = 1\n",
    "e"
   ]
  },
  {
   "cell_type": "markdown",
   "id": "ce056507",
   "metadata": {},
   "source": [
    "Ez a feladat megoldható beágyazott elágazással is (amikor egy ágon belül is van if-es elágazás), igaz, ez kevésbé átlátható:"
   ]
  },
  {
   "cell_type": "code",
   "execution_count": 37,
   "id": "8c6e147e",
   "metadata": {},
   "outputs": [
    {
     "data": {
      "text/plain": [
       "1"
      ]
     },
     "execution_count": 37,
     "metadata": {},
     "output_type": "execute_result"
    }
   ],
   "source": [
    "x = 10\n",
    "if x < 0:\n",
    "    e = -1\n",
    "else: \n",
    "    if x == 0:\n",
    "        e = 0\n",
    "    else:\n",
    "        e = 1\n",
    "e"
   ]
  },
  {
   "cell_type": "markdown",
   "id": "60a1c227",
   "metadata": {},
   "source": [
    "### Logikai operátorok\n",
    "\n",
    "Van, amikor összetett feltételt akarunk megadni. Két feltételt összekapcsolhatunk az és (and) és vagy (or) operátorral. Egy feltétel ellentéte a not operátorral fejezhető ki. Ezen műveletek precedenciája: not > and > or\n",
    "\n",
    "Pl. Tegyük fel, hogy a belépőjegy nemcsak 65 év felett, hanem 6 év alatt is ingyenes. Ekkor írhatjuk a következők valamelyikét:"
   ]
  },
  {
   "cell_type": "code",
   "execution_count": null,
   "id": "dd160440",
   "metadata": {},
   "outputs": [],
   "source": [
    "if kor > 65 or kor < 6:\n",
    "    print('A belépés ingyenes.')"
   ]
  },
  {
   "cell_type": "code",
   "execution_count": null,
   "id": "debfbda8",
   "metadata": {},
   "outputs": [],
   "source": [
    "if not (kor >= 6 and kor <= 65):\n",
    "    print('A belépés ingyenes.')"
   ]
  },
  {
   "cell_type": "markdown",
   "id": "72133399",
   "metadata": {},
   "source": [
    "Próbáljuk ki ezeket úgy, hogy a kor értékét a billentyűzetról kérjük be a felhasználótól. Erre az input parancs szolgál:"
   ]
  },
  {
   "cell_type": "code",
   "execution_count": null,
   "id": "20c0b259",
   "metadata": {},
   "outputs": [],
   "source": [
    "kor = input('Hány éves vagy?')"
   ]
  },
  {
   "cell_type": "markdown",
   "id": "95387e75",
   "metadata": {},
   "source": [
    "Ez a felhasználó által begépelt karakterek sorát mindig sztringként értelmezi, ezért még egész számmá is kell konvertálnunk, melőtt 65-tel vagy 6-tal összehasonlítanánk!"
   ]
  },
  {
   "cell_type": "code",
   "execution_count": null,
   "id": "908e812a",
   "metadata": {},
   "outputs": [],
   "source": [
    "kor = int(input('Hány éves vagy?'))\n",
    "if kor > 65 or kor < 6:\n",
    "    print('A belépés ingyenes.')"
   ]
  },
  {
   "cell_type": "markdown",
   "id": "6316024b",
   "metadata": {},
   "source": [
    "Példák:\n",
    "\n",
    "1) Legyenek a hét napjai 0-tól 6-ig számozva, a 0 a hétfő, a 6 a vasárnap. Készítsünk kódot, amely bekér egy számot 0-tól 6-ig, és kiírja a nap nevét. \n",
    "\n",
    "2) Döntsük el egy háromszög a < b < c oldalhossza alapján, hogy a háromszög derékszögű-e."
   ]
  }
 ],
 "metadata": {
  "kernelspec": {
   "display_name": "Python 3 (ipykernel)",
   "language": "python",
   "name": "python3"
  },
  "language_info": {
   "codemirror_mode": {
    "name": "ipython",
    "version": 3
   },
   "file_extension": ".py",
   "mimetype": "text/x-python",
   "name": "python",
   "nbconvert_exporter": "python",
   "pygments_lexer": "ipython3",
   "version": "3.8.13"
  },
  "vscode": {
   "interpreter": {
    "hash": "d8b53ac59aeb7dd99955ed1c7af180cec0b2adbd03b0a8162d4077beb5f10154"
   }
  },
  "widgets": {
   "application/vnd.jupyter.widget-state+json": {
    "state": {},
    "version_major": 2,
    "version_minor": 0
   }
  }
 },
 "nbformat": 4,
 "nbformat_minor": 5
}
