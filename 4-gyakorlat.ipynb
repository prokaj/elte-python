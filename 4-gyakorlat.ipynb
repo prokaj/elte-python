{
 "cells": [
  {
   "cell_type": "markdown",
   "id": "e153307b",
   "metadata": {},
   "source": [
    "[![Open In Colab](https://colab.research.google.com/assets/colab-badge.svg)](https://colab.research.google.com/github/prokaj/elte-python/blob/main/4-gyakorlat.ipynb)\n",
    "\n",
    "## Függvények, emlékeztető\n",
    "\n",
    "A függvény olyan, névvel ellátott kódrészlet, amelyet a nevére hivatkozva akárhányszor végrehajthatunk. Ezzel elkerülhetjük a fölösleges ismétléseket, valamint összetett számításokat egyszeri utasítás mögé rejthetünk és végül nem szemeteljük tele a globális névteret. "
   ]
  },
  {
   "cell_type": "markdown",
   "id": "a808c6c9-dac5-45b3-9b42-f63b86e5a5d8",
   "metadata": {},
   "source": [
    "## Függvény definíció"
   ]
  },
  {
   "cell_type": "markdown",
   "id": "b7ce46fe-d909-4cdc-93fa-2cdca976c596",
   "metadata": {},
   "source": [
    "Függvény definíció\n",
    "\n",
    "    def \"fvname\"(\"argumentumok\"):\n",
    "        \"fvtörzs\"\n",
    "        return \"visszatérési érték\"\n",
    "\n",
    "alakban lehet definiálni.\n",
    "\n",
    "pl.\n",
    "\n",
    "    def add(x, y):\n",
    "        return x+y\n",
    "        \n",
    "Ha nincs `return` akkor a visszatérési érték `None`.\n",
    "\n",
    "pl.\n",
    "\n",
    "    def noop(a):\n",
    "        a = a + 1\n",
    "    b = noop(12)\n",
    "  \n",
    "esetén `b` értéke `None`"
   ]
  },
  {
   "cell_type": "markdown",
   "id": "64147152-e2ca-41e9-9d9d-c09001e8225a",
   "metadata": {},
   "source": [
    "### Láthatóság, érvényességi kör, scope\n",
    "\n",
    "    def plus_one():\n",
    "        return new_variable+1\n",
    "    \n",
    "    plus_one() # -> Error\n",
    "    new_variable = 1\n",
    "    plus_one() # -> 2\n",
    "    \n",
    "esetén, `new_variable` egy globális valtozó. \n",
    "\n",
    "Globális változókat csak indokolt esetben használjunk, pl. konstansok tárolására!\n",
    "\n",
    "Bármi, aminek a függvény belsejében értéket adunk lokális változó lesz.\n",
    "\n",
    "    def plus_one():\n",
    "        new_variable_ += 1 \n",
    "        return new_variable_\n",
    "    \n",
    "    plus_one() # -> Error\n",
    "    new_variable_ = 1\n",
    "    plus_one() # -> Error\n",
    "\n",
    "Mindkét esetben hibát kapunk de nem ugyanazt mint az előbb!! Mi a különbség?\n",
    "\n"
   ]
  },
  {
   "cell_type": "markdown",
   "id": "827aca35-9dee-43a8-a9f8-2bd379173e67",
   "metadata": {},
   "source": [
    "### Függvényen belüli függvény definíció\n",
    "\n",
    "Találjuk ki mi a visszatérési érték az utolsó sorban!\n",
    "\n",
    "    a = 1\n",
    "    \n",
    "    def f1(x):\n",
    "        a = x\n",
    "        def g():\n",
    "            return a\n",
    "        return g\n",
    "\n",
    "    def f2(a):\n",
    "        def g():\n",
    "            return a\n",
    "        return g\n",
    "    \n",
    "    f1(3)(), f2(4)(), a"
   ]
  },
  {
   "cell_type": "markdown",
   "id": "a79aefab-84b5-4a8a-bdf3-31f1b16eb5e1",
   "metadata": {},
   "source": [
    "Példák.\n",
    "\n",
    "1) Írjunk függvényt, amely megvizsgálja egy szám paritását. Bemenet: egy szám. Kimenet: True, ha a szám páros, és False, ha páratlan."
   ]
  },
  {
   "cell_type": "code",
   "execution_count": 27,
   "id": "f5b7dc99",
   "metadata": {},
   "outputs": [],
   "source": [
    "def is_even(num):\n",
    "    if num % 2 == 0:\n",
    "        return True\n",
    "    return False"
   ]
  },
  {
   "cell_type": "code",
   "execution_count": 28,
   "id": "cb58d3df",
   "metadata": {},
   "outputs": [
    {
     "data": {
      "text/plain": [
       "False"
      ]
     },
     "execution_count": 28,
     "metadata": {},
     "output_type": "execute_result"
    }
   ],
   "source": [
    "is_even(21), is_even(78)"
   ]
  },
  {
   "cell_type": "markdown",
   "id": "81385498",
   "metadata": {},
   "source": [
    "Egyszerűbb megoldás:"
   ]
  },
  {
   "cell_type": "code",
   "execution_count": 30,
   "id": "159fa719",
   "metadata": {},
   "outputs": [],
   "source": [
    "def is_even(num):\n",
    "    return num % 2 == 0"
   ]
  },
  {
   "cell_type": "markdown",
   "id": "6fb277d3",
   "metadata": {},
   "source": [
    "2) Írjunk függvényt, amely egy szöveg elején és végén lévő szóközöket levágja, a szövegben minden szóközt alulvonásra cserél, és minden nagybetűt kisbetűre ír át. (Lapozzuk fel ehhez a strip ill. replace metódust.) Próbáljuk ki a következő sztringen: \n",
    "\n",
    "`\"   Monty Python repülő cirkusza    \"`"
   ]
  },
  {
   "cell_type": "code",
   "execution_count": 1,
   "id": "ac83f681",
   "metadata": {},
   "outputs": [
    {
     "data": {
      "text/plain": [
       "'monty_python_repülő_cirkusza'"
      ]
     },
     "execution_count": 1,
     "metadata": {},
     "output_type": "execute_result"
    }
   ],
   "source": [
    "def f(szoveg):\n",
    "    return szoveg.lower().strip().replace(' ', '_')\n",
    "f(\"   Monty Python repülő cirkusza    \")"
   ]
  },
  {
   "cell_type": "markdown",
   "id": "f9e42f5d",
   "metadata": {},
   "source": [
    "3) Készítsünk függvényt, amely összeszámolja, hogy hány magánhangzó van egy (angol nyelvű) szövegben!"
   ]
  },
  {
   "cell_type": "code",
   "execution_count": 2,
   "id": "4a8d2f2e",
   "metadata": {},
   "outputs": [],
   "source": [
    "def count_vowels(text):\n",
    "    s = 0\n",
    "    for char in text:\n",
    "        if char in 'aeiou':\n",
    "            s += 1\n",
    "    return s"
   ]
  },
  {
   "cell_type": "code",
   "execution_count": 3,
   "id": "330128cd",
   "metadata": {},
   "outputs": [
    {
     "data": {
      "text/plain": [
       "4"
      ]
     },
     "execution_count": 3,
     "metadata": {},
     "output_type": "execute_result"
    }
   ],
   "source": [
    "count_vowels(\"capibara\")"
   ]
  },
  {
   "cell_type": "markdown",
   "id": "88e61bab",
   "metadata": {},
   "source": [
    "## Rekurzív függvény\n",
    "\n",
    "A függvény saját magát is meghívhatja. A return itt sem maradhat el! Erre előadáson láttunk matematikai példákat. Nézzünk egy egyszerű hétköznapi példát:"
   ]
  },
  {
   "cell_type": "code",
   "execution_count": 8,
   "id": "95d4a34d",
   "metadata": {},
   "outputs": [
    {
     "name": "stdout",
     "output_type": "stream",
     "text": [
      "Válasszon új jelszót! pici\n",
      "Válasszon új jelszót! pici01\n",
      "Válasszon új jelszót! pici1989\n"
     ]
    }
   ],
   "source": [
    "def jelszo_bekeres():\n",
    "    jelszo = input('Válasszon új jelszót! ')\n",
    "    if len(jelszo) < 8:\n",
    "        return jelszo_bekeres()\n",
    "jelszo_bekeres()"
   ]
  },
  {
   "cell_type": "markdown",
   "id": "8da0adfa-e168-4ede-b3ae-ee6aec2aaac6",
   "metadata": {},
   "source": [
    "Itt a rekurzió könnyen ciklusra váltható:"
   ]
  },
  {
   "cell_type": "code",
   "execution_count": 58,
   "id": "ababb35c-91c7-4d8b-8e06-e850de7749fe",
   "metadata": {},
   "outputs": [
    {
     "name": "stdout",
     "output_type": "stream",
     "text": [
      "Type a new password: alal\n",
      "Type a new password: Alma_Korte\n",
      "Type a new password: Alma_1988\n"
     ]
    },
    {
     "data": {
      "text/plain": [
       "'Alma_1988'"
      ]
     },
     "execution_count": 58,
     "metadata": {},
     "output_type": "execute_result"
    }
   ],
   "source": [
    "allowed_chars = ''.join(chr(i) for i in range(ord('A'), ord('Z')+1))\n",
    "allowed_chars += allowed_chars.lower()\n",
    "allowed_chars += ''.join(str(i) for i in range(10))\n",
    "allowed_chars += '_?:;'\n",
    "\n",
    "def check_passwd(passwd):\n",
    "    valid = len(passwd)>=8\n",
    "    valid &= all(c in allowed_chars for c in passwd)\n",
    "    valid &= any(c.isdigit() for c in passwd)\n",
    "    valid &= any(c.isupper() for c in passwd)\n",
    "    valid &= any(c.islower() for c in passwd)\n",
    "    return valid\n",
    "\n",
    "def get_passwd():\n",
    "    pwd = \"\"\n",
    "    while not check_passwd(pwd):\n",
    "         pwd = input('Type a new password:')\n",
    "    return pwd\n",
    "\n",
    "get_passwd()"
   ]
  },
  {
   "cell_type": "markdown",
   "id": "2e46d514-2f5f-45f4-b6a9-a92ce4bbfb22",
   "metadata": {},
   "source": [
    "Érdekesebb példa, talán lesz később.\n"
   ]
  },
  {
   "cell_type": "markdown",
   "id": "1300b1a2-1bff-428e-b474-73799703f460",
   "metadata": {},
   "source": [
    "### Házi feladatok áttekintése.\n",
    "\n",
    "- min, max prod sum.\n",
    "\n",
    "  Adott egy számokból álló lista, számoljunk ki minden egyes $k$ hosszú blokkra egy értéket és vegyük ezek maximumát vagy minimumát.\n",
    "  A feladat szövegében nem szerepelt explicit módon, de csak az az eset érdekel minket, amikor $1\\leq k \\leq n$, ahol $n$ a lista hossza. \n",
    "\n",
    "    ```{python}\n",
    "    def min_sum(lst: list, k: int) -> float: # vagy int\n",
    "        \"\"\"Ide jöhetne a függvény dokumentációja\"\"\"\n",
    "        pass\n",
    "    ```\n",
    "\n",
    "  Hogyan tudunk végig iterálni a $k$ hosszú blokkokon?\n",
    "  Javítsuk ki a kérdőjeleket?"
   ]
  },
  {
   "cell_type": "code",
   "execution_count": null,
   "id": "f83d41f7-0ae6-4d80-ba72-c60499bf04db",
   "metadata": {},
   "outputs": [],
   "source": [
    "lst = list(range(10))\n",
    "k = 2\n",
    "for i in range(???):\n",
    "    print(lst???)"
   ]
  },
  {
   "cell_type": "markdown",
   "id": "6df7acaf-f9f3-46a3-ac82-b552e2b3e36d",
   "metadata": {},
   "source": [
    "  Hogyan tudjuk egy nem üres sorozat minimumát kiszámolni?\n",
    "  \n",
    "    \n",
    "    def seq_min(seq):\n",
    "        it = iter(seq)\n",
    "        min_value = next(it)\n",
    "        for value in it:\n",
    "            if value< min_value:\n",
    "               min_value = value\n",
    "        return min_value\n",
    "    \n",
    "  Kell-e implementálni ezt a függvényt? "
   ]
  },
  {
   "cell_type": "code",
   "execution_count": 1,
   "id": "e5705531-a966-4138-ab06-2ded2a9ede13",
   "metadata": {},
   "outputs": [
    {
     "name": "stdout",
     "output_type": "stream",
     "text": [
      "Help on built-in function min in module builtins:\n",
      "\n",
      "min(...)\n",
      "    min(iterable, *[, default=obj, key=func]) -> value\n",
      "    min(arg1, arg2, *args, *[, key=func]) -> value\n",
      "    \n",
      "    With a single iterable argument, return its smallest item. The\n",
      "    default keyword-only argument specifies an object to return if\n",
      "    the provided iterable is empty.\n",
      "    With two or more arguments, return the smallest argument.\n",
      "\n"
     ]
    }
   ],
   "source": [
    "help(min)"
   ]
  },
  {
   "cell_type": "markdown",
   "id": "acc2a574-65ef-4cf5-91c7-f23bf1890a34",
   "metadata": {},
   "source": [
    "Cseréljük le a kérdőjeleket alkalmas módon:  "
   ]
  },
  {
   "cell_type": "code",
   "execution_count": null,
   "id": "126b9b2f-f9e8-4104-9a52-9a837013ff9f",
   "metadata": {},
   "outputs": [],
   "source": [
    "def min_sum(lst: list, k: int) -> float:\n",
    "    \"\"\" computes the minimum of block sums of length k \"\"\"\n",
    "    return min(???(lst???) for i in range(???))"
   ]
  },
  {
   "cell_type": "markdown",
   "id": "e9922165",
   "metadata": {},
   "source": [
    "### Megjegyzések\n",
    "\n",
    "Az előbbi függvény definíció kicsit más, mint amit korábban láttunk:\n",
    " \n",
    "    def min_sum(lst: list, k: int) -> float:\n",
    "        \"\"\" computes the minimum of block sums of length k \"\"\"\n",
    "        ...\n",
    "\n",
    "Itt a paraméter lista\n",
    "    \n",
    "    lst: list, k: int\n",
    "\n",
    "a `:` után a paraméterek típusa jön. `lst` lista, `k` egész. Ez nem jelent típus ellenőrzést, csak jelzést, hogy ilyet várunk, erre az esetre lett a függvény megírva. \n",
    "\n",
    "A paraméter lista után ` -> float` áll, ez azt jelenti hogy a visszatérési érték típusa `float`. Ez is csak utalás és jelen esetben azt jelenti, hogy ha a függvényt az általunk gondolt módon hívjuk meg, akkor az eredmény szám.\n",
    "\n",
    "Azt hogy a függvény paramétereinek és visszatérési értékenek típusát jelezzük, **típus annotációnak** hívják. \n",
    "A típus bármi lehet ami értelmes Python azonísító. Mi csak a legegyszerűbb eseteket nézzük, azaz `int`, `str`, `float`, `list`,\n",
    "`set`, `tuple`, `dict`.\n",
    "\n",
    "Bonyolultabb esetekre a `typing` module ad választ.\n",
    "\n",
    "\n",
    "A kód blokk egy sztringgel kezdődik. Ez a dokumentációs sztring. Ha helpet kérünk a függvényről, akkor többek között ez is megjelenik. Ez általában több soros is lehet, ezért gyakran tripla idézőjelek közé teszik."
   ]
  },
  {
   "cell_type": "code",
   "execution_count": 51,
   "id": "88d97f9c",
   "metadata": {},
   "outputs": [
    {
     "data": {
      "text/plain": [
       "' computes the minimum of block sums of length k '"
      ]
     },
     "execution_count": 51,
     "metadata": {},
     "output_type": "execute_result"
    }
   ],
   "source": [
    "min_sum.__doc__"
   ]
  },
  {
   "cell_type": "code",
   "execution_count": 50,
   "id": "6f334b22",
   "metadata": {},
   "outputs": [
    {
     "name": "stdout",
     "output_type": "stream",
     "text": [
      "\u001b[0;31mSignature:\u001b[0m \u001b[0mmin_sum\u001b[0m\u001b[0;34m(\u001b[0m\u001b[0mlst\u001b[0m\u001b[0;34m:\u001b[0m \u001b[0mlist\u001b[0m\u001b[0;34m,\u001b[0m \u001b[0mk\u001b[0m\u001b[0;34m:\u001b[0m \u001b[0mint\u001b[0m\u001b[0;34m)\u001b[0m \u001b[0;34m->\u001b[0m \u001b[0mfloat\u001b[0m\u001b[0;34m\u001b[0m\u001b[0;34m\u001b[0m\u001b[0m\n",
      "\u001b[0;31mDocstring:\u001b[0m computes the minimum of block sums of length k \n",
      "\u001b[0;31mFile:\u001b[0m      /tmp/ipykernel_1002725/2314206973.py\n",
      "\u001b[0;31mType:\u001b[0m      function\n"
     ]
    }
   ],
   "source": [
    "\n",
    "min_sum?"
   ]
  },
  {
   "cell_type": "markdown",
   "id": "f1826555-5413-48aa-8740-8fb34fd79a5b",
   "metadata": {},
   "source": [
    "  Mi helyzet a szorzattal. Beépített `prod` nincs, de megírhatjuk, vagy használhatjuk a `math` module ilyen nevű függvényét\n",
    "  ```\n",
    "  def prod(seq):\n",
    "      product = 1\n",
    "      for value in seq:\n",
    "          product *= value\n",
    "      return product\n",
    "  ```\n",
    "  \n",
    "  Alternatívaként használható a `functools module` `reduce` függvénye:\n",
    "  ```{python}\n",
    "  from functools import reduce\n",
    "  \n",
    "  def prod(seq):\n",
    "     return reduce(seq, lambda a, b: a*b, 1)\n",
    "  ```\n",
    "    \n"
   ]
  },
  {
   "cell_type": "markdown",
   "id": "c72a9479-d700-4a55-90e6-464a8cad0983",
   "metadata": {},
   "source": [
    "- Prím tesztelés.\n",
    "\n",
    "  Írjunk egy `is_prime` nevű függvényt, ami egy pozitív egészről eldönti, hogy prím-e.\n",
    "  \n",
    "  Naív megoldás, előadáson igazából már láttuk\n"
   ]
  },
  {
   "cell_type": "code",
   "execution_count": 52,
   "id": "de23c9d9-e1e8-475b-9063-c0baa7f38641",
   "metadata": {},
   "outputs": [],
   "source": [
    "def is_prime(n: int) -> bool:\n",
    "    \"\"\"test for primality\"\"\"\n",
    "    for k in range(2, n):\n",
    "        m, r = divmod(n, k)\n",
    "        if r==0:\n",
    "            return False\n",
    "    return True"
   ]
  },
  {
   "cell_type": "markdown",
   "id": "e8245342",
   "metadata": {},
   "source": [
    "Gondoljuk meg, mi itt a típus annotáció és mi a docstring?"
   ]
  },
  {
   "cell_type": "code",
   "execution_count": 53,
   "id": "0b1376e7-541e-4469-9cf8-50052bd54495",
   "metadata": {},
   "outputs": [
    {
     "data": {
      "text/plain": [
       "[1, 2, 3, 5, 7, 11, 13, 17, 19, 23, 29]"
      ]
     },
     "execution_count": 53,
     "metadata": {},
     "output_type": "execute_result"
    }
   ],
   "source": [
    "## test\n",
    "[n for n in range(1,30) if is_prime(n)]\n"
   ]
  },
  {
   "cell_type": "markdown",
   "id": "6e95bf02-333c-4b63-a475-197994666185",
   "metadata": {},
   "source": [
    "<span style=\"color:darkred; font-size:25px\">Javítsuk ki a hibát!</span>"
   ]
  },
  {
   "cell_type": "markdown",
   "id": "ed50772f",
   "metadata": {},
   "source": [
    "### Futási idő "
   ]
  },
  {
   "cell_type": "code",
   "execution_count": 57,
   "id": "68a10804-473d-42e8-b3f8-ce395cf1320d",
   "metadata": {},
   "outputs": [
    {
     "name": "stdout",
     "output_type": "stream",
     "text": [
      "It takes  116.60 μs to check that         1_009 is a prime or not (answer: True ) \n",
      "It takes    1.13 ms to check that        10_007 is a prime or not (answer: True ) \n",
      "It takes   11.28 ms to check that       100_003 is a prime or not (answer: True ) \n",
      "It takes   87.20 ms to check that     1_000_003 is a prime or not (answer: True ) \n",
      "It takes  851.98 ms to check that    10_000_019 is a prime or not (answer: True ) \n",
      "It takes     8.38 s to check that   100_000_007 is a prime or not (answer: True ) \n"
     ]
    }
   ],
   "source": [
    "import time\n",
    " \n",
    "def format_ns(t):\n",
    "    for unit in ['ns', 'μs', 'ms']:\n",
    "        if t<1000:\n",
    "            return f\"{t:.2f} {unit}\"\n",
    "        t /= 1000\n",
    "    return f\"{t:.2f} s\"\n",
    "    \n",
    "def measure_run_times(is_prime):\n",
    "    for p in [1009, 10_007, 100_003, 1_000_003, 10_000_019, 100_000_007]:\n",
    "        start = time.perf_counter_ns()\n",
    "        result = is_prime(p)\n",
    "        end = time.perf_counter_ns()\n",
    "        print(f\"It takes {format_ns(end-start):>10} to check that {p:13_} is a prime or not (answer: {repr(result):5}) \")\n",
    "\n",
    "measure_run_times(is_prime)"
   ]
  },
  {
   "cell_type": "markdown",
   "id": "3f9f37d6-ecdd-490c-96c1-8ecba479dbdb",
   "metadata": {},
   "source": [
    "<span style=\"color:darkred; font-size:25px\">Tegyük hatékonyabbá a függvényt!</span>"
   ]
  },
  {
   "cell_type": "code",
   "execution_count": 58,
   "id": "d9a189a4",
   "metadata": {},
   "outputs": [
    {
     "name": "stdout",
     "output_type": "stream",
     "text": [
      "It takes    7.47 μs to check that         1_009 is a prime or not (answer: True ) \n",
      "It takes   10.41 μs to check that        10_007 is a prime or not (answer: True ) \n",
      "It takes   31.02 μs to check that       100_003 is a prime or not (answer: True ) \n",
      "It takes  105.35 μs to check that     1_000_003 is a prime or not (answer: True ) \n",
      "It takes  342.59 μs to check that    10_000_019 is a prime or not (answer: True ) \n",
      "It takes    1.04 ms to check that   100_000_007 is a prime or not (answer: True ) \n"
     ]
    }
   ],
   "source": [
    "def is_prime_better(n: int) -> bool:\n",
    "    \"\"\"test for primality\"\"\"\n",
    "    n = abs(n)\n",
    "    for k in range(2, n):\n",
    "        m, r = divmod(n, k)\n",
    "        if r==0:\n",
    "            return False\n",
    "        \n",
    "    return (n>1)\n",
    "\n",
    "measure_run_times(is_prime_better)"
   ]
  },
  {
   "cell_type": "markdown",
   "id": "71fdfbea-4c11-4ade-a8b6-8a703f61c232",
   "metadata": {},
   "source": [
    "További hatékonyság javítási lehetőségek: https://primes.utm.edu/prove/prove2_3.html"
   ]
  },
  {
   "cell_type": "markdown",
   "id": "4ec24aef-d824-4263-8281-3884f6d2aae5",
   "metadata": {},
   "source": [
    "- `mk_power_sum`\n",
    "  Itt a függvény visszatérési értéke egy függvény.\n",
    "  Írjunk egy függvényt, `mk_power_sum` névvel,\n",
    "  ami argumentumként egy pozitív egész $p$ értéket kap ($1\\leq p\\leq 50$) és vissza ad egy\n",
    "  olyan függvényt, melynek egyetlen $n$ paramétere van és kiszámítja\n",
    "  az első $n$ természetes szám $p$-edik hatványainak összegét.\n",
    "\n",
    "  Azaz ha\n",
    "    power_sum = mk_power_sum(3)\n",
    "  akkor, `power_sum(5)` értéke $1+8+27+64+125=225$.\n",
    "  \n",
    "  Először írjunk olyan függvényt, amit vissza szeretnénk kapni!\n",
    "  Cseréljük le a kérdőjeleket alkalmas módon.\n"
   ]
  },
  {
   "cell_type": "markdown",
   "id": "ce1a1b8f-c6ab-4da8-abad-7613e333d17d",
   "metadata": {},
   "source": [
    "Ha ez a függvény visszatérési értéke és $k$ az `mk_power_sum` paramétere, akkor valami ilyesmit szeretnénk:"
   ]
  },
  {
   "cell_type": "code",
   "execution_count": 32,
   "id": "496cf4ef-7e47-4e87-8641-6aa1b6753044",
   "metadata": {},
   "outputs": [],
   "source": [
    "def power_sum(n: int, k: int) -> int:\n",
    "    \"\"\"sum of kth powers from 1 to n\"\"\"\n",
    "    return sum( ??? for i in range(???))"
   ]
  },
  {
   "cell_type": "markdown",
   "id": "13e61dfe-9f67-4029-880b-6833a00b9a55",
   "metadata": {},
   "source": [
    "Ha ez a függvény visszatérési értéke és $k$ az `mk_power_sum` paramétere, akkor valami ilyesmit szeretnénk:"
   ]
  },
  {
   "cell_type": "code",
   "execution_count": 13,
   "id": "27cd8b63-9efa-4de6-910d-518131183dfc",
   "metadata": {},
   "outputs": [],
   "source": [
    "def mk_power_sum(k: int):\n",
    "    def power_sum(n: int) -> int:\n",
    "        return sum(??? for i in range(???))\n",
    "    return power_sum"
   ]
  },
  {
   "cell_type": "markdown",
   "id": "9eeeb84e",
   "metadata": {},
   "source": [
    "<span style=\"color:darkred; font-size:25px\">Cseréljük le a kérdőjeleket alkalmas módon!</span>"
   ]
  },
  {
   "cell_type": "markdown",
   "id": "a1319708-6344-406a-b62f-c95ee7534629",
   "metadata": {},
   "source": [
    "### Feladatok előadásról"
   ]
  },
  {
   "cell_type": "markdown",
   "id": "9cd90035-182b-4b6d-a453-568e22ad50b2",
   "metadata": {},
   "source": [
    "Írjunk egy függvényt, amely inputként vár két függvényt és az output az a függvény, amelyik a két input összege.\n",
    "\n",
    "Azaz ha $f$ és $g$ a két függvény (pl. $f(x)=x+1$, $g(x)=2x+1$), akkor az output legyen az a $h$ függvény, melyre\n",
    "$h(x) = f(x) + g(x)$."
   ]
  },
  {
   "cell_type": "code",
   "execution_count": 60,
   "id": "ff6139f0-999e-4916-acb4-a1f785e559f8",
   "metadata": {},
   "outputs": [],
   "source": [
    "def add_two_functions(f, g):\n",
    "    def h(x):\n",
    "        pass\n",
    "    return h"
   ]
  },
  {
   "cell_type": "markdown",
   "id": "30cee7df-2cd8-4df4-bc39-ccdcb8da99f3",
   "metadata": {},
   "source": [
    "Írjunk egy függvényt, amely inputként vár két függvényt és az output az a függvény, amelyik a két input kompozíciója.\n",
    "\n",
    "Azaz ha\n",
    "$f$ és $g$ a két függvény (pl. $f(x)=x+1$, $g(x)=2x+1$), akkor az output legyen az a $h$ függvény, melyre\n",
    "$h(x) = f(g(x))$.\n"
   ]
  },
  {
   "cell_type": "code",
   "execution_count": 65,
   "id": "3da0102b-92c8-44cd-8b92-bd49699fdd15",
   "metadata": {},
   "outputs": [],
   "source": [
    "def compose(f, g):\n",
    "    def h(x):\n",
    "        pass\n",
    "    return h\n",
    "\n"
   ]
  },
  {
   "cell_type": "markdown",
   "id": "91cb4b64-e22e-417f-a591-4857d3e6e590",
   "metadata": {},
   "source": [
    "## Tesztelés\n",
    "\n",
    "***Előre érdemes megírni, ez is segít végiggondolni mit is várunk a függvénytől!***"
   ]
  },
  {
   "cell_type": "code",
   "execution_count": null,
   "id": "572240e6-5496-401f-a541-2ce5891e54ae",
   "metadata": {},
   "outputs": [],
   "source": [
    "## test\n",
    "\n",
    "def test_add_two_functions():\n",
    "    def f(x):\n",
    "        return x+1\n",
    "    def g(x):\n",
    "        return 2*x + 1\n",
    "\n",
    "    h = add_two_functions(f, g)\n",
    "\n",
    "    assert h(1) == f(1)+g(1)\n",
    "    ## további test esetek\n",
    "    \n",
    "## Hogyan használhatjuk a test függvényünket?\n",
    "try:\n",
    "    test_add_two_functions()\n",
    "except AssertionError as exception:\n",
    "    print(\"test failed\")\n",
    "    raise exception\n",
    "else:\n",
    "    print(\"test succeded\")"
   ]
  },
  {
   "cell_type": "code",
   "execution_count": null,
   "id": "c14a52c8-06a5-43d9-83c4-7e626343bd0b",
   "metadata": {},
   "outputs": [],
   "source": [
    "# test \n",
    "\n",
    "def f(x):\n",
    "    return x+1\n",
    "def g(x):\n",
    "    return 2*x + 1\n",
    "\n",
    "h = compose(f, g)\n",
    "\n",
    "assert h(1) == f(g(1))\n",
    "## további test esetek\n",
    "print(\"Átment a teszten\")"
   ]
  },
  {
   "cell_type": "markdown",
   "id": "894f9418-c1cb-4f1d-a016-46d1a7724ace",
   "metadata": {},
   "source": [
    "### Tesztelés szebben"
   ]
  },
  {
   "cell_type": "code",
   "execution_count": null,
   "id": "f9898b67-c76d-4679-8cd1-7eb48279b77a",
   "metadata": {},
   "outputs": [],
   "source": [
    "# uncomment and run if ipytest is not installed\n",
    "# ! pip install ipytest --quiet"
   ]
  },
  {
   "cell_type": "code",
   "execution_count": 30,
   "id": "c71ea7f1-31c5-4205-8d1b-48045931200d",
   "metadata": {},
   "outputs": [],
   "source": [
    "import ipytest\n",
    "ipytest.autoconfig()"
   ]
  },
  {
   "cell_type": "code",
   "execution_count": null,
   "id": "18d51786-f1eb-43f6-874e-e5488626042c",
   "metadata": {},
   "outputs": [],
   "source": [
    "%%ipytest\n",
    "\n",
    "\n",
    "def test_compose():\n",
    "    \n",
    "    def f(x):\n",
    "        return x+1\n",
    "\n",
    "    def g(x):\n",
    "        return 2*x + 1\n",
    "\n",
    "    h = compose(f,g)\n",
    "    for x in [-100, 0, 100, 10000]:\n",
    "        assert h(x) == f(g(x))\n"
   ]
  },
  {
   "cell_type": "markdown",
   "id": "7c92466d-b38e-4763-929e-449897a2672a",
   "metadata": {},
   "source": [
    "\n",
    "\n",
    "# Adatszerkezetek\n",
    "\n",
    "Az adatszerkezet lényegében olyan konténer, amely adatokat tartalmaz. A Pythonban négy alapvető adatszerkezet van: lista (list), rendezet n-es (tuple), szótár (dictionary), halmaz (set). Nézzünk példákat az előadáson tanultak gyakorlására!"
   ]
  },
  {
   "cell_type": "markdown",
   "id": "d697abfc",
   "metadata": {},
   "source": [
    "## A lista"
   ]
  },
  {
   "cell_type": "code",
   "execution_count": 26,
   "id": "ea501277-8367-4e77-8aa1-817bea168a79",
   "metadata": {},
   "outputs": [
    {
     "name": "stdout",
     "output_type": "stream",
     "text": [
      "Help on method_descriptor:\n",
      "\n",
      "index(self, value, start=0, stop=9223372036854775807, /)\n",
      "    Return first index of value.\n",
      "    \n",
      "    Raises ValueError if the value is not present.\n",
      "\n"
     ]
    }
   ],
   "source": [
    "#help(list)\n",
    "help(list.index)"
   ]
  },
  {
   "cell_type": "markdown",
   "id": "4d8ea017-9d5d-409b-827f-d793ab82f4b2",
   "metadata": {},
   "source": [
    "### Példák"
   ]
  },
  {
   "cell_type": "markdown",
   "id": "ad02f18d-1c5f-452b-ad28-190c90a6a0b5",
   "metadata": {},
   "source": [
    "Lista létrehozása:"
   ]
  },
  {
   "cell_type": "code",
   "execution_count": 48,
   "id": "f44aae79-90ec-4c90-baaf-cafbcc1bcea7",
   "metadata": {},
   "outputs": [
    {
     "name": "stdout",
     "output_type": "stream",
     "text": [
      "lovak:   ['Tikk-takk', 'Aladin', 'Dodó', 'Pomádé', 'Széplány', 'Csóka']\n",
      "letters: ['A', 'B', 'C', 'D', 'E', 'F', 'G', 'H', 'I', 'J', 'K', 'L', 'M', 'N', 'O', 'P', 'Q', 'R', 'S', 'T', 'U', 'V', 'W', 'X', 'Y', 'Z']\n",
      "numbers: [0, 1, 2, 3, 4, 5, 6, 7, 8, 9]\n",
      "chars:   ['t', 'e', 's', 'z', 't', ' ', 's', 'z', 'ö', 'v', 'e', 'g']\n",
      "words:   ['teszt', 'szöveg']\n"
     ]
    }
   ],
   "source": [
    "lovak = [\"Tikk-takk\", \"Aladin\", \"Dodó\", \"Pomádé\", \"Széplány\", \"Csóka\"]\n",
    "letters = [chr(i) for i in range(65, 65+26)]\n",
    "numbers = list(range(10))\n",
    "chars = list(\"teszt szöveg\")\n",
    "words = \"teszt szöveg\".split()\n",
    "\n",
    "print(f\"lovak:   {lovak}\")\n",
    "print(f\"letters: {letters}\")\n",
    "print(f\"numbers: {numbers}\")\n",
    "print(f\"chars:   {chars}\")\n",
    "print(f\"words:   {words}\")"
   ]
  },
  {
   "cell_type": "markdown",
   "id": "84d806e5-7b5b-4b0a-8a52-12a960506afb",
   "metadata": {},
   "source": [
    "Legfontosabb metódusok:\n",
    "\n",
    "- `append`\n",
    "- `extend`\n",
    "- `pop`\n",
    "\n",
    "Lista hossza elérhető a `len` függvénnyel.\n",
    "\n",
    "Indexelés: egészekkel, (nem negatív=elölről, vagy negatív=hátulról) vagy `slice`-okkal."
   ]
  },
  {
   "cell_type": "markdown",
   "id": "41429735",
   "metadata": {},
   "source": [
    "### Példa"
   ]
  },
  {
   "cell_type": "markdown",
   "id": "2ea469ca-5b37-4ca5-a15a-88da0f0d53f4",
   "metadata": {},
   "source": [
    "\n",
    "\n",
    "Írjunk egy függvényt `replace` névvel, aminek három paramétere van:\n",
    "\n",
    "    def replace(lst: list, x, y):\n",
    "        pass\n",
    "\n",
    "és az `lst` listában `x` értékének összes előfordulását kicseréli `y` értékére.\n",
    "\n",
    "pl.\n",
    "\n",
    "    replace([1, 2, 1], 1, 3) # -> [3, 2, 3]"
   ]
  },
  {
   "cell_type": "code",
   "execution_count": 36,
   "id": "0a869b86",
   "metadata": {},
   "outputs": [],
   "source": [
    "def safe_index(lst, x, start):\n",
    "    try:\n",
    "        return lst.index(x, start)\n",
    "    except ValueError:\n",
    "        return None\n",
    "\n",
    "def replace(lst:list, x, y) -> list:\n",
    "    i = safe_index(lst, x, start=0)\n",
    "    while i is not None:\n",
    "        lst[i] = y \n",
    "        i = safe_index(lst, x, i+1)\n",
    "    return lst\n",
    "\n",
    "## vagy\n",
    "\n",
    "def replace2(lst:list, x, y) -> list:\n",
    "    for i, v in enumerate(lst):\n",
    "        if v==x:\n",
    "            lst[i] = y\n",
    "    return lst\n",
    "\n",
    "        \n"
   ]
  },
  {
   "cell_type": "code",
   "execution_count": null,
   "id": "026a87b6",
   "metadata": {},
   "outputs": [],
   "source": [
    "%%ipytest\n",
    "\n",
    "def test_replace():\n",
    "    lst = [1, 2, 1]\n",
    "    assert replace(lst, 1, 3) == [3, 2, 3]\n",
    "    lst = [1, 2, 1]\n",
    "    replace(lst, 1, 3)\n",
    "    assert lst == [3, 2, 3]\n"
   ]
  },
  {
   "cell_type": "markdown",
   "id": "4cb8e3b9-47be-4a17-acc1-67ee14f925ff",
   "metadata": {},
   "source": [
    "### Lóverseny"
   ]
  },
  {
   "cell_type": "markdown",
   "id": "4b483afe",
   "metadata": {},
   "source": [
    "Egy lóverseny részeredményeit szeretnénk követni. Az első perc utáni állást a lovak lista tartalmazza, az első (azaz nulladik) helyen az éppen elöl álló lóval:"
   ]
  },
  {
   "cell_type": "code",
   "execution_count": 39,
   "id": "3c52ef6d",
   "metadata": {},
   "outputs": [],
   "source": [
    "lovak = [\"Tikk-takk\", \"Aladin\", \"Dodó\", \"Pomádé\", \"Széplány\", \"Csóka\"]"
   ]
  },
  {
   "cell_type": "markdown",
   "id": "9006ea52",
   "metadata": {},
   "source": [
    "Véletlenül elírtuk a második ló nevét: \"Aladin\" helyett \"Aladdin\" a helyes név. Javítsuk ki!"
   ]
  },
  {
   "cell_type": "code",
   "execution_count": 50,
   "id": "40994315",
   "metadata": {},
   "outputs": [
    {
     "name": "stdout",
     "output_type": "stream",
     "text": [
      "Aladin indexe: 1\n"
     ]
    },
    {
     "data": {
      "text/plain": [
       "['Tikk-takk', 'Aladdin', 'Dodó', 'Pomádé', 'Széplány', 'Csóka']"
      ]
     },
     "execution_count": 50,
     "metadata": {},
     "output_type": "execute_result"
    }
   ],
   "source": [
    "print(f\"Aladin indexe: {lovak.index('Aladin')}\")\n",
    "lovak[1] = \"Aladdin\"\n",
    "lovak\n"
   ]
  },
  {
   "cell_type": "markdown",
   "id": "fcc6f528",
   "metadata": {},
   "source": [
    "Újabb résztvevő tűnik fel kissé lemaradva Délibáb személyében, biggyesszük hozzá a listához:"
   ]
  },
  {
   "cell_type": "code",
   "execution_count": 41,
   "id": "82832728",
   "metadata": {},
   "outputs": [
    {
     "data": {
      "text/plain": [
       "['Tikk-takk', 'Aladdin', 'Dodó', 'Pomádé', 'Széplány', 'Csóka', 'Délibáb']"
      ]
     },
     "execution_count": 41,
     "metadata": {},
     "output_type": "execute_result"
    }
   ],
   "source": [
    "lovak.append(\"Délibáb\")\n",
    "lovak"
   ]
  },
  {
   "cell_type": "markdown",
   "id": "ea80b117",
   "metadata": {},
   "source": [
    "Még jobban lemaradt az utolsó három ló: Villám, Huba és Pitypang"
   ]
  },
  {
   "cell_type": "code",
   "execution_count": 42,
   "id": "02ca9255",
   "metadata": {},
   "outputs": [],
   "source": [
    "tobbi = [\"Villám\", \"Huba\", \"Pitypang\"]\n",
    "lovak.extend(tobbi)"
   ]
  },
  {
   "cell_type": "code",
   "execution_count": 44,
   "id": "ddf79cb9",
   "metadata": {},
   "outputs": [
    {
     "name": "stdout",
     "output_type": "stream",
     "text": [
      "['Tikk-takk', 'Aladdin', 'Dodó', 'Pomádé', 'Széplány', 'Csóka', 'Délibáb', 'Villám', 'Huba', 'Pitypang']\n"
     ]
    }
   ],
   "source": [
    "print(lovak)"
   ]
  },
  {
   "cell_type": "markdown",
   "id": "86a573a4",
   "metadata": {},
   "source": [
    "Ezen a ponton tegyük meg tippünket a győztesre!"
   ]
  },
  {
   "cell_type": "code",
   "execution_count": 60,
   "id": "fb0d367e",
   "metadata": {},
   "outputs": [],
   "source": [
    "tipp_gyoztes = 'Dodó'"
   ]
  },
  {
   "cell_type": "markdown",
   "id": "0385c424",
   "metadata": {},
   "source": [
    "Az utolsó ló, Pitypang megmakacsolja magát, úgy tűnik, nem fogja befejezni a versenyt. Távolítsuk el a lista utolsó elemét!"
   ]
  },
  {
   "cell_type": "code",
   "execution_count": 45,
   "id": "f475c607",
   "metadata": {},
   "outputs": [
    {
     "data": {
      "text/plain": [
       "'Pitypang'"
      ]
     },
     "execution_count": 45,
     "metadata": {},
     "output_type": "execute_result"
    }
   ],
   "source": [
    "lovak.pop()"
   ]
  },
  {
   "cell_type": "markdown",
   "id": "126739aa",
   "metadata": {},
   "source": [
    "Dodó sérülés miatt kiáll a versenyből."
   ]
  },
  {
   "cell_type": "code",
   "execution_count": 46,
   "id": "3395d681",
   "metadata": {},
   "outputs": [],
   "source": [
    "lovak.remove(\"Dodó\")"
   ]
  },
  {
   "cell_type": "markdown",
   "id": "3fdf2a9e",
   "metadata": {},
   "source": [
    "Az első ló nem jut túl a nyaktörő sövényakadályon, őt is töröljük a listából!"
   ]
  },
  {
   "cell_type": "code",
   "execution_count": 47,
   "id": "a8b1e1f1",
   "metadata": {},
   "outputs": [
    {
     "data": {
      "text/plain": [
       "'Tikk-takk'"
      ]
     },
     "execution_count": 47,
     "metadata": {},
     "output_type": "execute_result"
    }
   ],
   "source": [
    "lovak.pop(0)"
   ]
  },
  {
   "cell_type": "code",
   "execution_count": 48,
   "id": "19e2c99d",
   "metadata": {},
   "outputs": [
    {
     "data": {
      "text/plain": [
       "['Aladdin', 'Pomádé', 'Széplány', 'Csóka', 'Délibáb', 'Villám', 'Huba']"
      ]
     },
     "execution_count": 48,
     "metadata": {},
     "output_type": "execute_result"
    }
   ],
   "source": [
    "lovak"
   ]
  },
  {
   "cell_type": "markdown",
   "id": "1e69d432",
   "metadata": {},
   "source": [
    "Megint az első ló kerül bajba, leszakad, de az utolsó helyről még folytatja a versenyt:"
   ]
  },
  {
   "cell_type": "code",
   "execution_count": 49,
   "id": "b10cf865",
   "metadata": {},
   "outputs": [],
   "source": [
    "elso = lovak.pop(0)\n",
    "lovak.append(elso)"
   ]
  },
  {
   "cell_type": "code",
   "execution_count": 50,
   "id": "c2a9ea98",
   "metadata": {},
   "outputs": [
    {
     "data": {
      "text/plain": [
       "['Pomádé', 'Széplány', 'Csóka', 'Délibáb', 'Villám', 'Huba', 'Aladdin']"
      ]
     },
     "execution_count": 50,
     "metadata": {},
     "output_type": "execute_result"
    }
   ],
   "source": [
    "lovak"
   ]
  },
  {
   "cell_type": "markdown",
   "id": "407c7fe6",
   "metadata": {},
   "source": [
    "Dodó mégiscsak visszajön, és egészen az utolsó előtti helyig küzdi fel magát:"
   ]
  },
  {
   "cell_type": "code",
   "execution_count": 51,
   "id": "6ef5614a",
   "metadata": {},
   "outputs": [],
   "source": [
    "lovak.insert(-1,\"Dodó\")"
   ]
  },
  {
   "cell_type": "code",
   "execution_count": 52,
   "id": "b8d2622c",
   "metadata": {},
   "outputs": [
    {
     "data": {
      "text/plain": [
       "['Pomádé', 'Széplány', 'Csóka', 'Délibáb', 'Villám', 'Huba', 'Dodó', 'Aladdin']"
      ]
     },
     "execution_count": 52,
     "metadata": {},
     "output_type": "execute_result"
    }
   ],
   "source": [
    "lovak"
   ]
  },
  {
   "cell_type": "markdown",
   "id": "60c89476",
   "metadata": {},
   "source": [
    "Vége a versenynek! Kihirdethető a három győztes:"
   ]
  },
  {
   "cell_type": "code",
   "execution_count": 56,
   "id": "90214579",
   "metadata": {},
   "outputs": [],
   "source": [
    "dobogo = lovak[:3]"
   ]
  },
  {
   "cell_type": "code",
   "execution_count": 57,
   "id": "4d7154df",
   "metadata": {},
   "outputs": [
    {
     "data": {
      "text/plain": [
       "['Pomádé', 'Széplány', 'Csóka']"
      ]
     },
     "execution_count": 57,
     "metadata": {},
     "output_type": "execute_result"
    }
   ],
   "source": [
    "dobogo"
   ]
  },
  {
   "cell_type": "markdown",
   "id": "5a0026d4",
   "metadata": {},
   "source": [
    "Készítsük el az eredménytáblát a résztvevők elé írt sorszámokkal, minden résztvevőt új sorban kezdve!"
   ]
  },
  {
   "cell_type": "code",
   "execution_count": 45,
   "id": "6416fded",
   "metadata": {},
   "outputs": [
    {
     "name": "stdout",
     "output_type": "stream",
     "text": [
      "1. Tikk-takk\n",
      "2. Aladdin\n",
      "3. Dodó\n",
      "4. Pomádé\n",
      "5. Széplány\n",
      "6. Csóka\n",
      "7. Délibáb\n",
      "8. Villám\n",
      "9. Huba\n",
      "10. Pitypang\n"
     ]
    }
   ],
   "source": [
    "for idx, lo in enumerate(lovak, 1):\n",
    "    print(f\"{idx}. {lo}\")"
   ]
  },
  {
   "cell_type": "markdown",
   "id": "593a65bd",
   "metadata": {},
   "source": [
    "Végül nézzük, jól tippeltünk-e a győztesre!"
   ]
  },
  {
   "cell_type": "code",
   "execution_count": 62,
   "id": "abdd546c",
   "metadata": {},
   "outputs": [
    {
     "name": "stdout",
     "output_type": "stream",
     "text": [
      "Sajnos nem nyert!\n"
     ]
    }
   ],
   "source": [
    "if tipp_gyoztes == lovak[0]:\n",
    "    print(\"Gratulálunk, Ön jól tippelt! Nyereménye 100000 Ft!\")\n",
    "else: \n",
    "    print(\"Sajnos nem nyert!\")"
   ]
  },
  {
   "cell_type": "markdown",
   "id": "201eacc2-8b14-463a-bcdd-d75f70af1abd",
   "metadata": {},
   "source": [
    "### Tuple"
   ]
  },
  {
   "cell_type": "code",
   "execution_count": 46,
   "id": "5e602092-f233-46da-bb0f-2c3e8a2d135e",
   "metadata": {},
   "outputs": [
    {
     "name": "stdout",
     "output_type": "stream",
     "text": [
      "Help on class tuple in module builtins:\n",
      "\n",
      "class tuple(object)\n",
      " |  tuple(iterable=(), /)\n",
      " |  \n",
      " |  Built-in immutable sequence.\n",
      " |  \n",
      " |  If no argument is given, the constructor returns an empty tuple.\n",
      " |  If iterable is specified the tuple is initialized from iterable's items.\n",
      " |  \n",
      " |  If the argument is a tuple, the return value is the same object.\n",
      " |  \n",
      " |  Built-in subclasses:\n",
      " |      asyncgen_hooks\n",
      " |      UnraisableHookArgs\n",
      " |  \n",
      " |  Methods defined here:\n",
      " |  \n",
      " |  __add__(self, value, /)\n",
      " |      Return self+value.\n",
      " |  \n",
      " |  __contains__(self, key, /)\n",
      " |      Return key in self.\n",
      " |  \n",
      " |  __eq__(self, value, /)\n",
      " |      Return self==value.\n",
      " |  \n",
      " |  __ge__(self, value, /)\n",
      " |      Return self>=value.\n",
      " |  \n",
      " |  __getattribute__(self, name, /)\n",
      " |      Return getattr(self, name).\n",
      " |  \n",
      " |  __getitem__(self, key, /)\n",
      " |      Return self[key].\n",
      " |  \n",
      " |  __getnewargs__(self, /)\n",
      " |  \n",
      " |  __gt__(self, value, /)\n",
      " |      Return self>value.\n",
      " |  \n",
      " |  __hash__(self, /)\n",
      " |      Return hash(self).\n",
      " |  \n",
      " |  __iter__(self, /)\n",
      " |      Implement iter(self).\n",
      " |  \n",
      " |  __le__(self, value, /)\n",
      " |      Return self<=value.\n",
      " |  \n",
      " |  __len__(self, /)\n",
      " |      Return len(self).\n",
      " |  \n",
      " |  __lt__(self, value, /)\n",
      " |      Return self<value.\n",
      " |  \n",
      " |  __mul__(self, value, /)\n",
      " |      Return self*value.\n",
      " |  \n",
      " |  __ne__(self, value, /)\n",
      " |      Return self!=value.\n",
      " |  \n",
      " |  __repr__(self, /)\n",
      " |      Return repr(self).\n",
      " |  \n",
      " |  __rmul__(self, value, /)\n",
      " |      Return value*self.\n",
      " |  \n",
      " |  count(self, value, /)\n",
      " |      Return number of occurrences of value.\n",
      " |  \n",
      " |  index(self, value, start=0, stop=9223372036854775807, /)\n",
      " |      Return first index of value.\n",
      " |      \n",
      " |      Raises ValueError if the value is not present.\n",
      " |  \n",
      " |  ----------------------------------------------------------------------\n",
      " |  Static methods defined here:\n",
      " |  \n",
      " |  __new__(*args, **kwargs) from builtins.type\n",
      " |      Create and return a new object.  See help(type) for accurate signature.\n",
      "\n"
     ]
    }
   ],
   "source": [
    "help(tuple)"
   ]
  },
  {
   "cell_type": "markdown",
   "id": "8c163c53-7898-4730-b19d-0cd088e7aa9b",
   "metadata": {},
   "source": [
    "Legfontosabb metódus:\n",
    "\n",
    "- összeadás (concatenation)\n",
    "\n",
    "indexelés ugyanolyan mint listánál.\n",
    "\n",
    "Ha egy függvény több értéket add vissza, akkor valójában tuple-t kapunk.\n"
   ]
  },
  {
   "cell_type": "markdown",
   "id": "975d0d82-147f-443c-824e-f3b67b8e8e00",
   "metadata": {},
   "source": [
    "Tuple létrehozása:"
   ]
  },
  {
   "cell_type": "code",
   "execution_count": 56,
   "id": "78976f18-8a71-481a-b068-53af9dc8bcbc",
   "metadata": {},
   "outputs": [
    {
     "name": "stdout",
     "output_type": "stream",
     "text": [
      "a  = ()\n",
      "b0 = (1, 2, 3)\n",
      "b1 = (1, 2, 3)\n",
      "c  = (1,)\n",
      "d  = (0, 1, 2, 3, 4, 5, 6, 7, 8, 9)\n",
      "e  = ('k', 'a', 'r', 'a', 'k', 't', 'e', 'r', 'l', 'á', 'n', 'c')\n",
      "f  = (1, 1, 2, 3)\n",
      "g  = (1, 'k', 'a', 'r', 'a', 'k', 't', 'e', 'r', 'l', 'á', 'n', 'c')\n"
     ]
    }
   ],
   "source": [
    "a = tuple() # üres tuple\n",
    "b0 = (1, 2, 3) \n",
    "b1 = 1, 2, 3\n",
    "c = 1,\n",
    "d = tuple(range(10))\n",
    "e = tuple(\"karakterlánc\")\n",
    "f = c + b0\n",
    "g = c\n",
    "g += e\n",
    "for name in \"a,b0,b1,c,d,e,f,g\".split(\",\"):\n",
    "    print(f\"{name:2} = {eval(name)}\")"
   ]
  },
  {
   "cell_type": "markdown",
   "id": "01e053a9-05f1-4917-8b56-c49a329c4555",
   "metadata": {},
   "source": [
    "### Dictionary"
   ]
  },
  {
   "cell_type": "code",
   "execution_count": 57,
   "id": "e54fff4d-d418-4cae-b769-4c46d0c9986a",
   "metadata": {},
   "outputs": [
    {
     "name": "stdout",
     "output_type": "stream",
     "text": [
      "Help on class dict in module builtins:\n",
      "\n",
      "class dict(object)\n",
      " |  dict() -> new empty dictionary\n",
      " |  dict(mapping) -> new dictionary initialized from a mapping object's\n",
      " |      (key, value) pairs\n",
      " |  dict(iterable) -> new dictionary initialized as if via:\n",
      " |      d = {}\n",
      " |      for k, v in iterable:\n",
      " |          d[k] = v\n",
      " |  dict(**kwargs) -> new dictionary initialized with the name=value pairs\n",
      " |      in the keyword argument list.  For example:  dict(one=1, two=2)\n",
      " |  \n",
      " |  Built-in subclasses:\n",
      " |      StgDict\n",
      " |  \n",
      " |  Methods defined here:\n",
      " |  \n",
      " |  __contains__(self, key, /)\n",
      " |      True if the dictionary has the specified key, else False.\n",
      " |  \n",
      " |  __delitem__(self, key, /)\n",
      " |      Delete self[key].\n",
      " |  \n",
      " |  __eq__(self, value, /)\n",
      " |      Return self==value.\n",
      " |  \n",
      " |  __ge__(self, value, /)\n",
      " |      Return self>=value.\n",
      " |  \n",
      " |  __getattribute__(self, name, /)\n",
      " |      Return getattr(self, name).\n",
      " |  \n",
      " |  __getitem__(...)\n",
      " |      x.__getitem__(y) <==> x[y]\n",
      " |  \n",
      " |  __gt__(self, value, /)\n",
      " |      Return self>value.\n",
      " |  \n",
      " |  __init__(self, /, *args, **kwargs)\n",
      " |      Initialize self.  See help(type(self)) for accurate signature.\n",
      " |  \n",
      " |  __iter__(self, /)\n",
      " |      Implement iter(self).\n",
      " |  \n",
      " |  __le__(self, value, /)\n",
      " |      Return self<=value.\n",
      " |  \n",
      " |  __len__(self, /)\n",
      " |      Return len(self).\n",
      " |  \n",
      " |  __lt__(self, value, /)\n",
      " |      Return self<value.\n",
      " |  \n",
      " |  __ne__(self, value, /)\n",
      " |      Return self!=value.\n",
      " |  \n",
      " |  __repr__(self, /)\n",
      " |      Return repr(self).\n",
      " |  \n",
      " |  __reversed__(self, /)\n",
      " |      Return a reverse iterator over the dict keys.\n",
      " |  \n",
      " |  __setitem__(self, key, value, /)\n",
      " |      Set self[key] to value.\n",
      " |  \n",
      " |  __sizeof__(...)\n",
      " |      D.__sizeof__() -> size of D in memory, in bytes\n",
      " |  \n",
      " |  clear(...)\n",
      " |      D.clear() -> None.  Remove all items from D.\n",
      " |  \n",
      " |  copy(...)\n",
      " |      D.copy() -> a shallow copy of D\n",
      " |  \n",
      " |  get(self, key, default=None, /)\n",
      " |      Return the value for key if key is in the dictionary, else default.\n",
      " |  \n",
      " |  items(...)\n",
      " |      D.items() -> a set-like object providing a view on D's items\n",
      " |  \n",
      " |  keys(...)\n",
      " |      D.keys() -> a set-like object providing a view on D's keys\n",
      " |  \n",
      " |  pop(...)\n",
      " |      D.pop(k[,d]) -> v, remove specified key and return the corresponding value.\n",
      " |      If key is not found, d is returned if given, otherwise KeyError is raised\n",
      " |  \n",
      " |  popitem(self, /)\n",
      " |      Remove and return a (key, value) pair as a 2-tuple.\n",
      " |      \n",
      " |      Pairs are returned in LIFO (last-in, first-out) order.\n",
      " |      Raises KeyError if the dict is empty.\n",
      " |  \n",
      " |  setdefault(self, key, default=None, /)\n",
      " |      Insert key with a value of default if key is not in the dictionary.\n",
      " |      \n",
      " |      Return the value for key if key is in the dictionary, else default.\n",
      " |  \n",
      " |  update(...)\n",
      " |      D.update([E, ]**F) -> None.  Update D from dict/iterable E and F.\n",
      " |      If E is present and has a .keys() method, then does:  for k in E: D[k] = E[k]\n",
      " |      If E is present and lacks a .keys() method, then does:  for k, v in E: D[k] = v\n",
      " |      In either case, this is followed by: for k in F:  D[k] = F[k]\n",
      " |  \n",
      " |  values(...)\n",
      " |      D.values() -> an object providing a view on D's values\n",
      " |  \n",
      " |  ----------------------------------------------------------------------\n",
      " |  Class methods defined here:\n",
      " |  \n",
      " |  fromkeys(iterable, value=None, /) from builtins.type\n",
      " |      Create a new dictionary with keys from iterable and values set to value.\n",
      " |  \n",
      " |  ----------------------------------------------------------------------\n",
      " |  Static methods defined here:\n",
      " |  \n",
      " |  __new__(*args, **kwargs) from builtins.type\n",
      " |      Create and return a new object.  See help(type) for accurate signature.\n",
      " |  \n",
      " |  ----------------------------------------------------------------------\n",
      " |  Data and other attributes defined here:\n",
      " |  \n",
      " |  __hash__ = None\n",
      "\n"
     ]
    }
   ],
   "source": [
    "help(dict)"
   ]
  },
  {
   "cell_type": "markdown",
   "id": "cdd7ae4a-8dbf-41b9-bd81-299cdff4aea5",
   "metadata": {},
   "source": [
    "Legfontosabb metódusok:\n",
    "\n",
    "- `get`. pl. `d.get(key, default)` lényegében ugyanaz, mint \n",
    "\n",
    "        if key in d:\n",
    "            return d[key]\n",
    "        else:\n",
    "            return default\n",
    "\n",
    "- `pop`. pl. `d.pop(key, default)` lényegében ugyanaz, mint \n",
    "\n",
    "        if key in d:\n",
    "            value = d[key] \n",
    "            del d[\"key\"]\n",
    "            return value\n",
    "        else:\n",
    "            return default\n",
    "\n",
    "- `values`, `items`.  `For` ciklusban, ha végig akarunk iterálni a dictionary értékein ill. kulcs, érték párjain.\n",
    "\n",
    "   Pl. \n",
    "   \n",
    "        for key in d:\n",
    "            pass\n",
    "        for value in d.values():\n",
    "            pass\n",
    "        for key, value in d.items():\n",
    "            pass"
   ]
  },
  {
   "cell_type": "code",
   "execution_count": 37,
   "id": "638f84d6",
   "metadata": {},
   "outputs": [
    {
     "name": "stdout",
     "output_type": "stream",
     "text": [
      "Ezt kapjuk, ha végig iterálunk d-n:        ['a', 'b']\n",
      "Ezt kapjuk, ha végig iterálunk d értékein: [1, 2]\n",
      "Ezt kapjuk, ha végig iterálunk d elemein:  [('a', 1), ('b', 2)]\n"
     ]
    }
   ],
   "source": [
    "d = {\"a\": 1, \"b\": 2}\n",
    "print(f\"Ezt kapjuk, ha végig iterálunk d-n:        {list(d)}\")\n",
    "print(f\"Ezt kapjuk, ha végig iterálunk d értékein: {list(d.values())}\")\n",
    "print(f\"Ezt kapjuk, ha végig iterálunk d elemein:  {list(d.items())}\")"
   ]
  },
  {
   "cell_type": "markdown",
   "id": "705259af",
   "metadata": {},
   "source": [
    "Valami hasonló for ciklusban."
   ]
  },
  {
   "cell_type": "code",
   "execution_count": 39,
   "id": "eb31c3ca",
   "metadata": {},
   "outputs": [
    {
     "name": "stdout",
     "output_type": "stream",
     "text": [
      "iteráció d-n\n",
      "a\n",
      "b\n",
      "iteráció d értékein\n",
      "1\n",
      "2\n",
      "iteráció d elemein (items)\n",
      "a 1\n",
      "b 2\n"
     ]
    }
   ],
   "source": [
    "print(\"iteráció d-n\")\n",
    "for x in d:\n",
    "    print(x)\n",
    "\n",
    "print(\"iteráció d értékein\")\n",
    "for x in d.values():\n",
    "    print(x)\n",
    "\n",
    "print(\"iteráció d elemein (items)\")\n",
    "for key, value in d.items():\n",
    "    print(key, value)\n",
    "\n"
   ]
  },
  {
   "cell_type": "markdown",
   "id": "2374ca46",
   "metadata": {},
   "source": [
    "Egy dictionary-nak szinte tetszőlegesen bonyolult kulcsa és értéke lehet.\n",
    "\n",
    "Próbáljuk ki a következőket:\n",
    "\n",
    "  - A kulcs string, egész, lebegőpontos szám, függvény ilyenekből képzett tuple\n",
    "  - Az érték srting, szám, függvény, lista, tuple, dictionary\n",
    "  - Működik-e, ha a kulcs lista, vagy olyan tuple, aminek legalább az egyik eleme lista"
   ]
  },
  {
   "cell_type": "code",
   "execution_count": 45,
   "id": "548a48e7-8048-4fb3-94a2-6de211e6191e",
   "metadata": {},
   "outputs": [
    {
     "data": {
      "text/plain": [
       "{1: 1,\n",
       " 3.14: (1, 3.14),\n",
       " 'szöveg teszteléshez': <function __main__.f()>,\n",
       " (1, 3.14): None,\n",
       " <function __main__.f()>: 'ez egy függvény kulcs'}"
      ]
     },
     "execution_count": 45,
     "metadata": {},
     "output_type": "execute_result"
    }
   ],
   "source": [
    "def f(): pass\n",
    "a = 1\n",
    "b = 3.14\n",
    "c = \"szöveg teszteléshez\"\n",
    "\n",
    "d = {\n",
    "    a: a,\n",
    "    b: (a, b),\n",
    "    c: f,\n",
    "    (a,b): f(),\n",
    "    f: \"ez egy függvény kulcs\"\n",
    "    ## próbáljunk ki további variációk\n",
    "} \n",
    "\n",
    "d"
   ]
  },
  {
   "cell_type": "markdown",
   "id": "f12592e1",
   "metadata": {},
   "source": [
    "Tudunk-e a fentihez hasonlót a `dict` függvény segítségével létrehozni."
   ]
  },
  {
   "cell_type": "code",
   "execution_count": null,
   "id": "c35a3dbb",
   "metadata": {},
   "outputs": [],
   "source": [
    "dict(???)"
   ]
  },
  {
   "cell_type": "markdown",
   "id": "9945788b",
   "metadata": {},
   "source": []
  }
 ],
 "metadata": {
  "kernelspec": {
   "display_name": "Python 3.8.13 ('base')",
   "language": "python",
   "name": "python3"
  },
  "language_info": {
   "codemirror_mode": {
    "name": "ipython",
    "version": 3
   },
   "file_extension": ".py",
   "mimetype": "text/x-python",
   "name": "python",
   "nbconvert_exporter": "python",
   "pygments_lexer": "ipython3",
   "version": "3.8.13"
  },
  "vscode": {
   "interpreter": {
    "hash": "d8b53ac59aeb7dd99955ed1c7af180cec0b2adbd03b0a8162d4077beb5f10154"
   }
  },
  "widgets": {
   "application/vnd.jupyter.widget-state+json": {
    "state": {},
    "version_major": 2,
    "version_minor": 0
   }
  }
 },
 "nbformat": 4,
 "nbformat_minor": 5
}
