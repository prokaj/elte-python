{
  "cells": [
    {
      "cell_type": "markdown",
      "metadata": {
        "id": "4h7e8QceEhMk"
      },
      "source": [
        "[![Open In Colab](https://colab.research.google.com/assets/colab-badge.svg)](https://colab.research.google.com/github/prokaj/elte-python/blob/main/8-gyakorlat.ipynb)"
      ]
    },
    {
      "cell_type": "markdown",
      "metadata": {
        "id": "PAlWPXNXEhMn"
      },
      "source": [
        "# Házi feladatok"
      ]
    },
    {
      "cell_type": "markdown",
      "metadata": {
        "id": "cIsyk9woEhMp"
      },
      "source": [
        "##  `ToDo`"
      ]
    },
    {
      "cell_type": "markdown",
      "metadata": {
        "id": "G9hxy8uqEhMq"
      },
      "source": [
        " 1. Írjunk egy `ToDo` nevű osztályt, amiben a teendőinket tudjuk nyilvántartani. Egy teendőt, két dolog ír le:\n",
        "\n",
        "    1.  Szöveges leírás: `str`\n",
        "\n",
        "    2.  Határidő.\n",
        "\n",
        "    Az egyedeket a `description` (szöveges leírás) és `deadline` (dátum)\n",
        "    paraméterekkel inicializáljuk. A dátumot `iso` formátumban adjuk meg,\n",
        "    azaz sztringként, aminek formátuma `YYYY-MM-DD`, azaz évszám négy\n",
        "    karaktere, a hónap sorszáma (01-12), a nap sorszáma (01-31)\n",
        "\n",
        "    Írjuk meg az `__str__` és `__repr__` metódusokat.\n",
        "\n",
        "    Ha `obj` az osztályunk egy példánya, akkor a `str(obj)` adja vissza a\n",
        "    `description` mező első legfeljebb 23 karakterét, amit a dátum követ\n",
        "    `(év. hónap magyar neve nap sorszáma.-ig)` formában. Ha a leírás nem fér\n",
        "    el, az adott szélességben, akkor az utolsó három karakter legyen `...`.\n",
        "\n",
        "    pl.\n",
        "\n",
        "        todo0 = ToDo(\"El kell készítenem a python gyakorlat házi feladatot\", \"2022-10-24\")\n",
        "        print(todo0)\n",
        "        todo1 = ToDo(\"python hf\", \"2022-10-24\")\n",
        "        print(todo1)\n",
        "\n",
        "    eredménye:\n",
        "\n",
        "        El kell készítenem a... (2022. október 24.-ig)\n",
        "        python hf (2022. október 24.-ig)\n",
        "\n",
        "    A `__repr__` metódus az osztály nevét és az inicializáskor használt\n",
        "    argumentumokat adja vissza a szokásos alakban, `repr(todo0)`\n",
        "    \n",
        "    ```\n",
        "    ToDo(\"El kell készítenem a python gyakorlat házi feladatot\", \"2022-10-24\")\n",
        "    ```\n",
        "\n",
        "    A dátumok kezelését nem kell önállóan elkészíteni, használhatjuk a\n",
        "    `datetime` module `date` osztályát. Nézzük meg az `isoformat`,\n",
        "    `fromisoformat`, `year`, `month`, `day` metódusokat.\n",
        "\n",
        "    A magyar hónapneveket valószínűleg nekünk kell megadni!\n",
        "\n",
        "    Szokás szerint írjunk teszt függvényt, ami az osztály metódusait\n",
        "    ellenőrzi 3-4 teszteseten: hosszú leírás, rövid leírás, dátum helyes\n",
        "    formátumban, dátum helytelen formátumban, leírás nem `str`, stb.\n",
        "\n",
        "    Ha a dátum helytelen formátumban van vagy a description nem `str`, akkor\n",
        "    az elvárt működés az, hogy `ValueError` hibát kapunk. Ennek\n",
        "    teszteléséhez a `pytest` modulból a `raises` függvényt kell importálni\n",
        "    és a teszt függvényben a\n",
        "\n",
        "        with raises(ValueError):\n",
        "            ToDo(...)\n",
        "\n",
        "    sorokat elhelyezni, ahol a `...` helyén a hibát okozó argumentumok\n",
        "    állnak.\n",
        "\n",
        "    A típus annotáció, és a dokumentációs string most opcionális.\n"
      ]
    },
    {
      "cell_type": "code",
      "execution_count": 10,
      "metadata": {
        "id": "Cy0uyiK_EhMt"
      },
      "outputs": [],
      "source": [
        "try:\n",
        "    import ipytest\n",
        "    ipytest.autoconfig()\n",
        "    \n",
        "except ModuleNotFoundError:\n",
        "    print(\"Trying to install ipytest\")\n",
        "    ! pip install ipytest --quiet\n",
        "    print(\"Try again!\")"
      ]
    },
    {
      "cell_type": "code",
      "execution_count": 15,
      "metadata": {
        "id": "rukp03jiEhMv"
      },
      "outputs": [],
      "source": [
        "import datetime \n",
        "\n",
        "class ToDo:\n",
        "    months = \"január február március április május április június július augusztus szeptember október november december\".split()\n",
        "    def __init__(self, description, date):\n",
        "        if not isinstance(description, str):\n",
        "            raise ValueError\n",
        "        self.description = description\n",
        "        try:\n",
        "            self.date = datetime.date.fromisoformat(date)     \n",
        "        except TypeError:\n",
        "            raise ValueError\n",
        "\n",
        "    def __str__(self):\n",
        "        if len(self.description)>23:\n",
        "            desc = self.description[:20] + \"...\"\n",
        "        else:\n",
        "            desc = self.description\n",
        "        \n",
        "\n",
        "        return f\"{desc} ({self.date.year}. {self.months[self.date.month]} {self.date.day}.-ig)\"\n",
        "\n",
        "    def __repr__(self):\n",
        "        return f'{type(self).__name__}(\"{self.description}\", \"{self.date.isoformat()}\")'\n"
      ]
    },
    {
      "cell_type": "code",
      "execution_count": 16,
      "metadata": {
        "id": "QaR9Py4ZEhMx",
        "outputId": "3e38bd30-dde7-4063-c2c1-6c92219b32bb",
        "colab": {
          "base_uri": "https://localhost:8080/"
        }
      },
      "outputs": [
        {
          "output_type": "stream",
          "name": "stdout",
          "text": [
            "\u001b[32m.\u001b[0m\u001b[32m                                                                                            [100%]\u001b[0m\n",
            "\u001b[32m\u001b[32m\u001b[1m1 passed\u001b[0m\u001b[32m in 0.01s\u001b[0m\u001b[0m\n"
          ]
        }
      ],
      "source": [
        "%%ipytest\n",
        "from pytest import raises\n",
        "\n",
        "def test_ToDo():\n",
        "\n",
        "    \n",
        "    todo = ToDo(\"El kell készítenem a python gyakorlat házi feladatot\", \"2022-10-24\")\n",
        "    assert str(todo) == \"El kell készítenem a... (2022. október 24.-ig)\"\n",
        "    assert repr(todo) == 'ToDo(\"El kell készítenem a python gyakorlat házi feladatot\", \"2022-10-24\")'\n",
        "    \n",
        "    todo = ToDo(\"python hf\", \"2022-10-24\")\n",
        "    assert str(todo) == \"python hf (2022. október 24.-ig)\"\n",
        "    assert repr(todo) == 'ToDo(\"python hf\", \"2022-10-24\")'\n",
        "    \n",
        "    with raises(ValueError):\n",
        "        ToDo(12414, \"2022-10-22\")\n",
        "    \n",
        "    with raises(ValueError):\n",
        "        ToDo(\"test\", \"2022-13-22\")\n",
        "    \n",
        "    with raises(ValueError):\n",
        "        ToDo(\"test\", datetime.date.fromisoformat(\"2022-10-22\"))\n",
        "    "
      ]
    },
    {
      "cell_type": "markdown",
      "metadata": {
        "id": "aHRdQhLjEhMy"
      },
      "source": [
        "## `Permutation`"
      ]
    },
    {
      "cell_type": "markdown",
      "metadata": {
        "id": "zaR-Zik6EhMz"
      },
      "source": [
        "\n",
        "\n",
        "2.  Írjunk egy `Permutation` osztályt. Permutáció alatt most egy\n",
        "    $\\left\\{{0,\\dots,n-1}\\right\\}\\to\\left\\{{0,\\dots,n-1}\\right\\}$ bijekciót\n",
        "    értünk! Inicializáláskor a $\\pi$ permutációt az\n",
        "    $(\\pi(0), \\dots,\\pi(n-1))$ rendezett $n$-sel adjuk meg.\n",
        "\n",
        "    Írjuk meg az `__str__` és `__repr__` metódusokat. A `__str__` metódus a\n",
        "    permutáció ciklus reprezentációját adja vissza a `cycles: ` szöveg után.\n",
        "\n",
        "    A $\\pi$ permutáció egy ciklusa alatt egy $c_0,\\dots, c_{k-1}$ sorozatot\n",
        "    értünk, ahol $\\pi(c_t)=c_{t+1}$, ha $t+1<k$ és $\\pi(c_{k-1})=c_0$. Ha a\n",
        "    permutációt írányított gráfként ábrázoljuk ($i\\to \\pi(i)$ élekkel),\n",
        "    akkor ezek a keletkező körök. A ciklusok az alaphalmazt ekvivalencia\n",
        "    osztályokra bontják, a permutáció megadásához elgendő a ciklusokon belül\n",
        "    feljegyezni a sorrendet. Sőt az egy hosszú ciklusokra nincs is szükség a\n",
        "    leíráshoz. [További információért, lásd a Wikipédia\n",
        "    bejegyzést!](https://en.wikipedia.org/wiki/Cycles_and_fixed_points)\n",
        "\n",
        "    Minden egyes ciklust a legkisebb elemével kezdve írjunk fel, és a\n",
        "    ciklusok sorrendjét is a legkisebb elemek sorrendje határozza meg. Nem\n",
        "    kell túlbonyolítani a dolgot. Ha a ciklusokat már kiszámoltuk, akkor a\n",
        "    ciklusokból álló lista rendezése pont ezt csinálja!\n",
        "\n",
        "    Példák.\n",
        "\n",
        "        (0, 1, 2, 3, 4, 5): ciklus reprezentáció = []\n",
        "        (0, 1, 2, 3, 5, 4): ciklus reprezentáció = [(4,5)]\n",
        "        (1, 2, 3, 4, 5, 0): ciklus reprezentáció = [(0, 1, 2, 3, 4, 5)]\n",
        "        (1, 2, 0, 4, 5, 3): ciklus reprezentáció = [(0, 1, 2), (3, 4, 5)]\n",
        "\n",
        "    A `__repr__` metódus a szokásos alakú, osztály név és az inicializáló\n",
        "    argumentumok.\n",
        "\n",
        "    Példák.\n",
        "\n",
        "        pi0 = Permutation([1, 2, 3, 0])\n",
        "        print(pi0)       # -> cycles : [(0, 1, 2, 3)]\n",
        "        print(repr(pi0)) # -> Permutation((1, 2, 3, 0))\n",
        "        pi1 = Permutation([1, 0, 3, 2])\n",
        "        print(pi1)       # -> cycles : [(0, 1), (2, 3)]\n",
        "        print(repr(pi1)) # -> Permutation((1, 0, 3, 2))\n",
        "\n",
        "    Az `__init__` függvény ellenőrizze, hogy a kapott $n$-es valóban\n",
        "    permutáció-e, ha nem akkor dobjon `ValueError` hibát! Ezt sem kell\n",
        "    túlbonyolítani. Ötlet: egy véges függvény pontosan akkor permutáció, ha\n",
        "    értékkészlete ugyanaz mint az értelmezési tartománya. Jelen esetben az\n",
        "    értelemzési tartomány `set(range(n))`, ahol `n` a bemenetként kapott\n",
        "    sorozat hossza!\n",
        "\n",
        "    Szokás szerint írjunk teszt függvényt, ami az osztály metódusait\n",
        "    ellenőrzi 4-5 teszteseten, amik között olyan is van amikor az argumentum\n",
        "    hibás, azaz nem egy permutáció (nem sorozat, nem egészekből álló\n",
        "    sorozat, ismétlődéseket tartalmazó sorozat, stb)!\n",
        "\n",
        "    Ha az argumentum hibás akkor az elvárt működés az, hogy `ValueError`\n",
        "    hibát kapunk. Ennek teszteléséhez a `pytest` modulból a `raises`\n",
        "    függvényt kell importálni és a teszt függvényben a\n",
        "\n",
        "        with raises(ValueError):\n",
        "            Permutation(...)\n",
        "\n",
        "    sorokat elhelyezni, ahol a `...` helyén a hibát okozó argumentumok\n",
        "    állnak.\n",
        "\n",
        "    A típus annotáció, és a dokumentációs string most opcionális.\n",
        "\n"
      ]
    },
    {
      "cell_type": "code",
      "execution_count": 7,
      "metadata": {
        "id": "bQ_PUuFgEhM2"
      },
      "outputs": [],
      "source": [
        "class Permutation:\n",
        "\n",
        "    def __init__(self, permutation):\n",
        "        if set(permutation) != set(range(len(permutation))):\n",
        "            raise ValueError\n",
        "        self.permutation = tuple(permutation)    \n",
        "\n",
        "    def __str__(self):\n",
        "        cycles = []\n",
        "        pi = list(self.permutation)\n",
        "        for i in range(len(pi)):\n",
        "            x = pi[i]\n",
        "            if (x==-1) or (i==x):\n",
        "                continue\n",
        "            cycle = [i]\n",
        "            while x!=i:\n",
        "                cycle.append(x)\n",
        "                y = pi[x]\n",
        "                pi[x] = -1\n",
        "                x = y\n",
        "            cycles.append(tuple(cycle))\n",
        "\n",
        "        return f\"cycles : {cycles}\"\n",
        "\n",
        "    def __repr__(self):\n",
        "        return f\"{type(self).__name__}({self.permutation})\"\n",
        "    "
      ]
    },
    {
      "cell_type": "code",
      "source": [
        "pi = Permutation((0, 1, 2, 3, 4, 5))\n",
        "assert str(pi) ==  \"cycles : []\" #: ciklus reprezentáció = []\n",
        "assert repr(pi) == \"Permutation((0, 1, 2, 3, 4, 5))\"\n",
        "\n",
        "pi = Permutation((0, 1, 2, 3, 5, 4))  # : ciklus reprezentáció = [(4,5)]\n",
        "print(repr(pi), str(pi), repr(pi))\n",
        "assert str(pi) == \"cycles : [(4, 5)]\"\n",
        "assert repr(pi) == \"Permutation((0, 1, 2, 3, 4, 5))\"\n",
        "    "
      ],
      "metadata": {
        "id": "pzHsA5qCPh0l",
        "outputId": "aa01a9ba-8cd3-46a3-c1d1-7f22fe95775f",
        "colab": {
          "base_uri": "https://localhost:8080/",
          "height": 236
        }
      },
      "execution_count": 8,
      "outputs": [
        {
          "output_type": "stream",
          "name": "stdout",
          "text": [
            "Permutation((0, 1, 2, 3, 5, 4)) cycles : [(4, 5)] Permutation((0, 1, 2, 3, 5, 4))\n"
          ]
        },
        {
          "output_type": "error",
          "ename": "AssertionError",
          "evalue": "ignored",
          "traceback": [
            "\u001b[0;31m---------------------------------------------------------------------------\u001b[0m",
            "\u001b[0;31mAssertionError\u001b[0m                            Traceback (most recent call last)",
            "\u001b[0;32m<ipython-input-8-378096914ef0>\u001b[0m in \u001b[0;36m<module>\u001b[0;34m\u001b[0m\n\u001b[1;32m      6\u001b[0m \u001b[0mprint\u001b[0m\u001b[0;34m(\u001b[0m\u001b[0mrepr\u001b[0m\u001b[0;34m(\u001b[0m\u001b[0mpi\u001b[0m\u001b[0;34m)\u001b[0m\u001b[0;34m,\u001b[0m \u001b[0mstr\u001b[0m\u001b[0;34m(\u001b[0m\u001b[0mpi\u001b[0m\u001b[0;34m)\u001b[0m\u001b[0;34m,\u001b[0m \u001b[0mrepr\u001b[0m\u001b[0;34m(\u001b[0m\u001b[0mpi\u001b[0m\u001b[0;34m)\u001b[0m\u001b[0;34m)\u001b[0m\u001b[0;34m\u001b[0m\u001b[0;34m\u001b[0m\u001b[0m\n\u001b[1;32m      7\u001b[0m \u001b[0;32massert\u001b[0m \u001b[0mstr\u001b[0m\u001b[0;34m(\u001b[0m\u001b[0mpi\u001b[0m\u001b[0;34m)\u001b[0m \u001b[0;34m==\u001b[0m \u001b[0;34m\"cycles : [(4, 5)]\"\u001b[0m\u001b[0;34m\u001b[0m\u001b[0;34m\u001b[0m\u001b[0m\n\u001b[0;32m----> 8\u001b[0;31m \u001b[0;32massert\u001b[0m \u001b[0mrepr\u001b[0m\u001b[0;34m(\u001b[0m\u001b[0mpi\u001b[0m\u001b[0;34m)\u001b[0m \u001b[0;34m==\u001b[0m \u001b[0;34m\"Permutation((0, 1, 2, 3, 4, 5))\"\u001b[0m\u001b[0;34m\u001b[0m\u001b[0;34m\u001b[0m\u001b[0m\n\u001b[0m\u001b[1;32m      9\u001b[0m \u001b[0;34m\u001b[0m\u001b[0m\n",
            "\u001b[0;31mAssertionError\u001b[0m: "
          ]
        }
      ]
    },
    {
      "cell_type": "code",
      "execution_count": 11,
      "metadata": {
        "id": "lmDV7hZXEhM2",
        "outputId": "4fe63572-0e60-46b4-b742-732488039a68",
        "colab": {
          "base_uri": "https://localhost:8080/"
        }
      },
      "outputs": [
        {
          "output_type": "stream",
          "name": "stdout",
          "text": [
            "\u001b[32m.\u001b[0m\u001b[32m                                                                                            [100%]\u001b[0m\n",
            "\u001b[32m\u001b[32m\u001b[1m1 passed\u001b[0m\u001b[32m in 0.02s\u001b[0m\u001b[0m\n"
          ]
        }
      ],
      "source": [
        "%%ipytest\n",
        "\n",
        "from pytest import raises\n",
        "\n",
        "def test_Permutation():\n",
        "\n",
        "    pi = Permutation((0, 1, 2, 3, 4, 5))\n",
        "    assert str(pi) ==  \"cycles : []\" #: ciklus reprezentáció = []\n",
        "    assert repr(pi) == \"Permutation((0, 1, 2, 3, 4, 5))\"\n",
        "    \n",
        "    pi = Permutation((0, 1, 2, 3, 5, 4))  # : ciklus reprezentáció = [(4,5)]\n",
        "    assert str(pi) == \"cycles : [(4, 5)]\"\n",
        "    assert repr(pi) == \"Permutation((0, 1, 2, 3, 5, 4))\"\n",
        "        \n",
        "    pi = Permutation((1, 2, 3, 4, 5, 0)) #: ciklus reprezentáció = [(0, 1, 2, 3, 4, 5)]\n",
        "    assert str(pi) == \"cycles : [(0, 1, 2, 3, 4, 5)]\"\n",
        "    assert repr(pi) == \"Permutation((1, 2, 3, 4, 5, 0))\"\n",
        "    \n",
        "    pi = Permutation((1, 2, 0, 4, 5, 3)) #: ciklus reprezentáció = [(0, 1, 2), (3, 4, 5)]\n",
        "    assert str(pi) == \"cycles : [(0, 1, 2), (3, 4, 5)]\"\n",
        "    assert repr(pi) == \"Permutation((1, 2, 0, 4, 5, 3))\"\n",
        "\n",
        "    pi = Permutation((2, 0, 1))\n",
        "    assert str(pi) == \"cycles : [(0, 2, 1)]\"\n",
        "    assert repr(pi) == \"Permutation((2, 0, 1))\"\n",
        "    \n",
        "    with raises(ValueError):\n",
        "        Permutation((1,1,1)) \n",
        "    \n",
        "    with raises(ValueError):\n",
        "        Permutation((0, 3))\n",
        "    \n",
        "    with raises(ValueError):\n",
        "        Permutation(\"permutáció\")\n",
        "    "
      ]
    },
    {
      "cell_type": "markdown",
      "metadata": {
        "id": "aHvYj2jeEhM4"
      },
      "source": [
        "## További tesztelési lehetőség\n",
        "\n",
        "Készítsünk véletlen ciklus felbontást, és számítsuk ki a hozzá tartozó permutációt! A két függvényben \n",
        "`permutáció -> ciklus felbontás` és `ciklus felbontás -> permutáció` valószínűleg nem követjük el ugyanazt a hibát! "
      ]
    },
    {
      "cell_type": "code",
      "execution_count": 14,
      "metadata": {
        "id": "WSQ-IJjyEhM5"
      },
      "outputs": [],
      "source": [
        "import random\n",
        "def cycle_to_perm(cycles, n):\n",
        "    perm = list(range(n))\n",
        "    for cycle in cycles:\n",
        "        for x, y in zip(cycle, cycle[1:]):\n",
        "            perm[x] = y \n",
        "        perm[cycle[-1]] = cycle[0]\n",
        "    return perm\n",
        "\n",
        "def random_cycles(n):\n",
        "    ## not efficient in theory!\n",
        "    points = list(range(n))\n",
        "    cycles = []\n",
        "    while points:\n",
        "        i = points.pop(0)\n",
        "        k = random.randint(0, len(points))\n",
        "        if k>0:\n",
        "            c = [i]\n",
        "            for _ in range(k):\n",
        "                j = random.randrange(len(points))\n",
        "                c.append(points.pop(j))\n",
        "            cycles.append(tuple(c))\n",
        "\n",
        "    return cycles\n",
        "        \n",
        "def pop(lst, i, n):\n",
        "    if i == n-1:\n",
        "        return lst[i]\n",
        "        \n",
        "    value = lst[i]\n",
        "    lst[i] = lst[n-1]\n",
        "    root = i\n",
        "    while root < n:\n",
        "        new_root = root \n",
        "        child = 2*root+1\n",
        "        \n",
        "        if child<n and lst[child]<lst[new_root]:\n",
        "            new_root = child\n",
        "        child = child+1\n",
        "        \n",
        "        if child<n and lst[child]<lst[new_root]:\n",
        "            new_root = child\n",
        "\n",
        "        if root == new_root:\n",
        "            break\n",
        "        \n",
        "        lst[root], lst[new_root] = lst[new_root], lst[root]\n",
        "        root = new_root\n",
        "        \n",
        "    return value\n",
        "\n",
        "def random_cycles2(n):\n",
        "    ## more efficient in theory\n",
        "    points = list(range(n))\n",
        "    cycles = []\n",
        "    while n>0:\n",
        "        k = random.randrange(0, n)\n",
        "        c = [pop(points, 0, n)]\n",
        "        n -= 1\n",
        "        for _ in range(k):\n",
        "            j = random.randrange(n)\n",
        "            c.append(pop(points, j ,n))\n",
        "            n -= 1\n",
        "        if len(c)>1:\n",
        "            cycles.append(tuple(c))\n",
        "\n",
        "    return cycles\n"
      ]
    },
    {
      "cell_type": "code",
      "execution_count": 15,
      "metadata": {
        "id": "UJTm-lFsEhM6",
        "outputId": "3d4a8582-e381-48dd-d1f3-bfc4d2136c47",
        "colab": {
          "base_uri": "https://localhost:8080/"
        }
      },
      "outputs": [
        {
          "output_type": "stream",
          "name": "stdout",
          "text": [
            "c = [(0, 6, 2, 8, 7, 9, 5), (1, 4)]\n",
            "p = 0->6, 1->4, 2->8, 3->3, 4->1, 5->0, 6->2, 7->9, 8->7, 9->5\n"
          ]
        }
      ],
      "source": [
        "n = 10\n",
        "c = random_cycles2(n)\n",
        "p = cycle_to_perm(c, n)\n",
        "def str_p(p):\n",
        "    return \", \".join(f'{head}->{tail}' for head, tail in enumerate(p))\n",
        "\n",
        "print(f\"c = {c}\\np = {str_p(p)}\")"
      ]
    },
    {
      "cell_type": "code",
      "execution_count": 16,
      "metadata": {
        "id": "6Ym-l5H3EhM7",
        "outputId": "0a5a7053-5732-4bc1-ed2d-38a68db42aad",
        "colab": {
          "base_uri": "https://localhost:8080/"
        }
      },
      "outputs": [
        {
          "output_type": "stream",
          "name": "stdout",
          "text": [
            "0, [1, 3, 2, 7, 4, 5, 6, 9, 8]\n",
            "1, [2, 3, 5, 7, 4, 8, 6, 9]\n",
            "2, [3, 4, 5, 7, 9, 8, 6]\n",
            "3, [4, 6, 5, 7, 9, 8]\n",
            "4, [5, 6, 8, 7, 9]\n",
            "5, [6, 7, 8, 9]\n",
            "6, [7, 9, 8]\n",
            "7, [8, 9]\n",
            "8, [9]\n",
            "9, []\n"
          ]
        }
      ],
      "source": [
        "n = 10\n",
        "points = list(range(n))\n",
        "while n:\n",
        "    print(f\"{pop(points, 0, n)}, {points[:n-1]}\")\n",
        "    n -= 1"
      ]
    },
    {
      "cell_type": "code",
      "execution_count": 17,
      "metadata": {
        "id": "p7Kf_F1LEhM8",
        "outputId": "97216b32-b93e-41dd-9fa2-d08089d653d5",
        "colab": {
          "base_uri": "https://localhost:8080/"
        }
      },
      "outputs": [
        {
          "output_type": "stream",
          "name": "stdout",
          "text": [
            "\u001b[32m.\u001b[0m\u001b[32m                                                                                            [100%]\u001b[0m\n",
            "\u001b[32m\u001b[32m\u001b[1m1 passed\u001b[0m\u001b[32m in 0.02s\u001b[0m\u001b[0m\n"
          ]
        }
      ],
      "source": [
        "%%ipytest\n",
        "\n",
        "def test_Permutation_str():\n",
        "    n = 10\n",
        "    for _ in range(100):\n",
        "        c = random_cycles(n)\n",
        "        p = cycle_to_perm(c, n)\n",
        "        assert str(Permutation(p)) == f\"cycles : {c}\"\n",
        "\n"
      ]
    },
    {
      "cell_type": "code",
      "execution_count": 18,
      "metadata": {
        "id": "34tUWhxoEhM9",
        "outputId": "aa0aa3c5-ca59-4c5c-8022-7c5a80be2613",
        "colab": {
          "base_uri": "https://localhost:8080/"
        }
      },
      "outputs": [
        {
          "output_type": "stream",
          "name": "stdout",
          "text": [
            "17 ms ± 258 µs per loop (mean ± std. dev. of 7 runs, 100 loops each)\n",
            "23.9 ms ± 736 µs per loop (mean ± std. dev. of 7 runs, 10 loops each)\n",
            "611 ms ± 7.68 ms per loop (mean ± std. dev. of 7 runs, 1 loop each)\n",
            "290 ms ± 9.75 ms per loop (mean ± std. dev. of 7 runs, 1 loop each)\n"
          ]
        }
      ],
      "source": [
        "\n",
        "%timeit random_cycles(10_000)\n",
        "%timeit random_cycles2(10_000)\n",
        "\n",
        "%timeit random_cycles(100_000)\n",
        "%timeit random_cycles2(100_000)\n"
      ]
    },
    {
      "cell_type": "markdown",
      "metadata": {
        "id": "mzEI4ruhEhM9"
      },
      "source": [
        "### Vizualizáció"
      ]
    },
    {
      "cell_type": "markdown",
      "metadata": {
        "id": "4epK76k5EhM-"
      },
      "source": [
        "Gráfok gyakran előfordulnak és jó lenne őket ábrázolni. Erre szolgál a [`graphviz` python](https://graphviz.readthedocs.io/) könyvtár.\n",
        "Ez  python könyvtár az ugyanilyen nevű `C` könyvtárat használja. Azt is le kell tölteni, ha nincs telepítve\n",
        "[graphviz](https://www.graphviz.org/)"
      ]
    },
    {
      "cell_type": "code",
      "execution_count": 22,
      "metadata": {
        "id": "GivR6MsWEhM-"
      },
      "outputs": [],
      "source": [
        "try:\n",
        "    import graphviz\n",
        "except ModuleNotFoundError:\n",
        "    print(\"On ubuntu/debian try:\")\n",
        "    print(\"!pip install graphviz\")\n",
        "    print(\"!sudo apt install graphviz\")\n",
        "    print('Then try again!')"
      ]
    },
    {
      "cell_type": "markdown",
      "metadata": {
        "id": "yv_DFI7NEhM_"
      },
      "source": [
        "Ezután egy nem túl nagy irányított gráfot, pl. egy véleltlen permutációból kapottat a következőképpen jeleníthetünk meg"
      ]
    },
    {
      "cell_type": "code",
      "execution_count": 25,
      "metadata": {
        "id": "mmkSYd6pEhM_",
        "outputId": "5bec4835-167c-4f2a-9a26-1cb1f556cc99",
        "colab": {
          "base_uri": "https://localhost:8080/",
          "height": 324
        }
      },
      "outputs": [
        {
          "output_type": "stream",
          "name": "stdout",
          "text": [
            "permutation before shuffling: [0, 1, 2, 3, 4, 5, 6, 7]\n",
            " permutation after shuffling: [4, 6, 2, 7, 5, 0, 1, 3]\n"
          ]
        },
        {
          "output_type": "display_data",
          "data": {
            "text/plain": [
              "<graphviz.dot.Digraph at 0x7efca9c49bd0>"
            ],
            "image/svg+xml": "<?xml version=\"1.0\" encoding=\"UTF-8\" standalone=\"no\"?>\n<!DOCTYPE svg PUBLIC \"-//W3C//DTD SVG 1.1//EN\"\n \"http://www.w3.org/Graphics/SVG/1.1/DTD/svg11.dtd\">\n<!-- Generated by graphviz version 2.40.1 (20161225.0304)\n -->\n<!-- Title: %3 Pages: 1 -->\n<svg width=\"342pt\" height=\"188pt\"\n viewBox=\"0.00 0.00 342.00 188.00\" xmlns=\"http://www.w3.org/2000/svg\" xmlns:xlink=\"http://www.w3.org/1999/xlink\">\n<g id=\"graph0\" class=\"graph\" transform=\"scale(1 1) rotate(0) translate(4 184)\">\n<title>%3</title>\n<polygon fill=\"#ffffff\" stroke=\"transparent\" points=\"-4,4 -4,-184 338,-184 338,4 -4,4\"/>\n<!-- 0 -->\n<g id=\"node1\" class=\"node\">\n<title>0</title>\n<ellipse fill=\"none\" stroke=\"#000000\" cx=\"50\" cy=\"-162\" rx=\"27\" ry=\"18\"/>\n<text text-anchor=\"middle\" x=\"50\" y=\"-158.3\" font-family=\"Times,serif\" font-size=\"14.00\" fill=\"#000000\">0</text>\n</g>\n<!-- 4 -->\n<g id=\"node2\" class=\"node\">\n<title>4</title>\n<ellipse fill=\"none\" stroke=\"#000000\" cx=\"27\" cy=\"-90\" rx=\"27\" ry=\"18\"/>\n<text text-anchor=\"middle\" x=\"27\" y=\"-86.3\" font-family=\"Times,serif\" font-size=\"14.00\" fill=\"#000000\">4</text>\n</g>\n<!-- 0&#45;&gt;4 -->\n<g id=\"edge1\" class=\"edge\">\n<title>0&#45;&gt;4</title>\n<path fill=\"none\" stroke=\"#000000\" d=\"M44.3146,-144.2022C41.7437,-136.1541 38.6466,-126.4588 35.7868,-117.5067\"/>\n<polygon fill=\"#000000\" stroke=\"#000000\" points=\"39.0768,-116.3033 32.6997,-107.8425 32.4087,-118.4334 39.0768,-116.3033\"/>\n</g>\n<!-- 5 -->\n<g id=\"node8\" class=\"node\">\n<title>5</title>\n<ellipse fill=\"none\" stroke=\"#000000\" cx=\"54\" cy=\"-18\" rx=\"27\" ry=\"18\"/>\n<text text-anchor=\"middle\" x=\"54\" y=\"-14.3\" font-family=\"Times,serif\" font-size=\"14.00\" fill=\"#000000\">5</text>\n</g>\n<!-- 4&#45;&gt;5 -->\n<g id=\"edge5\" class=\"edge\">\n<title>4&#45;&gt;5</title>\n<path fill=\"none\" stroke=\"#000000\" d=\"M33.6742,-72.2022C36.7476,-64.0064 40.4616,-54.1024 43.8695,-45.0145\"/>\n<polygon fill=\"#000000\" stroke=\"#000000\" points=\"47.1685,-46.1853 47.4026,-35.593 40.6142,-43.7274 47.1685,-46.1853\"/>\n</g>\n<!-- 1 -->\n<g id=\"node3\" class=\"node\">\n<title>1</title>\n<ellipse fill=\"none\" stroke=\"#000000\" cx=\"145\" cy=\"-162\" rx=\"27\" ry=\"18\"/>\n<text text-anchor=\"middle\" x=\"145\" y=\"-158.3\" font-family=\"Times,serif\" font-size=\"14.00\" fill=\"#000000\">1</text>\n</g>\n<!-- 6 -->\n<g id=\"node4\" class=\"node\">\n<title>6</title>\n<ellipse fill=\"none\" stroke=\"#000000\" cx=\"145\" cy=\"-90\" rx=\"27\" ry=\"18\"/>\n<text text-anchor=\"middle\" x=\"145\" y=\"-86.3\" font-family=\"Times,serif\" font-size=\"14.00\" fill=\"#000000\">6</text>\n</g>\n<!-- 1&#45;&gt;6 -->\n<g id=\"edge2\" class=\"edge\">\n<title>1&#45;&gt;6</title>\n<path fill=\"none\" stroke=\"#000000\" d=\"M139.0843,-144.2022C138.2798,-136.1807 138.0571,-126.5231 138.4162,-117.5957\"/>\n<polygon fill=\"#000000\" stroke=\"#000000\" points=\"141.9097,-117.8099 139.105,-107.593 134.9262,-117.3289 141.9097,-117.8099\"/>\n</g>\n<!-- 6&#45;&gt;1 -->\n<g id=\"edge7\" class=\"edge\">\n<title>6&#45;&gt;1</title>\n<path fill=\"none\" stroke=\"#000000\" d=\"M150.895,-107.593C151.7094,-115.5865 151.942,-125.2363 151.5928,-134.1759\"/>\n<polygon fill=\"#000000\" stroke=\"#000000\" points=\"148.0976,-133.9891 150.9157,-144.2022 155.0817,-134.4608 148.0976,-133.9891\"/>\n</g>\n<!-- 2 -->\n<g id=\"node5\" class=\"node\">\n<title>2</title>\n<ellipse fill=\"none\" stroke=\"#000000\" cx=\"217\" cy=\"-162\" rx=\"27\" ry=\"18\"/>\n<text text-anchor=\"middle\" x=\"217\" y=\"-158.3\" font-family=\"Times,serif\" font-size=\"14.00\" fill=\"#000000\">2</text>\n</g>\n<!-- 2&#45;&gt;2 -->\n<g id=\"edge3\" class=\"edge\">\n<title>2&#45;&gt;2</title>\n<path fill=\"none\" stroke=\"#000000\" d=\"M236.895,-174.4321C249.688,-177.6753 262,-173.5313 262,-162 262,-153.6218 255.5006,-149.1433 247.0395,-148.5644\"/>\n<polygon fill=\"#000000\" stroke=\"#000000\" points=\"246.5019,-145.1004 236.895,-149.5679 247.191,-152.0665 246.5019,-145.1004\"/>\n</g>\n<!-- 3 -->\n<g id=\"node6\" class=\"node\">\n<title>3</title>\n<ellipse fill=\"none\" stroke=\"#000000\" cx=\"307\" cy=\"-162\" rx=\"27\" ry=\"18\"/>\n<text text-anchor=\"middle\" x=\"307\" y=\"-158.3\" font-family=\"Times,serif\" font-size=\"14.00\" fill=\"#000000\">3</text>\n</g>\n<!-- 7 -->\n<g id=\"node7\" class=\"node\">\n<title>7</title>\n<ellipse fill=\"none\" stroke=\"#000000\" cx=\"307\" cy=\"-90\" rx=\"27\" ry=\"18\"/>\n<text text-anchor=\"middle\" x=\"307\" y=\"-86.3\" font-family=\"Times,serif\" font-size=\"14.00\" fill=\"#000000\">7</text>\n</g>\n<!-- 3&#45;&gt;7 -->\n<g id=\"edge4\" class=\"edge\">\n<title>3&#45;&gt;7</title>\n<path fill=\"none\" stroke=\"#000000\" d=\"M301.0843,-144.2022C300.2798,-136.1807 300.0571,-126.5231 300.4162,-117.5957\"/>\n<polygon fill=\"#000000\" stroke=\"#000000\" points=\"303.9097,-117.8099 301.105,-107.593 296.9262,-117.3289 303.9097,-117.8099\"/>\n</g>\n<!-- 7&#45;&gt;3 -->\n<g id=\"edge8\" class=\"edge\">\n<title>7&#45;&gt;3</title>\n<path fill=\"none\" stroke=\"#000000\" d=\"M312.895,-107.593C313.7094,-115.5865 313.942,-125.2363 313.5928,-134.1759\"/>\n<polygon fill=\"#000000\" stroke=\"#000000\" points=\"310.0976,-133.9891 312.9157,-144.2022 317.0817,-134.4608 310.0976,-133.9891\"/>\n</g>\n<!-- 5&#45;&gt;0 -->\n<g id=\"edge6\" class=\"edge\">\n<title>5&#45;&gt;0</title>\n<path fill=\"none\" stroke=\"#000000\" d=\"M58.0968,-35.9509C61.705,-54.1315 65.9609,-83.0504 63,-108 61.9659,-116.7138 60.0243,-126.056 57.9511,-134.4788\"/>\n<polygon fill=\"#000000\" stroke=\"#000000\" points=\"54.5548,-133.6323 55.4091,-144.1926 61.3268,-135.4045 54.5548,-133.6323\"/>\n</g>\n</g>\n</svg>\n"
          },
          "metadata": {}
        },
        {
          "output_type": "stream",
          "name": "stdout",
          "text": [
            "{'cycles : [(0, 4, 5), (1, 6), (3, 7)]'} {'Permutation((4, 6, 2, 7, 5, 0, 1, 3))'}\n"
          ]
        }
      ],
      "source": [
        "import random\n",
        "\n",
        "permutation = list(range(8))\n",
        "print(f\"permutation before shuffling: {permutation}\")\n",
        "random.shuffle(permutation)\n",
        "print(f\" permutation after shuffling: {permutation}\")\n",
        "\n",
        "## making edges for graphviz. Node labels must be strings\n",
        "edges = [(str(head), str(tail)) for head, tail in enumerate(permutation)]\n",
        "G = graphviz.Digraph()\n",
        "G.edges(edges)\n",
        "\n",
        "display(G)\n",
        "\n",
        "pi = Permutation(permutation)\n",
        "print({str(pi)}, {repr(pi)})"
      ]
    },
    {
      "cell_type": "code",
      "execution_count": 26,
      "metadata": {
        "id": "_WA_KhBEEhNA",
        "outputId": "26be4d2e-1cb3-4c62-a229-395aee2ba1b6",
        "colab": {
          "base_uri": "https://localhost:8080/"
        }
      },
      "outputs": [
        {
          "output_type": "stream",
          "name": "stdout",
          "text": [
            "digraph {\n",
            "\tgraph [bb=\"0,0,334,180\"];\n",
            "\tnode [label=\"\\N\"];\n",
            "\t0\t [height=0.5,\n",
            "\t\tpos=\"50,162\",\n",
            "\t\twidth=0.75];\n",
            "\t4\t [height=0.5,\n",
            "\t\tpos=\"27,90\",\n",
            "\t\twidth=0.75];\n",
            "\t0 -> 4\t [pos=\"e,32.7,107.84 44.315,144.2 41.744,136.15 38.647,126.46 35.787,117.51\"];\n",
            "\t5\t [height=0.5,\n",
            "\t\tpos=\"54,18\",\n",
            "\t\twidth=0.75];\n",
            "\t4 -> 5\t [pos=\"e,47.403,35.593 33.674,72.202 36.748,64.006 40.462,54.102 43.87,45.015\"];\n",
            "\t1\t [height=0.5,\n",
            "\t\tpos=\"145,162\",\n",
            "\t\twidth=0.75];\n",
            "\t6\t [height=0.5,\n",
            "\t\tpos=\"145,90\",\n",
            "\t\twidth=0.75];\n",
            "\t1 -> 6\t [pos=\"e,139.1,107.59 139.08,144.2 138.28,136.18 138.06,126.52 138.42,117.6\"];\n",
            "\t6 -> 1\t [pos=\"e,150.92,144.2 150.9,107.59 151.71,115.59 151.94,125.24 151.59,134.18\"];\n",
            "\t2\t [height=0.5,\n",
            "\t\tpos=\"217,162\",\n",
            "\t\twidth=0.75];\n",
            "\t2 -> 2\t [pos=\"e,236.9,149.57 236.9,174.43 249.69,177.68 262,173.53 262,162 262,153.62 255.5,149.14 247.04,148.56\"];\n",
            "\t3\t [height=0.5,\n",
            "\t\tpos=\"307,162\",\n",
            "\t\twidth=0.75];\n",
            "\t7\t [height=0.5,\n",
            "\t\tpos=\"307,90\",\n",
            "\t\twidth=0.75];\n",
            "\t3 -> 7\t [pos=\"e,301.1,107.59 301.08,144.2 300.28,136.18 300.06,126.52 300.42,117.6\"];\n",
            "\t7 -> 3\t [pos=\"e,312.92,144.2 312.9,107.59 313.71,115.59 313.94,125.24 313.59,134.18\"];\n",
            "\t5 -> 0\t [pos=\"e,55.409,144.19 58.097,35.951 61.705,54.132 65.961,83.05 63,108 61.966,116.71 60.024,126.06 57.951,134.48\"];\n",
            "}\n",
            "\n"
          ]
        }
      ],
      "source": [
        "print(G.pipe(format='dot').decode('utf8'))"
      ]
    },
    {
      "cell_type": "markdown",
      "metadata": {
        "id": "IRyf4FJ4EhNB"
      },
      "source": [
        "# Dekorátorok"
      ]
    },
    {
      "cell_type": "markdown",
      "metadata": {
        "id": "XulGvyoeEhNB"
      },
      "source": [
        "## Property"
      ]
    },
    {
      "cell_type": "markdown",
      "metadata": {
        "id": "-L3afjjnEhNB"
      },
      "source": [
        "Előadáson a `property` dekorátor szerepelt."
      ]
    },
    {
      "cell_type": "code",
      "execution_count": 33,
      "metadata": {
        "id": "JDyf1DRVEhNB"
      },
      "outputs": [],
      "source": [
        "class Temperature:\n",
        "    def __init__(self, celsius=0):\n",
        "        self.C = celsius\n",
        "\n",
        "    @property\n",
        "    def F(self):\n",
        "        return 32+9*self.T/5\n",
        "    \n",
        "    @F.setter\n",
        "    def F(self, fahrenheit):\n",
        "        self.C = (fahrenheit-32)*5/9\n",
        "\n",
        "    @property\n",
        "    def C(self):\n",
        "        return self.T \n",
        "    \n",
        "    @C.setter\n",
        "    def C(self, celsius):\n",
        "        if celsius < -273:\n",
        "            raise ValueError('Temperature is too small')\n",
        "        self.T = celsius\n",
        "\n",
        "    def __str__(self):\n",
        "        return f\"{self.C:.1f} \\u2103 \\t({self.F:.1f} \\u2109)\"\n",
        "\n",
        "    def __repr__(self):\n",
        "        return f\"{type(self).__name__}({self.T})\"\n",
        "    \n",
        "    "
      ]
    },
    {
      "cell_type": "markdown",
      "metadata": {
        "id": "W4bRJSU_EhNC"
      },
      "source": [
        "Példák."
      ]
    },
    {
      "cell_type": "code",
      "execution_count": 34,
      "metadata": {
        "id": "rLxVU6B1EhNC",
        "outputId": "b723c8f9-79e6-4da6-f9e1-972cea06f514",
        "colab": {
          "base_uri": "https://localhost:8080/"
        }
      },
      "outputs": [
        {
          "output_type": "stream",
          "name": "stdout",
          "text": [
            "-20.0 ℃ \t(-4.0 ℉)\n",
            "-15.0 ℃ \t(5.0 ℉)\n",
            "-10.0 ℃ \t(14.0 ℉)\n",
            "-5.0 ℃ \t(23.0 ℉)\n",
            "0.0 ℃ \t(32.0 ℉)\n",
            "5.0 ℃ \t(41.0 ℉)\n",
            "10.0 ℃ \t(50.0 ℉)\n",
            "15.0 ℃ \t(59.0 ℉)\n",
            "20.0 ℃ \t(68.0 ℉)\n",
            "25.0 ℃ \t(77.0 ℉)\n",
            "30.0 ℃ \t(86.0 ℉)\n",
            "35.0 ℃ \t(95.0 ℉)\n",
            "40.0 ℃ \t(104.0 ℉)\n"
          ]
        }
      ],
      "source": [
        "temp = Temperature()\n",
        "\n",
        "for t in range(-20, 45, 5):\n",
        "    temp.C = t\n",
        "    print(str(temp))\n",
        "     "
      ]
    },
    {
      "cell_type": "code",
      "execution_count": 35,
      "metadata": {
        "id": "2rCAM-imEhND",
        "outputId": "e3e7e34c-6268-423d-fc16-fd35363cb272",
        "colab": {
          "base_uri": "https://localhost:8080/"
        }
      },
      "outputs": [
        {
          "output_type": "stream",
          "name": "stdout",
          "text": [
            "37.8 ℃ \t(100.0 ℉)\n"
          ]
        },
        {
          "output_type": "execute_result",
          "data": {
            "text/plain": [
              "Temperature(37.77777777777778)"
            ]
          },
          "metadata": {},
          "execution_count": 35
        }
      ],
      "source": [
        "temp.F = 100\n",
        "print(temp)\n",
        "temp"
      ]
    },
    {
      "cell_type": "markdown",
      "metadata": {
        "id": "xX12Ldw2EhND"
      },
      "source": [
        "## További példák dekorátorokra\n",
        "\n",
        "A `functools` modulban számos hasznos dekorátor található\n",
        "\n",
        "- `lru_cache`: A függvényből a memorizált változatot készíti el.\n",
        "- `partial`: `g = partial(f, 1)` hatására `g(...)` ugyanaz, mint `f(1, ...)`\n",
        "- `wraps`: lásd a dokumentációt."
      ]
    },
    {
      "cell_type": "code",
      "execution_count": 32,
      "metadata": {
        "id": "6SEMkMWkEhNE",
        "outputId": "b2eb335a-a36d-4f62-e2c9-8b54c1b17c05",
        "colab": {
          "base_uri": "https://localhost:8080/"
        }
      },
      "outputs": [
        {
          "output_type": "stream",
          "name": "stdout",
          "text": [
            "1 4 1\n",
            "CacheInfo(hits=1, misses=2, maxsize=128, currsize=2)\n"
          ]
        },
        {
          "output_type": "execute_result",
          "data": {
            "text/plain": [
              "11"
            ]
          },
          "metadata": {},
          "execution_count": 32
        }
      ],
      "source": [
        "from functools import lru_cache, partial, wraps\n",
        "\n",
        "@lru_cache()\n",
        "def f(x):\n",
        "    return x*x\n",
        "\n",
        "print(f(1), f(2), f(1))\n",
        "print(f.cache_info())\n",
        "\n",
        "def add(a, b):\n",
        "    return a+b\n",
        "\n",
        "inc = partial(add, 1)\n",
        "inc(10)\n",
        "\n",
        "\n"
      ]
    },
    {
      "cell_type": "code",
      "execution_count": null,
      "metadata": {
        "id": "-92oH37NEhNE"
      },
      "outputs": [],
      "source": [
        "def decor_wo_wraps(f):\n",
        "    def h(*args):\n",
        "        print(\"decorated without wraps\")\n",
        "        return f(*args)\n",
        "    return h\n",
        "\n",
        "def decor_wraps(f):\n",
        "    @wraps(f)\n",
        "    def h(*args):\n",
        "        print(\"decorated with wraps\")\n",
        "        return f(*args)\n",
        "    return h\n"
      ]
    },
    {
      "cell_type": "code",
      "execution_count": null,
      "metadata": {
        "id": "ByF8-iu1EhNF"
      },
      "outputs": [],
      "source": [
        "@decor_wo_wraps\n",
        "def dummy_fn(a:int, b:int) -> int:\n",
        "    \"\"\"dummy fn. Nothing interesting\"\"\"\n",
        "    return a+b\n",
        "\n",
        "print(dummy_fn(1, 2))\n",
        "help(dummy_fn)"
      ]
    },
    {
      "cell_type": "code",
      "execution_count": null,
      "metadata": {
        "id": "6psXTfyIEhNG"
      },
      "outputs": [],
      "source": [
        "@decor_wraps\n",
        "def dummy_fn(a:int, b:int) ->int:\n",
        "    \"\"\"dummy fn. Nothing interesting\"\"\"\n",
        "    return a+b\n",
        "\n",
        "print(dummy_fn(1, 2))\n",
        "help(dummy_fn)"
      ]
    },
    {
      "cell_type": "markdown",
      "metadata": {
        "id": "OQyVoGCSEhNG"
      },
      "source": [
        "# Öröklődés"
      ]
    },
    {
      "cell_type": "markdown",
      "metadata": {
        "id": "64yEPt0-EhNH"
      },
      "source": [
        "Előadáson szerepelt ehhez hasonló példa. Legyenek `Polygon`, `Rectangle`, `Square` osztályaink.\n",
        "Minden négyzet téglalap és minden téglalap sokszög. Egy sokszöget a csúcsok felsorolásával adhatunk meg.\n",
        "Ebből a kerület, terület kiszámolható és eldönthető, hogy a sokszög konvex-e. Ha akarjuk pl. a `Matplotlib` könyvtárral ki is rajzolhatjuk a sokszöget.\n",
        "\n",
        "Következő alkalommal implementáljuk, most csak az `__str__`  és `perimeter` metódus érdekel minket!\n",
        "\n",
        "Menetközben síkvektorokkal akarunk számolni. Ezt az osztályt is írjuk meg (csak ami kell belőle)."
      ]
    },
    {
      "cell_type": "code",
      "execution_count": null,
      "metadata": {
        "id": "KpoaL_ztEhNH"
      },
      "outputs": [],
      "source": [
        "import math\n",
        "\n",
        "class PVec:\n",
        "    def __init__(self, x, y):\n",
        "        self.x = x\n",
        "        self.y = y\n",
        "    \n",
        "    def ip(self, other):\n",
        "        x, y = self.x, self.y \n",
        "        a, b = other.x, other.y\n",
        "        return x*a + y*b\n",
        "\n",
        "    def rotate(self):\n",
        "        return type(self)(-self.y, self.x)\n",
        "\n",
        "    def normalize(self):\n",
        "        norm = self.norm()\n",
        "        return type(self)(self.x/norm, self.y/norm)\n",
        "\n",
        "    def norm(self):\n",
        "        return math.sqrt(self.ip(self))        \n",
        "\n",
        "    def vprod(self, other):\n",
        "        x, y = self.x, self.y \n",
        "        a, b = other.x, other.y\n",
        "        return x*b - y*a\n",
        "\n",
        "    def __add__(self, other):\n",
        "        x, y = self.x, self.y \n",
        "        a, b = other.x, other.y\n",
        "        return type(self)(x+a, y+b)\n",
        "\n",
        "    def __sub__(self, other):\n",
        "        x, y = self.x, self.y \n",
        "        a, b = other.x, other.y\n",
        "        return type(self)(a-x, b-y)\n",
        "\n",
        "    def __neg__(self):\n",
        "        return type(self)(-x, -y)\n",
        "\n",
        "    def __rmul__(self, scalar):\n",
        "        return type(self)(self.x*scalar, self.y*scalar)\n",
        "\n",
        "    def __repr__(self):\n",
        "        return f\"({self.x}, {self.y})\"\n",
        "\n",
        "class Polygon:\n",
        "\n",
        "    def __init__(self, nodes):\n",
        "        self.nodes = nodes\n",
        "\n",
        "    def area(self):\n",
        "        pass\n",
        "\n",
        "    def perimeter(self):\n",
        "        total = 0\n",
        "        for i, p in enumerate(self.nodes, 1):\n",
        "            j = i % len(self.nodes)\n",
        "            total += (self.nodes[j]-p).norm()\n",
        "        return total\n",
        "\n",
        "    def is_convex(self):\n",
        "        pass\n",
        "\n",
        "    def draw(self):\n",
        "        pass\n",
        "\n",
        "    def __repr__(self):\n",
        "        return f'{type(self).__name__}()'\n",
        "\n",
        "class Rectangle(Polygon):\n",
        "    \n",
        "    def __init__(self, P, e, a, b):\n",
        "        \"\"\"\n",
        "        Assuming that e is a unit vector the polygon is\n",
        "        P, P+a*e, P+a*e+b*e',P+b*e'\n",
        "\n",
        "        where e' is e rotated by 90 degree counterclockwise \n",
        "        \"\"\"\n",
        "        e = e.normalize()\n",
        "        e_ = e.rotate()\n",
        "        P1 = P + a*e\n",
        "        P2 = P1 + b*e_\n",
        "        P3 = P + b*e_\n",
        "        super(Rectangle, self).__init__([P, P1, P2, P3])\n",
        "        \n",
        "\n",
        "    \n",
        "class Square(Rectangle):\n",
        "\n",
        "    def __init__(self, P, e, a):\n",
        "        super(Square, self).__init__(P, e, a, a)\n",
        "        \n"
      ]
    },
    {
      "cell_type": "code",
      "execution_count": null,
      "metadata": {
        "id": "9xGVlVnXEhNI",
        "outputId": "0fa0c870-8373-4a6b-e0b6-d39efc0087c8"
      },
      "outputs": [
        {
          "name": "stdout",
          "output_type": "stream",
          "text": [
            "Square() [(0, 0), (0.7071067811865475, 0.7071067811865475), (0.0, 1.414213562373095), (-0.7071067811865475, 0.7071067811865475)] kerület: 4.00\n",
            "Rectangle() [(0, 0), (1.0, 0.0), (1.0, 2.0), (0.0, 2.0)] kerület: 6.00\n",
            "Polygon() [] kerület: 0.00\n"
          ]
        }
      ],
      "source": [
        "s = Square(PVec(0, 0), PVec(1, 1), 1)\n",
        "t = Rectangle(PVec(0, 0), PVec(1, 0), 1, 2)\n",
        "p = Polygon([])\n",
        "for x in [s, t, p]:\n",
        "    print(f\"{x} {x.nodes} kerület: {x.perimeter():.2f}\")\n",
        "    "
      ]
    },
    {
      "cell_type": "markdown",
      "metadata": {
        "id": "g0Z0-XWhEhNJ"
      },
      "source": [
        "Vegyük észre, hogy az `__repr__` metódust csak egyszer implementáltuk, mégis minden egyednek a saját típusát írja ki!\n",
        " \n",
        "\n",
        "Látszik, hogy egy olyan egyszerű osztállyal, mint a síkvektor is elég sokat kellett bajlódni. Szerencsére ezt nem kell nekünk megírni. A `numpy` könyvtárban ezeket már megírták. Következő alkalommal azt fogjuk használni."
      ]
    },
    {
      "cell_type": "markdown",
      "metadata": {
        "id": "eJH0SZ18EhNL"
      },
      "source": [
        "# Conway Game of Life"
      ]
    },
    {
      "cell_type": "markdown",
      "metadata": {
        "id": "PlXRypn7EhNL"
      },
      "source": [
        "\n",
        "The Game of Life is a cellular automaton created by mathematician John Conway in 1970. The game consists of a board of cells that are either on or off. One creates an initial configuration of these on/off states and observes how it evolves. There are four simple rules to determine the next state of the game board, given the current state:\n",
        "\n",
        "- **Overpopulation**: if a living cell is surrounded by more than three living cells, it dies.\n",
        "- **Stasis**: if a living cell is surrounded by two or three living cells, it survives.\n",
        "- **Underpopulation**: if a living cell is surrounded by fewer than two living cells, it dies.\n",
        "- **Reproduction**: if a dead cell is surrounded by exactly three cells, it becomes a live cell.\n",
        "\n",
        "\n",
        "Írjunk egy osztályt a játékhoz, pl. az `__init__` metódus hozzalétre a megadott konfigurációnak megfelelő objektumot. Legyen egy `step` metódus, ami a rendszert a következő állapotába viszi és az `__str__` metódus pedig\n",
        "valahogy ábrázolja az aktuális állapotot. \n",
        "\n",
        "Tegyük fel, hogy a rács amin a rendszer él, egy $n\\times n$-es rács, ahol mindkét irányban ciklikusan körbemegyünk,\n",
        "azaz a csúcsokat modulo $n$ tekintjük.\n"
      ]
    },
    {
      "cell_type": "code",
      "execution_count": null,
      "metadata": {
        "id": "XKnQLfutEhNM"
      },
      "outputs": [],
      "source": [
        "class ConwayGoL:\n",
        "    \n",
        "    def __init__(self, state):\n",
        "        self.state = list(state)\n",
        "\n",
        "    def step(self):\n",
        "        return self\n",
        "\n",
        "    def __repr__(self):\n",
        "        return f\"{type(self).__name__}({self.state})\""
      ]
    },
    {
      "cell_type": "code",
      "execution_count": null,
      "metadata": {
        "id": "xPaz5ZWJEhNN"
      },
      "outputs": [],
      "source": [
        "import random\n",
        "\n",
        "init_state = [] ## ???\n",
        "conway = ConwayGoL(init_state)\n",
        "\n",
        "conway.step()\n"
      ]
    },
    {
      "cell_type": "markdown",
      "metadata": {
        "id": "ncvyx37aEhNN"
      },
      "source": [
        "A játék állapotának leírásához egy $n\\times n$ rács minden pontjáról tudni kell, hogy foglalt-e vagy sem.\n",
        "\n",
        "```\n",
        "n = 11\n",
        "state = [[0]*n for _ in range(n)]\n",
        "```\n",
        "\n",
        "Véletlenszerű kezdeti állapot:\n",
        "```\n",
        "state = [[random.randint(0,1) for _ in range(n)] for _ in range(n)]\n",
        "```"
      ]
    },
    {
      "cell_type": "code",
      "execution_count": null,
      "metadata": {
        "id": "FBK6wsG6EhNO"
      },
      "outputs": [],
      "source": [
        "def random_state(n, m, p):\n",
        "    return [[int(random.random()<p) for _ in range(m)] for _ in range(n)]\n",
        "\n",
        "state = random_state(11, 25, 0.2)\n",
        "print(state)"
      ]
    },
    {
      "cell_type": "markdown",
      "metadata": {
        "id": "-E4t9V34EhNO"
      },
      "source": [
        "Szebb megjelenítés?"
      ]
    },
    {
      "cell_type": "code",
      "execution_count": null,
      "metadata": {
        "id": "rKm4aPSHEhNO"
      },
      "outputs": [],
      "source": [
        "def as_matrix(lst, n):\n",
        "    return [lst[i:i+n] for i in range(0, len(lst), n)]\n",
        "\n",
        "print('\\n'.join(''.join(map(str, line)) for line in state))\n"
      ]
    },
    {
      "cell_type": "code",
      "execution_count": null,
      "metadata": {
        "id": "Mo9lFIo5EhNP"
      },
      "outputs": [],
      "source": [
        "symbols = \"\\u2b1c\\u2b1b\"\n",
        "print('\\n'.join(''.join(symbols[x] for x in line) for line in state))\n"
      ]
    },
    {
      "cell_type": "code",
      "execution_count": null,
      "metadata": {
        "id": "5ynLSVHFEhNP"
      },
      "outputs": [],
      "source": [
        "import matplotlib.pyplot as plt \n",
        "\n",
        "img = plt.matshow(state, cmap=\"viridis\")\n",
        "#img.axes.axis(False)\n",
        "n, m = len(state), len(state[0])\n",
        "for pos in range(0, n+1):\n",
        "    img.axes.axhline(y=pos-0.5, color=\"white\")\n",
        "for pos in range(0, m+1):\n",
        "    img.axes.axvline(x=pos-0.5, color=\"white\")\n",
        "\n",
        "plt.show()\n"
      ]
    },
    {
      "cell_type": "code",
      "execution_count": null,
      "metadata": {
        "id": "53nRVem4EhNR"
      },
      "outputs": [],
      "source": [
        "\n",
        "def cgol_str(self):\n",
        "    symbols = \"\\u2b1c\\u2b1b\"\n",
        "    return '\\n'.join(''.join(symbols[x] for x in line) for line in self.state)\n",
        "\n",
        "ConwayGoL.__str__ = cgol_str\n",
        "\n",
        "    "
      ]
    },
    {
      "cell_type": "code",
      "execution_count": null,
      "metadata": {
        "id": "Js9icRItEhNR"
      },
      "outputs": [],
      "source": [
        "conway = ConwayGoL(state)\n",
        "print(conway)"
      ]
    },
    {
      "cell_type": "markdown",
      "metadata": {
        "id": "NwISMDDvEhNR"
      },
      "source": [
        "A `step` metódushoz ki kellene számolni egy adott csúcs foglalt szomszédainak számát `cnt`. Ha ez kész,\n",
        "akkor az $i$ csúcs új állapota:\n",
        "\n",
        "$$\n",
        "    \\text{state}_{t+1}[i]=\n",
        "    \\begin{cases}\n",
        "    1 &\\text{Ha $\\text{cnt}[i]\\in\\{2,3\\}$ és $\\text{state}_t[i]=1$}\\\\\n",
        "    1 &\\text{Ha $\\text{cnt}[i]\\in\\{3\\}$ és $\\text{state}_t[i]=0$}\\\\\n",
        "    0 &\\text{különben}\n",
        "    \\end{cases}\n",
        "$$"
      ]
    },
    {
      "cell_type": "code",
      "execution_count": null,
      "metadata": {
        "id": "NetE2InDEhNS"
      },
      "outputs": [],
      "source": [
        "def newstate(state, count):\n",
        "    return [int((c==3)|((c==2) & (s==1))) for s, c in  zip(state, count)]"
      ]
    },
    {
      "cell_type": "code",
      "execution_count": null,
      "metadata": {
        "id": "8CKn57ZDEhNS"
      },
      "outputs": [],
      "source": [
        "%%ipytest\n",
        "\n",
        "def test_newstate():\n",
        "    res = [0]*9\n",
        "    res[2] = 1\n",
        "    res[3] = 1\n",
        "    assert newstate([1]*9, list(range(9))) == res\n",
        "    res = [0]*9\n",
        "    res[3] = 1    \n",
        "    assert newstate([0]*9, list(range(9))) == res\n"
      ]
    },
    {
      "cell_type": "code",
      "execution_count": null,
      "metadata": {
        "id": "0ZpQJl2DEhNT"
      },
      "outputs": [],
      "source": [
        "def count_neighbors(state):\n",
        "    strides = [(0,-1), (0, 1), (1,-1), (1,0), (1,1), (-1,-1), (-1,0), (-1,1)] \n",
        "    n, m = len(state), len(state[0])\n",
        "    return [ [sum(state[(i+di) % n][(j+dj) % m] for di, dj in strides) for j in range(m)] for i in range(n)]\n",
        "\n",
        "def cgol_step(self):\n",
        "    counts = count_neighbors(self.state)\n",
        "    self.state = [ newstate(line, cnt) for line, cnt in zip(self.state, counts) ]\n",
        "    return self\n",
        "    \n",
        "ConwayGoL.step = cgol_step"
      ]
    },
    {
      "cell_type": "code",
      "execution_count": null,
      "metadata": {
        "id": "zyCFdmOIEhNT"
      },
      "outputs": [],
      "source": [
        "@classmethod\n",
        "def cgol_from_random_state(cls, n, m,  p):\n",
        "    return cls(random_state(n, m, p))\n",
        "\n",
        "ConwayGoL.from_random_state=cgol_from_random_state"
      ]
    },
    {
      "cell_type": "code",
      "execution_count": null,
      "metadata": {
        "id": "pYZAR6DyEhNU"
      },
      "outputs": [],
      "source": [
        "conway = ConwayGoL.from_random_state(4, 4, 0.3)\n",
        "print(conway)\n",
        "print(count_neighbors(conway.state))"
      ]
    },
    {
      "cell_type": "code",
      "execution_count": null,
      "metadata": {
        "id": "gULSpM2nEhNU"
      },
      "outputs": [],
      "source": [
        "conway = ConwayGoL.from_random_state(5, 5, 0.5)\n",
        "print(conway)\n",
        "print(\"-\"*20)\n",
        "print(conway.step())"
      ]
    },
    {
      "cell_type": "markdown",
      "metadata": {
        "id": "MMsJO58mEhNV"
      },
      "source": [
        "Tudunk-e valami animációszerűt készíteni? Jupyter notebook-ban pl. a következő képpen lehet: "
      ]
    },
    {
      "cell_type": "code",
      "execution_count": null,
      "metadata": {
        "id": "-VxEV5BEEhNV"
      },
      "outputs": [],
      "source": [
        "from ipywidgets import Output\n",
        "from time import sleep\n",
        "\n",
        "out = Output()\n",
        "display(out)\n",
        "conway = ConwayGoL.from_random_state(n=31, m=55, p=0.2)\n",
        "\n",
        "for i in range(100):\n",
        "    out.clear_output(True)\n",
        "    with out:\n",
        "        print(f\"After {i} steps:\\n{conway}\")  \n",
        "    sleep(0.2)\n",
        "    conway.step()\n"
      ]
    },
    {
      "cell_type": "markdown",
      "metadata": {
        "id": "NorKvbYvEhNV"
      },
      "source": [
        "Ha parancssorból dolgozunk, akkor valami ilyesmit lehetne tenni"
      ]
    },
    {
      "cell_type": "code",
      "execution_count": null,
      "metadata": {
        "id": "xpMYSt_SEhNW"
      },
      "outputs": [],
      "source": [
        "%%writefile conway.py\n",
        "\n",
        "import random\n",
        "\n",
        "\n",
        "def random_state(n, m, p):\n",
        "    return [ [ int(random.random()<p) for _ in range(m) ] for _ in range(n) ]\n",
        "\n",
        "def count_neighbors(state):\n",
        "    strides = [(0,-1), (0, 1), (1,-1), (1,0), (1,1), (-1,-1), (-1,0), (-1,1)] \n",
        "    n, m = len(state), len(state[0])\n",
        "    return [ [sum(state[(i+di) % n][(j+dj) % m] for di, dj in strides) for j in range(m)] for i in range(n)]\n",
        "\n",
        "def newstate(state, count):\n",
        "    return [int((c==3)|((c==2) & (s==1))) for s, c in  zip(state, count)]\n",
        "\n",
        "class ConwayGoL:\n",
        "    symbols = \"\\u2b1c\\u2b1b\"\n",
        "    \n",
        "    def __init__(self, state):\n",
        "        self.state = list(state)\n",
        "        \n",
        "    def step(self):\n",
        "        counts = count_neighbors(self.state)\n",
        "        self.state = [ newstate(line, cnt) for line, cnt in zip(self.state, counts) ]\n",
        "        return self\n",
        "\n",
        "    \n",
        "    def __str__(self): \n",
        "        symbols = self.symbols\n",
        "        return '\\n'.join(''.join(symbols[x] for x in line) for line in self.state)\n",
        "\n",
        "    def __repr__(self):\n",
        "        return f\"{type(self).__name__}({self.state})\"\n",
        "    \n",
        "    @classmethod\n",
        "    def from_random_state(cls, n, m, p):\n",
        "        return cls(random_state(n, m, p))\n",
        "\n",
        "    def is_empty(self):\n",
        "        return not any(any(line) for line in self.state)\n",
        "\n",
        "\n",
        "def clear_terminal(n):\n",
        "    print(f\"{chr(27)}[{n+1}A\", end=\"\")\n",
        "\n",
        "def main(n=11, m=25, p=0.2, nsteps=10, clear_screen=clear_terminal):\n",
        "    from time import sleep\n",
        "    conway = ConwayGoL.from_random_state(n, m, p)\n",
        "    for i in range(nsteps+1):\n",
        "        if i>0:\n",
        "            clear_screen(n)\n",
        "        print(f\"after {i} step:\")\n",
        "        print(conway)  \n",
        "        sleep(0.2)\n",
        "        conway.step()\n",
        "        if conway.is_empty():\n",
        "            break\n",
        "    \n",
        "if __name__ == \"__main__\":\n",
        "    main()\n",
        "    "
      ]
    },
    {
      "cell_type": "markdown",
      "metadata": {
        "id": "1sHjBkrrEhNX"
      },
      "source": [
        "Ha valamit már megírtunk és szeretnénk használni, `import`-tal elérhető. Pl."
      ]
    },
    {
      "cell_type": "markdown",
      "metadata": {
        "id": "vS2mPYU0EhNX"
      },
      "source": [
        "### Tudunk-e paramétereket adni a python scriptnek?\n",
        "\n",
        "Amikor egy python scriptet futtatunk, a parancssor (amivel a futást indítottuk) a `sys` modul `argv` változójában érhető el."
      ]
    },
    {
      "cell_type": "code",
      "execution_count": null,
      "metadata": {
        "id": "jHPXCutCEhNY"
      },
      "outputs": [],
      "source": [
        "import sys\n",
        "sys.argv"
      ]
    },
    {
      "cell_type": "code",
      "execution_count": null,
      "metadata": {
        "id": "wTyIkQrUEhNY"
      },
      "outputs": [],
      "source": [
        "! python -c 'import sys; print(sys.argv)' -alma\n"
      ]
    },
    {
      "cell_type": "markdown",
      "metadata": {
        "id": "B_WWySlnEhNY"
      },
      "source": [
        "Egy nagyon egyszerű megoldás, ha minden opciónak a neve a paraméter amit beállít és egyenlőségjel után az értéke:\n",
        "pl. n=11 m=25 nstep=10 p=0.2"
      ]
    },
    {
      "cell_type": "code",
      "execution_count": null,
      "metadata": {
        "id": "AcM_i35sEhNZ"
      },
      "outputs": [],
      "source": [
        "cmdline = \"conway.py -n=11 -m=25 -nstep=10 -p=0.2\"\n",
        "argv = cmdline.split()\n",
        "params =[param.split(\"=\") for param in argv[1:]]\n",
        "params"
      ]
    },
    {
      "cell_type": "markdown",
      "metadata": {
        "id": "9cgtJx-NEhNZ"
      },
      "source": [
        "Minden paraméterről tudni kellene, hogy milyen típusú!"
      ]
    },
    {
      "cell_type": "code",
      "execution_count": null,
      "metadata": {
        "id": "5aly_9AGEhNZ"
      },
      "outputs": [],
      "source": [
        "param_types={'-n': int, '-m': int, '-nstep': int, '-p': float}\n",
        "params = {k.replace(\"-\",\"\"): param_types[k](v)  for k, v in (param.split(\"=\") for param in argv[1:])}\n",
        "params"
      ]
    },
    {
      "cell_type": "markdown",
      "metadata": {
        "id": "CzA2jqxOEhNZ"
      },
      "source": [
        "Ezek után a `main` függvényt a megadott paraméterekkel meg tudjuk hívni:\n",
        "\n",
        "```\n",
        "    main(**params)\n",
        "```\n",
        "Mi van a `default` értékekkel, `help`-pel stb.\n",
        "\n",
        "Ezeket mind meg tudnánk írni, de nem kell. Van kész megoldás `python`-ban.\n",
        "\n",
        "Az `argparse` könvytár mindent megcsinál, ami nekünk kell."
      ]
    },
    {
      "cell_type": "code",
      "execution_count": null,
      "metadata": {
        "id": "55hNdPpxEhNa"
      },
      "outputs": [],
      "source": [
        "import argparse\n",
        "\n",
        "help(argparse)"
      ]
    },
    {
      "cell_type": "markdown",
      "metadata": {
        "id": "vsV1HWB1EhNa"
      },
      "source": [
        "A `conway.py` file végét cseréljük le erre.\n",
        "```\n",
        "if __name__==\"__main__\":\n",
        "\n",
        "    import argparse\n",
        "    \n",
        "    parser = argparse.ArgumentParser(description='Conways Game of Life')\n",
        "\n",
        "    parser.add_argument(\n",
        "        '-n', '--nrows', \n",
        "        type=int, \n",
        "        default=11, \n",
        "        help='number of rows'\n",
        "        )\n",
        "\n",
        "    parser.add_argument(\n",
        "        '-m', '--ncols',\n",
        "        type=int, \n",
        "        default=25, \n",
        "        help='number of columns'\n",
        "        )\n",
        "\n",
        "    parser.add_argument(\n",
        "        '-p', '--density',\n",
        "        type=float, \n",
        "        default=0.2,\n",
        "        help='initial density')\n",
        "    \n",
        "    parser.add_argument(\n",
        "        '--nsteps', \n",
        "        type=int, \n",
        "        default=10, \n",
        "        help='steps to display'\n",
        "        )\n",
        "\n",
        "    args = parser.parse_args()\n",
        "    \n",
        "    main(n=args.n, m=args.m, p=args.p, nsteps=args.nsteps)\n",
        "```\n",
        "    "
      ]
    },
    {
      "cell_type": "code",
      "execution_count": null,
      "metadata": {
        "id": "zBO2BpyXEhNb"
      },
      "outputs": [],
      "source": [
        "# import importlib\n",
        "# importlib.reload(conway)"
      ]
    },
    {
      "cell_type": "code",
      "execution_count": null,
      "metadata": {
        "id": "EOFyZa75EhNb"
      },
      "outputs": [],
      "source": [
        "import conway\n",
        "\n",
        "out1 = Output()\n",
        "display(out1)\n",
        "\n",
        "with out1:\n",
        "    conway.main(clear_screen=lambda n: out1.clear_output(True))"
      ]
    },
    {
      "cell_type": "markdown",
      "metadata": {
        "id": "2H4xKBosEhNc"
      },
      "source": [
        "Az `argparse` könyvtár nem a legkényelmesebb. Alternatívák:\n",
        "\n",
        "- [Docopt](http://docopt.org/)\n",
        "- [Click](https://pypi.org/project/click/)\n",
        "- [clize](https://github.com/epsy/clize)\n",
        "\n",
        "és még sok másik is!"
      ]
    },
    {
      "cell_type": "markdown",
      "metadata": {
        "id": "Iol-WRR9EhNc"
      },
      "source": [
        "## Itt is használhattunk volna dekorátort"
      ]
    },
    {
      "cell_type": "markdown",
      "metadata": {
        "id": "MhdsFQXqEhNc"
      },
      "source": [
        "\n",
        "A `ConwayGoL` példában utólag adtunk metódusokat az osztályunkhoz. Ezt is megtehettük volna dekorátorral.  "
      ]
    },
    {
      "cell_type": "code",
      "execution_count": null,
      "metadata": {
        "id": "7DMGcbR3EhNd"
      },
      "outputs": [],
      "source": [
        "def conway_method(f):\n",
        "    setattr(ConwayGoL, f.__name__, f)\n",
        "    return f\n",
        "\n",
        "\n",
        "@conway_method\n",
        "def dummy_method(self):\n",
        "    print(\"this is a message from the new method!\")\n",
        "\n",
        "c = ConwayGoL([], 0)\n",
        "c.dummy_method()"
      ]
    },
    {
      "cell_type": "markdown",
      "metadata": {
        "id": "Kfka4pDpEhNd"
      },
      "source": [
        "Azt is megtehettük volna, hogy a osztály nincs beleégetve a kódba."
      ]
    },
    {
      "cell_type": "code",
      "execution_count": null,
      "metadata": {
        "id": "5DmXIzA8EhNd"
      },
      "outputs": [],
      "source": [
        "def new_method(cls):\n",
        "    def decorator(f):\n",
        "        setattr(cls, f.__name__, f)\n",
        "        return f \n",
        "    return decorator\n",
        "\n",
        "@new_method(ConwayGoL)\n",
        "def dummy_method(self):\n",
        "    print(\"Note that the old value of dummy_method is overwritten!\")"
      ]
    },
    {
      "cell_type": "code",
      "execution_count": null,
      "metadata": {
        "id": "CTuWgR0KEhNe"
      },
      "outputs": [],
      "source": [
        "c.dummy_method()"
      ]
    },
    {
      "cell_type": "markdown",
      "metadata": {
        "id": "yo-PWRFqEhNe"
      },
      "source": [
        "# `with` statement"
      ]
    },
    {
      "cell_type": "markdown",
      "metadata": {
        "id": "6855010d-aa5b-4c95-a7ff-020598002ccd"
      },
      "source": [
        "\n",
        " \n",
        "## Mi történik a `with` statement alkalmazásakor?\n",
        "\n",
        "### Mit lehet a with mögé írni?\n",
        "\n",
        "Hasonlóan a `for`-hoz szinte bármit, aminek van két metódusa:\n",
        "\n",
        "- `__enter__`\n",
        "- `__exit__`\n",
        "\n",
        "\n",
        "    with obj as x:\n",
        "       do_something with x\n",
        "\n",
        "Itt az `obj.__enter__()` hívás eredménye lesz az x értéke és a block végén **GARANTÁLTAN** végrehajtódik az `obj.__exit__(...)` hívás.\n",
        "Az `__enter__` metódus végezheti az előkészítést, az `__exit__` a takarítást!\n",
        "\n",
        "#### Kell-e nekünk ezeket a metódusokat közvetlenül implementálni?\n",
        "\n",
        "Valójában nem. Elegendő egy generátor függvényt megírni:\n",
        "\n",
        "    import time\n",
        "    \n",
        "    def timer():\n",
        "        try:\n",
        "            start = time.time()\n",
        "            yield\n",
        "\n",
        "        finally:\n",
        "            runtime = time.time() - start\n",
        "            print(f\"run time: {runtime:3f}\")\n",
        "            \n",
        "\n",
        "Így még csak egy generátort kapunk ami egyszer visszaad semmit (`None`) majd jelzi, hogy vége van a sorozatnak. \n",
        "\n",
        "Próbáljuk ki `for`-ral"
      ]
    },
    {
      "cell_type": "code",
      "execution_count": null,
      "metadata": {
        "id": "bf7398f5-f860-4f54-bb34-4a23a657c6de"
      },
      "outputs": [],
      "source": [
        "import time\n",
        "    \n",
        "def timer():\n",
        "    try:\n",
        "        start = time.time()\n",
        "        yield\n",
        "\n",
        "    finally:\n",
        "        runtime = time.time() - start\n",
        "        print(f\"run time: {runtime:3f}\")\n",
        "        \n",
        "for x in timer():\n",
        "    print(x)"
      ]
    },
    {
      "cell_type": "markdown",
      "metadata": {
        "id": "9240a96f-f131-4ec6-bf82-9200ec8683d1"
      },
      "source": [
        "`with`-del hibát kapunk"
      ]
    },
    {
      "cell_type": "code",
      "execution_count": null,
      "metadata": {
        "id": "733bcf3e-ba03-4764-864d-dc86b59e4fb3"
      },
      "outputs": [],
      "source": [
        "with timer() as x:\n",
        "    print(x)"
      ]
    },
    {
      "cell_type": "markdown",
      "metadata": {
        "id": "985e67d1-afae-4523-a8df-7577354c7745"
      },
      "source": [
        "A `contextlib` module `contextmanager` függvénye generátorból `contextmanager`-t készít."
      ]
    },
    {
      "cell_type": "code",
      "execution_count": null,
      "metadata": {
        "id": "4bf4e118-d7a5-47cc-893c-f47a2bac8c44"
      },
      "outputs": [],
      "source": [
        "from contextlib import contextmanager\n",
        "timer2 = contextmanager(timer)\n",
        "with timer2() as x:\n",
        "    print(x)"
      ]
    },
    {
      "cell_type": "markdown",
      "metadata": {
        "id": "20b085c9-be51-4ad4-a5a4-40910f5c1587"
      },
      "source": [
        "Ha egy függvény akarunk alkalmazni egy függvényre, hogy azt átalakítsuk, de ugyanaz maradjon a neve akkor a python `@` szintakszist használja. Ilyenkor ,,dekoráljuk'' a függvényt. A `contextmanager` egy példa **dekorátor**ra.\n",
        "\n",
        "    @contextmanager\n",
        "    def timer():\n",
        "        try:\n",
        "            start = time.time()\n",
        "            yield\n",
        "\n",
        "        finally:\n",
        "            runtime = time.time() - start\n",
        "            print(f\"run time: {runtime:3f}\")\n",
        "    \n",
        "Példaként írjunk egy olyan contextmanager-t, ami jelzi nekünk, hogy mikor milyen hívás történik."
      ]
    },
    {
      "cell_type": "code",
      "execution_count": null,
      "metadata": {
        "id": "8666bd25-3915-428c-86ad-cbc4582003cd"
      },
      "outputs": [],
      "source": [
        "@contextmanager\n",
        "def print_whats_going_on(x):\n",
        "    print(\"try blokk előtt\")\n",
        "    try:\n",
        "        print(\"yield előtt\")\n",
        "        yield x\n",
        "        print(\"yield után\")\n",
        "    except:\n",
        "        print(\"except ág\")\n",
        "    finally:\n",
        "        print(\"finally ág\")\n",
        "    print(\"try blokk után\")"
      ]
    },
    {
      "cell_type": "code",
      "execution_count": null,
      "metadata": {
        "id": "c3ba90bb-2dde-429d-9dd8-75476b0a5225"
      },
      "outputs": [],
      "source": [
        "with print_whats_going_on(\"hello\") as x:\n",
        "    print(x)\n",
        "print(\"with után\")\n",
        "\n",
        "print(\"-\"*50)\n",
        "\n",
        "with print_whats_going_on(\"hello\") as x:\n",
        "    print(x)\n",
        "    raise ValueError\n",
        "print(\"with után\")\n"
      ]
    },
    {
      "cell_type": "code",
      "execution_count": null,
      "metadata": {
        "id": "39160ff6-b8bd-4e51-9117-5bb3f6a4eb59"
      },
      "outputs": [],
      "source": [
        "@contextmanager\n",
        "def timer():\n",
        "    try:\n",
        "        start = time.time()\n",
        "        yield\n",
        "\n",
        "    finally:\n",
        "        runtime = time.time() - start\n",
        "        print(f\"run time: {runtime:3f}\")"
      ]
    },
    {
      "cell_type": "code",
      "execution_count": null,
      "metadata": {
        "id": "j1pSQlLVEhNj"
      },
      "outputs": [],
      "source": [
        "t = timer()\n",
        "with t:\n",
        "    time.sleep(0.5)"
      ]
    },
    {
      "cell_type": "markdown",
      "metadata": {
        "id": "qH7u9zpOEhNk"
      },
      "source": [
        "Használhatjuk-e többször a `timer`-ünket?"
      ]
    },
    {
      "cell_type": "code",
      "execution_count": null,
      "metadata": {
        "id": "tD1QgoNDEhNk"
      },
      "outputs": [],
      "source": [
        "t = timer()\n",
        "with t:\n",
        "    time.sleep(0.5)\n",
        "with t:\n",
        "    time.sleep(0.5)\n"
      ]
    },
    {
      "cell_type": "markdown",
      "metadata": {
        "id": "124JUP-lEhNl"
      },
      "source": [
        "## Tudunk-e olyan contextmanagert készíteni, ami többször felhasználható?\n",
        "\n",
        "pl.\n",
        "\n",
        "```\n",
        "with indented:\n",
        "    indented.print(\"első\")\n",
        "    with indented:\n",
        "        indented.print(\"második\")\n",
        "    indented.print(\"harmadik\")\n",
        "```\n",
        "\n",
        "ahol kimenetként azt várnánk, hogy\n",
        "```\n",
        "  első\n",
        "    második\n",
        "  harmadik\n",
        "```"
      ]
    },
    {
      "cell_type": "code",
      "execution_count": null,
      "metadata": {
        "id": "-RZ15-Y-EhNu"
      },
      "outputs": [],
      "source": [
        "class Indent:\n",
        "    def __init__(self, indent='  '):\n",
        "        self.level = 0\n",
        "        self.indent = indent\n",
        "    \n",
        "    def __enter__(self):\n",
        "        self.level += 1\n",
        "        return None\n",
        "    \n",
        "    def __exit__(self, *args):\n",
        "        self.level -= 1\n",
        "    \n",
        "    def print(self, x):\n",
        "        indent = self.indent*self.level \n",
        "        x = str(x)\n",
        "        print('\\n'.join(indent+line for line in x.split('\\n')))\n"
      ]
    },
    {
      "cell_type": "code",
      "execution_count": null,
      "metadata": {
        "id": "dzXZVrjsEhNw"
      },
      "outputs": [],
      "source": [
        "indented = Indent('...')\n",
        "text = \"\"\"Többsoros szöveg:\n",
        "Első\n",
        "Második\n",
        "\"\"\"\n",
        "with indented:\n",
        "    indented.print(\"első\")\n",
        "    with indented:\n",
        "        indented.print(\"második\")\n",
        "        with indented:\n",
        "            indented.print(text)\n",
        "    indented.print(\"harmadik\")"
      ]
    }
  ],
  "metadata": {
    "kernelspec": {
      "display_name": "base",
      "language": "python",
      "name": "python3"
    },
    "language_info": {
      "codemirror_mode": {
        "name": "ipython",
        "version": 3
      },
      "file_extension": ".py",
      "mimetype": "text/x-python",
      "name": "python",
      "nbconvert_exporter": "python",
      "pygments_lexer": "ipython3",
      "version": "3.8.13"
    },
    "orig_nbformat": 4,
    "vscode": {
      "interpreter": {
        "hash": "d8b53ac59aeb7dd99955ed1c7af180cec0b2adbd03b0a8162d4077beb5f10154"
      }
    },
    "colab": {
      "provenance": []
    }
  },
  "nbformat": 4,
  "nbformat_minor": 0
}