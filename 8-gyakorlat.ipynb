{
 "cells": [
  {
   "cell_type": "markdown",
   "metadata": {},
   "source": [
    "[![Open In Colab](https://colab.research.google.com/assets/colab-badge.svg)](https://colab.research.google.com/github/prokaj/elte-python/blob/main/8-gyakorlat.ipynb)"
   ]
  },
  {
   "cell_type": "markdown",
   "metadata": {},
   "source": [
    "# Házi feladatok"
   ]
  },
  {
   "cell_type": "markdown",
   "metadata": {},
   "source": [
    "##  `ToDo`"
   ]
  },
  {
   "cell_type": "markdown",
   "metadata": {},
   "source": [
    " 1. Írjunk egy `ToDo` nevű osztályt, amiben a teendőinket tudjuk nyilvántartani. Egy teendőt, két dolog ír le:\n",
    "\n",
    "    1.  Szöveges leírás: `str`\n",
    "\n",
    "    2.  Határidő.\n",
    "\n",
    "    Az egyedeket a `description` (szöveges leírás) és `deadline` (dátum)\n",
    "    paraméterekkel inicializáljuk. A dátumot `iso` formátumban adjuk meg,\n",
    "    azaz sztringként, aminek formátuma `YYYY-MM-DD`, azaz évszám négy\n",
    "    karaktere, a hónap sorszáma (01-12), a nap sorszáma (01-31)\n",
    "\n",
    "    Írjuk meg az `__str__` és `__repr__` metódusokat.\n",
    "\n",
    "    Ha `obj` az osztályunk egy példánya, akkor a `str(obj)` adja vissza a\n",
    "    `description` mező első legfeljebb 23 karakterét, amit a dátum követ\n",
    "    `(év. hónap magyar neve nap sorszáma.-ig)` formában. Ha a leírás nem fér\n",
    "    el, az adott szélességben, akkor az utolsó három karakter legyen `...`.\n",
    "\n",
    "    pl.\n",
    "\n",
    "        todo0 = ToDo(\"El kell készítenem a python gyakorlat házi feladatot\", \"2022-10-24\")\n",
    "        print(todo0)\n",
    "        todo1 = ToDo(\"python hf\", \"2022-10-24\")\n",
    "        print(todo1)\n",
    "\n",
    "    eredménye:\n",
    "\n",
    "        El kell készítenem a... (2022. október 24.-ig)\n",
    "        python hf (2022. október 24.-ig)\n",
    "\n",
    "    A `__repr__` metódus az osztály nevét és az inicializáskor használt\n",
    "    argumentumokat adja vissza a szokásos alakban, `repr(todo0)`\n",
    "    \n",
    "    ```\n",
    "    ToDo(\"El kell készítenem a python gyakorlat házi feladatot\", \"2022-10-24\")\n",
    "    ```\n",
    "\n",
    "    A dátumok kezelését nem kell önállóan elkészíteni, használhatjuk a\n",
    "    `datetime` module `date` osztályát. Nézzük meg az `isoformat`,\n",
    "    `fromisoformat`, `year`, `month`, `day` metódusokat.\n",
    "\n",
    "    A magyar hónapneveket valószínűleg nekünk kell megadni!\n",
    "\n",
    "    Szokás szerint írjunk teszt függvényt, ami az osztály metódusait\n",
    "    ellenőrzi 3-4 teszteseten: hosszú leírás, rövid leírás, dátum helyes\n",
    "    formátumban, dátum helytelen formátumban, leírás nem `str`, stb.\n",
    "\n",
    "    Ha a dátum helytelen formátumban van vagy a description nem `str`, akkor\n",
    "    az elvárt működés az, hogy `ValueError` hibát kapunk. Ennek\n",
    "    teszteléséhez a `pytest` modulból a `raises` függvényt kell importálni\n",
    "    és a teszt függvényben a\n",
    "\n",
    "        with raises(ValueError):\n",
    "            ToDo(...)\n",
    "\n",
    "    sorokat elhelyezni, ahol a `...` helyén a hibát okozó argumentumok\n",
    "    állnak.\n",
    "\n",
    "    A típus annotáció, és a dokumentációs string most opcionális.\n"
   ]
  },
  {
   "cell_type": "code",
   "execution_count": null,
   "metadata": {},
   "outputs": [],
   "source": [
    "try:\n",
    "    import ipytest\n",
    "    ipytest.autoconfig()\n",
    "    \n",
    "except ModuleNotFoundError:\n",
    "    print(\"Trying to install ipytest\")\n",
    "    ! pip install ipytest --quiet\n",
    "    print(\"Try again!\")"
   ]
  },
  {
   "cell_type": "code",
   "execution_count": null,
   "metadata": {},
   "outputs": [],
   "source": [
    "import datetime \n",
    "\n",
    "class ToDo:\n",
    "\n",
    "    def __init__(self, description, date):\n",
    "        pass\n",
    "    \n",
    "    def __str__(self):\n",
    "        return \"\"\n",
    "\n",
    "    def __repr__(self):\n",
    "        return \"\"\n"
   ]
  },
  {
   "cell_type": "code",
   "execution_count": null,
   "metadata": {},
   "outputs": [],
   "source": [
    "%%ipytest\n",
    "from pytest import raises\n",
    "\n",
    "def test_ToDo():\n",
    "\n",
    "    \n",
    "    todo = ToDo(\"El kell készítenem a python gyakorlat házi feladatot\", \"2022-10-24\")\n",
    "    assert str(todo) == \"El kell készítenem a... (2022. október 24.-ig)\"\n",
    "    assert repr(todo) == 'ToDo(\"El kell készítenem a python gyakorlat házi feladatot\", \"2022-10-24\")'\n",
    "    \n",
    "    todo = ToDo(\"python hf\", \"2022-10-24\")\n",
    "    assert str(todo) == \"python hf (2022. október 24.-ig)\"\n",
    "    assert repr(todo) == 'ToDo(\"python hf\", \"2022-10-24\")'\n",
    "    \n",
    "    with raises(ValueError):\n",
    "        ToDo(12414, \"2022-10-22\")\n",
    "    \n",
    "    with raises(ValueError):\n",
    "        ToDo(\"test\", \"2022-13-22\")\n",
    "    \n",
    "    with raises(ValueError):\n",
    "        ToDo(\"test\", datetime.date.fromisoformat(\"2022-10-22\"))\n",
    "    "
   ]
  },
  {
   "cell_type": "markdown",
   "metadata": {},
   "source": [
    "## `Permutation`"
   ]
  },
  {
   "cell_type": "markdown",
   "metadata": {},
   "source": [
    "\n",
    "\n",
    "2.  Írjunk egy `Permutation` osztályt. Permutáció alatt most egy\n",
    "    $\\left\\{{0,\\dots,n-1}\\right\\}\\to\\left\\{{0,\\dots,n-1}\\right\\}$ bijekciót\n",
    "    értünk! Inicializáláskor a $\\pi$ permutációt az\n",
    "    $(\\pi(0), \\dots,\\pi(n-1))$ rendezett $n$-sel adjuk meg.\n",
    "\n",
    "    Írjuk meg az `__str__` és `__repr__` metódusokat. A `__str__` metódus a\n",
    "    permutáció ciklus reprezentációját adja vissza a `cycles: ` szöveg után.\n",
    "\n",
    "    A $\\pi$ permutáció egy ciklusa alatt egy $c_0,\\dots, c_{k-1}$ sorozatot\n",
    "    értünk, ahol $\\pi(c_t)=c_{t+1}$, ha $t+1<k$ és $\\pi(c_{k-1})=c_0$. Ha a\n",
    "    permutációt írányított gráfként ábrázoljuk ($i\\to \\pi(i)$ élekkel),\n",
    "    akkor ezek a keletkező körök. A ciklusok az alaphalmazt ekvivalencia\n",
    "    osztályokra bontják, a permutáció megadásához elgendő a ciklusokon belül\n",
    "    feljegyezni a sorrendet. Sőt az egy hosszú ciklusokra nincs is szükség a\n",
    "    leíráshoz. [További információért, lásd a Wikipédia\n",
    "    bejegyzést!](https://en.wikipedia.org/wiki/Cycles_and_fixed_points)\n",
    "\n",
    "    Minden egyes ciklust a legkisebb elemével kezdve írjunk fel, és a\n",
    "    ciklusok sorrendjét is a legkisebb elemek sorrendje határozza meg. Nem\n",
    "    kell túlbonyolítani a dolgot. Ha a ciklusokat már kiszámoltuk, akkor a\n",
    "    ciklusokból álló lista rendezése pont ezt csinálja!\n",
    "\n",
    "    Példák.\n",
    "\n",
    "        (0, 1, 2, 3, 4, 5): ciklus reprezentáció = []\n",
    "        (0, 1, 2, 3, 5, 4): ciklus reprezentáció = [(4,5)]\n",
    "        (1, 2, 3, 4, 5, 0): ciklus reprezentáció = [(0, 1, 2, 3, 4, 5)]\n",
    "        (1, 2, 0, 4, 5, 3): ciklus reprezentáció = [(0, 1, 2), (3, 4, 5)]\n",
    "\n",
    "    A `__repr__` metódus a szokásos alakú, osztály név és az inicializáló\n",
    "    argumentumok.\n",
    "\n",
    "    Példák.\n",
    "\n",
    "        pi0 = Permutation([1, 2, 3, 0])\n",
    "        print(pi0)       # -> cycles : [(0, 1, 2, 3)]\n",
    "        print(repr(pi0)) # -> Permutation((1, 2, 3, 0))\n",
    "        pi1 = Permutation([1, 0, 3, 2])\n",
    "        print(pi1)       # -> cycles : [(0, 1), (2, 3)]\n",
    "        print(repr(pi1)) # -> Permutation((1, 0, 3, 2))\n",
    "\n",
    "    Az `__init__` függvény ellenőrizze, hogy a kapott $n$-es valóban\n",
    "    permutáció-e, ha nem akkor dobjon `ValueError` hibát! Ezt sem kell\n",
    "    túlbonyolítani. Ötlet: egy véges függvény pontosan akkor permutáció, ha\n",
    "    értékkészlete ugyanaz mint az értelmezési tartománya. Jelen esetben az\n",
    "    értelemzési tartomány `set(range(n))`, ahol `n` a bemenetként kapott\n",
    "    sorozat hossza!\n",
    "\n",
    "    Szokás szerint írjunk teszt függvényt, ami az osztály metódusait\n",
    "    ellenőrzi 4-5 teszteseten, amik között olyan is van amikor az argumentum\n",
    "    hibás, azaz nem egy permutáció (nem sorozat, nem egészekből álló\n",
    "    sorozat, ismétlődéseket tartalmazó sorozat, stb)!\n",
    "\n",
    "    Ha az argumentum hibás akkor az elvárt működés az, hogy `ValueError`\n",
    "    hibát kapunk. Ennek teszteléséhez a `pytest` modulból a `raises`\n",
    "    függvényt kell importálni és a teszt függvényben a\n",
    "\n",
    "        with raises(ValueError):\n",
    "            Permutation(...)\n",
    "\n",
    "    sorokat elhelyezni, ahol a `...` helyén a hibát okozó argumentumok\n",
    "    állnak.\n",
    "\n",
    "    A típus annotáció, és a dokumentációs string most opcionális.\n",
    "\n"
   ]
  },
  {
   "cell_type": "code",
   "execution_count": null,
   "metadata": {},
   "outputs": [],
   "source": [
    "class Permutation:\n",
    "\n",
    "    def __init__(self, permutation):\n",
    "        pass\n",
    "\n",
    "    def __str__(self):\n",
    "        return \"\"\n",
    "\n",
    "    def __repr(self):\n",
    "        return \"\"\n",
    "    "
   ]
  },
  {
   "cell_type": "code",
   "execution_count": null,
   "metadata": {},
   "outputs": [],
   "source": [
    "%%ipytest\n",
    "\n",
    "from pytest import raises\n",
    "\n",
    "def test_Permutation():\n",
    "\n",
    "    pi = Permutation((0, 1, 2, 3, 4, 5))\n",
    "    assert str(pi) ==  \"cycles : []\" #: ciklus reprezentáció = []\n",
    "    assert repr(pi) == \"Permutation((0, 1, 2, 3, 4, 5))\"\n",
    "    \n",
    "    pi = Permutation((0, 1, 2, 3, 5, 4))  # : ciklus reprezentáció = [(4,5)]\n",
    "    assert str(pi) == \"cycles : [(4, 5)]\"\n",
    "    assert repr(pi) == \"Permutation((0, 1, 2, 3, 4, 5))\"\n",
    "        \n",
    "    pi = Permutation((1, 2, 3, 4, 5, 0)) #: ciklus reprezentáció = [(0, 1, 2, 3, 4, 5)]\n",
    "    assert str(pi) == \"cycles : [(0, 1, 2, 3, 4, 5)]\"\n",
    "    assert repr(pi) == \"Permutation((1, 2, 3, 4, 5, 0))\"\n",
    "    \n",
    "    pi = Permutation((1, 2, 0, 4, 5, 3)) #: ciklus reprezentáció = [(0, 1, 2), (3, 4, 5)]\n",
    "    assert str(pi) == \"cycles : [(0, 1, 2), (3, 4, 5)]\"\n",
    "    assert repr(pi) == \"Permutation((1, 2, 0, 4, 5, 3))\"\n",
    "\n",
    "    pi = Permutation((2, 0, 1))\n",
    "    assert str(pi) == \"cycles : [(0, 2, 1)]\"\n",
    "    assert repr(pi) == \"Permutation((2, 0, 1))\"\n",
    "    \n",
    "    with raises(ValueError):\n",
    "        Permutation((1,1,1)) \n",
    "    \n",
    "    with raises(ValueError):\n",
    "        Permutation((0, 3))\n",
    "    \n",
    "    with raises(ValueError):\n",
    "        Permutation(\"permutáció\")\n",
    "    "
   ]
  },
  {
   "cell_type": "markdown",
   "metadata": {},
   "source": [
    "## További tesztelési lehetőség\n",
    "\n",
    "Készítsünk véletlen ciklus felbontást, és számítsuk ki a hozzá tartozó permutációt! A két függvényben \n",
    "`permutáció -> ciklus felbontás` és `ciklus felbontás -> permutáció` valószínűleg nem követjük el ugyanazt a hibát! "
   ]
  },
  {
   "cell_type": "code",
   "execution_count": null,
   "metadata": {},
   "outputs": [],
   "source": [
    "\n",
    "def cycle_to_perm(cycles, n):\n",
    "    perm = list(range(n))\n",
    "    for cycle in cycles:\n",
    "        for x, y in zip(cycle, cycle[1:]):\n",
    "            perm[x] = y \n",
    "        perm[cycle[-1]] = cycle[0]\n",
    "    return perm\n",
    "\n",
    "def random_cycles(n):\n",
    "    ## not efficient in theory!\n",
    "    points = list(range(n))\n",
    "    cycles = []\n",
    "    while points:\n",
    "        i = points.pop(0)\n",
    "        k = random.randint(0, len(points))\n",
    "        if k>0:\n",
    "            c = [i]\n",
    "            for _ in range(k):\n",
    "                j = random.randrange(len(points))\n",
    "                c.append(points.pop(j))\n",
    "            cycles.append(tuple(c))\n",
    "\n",
    "    return cycles\n",
    "        \n",
    "def pop(lst, i, n):\n",
    "    if i == n-1:\n",
    "        return lst[i]\n",
    "        \n",
    "    value = lst[i]\n",
    "    lst[i] = lst[n-1]\n",
    "    root = i\n",
    "    while root < n:\n",
    "        new_root = root \n",
    "        child = 2*root+1\n",
    "        \n",
    "        if child<n and lst[child]<lst[new_root]:\n",
    "            new_root = child\n",
    "        child = child+1\n",
    "        \n",
    "        if child<n and lst[child]<lst[new_root]:\n",
    "            new_root = child\n",
    "\n",
    "        if root == new_root:\n",
    "            break\n",
    "        \n",
    "        lst[root], lst[new_root] = lst[new_root], lst[root]\n",
    "        root = new_root\n",
    "        \n",
    "    return value\n",
    "\n",
    "def random_cycles2(n):\n",
    "    ## more efficient in theory\n",
    "    points = list(range(n))\n",
    "    cycles = []\n",
    "    while n>0:\n",
    "        k = random.randrange(0, n)\n",
    "        c = [pop(points, 0, n)]\n",
    "        n -= 1\n",
    "        for _ in range(k):\n",
    "            j = random.randrange(n)\n",
    "            c.append(pop(points, j ,n))\n",
    "            n -= 1\n",
    "        if len(c)>1:\n",
    "            cycles.append(tuple(c))\n",
    "\n",
    "    return cycles\n"
   ]
  },
  {
   "cell_type": "code",
   "execution_count": null,
   "metadata": {},
   "outputs": [],
   "source": [
    "n = 10\n",
    "c = random_cycles2(n)\n",
    "p = cycle_to_perm(c, n)\n",
    "def str_p(p):\n",
    "    return \", \".join(f'{head}->{tail}' for head, tail in enumerate(p))\n",
    "\n",
    "print(f\"c = {c}\\np = {str_p(p)}\")"
   ]
  },
  {
   "cell_type": "code",
   "execution_count": null,
   "metadata": {},
   "outputs": [],
   "source": [
    "n = 10\n",
    "points = list(range(n))\n",
    "while n:\n",
    "    print(f\"{pop(points, 0, n)}, {points[:n-1]}\")\n",
    "    n -= 1"
   ]
  },
  {
   "cell_type": "code",
   "execution_count": null,
   "metadata": {},
   "outputs": [],
   "source": [
    "%%ipytest\n",
    "\n",
    "def test_Permutation_str():\n",
    "    n = 10\n",
    "    for _ in range(100):\n",
    "        c = random_cycles(n)\n",
    "        p = cycle_to_perm(c, n)\n",
    "        assert str(Permutation(p)) == f\"cycles : {c}\"\n",
    "\n"
   ]
  },
  {
   "cell_type": "code",
   "execution_count": null,
   "metadata": {},
   "outputs": [],
   "source": [
    "\n",
    "%timeit random_cycles(10_000)\n",
    "%timeit random_cycles2(10_000)\n",
    "\n",
    "%timeit random_cycles(100_000)\n",
    "%timeit random_cycles2(100_000)\n"
   ]
  },
  {
   "cell_type": "markdown",
   "metadata": {},
   "source": [
    "### Vizualizáció"
   ]
  },
  {
   "cell_type": "markdown",
   "metadata": {},
   "source": [
    "Gráfok gyakran előfordulnak és jó lenne őket ábrázolni. Erre szolgál a [`graphviz` python](https://graphviz.readthedocs.io/) könyvtár.\n",
    "Ez  python könyvtár az ugyanilyen nevű `C` könyvtárat használja. Azt is le kell tölteni, ha nincs telepítve\n",
    "[graphviz](https://www.graphviz.org/)"
   ]
  },
  {
   "cell_type": "code",
   "execution_count": null,
   "metadata": {},
   "outputs": [],
   "source": [
    "try:\n",
    "    import graphviz\n",
    "except ModuleNotFoundError:\n",
    "    print(\"On ubuntu/debian try:\")\n",
    "    print(\"!pip install graphviz\")\n",
    "    print(\"!sudo apt install graphviz\")\n",
    "    print('Then try again!')"
   ]
  },
  {
   "cell_type": "markdown",
   "metadata": {},
   "source": [
    "Ezután egy nem túl nagy irányított gráfot, pl. egy véleltlen permutációból kapottat a következőképpen jeleníthetünk meg"
   ]
  },
  {
   "cell_type": "code",
   "execution_count": null,
   "metadata": {},
   "outputs": [],
   "source": [
    "import random\n",
    "\n",
    "permutation = list(range(8))\n",
    "print(f\"permutation before shuffling: {permutation}\")\n",
    "random.shuffle(permutation)\n",
    "print(f\" permutation after shuffling: {permutation}\")\n",
    "\n",
    "## making edges for graphviz. Node labels must be strings\n",
    "edges = [(str(head), str(tail)) for head, tail in enumerate(permutation)]\n",
    "G = graphviz.Digraph()\n",
    "G.edges(edges)\n",
    "\n",
    "pi = Permutation(permutation)\n",
    "print({pi}, {repr(pi)})\n",
    "G"
   ]
  },
  {
   "cell_type": "code",
   "execution_count": null,
   "metadata": {},
   "outputs": [],
   "source": [
    "print(G.pipe(format='dot').decode('utf8'))"
   ]
  },
  {
   "cell_type": "markdown",
   "metadata": {},
   "source": [
    "# Conway Game of Life"
   ]
  },
  {
   "cell_type": "markdown",
   "metadata": {},
   "source": [
    "\n",
    "The Game of Life is a cellular automaton created by mathematician John Conway in 1970. The game consists of a board of cells that are either on or off. One creates an initial configuration of these on/off states and observes how it evolves. There are four simple rules to determine the next state of the game board, given the current state:\n",
    "\n",
    "- **Overpopulation**: if a living cell is surrounded by more than three living cells, it dies.\n",
    "- **Stasis**: if a living cell is surrounded by two or three living cells, it survives.\n",
    "- **Underpopulation**: if a living cell is surrounded by fewer than two living cells, it dies.\n",
    "- **Reproduction**: if a dead cell is surrounded by exactly three cells, it becomes a live cell.\n",
    "\n",
    "\n",
    "Írjunk egy osztályt a játékhoz, pl. az `__init__` metódus hozzalétre a megadott konfigurációnak megfelelő objektumot. Legyen egy `step` metódus, ami a rendszert a következő állapotába viszi és az `__str__` metódus pedig\n",
    "valahogy ábrázolja az aktuális állapotot. \n",
    "\n",
    "Tegyük fel, hogy a rács amin a rendszer él, egy $n\\times n$-es rács, ahol mindkét irányban ciklikusan körbemegyünk,\n",
    "azaz a csúcsokat modulo $n$ tekintjük.\n"
   ]
  },
  {
   "cell_type": "code",
   "execution_count": null,
   "metadata": {},
   "outputs": [],
   "source": [
    "class ConwayGoL:\n",
    "    \n",
    "    def __init__(self, state):\n",
    "        self.state = list(state)\n",
    "\n",
    "    def step(self):\n",
    "        return self\n",
    "\n",
    "    def __repr__(self):\n",
    "        return f\"{type(self).__name__}({self.state})\""
   ]
  },
  {
   "cell_type": "code",
   "execution_count": null,
   "metadata": {},
   "outputs": [],
   "source": [
    "import random\n",
    "\n",
    "init_state = [] ## ???\n",
    "conway = ConwayGoL(init_state)\n",
    "\n",
    "conway.step()\n"
   ]
  },
  {
   "cell_type": "markdown",
   "metadata": {},
   "source": [
    "A játék állapotának leírásához egy $n\\times n$ rács minden pontjáról tudni kell, hogy foglalt-e vagy sem.\n",
    "\n",
    "```\n",
    "n = 11\n",
    "state = [[0]*n for _ in range(n)]\n",
    "```\n",
    "\n",
    "Véletlenszerű kezdeti állapot:\n",
    "```\n",
    "state = [[random.randint(0,1) for _ in range(n)] for _ in range(n)]\n",
    "```"
   ]
  },
  {
   "cell_type": "code",
   "execution_count": null,
   "metadata": {},
   "outputs": [],
   "source": [
    "def random_state(n, m, p):\n",
    "    return [[int(random.random()<p) for _ in range(m)] for _ in range(n)]\n",
    "\n",
    "state = random_state(11, 25, 0.2)\n",
    "print(state)"
   ]
  },
  {
   "cell_type": "markdown",
   "metadata": {},
   "source": [
    "Szebb megjelenítés?"
   ]
  },
  {
   "cell_type": "code",
   "execution_count": null,
   "metadata": {},
   "outputs": [],
   "source": [
    "def as_matrix(lst, n):\n",
    "    return [lst[i:i+n] for i in range(0, len(lst), n)]\n",
    "\n",
    "print('\\n'.join(''.join(map(str, line)) for line in state))\n"
   ]
  },
  {
   "cell_type": "code",
   "execution_count": null,
   "metadata": {},
   "outputs": [],
   "source": [
    "symbols = \"\\u2b1c\\u2b1b\"\n",
    "print('\\n'.join(''.join(symbols[x] for x in line) for line in state))\n"
   ]
  },
  {
   "cell_type": "code",
   "execution_count": null,
   "metadata": {},
   "outputs": [],
   "source": [
    "import matplotlib.pyplot as plt \n",
    "\n",
    "img = plt.matshow(state, cmap=\"viridis\")\n",
    "#img.axes.axis(False)\n",
    "n, m = len(state), len(state[0])\n",
    "for pos in range(0, n+1):\n",
    "    img.axes.axhline(y=pos-0.5, color=\"white\")\n",
    "for pos in range(0, m+1):\n",
    "    img.axes.axvline(x=pos-0.5, color=\"white\")\n",
    "\n",
    "plt.show()\n"
   ]
  },
  {
   "cell_type": "code",
   "execution_count": null,
   "metadata": {},
   "outputs": [],
   "source": [
    "\n",
    "def cgol_str(self):\n",
    "    symbols = \"\\u2b1c\\u2b1b\"\n",
    "    return '\\n'.join(''.join(symbols[x] for x in line) for line in self.state)\n",
    "\n",
    "ConwayGoL.__str__ = cgol_str\n",
    "\n",
    "    "
   ]
  },
  {
   "cell_type": "code",
   "execution_count": null,
   "metadata": {},
   "outputs": [],
   "source": [
    "conway = ConwayGoL(state)\n",
    "print(conway)"
   ]
  },
  {
   "cell_type": "markdown",
   "metadata": {},
   "source": [
    "A `step` metódushoz ki kellene számolni egy adott csúcs foglalt szomszédainak számát `cnt`. Ha ez kész,\n",
    "akkor az $i$ csúcs új állapota:\n",
    "\n",
    "$$\n",
    "    \\text{state}_{t+1}[i]=\n",
    "    \\begin{cases}\n",
    "    1 &\\text{Ha $\\text{cnt}[i]\\in\\{2,3\\}$ és $\\text{state}_t[i]=1$}\\\\\n",
    "    1 &\\text{Ha $\\text{cnt}[i]\\in\\{3\\}$ és $\\text{state}_t[i]=0$}\\\\\n",
    "    0 &\\text{különben}\n",
    "    \\end{cases}\n",
    "$$"
   ]
  },
  {
   "cell_type": "code",
   "execution_count": null,
   "metadata": {},
   "outputs": [],
   "source": [
    "def newstate(state, count):\n",
    "    return [int((c==3)|((c==2) & (s==1))) for s, c in  zip(state, count)]"
   ]
  },
  {
   "cell_type": "code",
   "execution_count": null,
   "metadata": {},
   "outputs": [],
   "source": [
    "%%ipytest\n",
    "\n",
    "def test_newstate():\n",
    "    res = [0]*9\n",
    "    res[2] = 1\n",
    "    res[3] = 1\n",
    "    assert newstate([1]*9, list(range(9))) == res\n",
    "    res = [0]*9\n",
    "    res[3] = 1    \n",
    "    assert newstate([0]*9, list(range(9))) == res\n"
   ]
  },
  {
   "cell_type": "code",
   "execution_count": null,
   "metadata": {},
   "outputs": [],
   "source": [
    "def count_neighbors(state):\n",
    "    strides = [(0,-1), (0, 1), (1,-1), (1,0), (1,1), (-1,-1), (-1,0), (-1,1)] \n",
    "    n, m = len(state), len(state[0])\n",
    "    return [ [sum(state[(i+di) % n][(j+dj) % m] for di, dj in strides) for j in range(m)] for i in range(n)]\n",
    "\n",
    "def cgol_step(self):\n",
    "    counts = count_neighbors(self.state)\n",
    "    self.state = [ newstate(line, cnt) for line, cnt in zip(self.state, counts) ]\n",
    "    return self\n",
    "    \n",
    "ConwayGoL.step = cgol_step"
   ]
  },
  {
   "cell_type": "code",
   "execution_count": null,
   "metadata": {},
   "outputs": [],
   "source": [
    "@classmethod\n",
    "def cgol_from_random_state(cls, n, m,  p):\n",
    "    return cls(random_state(n, m, p))\n",
    "\n",
    "ConwayGoL.from_random_state=cgol_from_random_state"
   ]
  },
  {
   "cell_type": "code",
   "execution_count": null,
   "metadata": {},
   "outputs": [],
   "source": [
    "conway = ConwayGoL.from_random_state(4, 4, 0.3)\n",
    "print(conway)\n",
    "print(count_neighbors(conway.state))"
   ]
  },
  {
   "cell_type": "code",
   "execution_count": null,
   "metadata": {},
   "outputs": [],
   "source": [
    "conway = ConwayGoL.from_random_state(5, 5, 0.5)\n",
    "print(conway)\n",
    "print(\"-\"*20)\n",
    "print(conway.step())"
   ]
  },
  {
   "cell_type": "markdown",
   "metadata": {},
   "source": [
    "Tudunk-e valami animációszerűt készíteni? Jupyter notebook-ban pl. a következő képpen lehet: "
   ]
  },
  {
   "cell_type": "code",
   "execution_count": null,
   "metadata": {},
   "outputs": [],
   "source": [
    "from ipywidgets import Output\n",
    "from time import sleep\n",
    "\n",
    "out = Output()\n",
    "display(out)\n",
    "conway = ConwayGoL.from_random_state(n=31, m=55, p=0.2)\n",
    "\n",
    "for i in range(100):\n",
    "    out.clear_output(True)\n",
    "    with out:\n",
    "        print(f\"After {i} steps:\\n{conway}\")  \n",
    "    sleep(0.2)\n",
    "    conway.step()\n"
   ]
  },
  {
   "cell_type": "markdown",
   "metadata": {},
   "source": [
    "Ha parancssorból dolgozunk, akkor valami ilyesmit lehetne tenni"
   ]
  },
  {
   "cell_type": "code",
   "execution_count": null,
   "metadata": {},
   "outputs": [],
   "source": [
    "%%writefile conway.py\n",
    "\n",
    "import random\n",
    "\n",
    "\n",
    "def random_state(n, m, p):\n",
    "    return [ [ int(random.random()<p) for _ in range(m) ] for _ in range(n) ]\n",
    "\n",
    "def count_neighbors(state):\n",
    "    strides = [(0,-1), (0, 1), (1,-1), (1,0), (1,1), (-1,-1), (-1,0), (-1,1)] \n",
    "    n, m = len(state), len(state[0])\n",
    "    return [ [sum(state[(i+di) % n][(j+dj) % m] for di, dj in strides) for j in range(m)] for i in range(n)]\n",
    "\n",
    "def newstate(state, count):\n",
    "    return [int((c==3)|((c==2) & (s==1))) for s, c in  zip(state, count)]\n",
    "\n",
    "class ConwayGoL:\n",
    "    symbols = \"\\u2b1c\\u2b1b\"\n",
    "    \n",
    "    def __init__(self, state):\n",
    "        self.state = list(state)\n",
    "        \n",
    "    def step(self):\n",
    "        counts = count_neighbors(self.state)\n",
    "        self.state = [ newstate(line, cnt) for line, cnt in zip(self.state, counts) ]\n",
    "        return self\n",
    "\n",
    "    \n",
    "    def __str__(self): \n",
    "        symbols = self.symbols\n",
    "        return '\\n'.join(''.join(symbols[x] for x in line) for line in self.state)\n",
    "\n",
    "    def __repr__(self):\n",
    "        return f\"{type(self).__name__}({self.state})\"\n",
    "    \n",
    "    @classmethod\n",
    "    def from_random_state(cls, n, m, p):\n",
    "        return cls(random_state(n, m, p))\n",
    "\n",
    "    def is_empty(self):\n",
    "        return not any(any(line) for line in self.state)\n",
    "\n",
    "\n",
    "def clear_terminal(n):\n",
    "    print(f\"{chr(27)}[{n+1}A\", end=\"\")\n",
    "\n",
    "def main(n=11, m=25, p=0.2, nsteps=10, clear_screen=clear_terminal):\n",
    "    from time import sleep\n",
    "    conway = ConwayGoL.from_random_state(n, m, p)\n",
    "    for i in range(nsteps+1):\n",
    "        if i>0:\n",
    "            clear_screen(n)\n",
    "        print(f\"after {i} step:\")\n",
    "        print(conway)  \n",
    "        sleep(0.2)\n",
    "        conway.step()\n",
    "        if conway.is_empty():\n",
    "            break\n",
    "    \n",
    "if __name__ == \"__main__\":\n",
    "    main()\n",
    "    "
   ]
  },
  {
   "cell_type": "markdown",
   "metadata": {},
   "source": [
    "Ha valamit már megírtunk és szeretnénk használni, `import`-tal elérhető. Pl."
   ]
  },
  {
   "cell_type": "markdown",
   "metadata": {},
   "source": [
    "### Tudunk-e paramétereket adni a python scriptnek?\n",
    "\n",
    "Amikor egy python scriptet futtatunk, a parancssor (amivel a futást indítottuk) a `sys` modul `argv` változójában érhető el."
   ]
  },
  {
   "cell_type": "code",
   "execution_count": null,
   "metadata": {},
   "outputs": [],
   "source": [
    "import sys\n",
    "sys.argv"
   ]
  },
  {
   "cell_type": "code",
   "execution_count": null,
   "metadata": {},
   "outputs": [],
   "source": [
    "! python -c 'import sys; print(sys.argv)' -alma\n"
   ]
  },
  {
   "cell_type": "markdown",
   "metadata": {},
   "source": [
    "Egy nagyon egyszerű megoldás, ha minden opciónak a neve a paraméter amit beállít és egyenlőségjel után az értéke:\n",
    "pl. n=11 m=25 nstep=10 p=0.2"
   ]
  },
  {
   "cell_type": "code",
   "execution_count": null,
   "metadata": {},
   "outputs": [],
   "source": [
    "cmdline = \"conway.py -n=11 -m=25 -nstep=10 -p=0.2\"\n",
    "argv = cmdline.split()\n",
    "params =[param.split(\"=\") for param in argv[1:]]\n",
    "params"
   ]
  },
  {
   "cell_type": "markdown",
   "metadata": {},
   "source": [
    "Minden paraméterről tudni kellene, hogy milyen típusú!"
   ]
  },
  {
   "cell_type": "code",
   "execution_count": null,
   "metadata": {},
   "outputs": [],
   "source": [
    "param_types={'-n': int, '-m': int, '-nstep': int, '-p': float}\n",
    "params = {k.replace(\"-\",\"\"): param_types[k](v)  for k, v in (param.split(\"=\") for param in argv[1:])}\n",
    "params"
   ]
  },
  {
   "cell_type": "markdown",
   "metadata": {},
   "source": [
    "Ezek után a `main` függvényt a megadott paraméterekkel meg tudjuk hívni:\n",
    "\n",
    "```\n",
    "    main(**params)\n",
    "```\n",
    "Mi van a `default` értékekkel, `help`-pel stb.\n",
    "\n",
    "Ezeket mind meg tudnánk írni, de nem kell. Van kész megoldás `python`-ban.\n",
    "\n",
    "Az `argparse` könvytár mindent megcsinál, ami nekünk kell."
   ]
  },
  {
   "cell_type": "code",
   "execution_count": null,
   "metadata": {},
   "outputs": [],
   "source": [
    "import argparse\n",
    "\n",
    "help(argparse)"
   ]
  },
  {
   "cell_type": "markdown",
   "metadata": {},
   "source": [
    "A `conway.py` file végét cseréljük le erre.\n",
    "```\n",
    "if __name__==\"__main__\":\n",
    "\n",
    "    import argparse\n",
    "    \n",
    "    parser = argparse.ArgumentParser(description='Conways Game of Life')\n",
    "\n",
    "    parser.add_argument(\n",
    "        '-n', '--nrows', \n",
    "        type=int, \n",
    "        default=11, \n",
    "        help='number of rows'\n",
    "        )\n",
    "\n",
    "    parser.add_argument(\n",
    "        '-m', '--ncols',\n",
    "        type=int, \n",
    "        default=25, \n",
    "        help='number of columns'\n",
    "        )\n",
    "\n",
    "    parser.add_argument(\n",
    "        '-p', '--density',\n",
    "        type=float, \n",
    "        default=0.2,\n",
    "        help='initial density')\n",
    "    \n",
    "    parser.add_argument(\n",
    "        '--nsteps', \n",
    "        type=int, \n",
    "        default=10, \n",
    "        help='steps to display'\n",
    "        )\n",
    "\n",
    "    args = parser.parse_args()\n",
    "    \n",
    "    main(n=args.n, m=args.m, p=args.p, nsteps=args.nsteps)\n",
    "```\n",
    "    "
   ]
  },
  {
   "cell_type": "code",
   "execution_count": null,
   "metadata": {},
   "outputs": [],
   "source": [
    "# import importlib\n",
    "# importlib.reload(conway)"
   ]
  },
  {
   "cell_type": "code",
   "execution_count": null,
   "metadata": {},
   "outputs": [],
   "source": [
    "import conway\n",
    "\n",
    "out1 = Output()\n",
    "display(out1)\n",
    "\n",
    "with out1:\n",
    "    conway.main(clear_screen=lambda n: out1.clear_output(True))"
   ]
  },
  {
   "cell_type": "markdown",
   "metadata": {},
   "source": [
    "Az `argparse` könyvtár nem a legkényelmesebb. Alternatívák:\n",
    "\n",
    "- [Docopt](http://docopt.org/)\n",
    "- [Click](https://pypi.org/project/click/)\n",
    "- [clize](https://github.com/epsy/clize)\n",
    "\n",
    "és még sok másik is!"
   ]
  },
  {
   "cell_type": "markdown",
   "metadata": {},
   "source": [
    "# `with` statement"
   ]
  },
  {
   "cell_type": "markdown",
   "id": "6855010d-aa5b-4c95-a7ff-020598002ccd",
   "metadata": {},
   "source": [
    "\n",
    " \n",
    "## Mi történik a `with` statement alkalmazásakor?\n",
    "\n",
    "### Mit lehet a with mögé írni?\n",
    "\n",
    "Hasonlóan a `for`-hoz szinte bármit, aminek van két metódusa:\n",
    "\n",
    "- `__enter__`\n",
    "- `__exit__`\n",
    "\n",
    "\n",
    "    with obj as x:\n",
    "       do_something with x\n",
    "\n",
    "Itt az `obj.__enter__()` hívás eredménye lesz az x értéke és a block végén **GARANTÁLTAN** végrehajtódik az `obj.__exit__(...)` hívás.\n",
    "Az `__enter__` metódus végezheti az előkészítést, az `__exit__` a takarítást!\n",
    "\n",
    "#### Kell-e nekünk ezeket a metódusokat közvetlenül implementálni?\n",
    "\n",
    "Valójában nem. Elegendő egy generátor függvényt megírni:\n",
    "\n",
    "    import time\n",
    "    \n",
    "    def timer():\n",
    "        try:\n",
    "            start = time.time()\n",
    "            yield\n",
    "\n",
    "        finally:\n",
    "            runtime = time.time() - start\n",
    "            print(f\"run time: {runtime:3f}\")\n",
    "            \n",
    "\n",
    "Így még csak egy generátort kapunk ami egyszer visszaad semmit (`None`) majd jelzi, hogy vége van a sorozatnak. \n",
    "\n",
    "Próbáljuk ki `for`-ral"
   ]
  },
  {
   "cell_type": "code",
   "execution_count": null,
   "id": "bf7398f5-f860-4f54-bb34-4a23a657c6de",
   "metadata": {},
   "outputs": [],
   "source": [
    "import time\n",
    "    \n",
    "def timer():\n",
    "    try:\n",
    "        start = time.time()\n",
    "        yield\n",
    "\n",
    "    finally:\n",
    "        runtime = time.time() - start\n",
    "        print(f\"run time: {runtime:3f}\")\n",
    "        \n",
    "for x in timer():\n",
    "    print(x)"
   ]
  },
  {
   "cell_type": "markdown",
   "id": "9240a96f-f131-4ec6-bf82-9200ec8683d1",
   "metadata": {},
   "source": [
    "`with`-del hibát kapunk"
   ]
  },
  {
   "cell_type": "code",
   "execution_count": null,
   "id": "733bcf3e-ba03-4764-864d-dc86b59e4fb3",
   "metadata": {},
   "outputs": [],
   "source": [
    "with timer() as x:\n",
    "    print(x)"
   ]
  },
  {
   "cell_type": "markdown",
   "id": "985e67d1-afae-4523-a8df-7577354c7745",
   "metadata": {},
   "source": [
    "A `contextlib` module `contextmanager` függvénye generátorból `contextmanager`-t készít."
   ]
  },
  {
   "cell_type": "code",
   "execution_count": null,
   "id": "4bf4e118-d7a5-47cc-893c-f47a2bac8c44",
   "metadata": {},
   "outputs": [],
   "source": [
    "from contextlib import contextmanager\n",
    "timer2 = contextmanager(timer)\n",
    "with timer2() as x:\n",
    "    print(x)"
   ]
  },
  {
   "cell_type": "markdown",
   "id": "20b085c9-be51-4ad4-a5a4-40910f5c1587",
   "metadata": {},
   "source": [
    "Ha egy függvény akarunk alkalmazni egy függvényre, hogy azt átalakítsuk, de ugyanaz maradjon a neve akkor a python `@` szintakszist használja. Ilyenkor ,,dekoráljuk'' a függvényt. A `contextmanager` egy példa **dekorátor**ra.\n",
    "\n",
    "    @contextmanager\n",
    "    def timer():\n",
    "        try:\n",
    "            start = time.time()\n",
    "            yield\n",
    "\n",
    "        finally:\n",
    "            runtime = time.time() - start\n",
    "            print(f\"run time: {runtime:3f}\")\n",
    "    \n",
    "Példaként írjunk egy olyan contextmanager-t, ami jelzi nekünk, hogy mikor milyen hívás történik."
   ]
  },
  {
   "cell_type": "code",
   "execution_count": null,
   "id": "8666bd25-3915-428c-86ad-cbc4582003cd",
   "metadata": {},
   "outputs": [],
   "source": [
    "@contextmanager\n",
    "def print_whats_going_on(x):\n",
    "    print(\"try blokk előtt\")\n",
    "    try:\n",
    "        print(\"yield előtt\")\n",
    "        yield x\n",
    "        print(\"yield után\")\n",
    "    except:\n",
    "        print(\"except ág\")\n",
    "    finally:\n",
    "        print(\"finally ág\")\n",
    "    print(\"try blokk után\")"
   ]
  },
  {
   "cell_type": "code",
   "execution_count": null,
   "id": "c3ba90bb-2dde-429d-9dd8-75476b0a5225",
   "metadata": {},
   "outputs": [],
   "source": [
    "with print_whats_going_on(\"hello\") as x:\n",
    "    print(x)\n",
    "print(\"with után\")\n",
    "\n",
    "print(\"-\"*50)\n",
    "\n",
    "with print_whats_going_on(\"hello\") as x:\n",
    "    print(x)\n",
    "    raise ValueError\n",
    "print(\"with után\")\n"
   ]
  },
  {
   "cell_type": "code",
   "execution_count": null,
   "id": "39160ff6-b8bd-4e51-9117-5bb3f6a4eb59",
   "metadata": {},
   "outputs": [],
   "source": [
    "@contextmanager\n",
    "def timer():\n",
    "    try:\n",
    "        start = time.time()\n",
    "        yield\n",
    "\n",
    "    finally:\n",
    "        runtime = time.time() - start\n",
    "        print(f\"run time: {runtime:3f}\")"
   ]
  },
  {
   "cell_type": "code",
   "execution_count": null,
   "metadata": {},
   "outputs": [],
   "source": [
    "t = timer()\n",
    "with t:\n",
    "    time.sleep(0.5)"
   ]
  },
  {
   "cell_type": "markdown",
   "metadata": {},
   "source": [
    "Használhatjuk-e többször a `timer`-ünket?"
   ]
  },
  {
   "cell_type": "code",
   "execution_count": null,
   "metadata": {},
   "outputs": [],
   "source": [
    "t = timer()\n",
    "with t:\n",
    "    time.sleep(0.5)\n",
    "with t:\n",
    "    time.sleep(0.5)\n"
   ]
  },
  {
   "cell_type": "markdown",
   "metadata": {},
   "source": [
    "## Tudunk-e olyan contextmanagert készíteni, ami többször felhasználható?\n",
    "\n",
    "pl.\n",
    "\n",
    "```\n",
    "with indented:\n",
    "    indented.print(\"első\")\n",
    "    with indented:\n",
    "        indented.print(\"második\")\n",
    "    indented.print(\"harmadik\")\n",
    "```\n",
    "\n",
    "ahol kimenetként azt várnánk, hogy\n",
    "```\n",
    "  első\n",
    "    második\n",
    "  harmadik\n",
    "```"
   ]
  },
  {
   "cell_type": "code",
   "execution_count": null,
   "metadata": {},
   "outputs": [],
   "source": [
    "class Indent:\n",
    "    def __init__(self, indent='  '):\n",
    "        self.level = 0\n",
    "        self.indent = indent\n",
    "    \n",
    "    def __enter__(self):\n",
    "        self.level += 1\n",
    "        return None\n",
    "    \n",
    "    def __exit__(self, *args):\n",
    "        self.level -= 1\n",
    "    \n",
    "    def print(self, x):\n",
    "        indent = self.indent*self.level \n",
    "        x = str(x)\n",
    "        print('\\n'.join(indent+line for line in x.split('\\n')))\n"
   ]
  },
  {
   "cell_type": "code",
   "execution_count": null,
   "metadata": {},
   "outputs": [],
   "source": [
    "indented = Indent('...')\n",
    "text = \"\"\"Többsoros szöveg:\n",
    "Első\n",
    "Második\n",
    "\"\"\"\n",
    "with indented:\n",
    "    indented.print(\"első\")\n",
    "    with indented:\n",
    "        indented.print(\"második\")\n",
    "        with indented:\n",
    "            indented.print(text)\n",
    "    indented.print(\"harmadik\")"
   ]
  },
  {
   "cell_type": "code",
   "execution_count": null,
   "metadata": {},
   "outputs": [],
   "source": []
  },
  {
   "cell_type": "markdown",
   "metadata": {},
   "source": [
    "# Dekorátorok"
   ]
  },
  {
   "cell_type": "markdown",
   "metadata": {},
   "source": [
    "## Property"
   ]
  },
  {
   "cell_type": "markdown",
   "metadata": {},
   "source": [
    "Előadáson a `property` dekorátor szerepelt."
   ]
  },
  {
   "cell_type": "code",
   "execution_count": null,
   "metadata": {},
   "outputs": [],
   "source": [
    "class Temperature:\n",
    "    def __init__(self, celsius=0):\n",
    "        self.C = celsius\n",
    "\n",
    "    @property\n",
    "    def F(self):\n",
    "        return 32+9*self.T/5\n",
    "    \n",
    "    @F.setter\n",
    "    def F(self, fahrenheit):\n",
    "        self.C = (fahrenheit-32)*5/9\n",
    "\n",
    "    @property\n",
    "    def C(self):\n",
    "        return self.T \n",
    "    \n",
    "    @C.setter\n",
    "    def C(self, celsius):\n",
    "        if celsius < -273:\n",
    "            raise ValueError('Temperature is too small')\n",
    "        self.T = celsius\n",
    "\n",
    "    def __str__(self):\n",
    "        return f\"{self.C:.1f} \\u2103 \\t({self.F:.1f} \\u2109)\"\n",
    "\n",
    "    def __repr__(self):\n",
    "        return f\"{type(self).__name__}({self.T})\"\n",
    "    \n",
    "    "
   ]
  },
  {
   "cell_type": "markdown",
   "metadata": {},
   "source": [
    "Példák."
   ]
  },
  {
   "cell_type": "code",
   "execution_count": null,
   "metadata": {},
   "outputs": [],
   "source": [
    "temp = Temperature()\n",
    "\n",
    "for t in range(-20, 45, 5):\n",
    "    temp.C = t\n",
    "    print(str(temp))\n",
    "     "
   ]
  },
  {
   "cell_type": "code",
   "execution_count": null,
   "metadata": {},
   "outputs": [],
   "source": [
    "temp.F = 100\n",
    "print(temp)\n",
    "temp"
   ]
  },
  {
   "cell_type": "markdown",
   "metadata": {},
   "source": [
    "## Más példa dekorátorra"
   ]
  },
  {
   "cell_type": "markdown",
   "metadata": {},
   "source": [
    "\n",
    "A `ConwayGoL` példában utólag adtunk metódusokat az osztályunkhoz. Ezt is megtehettük volna dekorátorral.  "
   ]
  },
  {
   "cell_type": "code",
   "execution_count": null,
   "metadata": {},
   "outputs": [],
   "source": [
    "def conway_method(f):\n",
    "    setattr(ConwayGoL, f.__name__, f)\n",
    "    return f\n",
    "\n",
    "\n",
    "@conway_method\n",
    "def dummy_method(self):\n",
    "    print(\"this is a message from the new method!\")\n",
    "\n",
    "c = ConwayGoL([], 0)\n",
    "c.dummy_method()"
   ]
  },
  {
   "cell_type": "markdown",
   "metadata": {},
   "source": [
    "Azt is megtehettük volna, hogy a osztály nincs beleégetve a kódba."
   ]
  },
  {
   "cell_type": "code",
   "execution_count": null,
   "metadata": {},
   "outputs": [],
   "source": [
    "def new_method(cls):\n",
    "    def decorator(f):\n",
    "        setattr(cls, f.__name__, f)\n",
    "        return f \n",
    "    return decorator\n",
    "\n",
    "@new_method(ConwayGoL)\n",
    "def dummy_method(self):\n",
    "    print(\"Note that the old value of dummy_method is overwritten!\")"
   ]
  },
  {
   "cell_type": "code",
   "execution_count": null,
   "metadata": {},
   "outputs": [],
   "source": [
    "c.dummy_method()"
   ]
  },
  {
   "cell_type": "markdown",
   "metadata": {},
   "source": [
    "## További példák dekorátorokra\n",
    "\n",
    "A `functools` modulban számos hasznos dekorátor található\n",
    "\n",
    "- `lru_cache`: A függvényből a memorizált változatot készíti el.\n",
    "- `partial`: `g = partial(f, 1)` hatására `g(...)` ugyanaz, mint `f(1, ...)`\n",
    "- `wraps`: lásd a dokumentációt."
   ]
  },
  {
   "cell_type": "code",
   "execution_count": null,
   "metadata": {},
   "outputs": [],
   "source": [
    "from functools import lru_cache, partial, wraps\n",
    "\n",
    "@lru_cache\n",
    "def f(x):\n",
    "    return x*x\n",
    "\n",
    "print(f(1), f(2), f(1))\n",
    "print(f.cache_info())\n",
    "\n",
    "def add(a, b):\n",
    "    return a+b\n",
    "\n",
    "inc = partial(add, 1)\n",
    "inc(10)\n",
    "\n",
    "\n"
   ]
  },
  {
   "cell_type": "code",
   "execution_count": null,
   "metadata": {},
   "outputs": [],
   "source": [
    "def decor_wo_wraps(f):\n",
    "    def h(*args):\n",
    "        print(\"decorated without wraps\")\n",
    "        return f(*args)\n",
    "    return h\n",
    "\n",
    "def decor_wraps(f):\n",
    "    @wraps(f)\n",
    "    def h(*args):\n",
    "        print(\"decorated with wraps\")\n",
    "        return f(*args)\n",
    "    return h\n"
   ]
  },
  {
   "cell_type": "code",
   "execution_count": null,
   "metadata": {},
   "outputs": [],
   "source": [
    "@decor_wo_wraps\n",
    "def dummy_fn(a:int, b:int) -> int:\n",
    "    \"\"\"dummy fn. Nothing interesting\"\"\"\n",
    "    return a+b\n",
    "\n",
    "print(dummy_fn(1, 2))\n",
    "help(dummy_fn)"
   ]
  },
  {
   "cell_type": "code",
   "execution_count": null,
   "metadata": {},
   "outputs": [],
   "source": [
    "@decor_wraps\n",
    "def dummy_fn(a:int, b:int) ->int:\n",
    "    \"\"\"dummy fn. Nothing interesting\"\"\"\n",
    "    return a+b\n",
    "\n",
    "print(dummy_fn(1, 2))\n",
    "help(dummy_fn)"
   ]
  },
  {
   "cell_type": "markdown",
   "metadata": {},
   "source": [
    "# `Numpy` könyvtár"
   ]
  },
  {
   "cell_type": "markdown",
   "metadata": {},
   "source": [
    "# `Matplotlib.pyplot` könytár"
   ]
  }
 ],
 "metadata": {
  "kernelspec": {
   "display_name": "base",
   "language": "python",
   "name": "python3"
  },
  "language_info": {
   "codemirror_mode": {
    "name": "ipython",
    "version": 3
   },
   "file_extension": ".py",
   "mimetype": "text/x-python",
   "name": "python",
   "nbconvert_exporter": "python",
   "pygments_lexer": "ipython3",
   "version": "3.8.13"
  },
  "orig_nbformat": 4,
  "vscode": {
   "interpreter": {
    "hash": "d8b53ac59aeb7dd99955ed1c7af180cec0b2adbd03b0a8162d4077beb5f10154"
   }
  }
 },
 "nbformat": 4,
 "nbformat_minor": 2
}
