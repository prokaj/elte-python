{
  "cells": [
    {
      "cell_type": "markdown",
      "metadata": {
        "id": "4h7e8QceEhMk"
      },
      "source": [
        "[![Open In Colab](https://colab.research.google.com/assets/colab-badge.svg)](https://colab.research.google.com/github/prokaj/elte-python/blob/main/8-gyakorlat.ipynb)"
      ]
    },
    {
      "cell_type": "markdown",
      "metadata": {
        "id": "PAlWPXNXEhMn"
      },
      "source": [
        "# Házi feladatok"
      ]
    },
    {
      "cell_type": "markdown",
      "metadata": {
        "id": "cIsyk9woEhMp"
      },
      "source": [
        "##  `ToDo`"
      ]
    },
    {
      "cell_type": "markdown",
      "metadata": {
        "id": "G9hxy8uqEhMq"
      },
      "source": [
        " 1. Írjunk egy `ToDo` nevű osztályt, amiben a teendőinket tudjuk nyilvántartani. Egy teendőt, két dolog ír le:\n",
        "\n",
        "    1.  Szöveges leírás: `str`\n",
        "\n",
        "    2.  Határidő.\n",
        "\n",
        "    Az egyedeket a `description` (szöveges leírás) és `deadline` (dátum)\n",
        "    paraméterekkel inicializáljuk. A dátumot `iso` formátumban adjuk meg,\n",
        "    azaz sztringként, aminek formátuma `YYYY-MM-DD`, azaz évszám négy\n",
        "    karaktere, a hónap sorszáma (01-12), a nap sorszáma (01-31)\n",
        "\n",
        "    Írjuk meg az `__str__` és `__repr__` metódusokat.\n",
        "\n",
        "    Ha `obj` az osztályunk egy példánya, akkor a `str(obj)` adja vissza a\n",
        "    `description` mező első legfeljebb 23 karakterét, amit a dátum követ\n",
        "    `(év. hónap magyar neve nap sorszáma.-ig)` formában. Ha a leírás nem fér\n",
        "    el, az adott szélességben, akkor az utolsó három karakter legyen `...`.\n",
        "\n",
        "    pl.\n",
        "\n",
        "        todo0 = ToDo(\"El kell készítenem a python gyakorlat házi feladatot\", \"2022-10-24\")\n",
        "        print(todo0)\n",
        "        todo1 = ToDo(\"python hf\", \"2022-10-24\")\n",
        "        print(todo1)\n",
        "\n",
        "    eredménye:\n",
        "\n",
        "        El kell készítenem a... (2022. október 24.-ig)\n",
        "        python hf (2022. október 24.-ig)\n",
        "\n",
        "    A `__repr__` metódus az osztály nevét és az inicializáskor használt\n",
        "    argumentumokat adja vissza a szokásos alakban, `repr(todo0)`\n",
        "    \n",
        "    ```\n",
        "    ToDo(\"El kell készítenem a python gyakorlat házi feladatot\", \"2022-10-24\")\n",
        "    ```\n",
        "\n",
        "    A dátumok kezelését nem kell önállóan elkészíteni, használhatjuk a\n",
        "    `datetime` module `date` osztályát. Nézzük meg az `isoformat`,\n",
        "    `fromisoformat`, `year`, `month`, `day` metódusokat.\n",
        "\n",
        "    A magyar hónapneveket valószínűleg nekünk kell megadni!\n",
        "\n",
        "    Szokás szerint írjunk teszt függvényt, ami az osztály metódusait\n",
        "    ellenőrzi 3-4 teszteseten: hosszú leírás, rövid leírás, dátum helyes\n",
        "    formátumban, dátum helytelen formátumban, leírás nem `str`, stb.\n",
        "\n",
        "    Ha a dátum helytelen formátumban van vagy a description nem `str`, akkor\n",
        "    az elvárt működés az, hogy `ValueError` hibát kapunk. Ennek\n",
        "    teszteléséhez a `pytest` modulból a `raises` függvényt kell importálni\n",
        "    és a teszt függvényben a\n",
        "\n",
        "        with raises(ValueError):\n",
        "            ToDo(...)\n",
        "\n",
        "    sorokat elhelyezni, ahol a `...` helyén a hibát okozó argumentumok\n",
        "    állnak.\n",
        "\n",
        "    A típus annotáció, és a dokumentációs string most opcionális.\n"
      ]
    },
    {
      "cell_type": "code",
      "execution_count": 10,
      "metadata": {
        "id": "Cy0uyiK_EhMt"
      },
      "outputs": [],
      "source": [
        "try:\n",
        "    import ipytest\n",
        "    ipytest.autoconfig()\n",
        "    \n",
        "except ModuleNotFoundError:\n",
        "    print(\"Trying to install ipytest\")\n",
        "    ! pip install ipytest --quiet\n",
        "    print(\"Try again!\")"
      ]
    },
    {
      "cell_type": "code",
      "execution_count": 15,
      "metadata": {
        "id": "rukp03jiEhMv"
      },
      "outputs": [],
      "source": [
        "import datetime \n",
        "\n",
        "class ToDo:\n",
        "    months = \"január február március április május április június július augusztus szeptember október november december\".split()\n",
        "    def __init__(self, description, date):\n",
        "        if not isinstance(description, str):\n",
        "            raise ValueError\n",
        "        self.description = description\n",
        "        try:\n",
        "            self.date = datetime.date.fromisoformat(date)     \n",
        "        except TypeError:\n",
        "            raise ValueError\n",
        "\n",
        "    def __str__(self):\n",
        "        if len(self.description)>23:\n",
        "            desc = self.description[:20] + \"...\"\n",
        "        else:\n",
        "            desc = self.description\n",
        "        \n",
        "\n",
        "        return f\"{desc} ({self.date.year}. {self.months[self.date.month]} {self.date.day}.-ig)\"\n",
        "\n",
        "    def __repr__(self):\n",
        "        return f'{type(self).__name__}(\"{self.description}\", \"{self.date.isoformat()}\")'\n"
      ]
    },
    {
      "cell_type": "code",
      "execution_count": 16,
      "metadata": {
        "colab": {
          "base_uri": "https://localhost:8080/"
        },
        "id": "QaR9Py4ZEhMx",
        "outputId": "3e38bd30-dde7-4063-c2c1-6c92219b32bb"
      },
      "outputs": [
        {
          "name": "stdout",
          "output_type": "stream",
          "text": [
            "\u001b[32m.\u001b[0m\u001b[32m                                                                                            [100%]\u001b[0m\n",
            "\u001b[32m\u001b[32m\u001b[1m1 passed\u001b[0m\u001b[32m in 0.01s\u001b[0m\u001b[0m\n"
          ]
        }
      ],
      "source": [
        "%%ipytest\n",
        "from pytest import raises\n",
        "\n",
        "def test_ToDo():\n",
        "\n",
        "    \n",
        "    todo = ToDo(\"El kell készítenem a python gyakorlat házi feladatot\", \"2022-10-24\")\n",
        "    assert str(todo) == \"El kell készítenem a... (2022. október 24.-ig)\"\n",
        "    assert repr(todo) == 'ToDo(\"El kell készítenem a python gyakorlat házi feladatot\", \"2022-10-24\")'\n",
        "    \n",
        "    todo = ToDo(\"python hf\", \"2022-10-24\")\n",
        "    assert str(todo) == \"python hf (2022. október 24.-ig)\"\n",
        "    assert repr(todo) == 'ToDo(\"python hf\", \"2022-10-24\")'\n",
        "    \n",
        "    with raises(ValueError):\n",
        "        ToDo(12414, \"2022-10-22\")\n",
        "    \n",
        "    with raises(ValueError):\n",
        "        ToDo(\"test\", \"2022-13-22\")\n",
        "    \n",
        "    with raises(ValueError):\n",
        "        ToDo(\"test\", datetime.date.fromisoformat(\"2022-10-22\"))\n",
        "    "
      ]
    },
    {
      "cell_type": "markdown",
      "metadata": {
        "id": "aHRdQhLjEhMy"
      },
      "source": [
        "## `Permutation`"
      ]
    },
    {
      "cell_type": "markdown",
      "metadata": {
        "id": "zaR-Zik6EhMz"
      },
      "source": [
        "\n",
        "\n",
        "2.  Írjunk egy `Permutation` osztályt. Permutáció alatt most egy\n",
        "    $\\left\\{{0,\\dots,n-1}\\right\\}\\to\\left\\{{0,\\dots,n-1}\\right\\}$ bijekciót\n",
        "    értünk! Inicializáláskor a $\\pi$ permutációt az\n",
        "    $(\\pi(0), \\dots,\\pi(n-1))$ rendezett $n$-sel adjuk meg.\n",
        "\n",
        "    Írjuk meg az `__str__` és `__repr__` metódusokat. A `__str__` metódus a\n",
        "    permutáció ciklus reprezentációját adja vissza a `cycles: ` szöveg után.\n",
        "\n",
        "    A $\\pi$ permutáció egy ciklusa alatt egy $c_0,\\dots, c_{k-1}$ sorozatot\n",
        "    értünk, ahol $\\pi(c_t)=c_{t+1}$, ha $t+1<k$ és $\\pi(c_{k-1})=c_0$. Ha a\n",
        "    permutációt írányított gráfként ábrázoljuk ($i\\to \\pi(i)$ élekkel),\n",
        "    akkor ezek a keletkező körök. A ciklusok az alaphalmazt ekvivalencia\n",
        "    osztályokra bontják, a permutáció megadásához elgendő a ciklusokon belül\n",
        "    feljegyezni a sorrendet. Sőt az egy hosszú ciklusokra nincs is szükség a\n",
        "    leíráshoz. [További információért, lásd a Wikipédia\n",
        "    bejegyzést!](https://en.wikipedia.org/wiki/Cycles_and_fixed_points)\n",
        "\n",
        "    Minden egyes ciklust a legkisebb elemével kezdve írjunk fel, és a\n",
        "    ciklusok sorrendjét is a legkisebb elemek sorrendje határozza meg. Nem\n",
        "    kell túlbonyolítani a dolgot. Ha a ciklusokat már kiszámoltuk, akkor a\n",
        "    ciklusokból álló lista rendezése pont ezt csinálja!\n",
        "\n",
        "    Példák.\n",
        "\n",
        "        (0, 1, 2, 3, 4, 5): ciklus reprezentáció = []\n",
        "        (0, 1, 2, 3, 5, 4): ciklus reprezentáció = [(4,5)]\n",
        "        (1, 2, 3, 4, 5, 0): ciklus reprezentáció = [(0, 1, 2, 3, 4, 5)]\n",
        "        (1, 2, 0, 4, 5, 3): ciklus reprezentáció = [(0, 1, 2), (3, 4, 5)]\n",
        "\n",
        "    A `__repr__` metódus a szokásos alakú, osztály név és az inicializáló\n",
        "    argumentumok.\n",
        "\n",
        "    Példák.\n",
        "\n",
        "        pi0 = Permutation([1, 2, 3, 0])\n",
        "        print(pi0)       # -> cycles : [(0, 1, 2, 3)]\n",
        "        print(repr(pi0)) # -> Permutation((1, 2, 3, 0))\n",
        "        pi1 = Permutation([1, 0, 3, 2])\n",
        "        print(pi1)       # -> cycles : [(0, 1), (2, 3)]\n",
        "        print(repr(pi1)) # -> Permutation((1, 0, 3, 2))\n",
        "\n",
        "    Az `__init__` függvény ellenőrizze, hogy a kapott $n$-es valóban\n",
        "    permutáció-e, ha nem akkor dobjon `ValueError` hibát! Ezt sem kell\n",
        "    túlbonyolítani. Ötlet: egy véges függvény pontosan akkor permutáció, ha\n",
        "    értékkészlete ugyanaz mint az értelmezési tartománya. Jelen esetben az\n",
        "    értelemzési tartomány `set(range(n))`, ahol `n` a bemenetként kapott\n",
        "    sorozat hossza!\n",
        "\n",
        "    Szokás szerint írjunk teszt függvényt, ami az osztály metódusait\n",
        "    ellenőrzi 4-5 teszteseten, amik között olyan is van amikor az argumentum\n",
        "    hibás, azaz nem egy permutáció (nem sorozat, nem egészekből álló\n",
        "    sorozat, ismétlődéseket tartalmazó sorozat, stb)!\n",
        "\n",
        "    Ha az argumentum hibás akkor az elvárt működés az, hogy `ValueError`\n",
        "    hibát kapunk. Ennek teszteléséhez a `pytest` modulból a `raises`\n",
        "    függvényt kell importálni és a teszt függvényben a\n",
        "\n",
        "        with raises(ValueError):\n",
        "            Permutation(...)\n",
        "\n",
        "    sorokat elhelyezni, ahol a `...` helyén a hibát okozó argumentumok\n",
        "    állnak.\n",
        "\n",
        "    A típus annotáció, és a dokumentációs string most opcionális.\n",
        "\n"
      ]
    },
    {
      "cell_type": "code",
      "execution_count": 7,
      "metadata": {
        "id": "bQ_PUuFgEhM2"
      },
      "outputs": [],
      "source": [
        "class Permutation:\n",
        "\n",
        "    def __init__(self, permutation):\n",
        "        if set(permutation) != set(range(len(permutation))):\n",
        "            raise ValueError\n",
        "        self.permutation = tuple(permutation)    \n",
        "\n",
        "    def __str__(self):\n",
        "        cycles = []\n",
        "        pi = list(self.permutation)\n",
        "        for i in range(len(pi)):\n",
        "            x = pi[i]\n",
        "            if (x==-1) or (i==x):\n",
        "                continue\n",
        "            cycle = [i]\n",
        "            while x!=i:\n",
        "                cycle.append(x)\n",
        "                pi[x], x = -1, p[x]\n",
        " \n",
        "            cycles.append(tuple(cycle))\n",
        "\n",
        "        return f\"cycles : {cycles}\"\n",
        "\n",
        "    def __repr__(self):\n",
        "        return f\"{type(self).__name__}({self.permutation})\"\n",
        "    "
      ]
    },
    {
      "cell_type": "markdown",
      "metadata": {},
      "source": [
        "Az `__str__` metódus implementálása során elő jött egy váratlan hiba gyakorlaton, amiről hirtelen nem láttam mi is történik. Az `while` ciklus elsp változata így nézett ki:\n",
        "```\n",
        "while x!=i:\n",
        "    cycle.append(x)\n",
        "    x, pi[x] = pi[x], -1\n",
        "```\n",
        "Ami aztán az `(0, 1, 2, 3, 5, 4)` permutációra alkalmazva végtelen ciklust eredményezett.\n",
        "\n",
        "Mi volt itt a gond. Az értékadások sorrendje. A `python` értelmező először kiszámolta a jobb oldalt, eddig minden úgy történt ahogy várjuk. Aztán elkezdi az értékadást a bal oldalon. Elsőként `x` kap új értéket, majd az új `x` értékkel veszi `pi[x]`-et és emiatt a listának nem azt az elemét írja felül -1-gyel, amelyiket szerettük volna! "
      ]
    },
    {
      "cell_type": "code",
      "execution_count": 5,
      "metadata": {},
      "outputs": [
        {
          "name": "stdout",
          "output_type": "stream",
          "text": [
            "x=1, pi=[4, 3, 2, 1, 0]\n",
            "x=3, pi=[4, 3, 2, -1, 0]\n"
          ]
        }
      ],
      "source": [
        "pi = list(range(4, -1, -1))\n",
        "x = 1\n",
        "print(f\"x={x}, pi={pi}\")\n",
        "x, pi[x] = pi[x], -1\n",
        "print(f\"x={x}, pi={pi}\")"
      ]
    },
    {
      "cell_type": "markdown",
      "metadata": {},
      "source": [
        "Ha itt a párok sorrendjét felcseréljük mindkét oldalon, akkor már a várt működést kapjuk"
      ]
    },
    {
      "cell_type": "code",
      "execution_count": 6,
      "metadata": {},
      "outputs": [
        {
          "name": "stdout",
          "output_type": "stream",
          "text": [
            "x=1, pi=[4, 3, 2, 1, 0]\n",
            "x=3, pi=[4, -1, 2, 1, 0]\n"
          ]
        }
      ],
      "source": [
        "pi = list(range(4, -1, -1))\n",
        "x = 1\n",
        "print(f\"x={x}, pi={pi}\")\n",
        "pi[x], x = -1, pi[x]\n",
        "print(f\"x={x}, pi={pi}\")"
      ]
    },
    {
      "cell_type": "code",
      "execution_count": 11,
      "metadata": {
        "colab": {
          "base_uri": "https://localhost:8080/"
        },
        "id": "lmDV7hZXEhM2",
        "outputId": "4fe63572-0e60-46b4-b742-732488039a68"
      },
      "outputs": [
        {
          "name": "stdout",
          "output_type": "stream",
          "text": [
            "\u001b[32m.\u001b[0m\u001b[32m                                                                                            [100%]\u001b[0m\n",
            "\u001b[32m\u001b[32m\u001b[1m1 passed\u001b[0m\u001b[32m in 0.02s\u001b[0m\u001b[0m\n"
          ]
        }
      ],
      "source": [
        "%%ipytest\n",
        "\n",
        "from pytest import raises\n",
        "\n",
        "def test_Permutation():\n",
        "\n",
        "    pi = Permutation((0, 1, 2, 3, 4, 5))\n",
        "    assert str(pi) ==  \"cycles : []\" #: ciklus reprezentáció = []\n",
        "    assert repr(pi) == \"Permutation((0, 1, 2, 3, 4, 5))\"\n",
        "    \n",
        "    pi = Permutation((0, 1, 2, 3, 5, 4))  # : ciklus reprezentáció = [(4,5)]\n",
        "    assert str(pi) == \"cycles : [(4, 5)]\"\n",
        "    assert repr(pi) == \"Permutation((0, 1, 2, 3, 5, 4))\"\n",
        "        \n",
        "    pi = Permutation((1, 2, 3, 4, 5, 0)) #: ciklus reprezentáció = [(0, 1, 2, 3, 4, 5)]\n",
        "    assert str(pi) == \"cycles : [(0, 1, 2, 3, 4, 5)]\"\n",
        "    assert repr(pi) == \"Permutation((1, 2, 3, 4, 5, 0))\"\n",
        "    \n",
        "    pi = Permutation((1, 2, 0, 4, 5, 3)) #: ciklus reprezentáció = [(0, 1, 2), (3, 4, 5)]\n",
        "    assert str(pi) == \"cycles : [(0, 1, 2), (3, 4, 5)]\"\n",
        "    assert repr(pi) == \"Permutation((1, 2, 0, 4, 5, 3))\"\n",
        "\n",
        "    pi = Permutation((2, 0, 1))\n",
        "    assert str(pi) == \"cycles : [(0, 2, 1)]\"\n",
        "    assert repr(pi) == \"Permutation((2, 0, 1))\"\n",
        "    \n",
        "    with raises(ValueError):\n",
        "        Permutation((1,1,1)) \n",
        "    \n",
        "    with raises(ValueError):\n",
        "        Permutation((0, 3))\n",
        "    \n",
        "    with raises(ValueError):\n",
        "        Permutation(\"permutáció\")\n",
        "    "
      ]
    },
    {
      "cell_type": "markdown",
      "metadata": {
        "id": "aHvYj2jeEhM4"
      },
      "source": [
        "## További tesztelési lehetőség\n",
        "\n",
        "Készítsünk véletlen ciklus felbontást, és számítsuk ki a hozzá tartozó permutációt! A két függvényben \n",
        "`permutáció -> ciklus felbontás` és `ciklus felbontás -> permutáció` valószínűleg nem követjük el ugyanazt a hibát! "
      ]
    },
    {
      "cell_type": "code",
      "execution_count": 14,
      "metadata": {
        "id": "WSQ-IJjyEhM5"
      },
      "outputs": [],
      "source": [
        "import random\n",
        "def cycle_to_perm(cycles, n):\n",
        "    perm = list(range(n))\n",
        "    for cycle in cycles:\n",
        "        for x, y in zip(cycle, cycle[1:]):\n",
        "            perm[x] = y \n",
        "        perm[cycle[-1]] = cycle[0]\n",
        "    return perm\n",
        "\n",
        "def random_cycles(n):\n",
        "    ## not efficient in theory!\n",
        "    points = list(range(n))\n",
        "    cycles = []\n",
        "    while points:\n",
        "        i = points.pop(0)\n",
        "        k = random.randint(0, len(points))\n",
        "        if k>0:\n",
        "            c = [i]\n",
        "            for _ in range(k):\n",
        "                j = random.randrange(len(points))\n",
        "                c.append(points.pop(j))\n",
        "            cycles.append(tuple(c))\n",
        "\n",
        "    return cycles\n",
        "        \n",
        "def pop(lst, i, n):\n",
        "    if i == n-1:\n",
        "        return lst[i]\n",
        "        \n",
        "    value = lst[i]\n",
        "    lst[i] = lst[n-1]\n",
        "    root = i\n",
        "    while root < n:\n",
        "        new_root = root \n",
        "        child = 2*root+1\n",
        "        \n",
        "        if child<n and lst[child]<lst[new_root]:\n",
        "            new_root = child\n",
        "        child = child+1\n",
        "        \n",
        "        if child<n and lst[child]<lst[new_root]:\n",
        "            new_root = child\n",
        "\n",
        "        if root == new_root:\n",
        "            break\n",
        "        \n",
        "        lst[root], lst[new_root] = lst[new_root], lst[root]\n",
        "        root = new_root\n",
        "        \n",
        "    return value\n",
        "\n",
        "def random_cycles2(n):\n",
        "    ## more efficient in theory\n",
        "    points = list(range(n))\n",
        "    cycles = []\n",
        "    while n>0:\n",
        "        k = random.randrange(0, n)\n",
        "        c = [pop(points, 0, n)]\n",
        "        n -= 1\n",
        "        for _ in range(k):\n",
        "            j = random.randrange(n)\n",
        "            c.append(pop(points, j ,n))\n",
        "            n -= 1\n",
        "        if len(c)>1:\n",
        "            cycles.append(tuple(c))\n",
        "\n",
        "    return cycles\n"
      ]
    },
    {
      "cell_type": "code",
      "execution_count": 15,
      "metadata": {
        "colab": {
          "base_uri": "https://localhost:8080/"
        },
        "id": "UJTm-lFsEhM6",
        "outputId": "3d4a8582-e381-48dd-d1f3-bfc4d2136c47"
      },
      "outputs": [
        {
          "name": "stdout",
          "output_type": "stream",
          "text": [
            "c = [(0, 6, 2, 8, 7, 9, 5), (1, 4)]\n",
            "p = 0->6, 1->4, 2->8, 3->3, 4->1, 5->0, 6->2, 7->9, 8->7, 9->5\n"
          ]
        }
      ],
      "source": [
        "n = 10\n",
        "c = random_cycles2(n)\n",
        "p = cycle_to_perm(c, n)\n",
        "def str_p(p):\n",
        "    return \", \".join(f'{head}->{tail}' for head, tail in enumerate(p))\n",
        "\n",
        "print(f\"c = {c}\\np = {str_p(p)}\")"
      ]
    },
    {
      "cell_type": "code",
      "execution_count": 16,
      "metadata": {
        "colab": {
          "base_uri": "https://localhost:8080/"
        },
        "id": "6Ym-l5H3EhM7",
        "outputId": "0a5a7053-5732-4bc1-ed2d-38a68db42aad"
      },
      "outputs": [
        {
          "name": "stdout",
          "output_type": "stream",
          "text": [
            "0, [1, 3, 2, 7, 4, 5, 6, 9, 8]\n",
            "1, [2, 3, 5, 7, 4, 8, 6, 9]\n",
            "2, [3, 4, 5, 7, 9, 8, 6]\n",
            "3, [4, 6, 5, 7, 9, 8]\n",
            "4, [5, 6, 8, 7, 9]\n",
            "5, [6, 7, 8, 9]\n",
            "6, [7, 9, 8]\n",
            "7, [8, 9]\n",
            "8, [9]\n",
            "9, []\n"
          ]
        }
      ],
      "source": [
        "n = 10\n",
        "points = list(range(n))\n",
        "while n:\n",
        "    print(f\"{pop(points, 0, n)}, {points[:n-1]}\")\n",
        "    n -= 1"
      ]
    },
    {
      "cell_type": "code",
      "execution_count": 17,
      "metadata": {
        "colab": {
          "base_uri": "https://localhost:8080/"
        },
        "id": "p7Kf_F1LEhM8",
        "outputId": "97216b32-b93e-41dd-9fa2-d08089d653d5"
      },
      "outputs": [
        {
          "name": "stdout",
          "output_type": "stream",
          "text": [
            "\u001b[32m.\u001b[0m\u001b[32m                                                                                            [100%]\u001b[0m\n",
            "\u001b[32m\u001b[32m\u001b[1m1 passed\u001b[0m\u001b[32m in 0.02s\u001b[0m\u001b[0m\n"
          ]
        }
      ],
      "source": [
        "%%ipytest\n",
        "\n",
        "def test_Permutation_str():\n",
        "    n = 10\n",
        "    for _ in range(100):\n",
        "        c = random_cycles(n)\n",
        "        p = cycle_to_perm(c, n)\n",
        "        assert str(Permutation(p)) == f\"cycles : {c}\"\n",
        "\n"
      ]
    },
    {
      "cell_type": "code",
      "execution_count": 18,
      "metadata": {
        "colab": {
          "base_uri": "https://localhost:8080/"
        },
        "id": "34tUWhxoEhM9",
        "outputId": "aa0aa3c5-ca59-4c5c-8022-7c5a80be2613"
      },
      "outputs": [
        {
          "name": "stdout",
          "output_type": "stream",
          "text": [
            "17 ms ± 258 µs per loop (mean ± std. dev. of 7 runs, 100 loops each)\n",
            "23.9 ms ± 736 µs per loop (mean ± std. dev. of 7 runs, 10 loops each)\n",
            "611 ms ± 7.68 ms per loop (mean ± std. dev. of 7 runs, 1 loop each)\n",
            "290 ms ± 9.75 ms per loop (mean ± std. dev. of 7 runs, 1 loop each)\n"
          ]
        }
      ],
      "source": [
        "\n",
        "%timeit random_cycles(10_000)\n",
        "%timeit random_cycles2(10_000)\n",
        "\n",
        "%timeit random_cycles(100_000)\n",
        "%timeit random_cycles2(100_000)\n"
      ]
    },
    {
      "cell_type": "markdown",
      "metadata": {
        "id": "mzEI4ruhEhM9"
      },
      "source": [
        "### Vizualizáció"
      ]
    },
    {
      "cell_type": "markdown",
      "metadata": {
        "id": "4epK76k5EhM-"
      },
      "source": [
        "Gráfok gyakran előfordulnak és jó lenne őket ábrázolni. Erre szolgál a [`graphviz` python](https://graphviz.readthedocs.io/) könyvtár.\n",
        "Ez  python könyvtár az ugyanilyen nevű `C` könyvtárat használja. Azt is le kell tölteni, ha nincs telepítve\n",
        "[graphviz](https://www.graphviz.org/)"
      ]
    },
    {
      "cell_type": "code",
      "execution_count": 22,
      "metadata": {
        "id": "GivR6MsWEhM-"
      },
      "outputs": [],
      "source": [
        "try:\n",
        "    import graphviz\n",
        "except ModuleNotFoundError:\n",
        "    print(\"On ubuntu/debian try:\")\n",
        "    print(\"!pip install graphviz\")\n",
        "    print(\"!sudo apt install graphviz\")\n",
        "    print('Then try again!')"
      ]
    },
    {
      "cell_type": "markdown",
      "metadata": {
        "id": "yv_DFI7NEhM_"
      },
      "source": [
        "Ezután egy nem túl nagy irányított gráfot, pl. egy véleltlen permutációból kapottat a következőképpen jeleníthetünk meg"
      ]
    },
    {
      "cell_type": "code",
      "execution_count": 25,
      "metadata": {
        "colab": {
          "base_uri": "https://localhost:8080/",
          "height": 324
        },
        "id": "mmkSYd6pEhM_",
        "outputId": "5bec4835-167c-4f2a-9a26-1cb1f556cc99"
      },
      "outputs": [
        {
          "name": "stdout",
          "output_type": "stream",
          "text": [
            "permutation before shuffling: [0, 1, 2, 3, 4, 5, 6, 7]\n",
            " permutation after shuffling: [4, 6, 2, 7, 5, 0, 1, 3]\n"
          ]
        },
        {
          "data": {
            "image/svg+xml": "<?xml version=\"1.0\" encoding=\"UTF-8\" standalone=\"no\"?>\n<!DOCTYPE svg PUBLIC \"-//W3C//DTD SVG 1.1//EN\"\n \"http://www.w3.org/Graphics/SVG/1.1/DTD/svg11.dtd\">\n<!-- Generated by graphviz version 2.40.1 (20161225.0304)\n -->\n<!-- Title: %3 Pages: 1 -->\n<svg width=\"342pt\" height=\"188pt\"\n viewBox=\"0.00 0.00 342.00 188.00\" xmlns=\"http://www.w3.org/2000/svg\" xmlns:xlink=\"http://www.w3.org/1999/xlink\">\n<g id=\"graph0\" class=\"graph\" transform=\"scale(1 1) rotate(0) translate(4 184)\">\n<title>%3</title>\n<polygon fill=\"#ffffff\" stroke=\"transparent\" points=\"-4,4 -4,-184 338,-184 338,4 -4,4\"/>\n<!-- 0 -->\n<g id=\"node1\" class=\"node\">\n<title>0</title>\n<ellipse fill=\"none\" stroke=\"#000000\" cx=\"50\" cy=\"-162\" rx=\"27\" ry=\"18\"/>\n<text text-anchor=\"middle\" x=\"50\" y=\"-158.3\" font-family=\"Times,serif\" font-size=\"14.00\" fill=\"#000000\">0</text>\n</g>\n<!-- 4 -->\n<g id=\"node2\" class=\"node\">\n<title>4</title>\n<ellipse fill=\"none\" stroke=\"#000000\" cx=\"27\" cy=\"-90\" rx=\"27\" ry=\"18\"/>\n<text text-anchor=\"middle\" x=\"27\" y=\"-86.3\" font-family=\"Times,serif\" font-size=\"14.00\" fill=\"#000000\">4</text>\n</g>\n<!-- 0&#45;&gt;4 -->\n<g id=\"edge1\" class=\"edge\">\n<title>0&#45;&gt;4</title>\n<path fill=\"none\" stroke=\"#000000\" d=\"M44.3146,-144.2022C41.7437,-136.1541 38.6466,-126.4588 35.7868,-117.5067\"/>\n<polygon fill=\"#000000\" stroke=\"#000000\" points=\"39.0768,-116.3033 32.6997,-107.8425 32.4087,-118.4334 39.0768,-116.3033\"/>\n</g>\n<!-- 5 -->\n<g id=\"node8\" class=\"node\">\n<title>5</title>\n<ellipse fill=\"none\" stroke=\"#000000\" cx=\"54\" cy=\"-18\" rx=\"27\" ry=\"18\"/>\n<text text-anchor=\"middle\" x=\"54\" y=\"-14.3\" font-family=\"Times,serif\" font-size=\"14.00\" fill=\"#000000\">5</text>\n</g>\n<!-- 4&#45;&gt;5 -->\n<g id=\"edge5\" class=\"edge\">\n<title>4&#45;&gt;5</title>\n<path fill=\"none\" stroke=\"#000000\" d=\"M33.6742,-72.2022C36.7476,-64.0064 40.4616,-54.1024 43.8695,-45.0145\"/>\n<polygon fill=\"#000000\" stroke=\"#000000\" points=\"47.1685,-46.1853 47.4026,-35.593 40.6142,-43.7274 47.1685,-46.1853\"/>\n</g>\n<!-- 1 -->\n<g id=\"node3\" class=\"node\">\n<title>1</title>\n<ellipse fill=\"none\" stroke=\"#000000\" cx=\"145\" cy=\"-162\" rx=\"27\" ry=\"18\"/>\n<text text-anchor=\"middle\" x=\"145\" y=\"-158.3\" font-family=\"Times,serif\" font-size=\"14.00\" fill=\"#000000\">1</text>\n</g>\n<!-- 6 -->\n<g id=\"node4\" class=\"node\">\n<title>6</title>\n<ellipse fill=\"none\" stroke=\"#000000\" cx=\"145\" cy=\"-90\" rx=\"27\" ry=\"18\"/>\n<text text-anchor=\"middle\" x=\"145\" y=\"-86.3\" font-family=\"Times,serif\" font-size=\"14.00\" fill=\"#000000\">6</text>\n</g>\n<!-- 1&#45;&gt;6 -->\n<g id=\"edge2\" class=\"edge\">\n<title>1&#45;&gt;6</title>\n<path fill=\"none\" stroke=\"#000000\" d=\"M139.0843,-144.2022C138.2798,-136.1807 138.0571,-126.5231 138.4162,-117.5957\"/>\n<polygon fill=\"#000000\" stroke=\"#000000\" points=\"141.9097,-117.8099 139.105,-107.593 134.9262,-117.3289 141.9097,-117.8099\"/>\n</g>\n<!-- 6&#45;&gt;1 -->\n<g id=\"edge7\" class=\"edge\">\n<title>6&#45;&gt;1</title>\n<path fill=\"none\" stroke=\"#000000\" d=\"M150.895,-107.593C151.7094,-115.5865 151.942,-125.2363 151.5928,-134.1759\"/>\n<polygon fill=\"#000000\" stroke=\"#000000\" points=\"148.0976,-133.9891 150.9157,-144.2022 155.0817,-134.4608 148.0976,-133.9891\"/>\n</g>\n<!-- 2 -->\n<g id=\"node5\" class=\"node\">\n<title>2</title>\n<ellipse fill=\"none\" stroke=\"#000000\" cx=\"217\" cy=\"-162\" rx=\"27\" ry=\"18\"/>\n<text text-anchor=\"middle\" x=\"217\" y=\"-158.3\" font-family=\"Times,serif\" font-size=\"14.00\" fill=\"#000000\">2</text>\n</g>\n<!-- 2&#45;&gt;2 -->\n<g id=\"edge3\" class=\"edge\">\n<title>2&#45;&gt;2</title>\n<path fill=\"none\" stroke=\"#000000\" d=\"M236.895,-174.4321C249.688,-177.6753 262,-173.5313 262,-162 262,-153.6218 255.5006,-149.1433 247.0395,-148.5644\"/>\n<polygon fill=\"#000000\" stroke=\"#000000\" points=\"246.5019,-145.1004 236.895,-149.5679 247.191,-152.0665 246.5019,-145.1004\"/>\n</g>\n<!-- 3 -->\n<g id=\"node6\" class=\"node\">\n<title>3</title>\n<ellipse fill=\"none\" stroke=\"#000000\" cx=\"307\" cy=\"-162\" rx=\"27\" ry=\"18\"/>\n<text text-anchor=\"middle\" x=\"307\" y=\"-158.3\" font-family=\"Times,serif\" font-size=\"14.00\" fill=\"#000000\">3</text>\n</g>\n<!-- 7 -->\n<g id=\"node7\" class=\"node\">\n<title>7</title>\n<ellipse fill=\"none\" stroke=\"#000000\" cx=\"307\" cy=\"-90\" rx=\"27\" ry=\"18\"/>\n<text text-anchor=\"middle\" x=\"307\" y=\"-86.3\" font-family=\"Times,serif\" font-size=\"14.00\" fill=\"#000000\">7</text>\n</g>\n<!-- 3&#45;&gt;7 -->\n<g id=\"edge4\" class=\"edge\">\n<title>3&#45;&gt;7</title>\n<path fill=\"none\" stroke=\"#000000\" d=\"M301.0843,-144.2022C300.2798,-136.1807 300.0571,-126.5231 300.4162,-117.5957\"/>\n<polygon fill=\"#000000\" stroke=\"#000000\" points=\"303.9097,-117.8099 301.105,-107.593 296.9262,-117.3289 303.9097,-117.8099\"/>\n</g>\n<!-- 7&#45;&gt;3 -->\n<g id=\"edge8\" class=\"edge\">\n<title>7&#45;&gt;3</title>\n<path fill=\"none\" stroke=\"#000000\" d=\"M312.895,-107.593C313.7094,-115.5865 313.942,-125.2363 313.5928,-134.1759\"/>\n<polygon fill=\"#000000\" stroke=\"#000000\" points=\"310.0976,-133.9891 312.9157,-144.2022 317.0817,-134.4608 310.0976,-133.9891\"/>\n</g>\n<!-- 5&#45;&gt;0 -->\n<g id=\"edge6\" class=\"edge\">\n<title>5&#45;&gt;0</title>\n<path fill=\"none\" stroke=\"#000000\" d=\"M58.0968,-35.9509C61.705,-54.1315 65.9609,-83.0504 63,-108 61.9659,-116.7138 60.0243,-126.056 57.9511,-134.4788\"/>\n<polygon fill=\"#000000\" stroke=\"#000000\" points=\"54.5548,-133.6323 55.4091,-144.1926 61.3268,-135.4045 54.5548,-133.6323\"/>\n</g>\n</g>\n</svg>\n",
            "text/plain": [
              "<graphviz.dot.Digraph at 0x7efca9c49bd0>"
            ]
          },
          "metadata": {},
          "output_type": "display_data"
        },
        {
          "name": "stdout",
          "output_type": "stream",
          "text": [
            "{'cycles : [(0, 4, 5), (1, 6), (3, 7)]'} {'Permutation((4, 6, 2, 7, 5, 0, 1, 3))'}\n"
          ]
        }
      ],
      "source": [
        "import random\n",
        "\n",
        "permutation = list(range(8))\n",
        "print(f\"permutation before shuffling: {permutation}\")\n",
        "random.shuffle(permutation)\n",
        "print(f\" permutation after shuffling: {permutation}\")\n",
        "\n",
        "## making edges for graphviz. Node labels must be strings\n",
        "edges = [(str(head), str(tail)) for head, tail in enumerate(permutation)]\n",
        "G = graphviz.Digraph()\n",
        "G.edges(edges)\n",
        "\n",
        "display(G)\n",
        "\n",
        "pi = Permutation(permutation)\n",
        "print({str(pi)}, {repr(pi)})"
      ]
    },
    {
      "cell_type": "code",
      "execution_count": 26,
      "metadata": {
        "colab": {
          "base_uri": "https://localhost:8080/"
        },
        "id": "_WA_KhBEEhNA",
        "outputId": "26be4d2e-1cb3-4c62-a229-395aee2ba1b6"
      },
      "outputs": [
        {
          "name": "stdout",
          "output_type": "stream",
          "text": [
            "digraph {\n",
            "\tgraph [bb=\"0,0,334,180\"];\n",
            "\tnode [label=\"\\N\"];\n",
            "\t0\t [height=0.5,\n",
            "\t\tpos=\"50,162\",\n",
            "\t\twidth=0.75];\n",
            "\t4\t [height=0.5,\n",
            "\t\tpos=\"27,90\",\n",
            "\t\twidth=0.75];\n",
            "\t0 -> 4\t [pos=\"e,32.7,107.84 44.315,144.2 41.744,136.15 38.647,126.46 35.787,117.51\"];\n",
            "\t5\t [height=0.5,\n",
            "\t\tpos=\"54,18\",\n",
            "\t\twidth=0.75];\n",
            "\t4 -> 5\t [pos=\"e,47.403,35.593 33.674,72.202 36.748,64.006 40.462,54.102 43.87,45.015\"];\n",
            "\t1\t [height=0.5,\n",
            "\t\tpos=\"145,162\",\n",
            "\t\twidth=0.75];\n",
            "\t6\t [height=0.5,\n",
            "\t\tpos=\"145,90\",\n",
            "\t\twidth=0.75];\n",
            "\t1 -> 6\t [pos=\"e,139.1,107.59 139.08,144.2 138.28,136.18 138.06,126.52 138.42,117.6\"];\n",
            "\t6 -> 1\t [pos=\"e,150.92,144.2 150.9,107.59 151.71,115.59 151.94,125.24 151.59,134.18\"];\n",
            "\t2\t [height=0.5,\n",
            "\t\tpos=\"217,162\",\n",
            "\t\twidth=0.75];\n",
            "\t2 -> 2\t [pos=\"e,236.9,149.57 236.9,174.43 249.69,177.68 262,173.53 262,162 262,153.62 255.5,149.14 247.04,148.56\"];\n",
            "\t3\t [height=0.5,\n",
            "\t\tpos=\"307,162\",\n",
            "\t\twidth=0.75];\n",
            "\t7\t [height=0.5,\n",
            "\t\tpos=\"307,90\",\n",
            "\t\twidth=0.75];\n",
            "\t3 -> 7\t [pos=\"e,301.1,107.59 301.08,144.2 300.28,136.18 300.06,126.52 300.42,117.6\"];\n",
            "\t7 -> 3\t [pos=\"e,312.92,144.2 312.9,107.59 313.71,115.59 313.94,125.24 313.59,134.18\"];\n",
            "\t5 -> 0\t [pos=\"e,55.409,144.19 58.097,35.951 61.705,54.132 65.961,83.05 63,108 61.966,116.71 60.024,126.06 57.951,134.48\"];\n",
            "}\n",
            "\n"
          ]
        }
      ],
      "source": [
        "print(G.pipe(format='dot').decode('utf8'))"
      ]
    },
    {
      "cell_type": "markdown",
      "metadata": {
        "id": "IRyf4FJ4EhNB"
      },
      "source": [
        "# Dekorátorok"
      ]
    },
    {
      "cell_type": "markdown",
      "metadata": {
        "id": "XulGvyoeEhNB"
      },
      "source": [
        "## Property"
      ]
    },
    {
      "cell_type": "markdown",
      "metadata": {
        "id": "-L3afjjnEhNB"
      },
      "source": [
        "Előadáson a `property` dekorátor szerepelt."
      ]
    },
    {
      "cell_type": "code",
      "execution_count": 18,
      "metadata": {
        "id": "JDyf1DRVEhNB"
      },
      "outputs": [],
      "source": [
        "class Temperature:\n",
        "    def __init__(self, celsius=0):\n",
        "        ## Valójában a self.T attributomot állítja be ellenőrzés mellett!\n",
        "        self.C = celsius\n",
        "\n",
        "    @property\n",
        "    def F(self):\n",
        "        return 32+9*self.T/5\n",
        "    \n",
        "    @F.setter\n",
        "    def F(self, fahrenheit):\n",
        "        self.C = (fahrenheit-32)*5/9\n",
        "\n",
        "    @property\n",
        "    def C(self):\n",
        "        return self.T \n",
        "    \n",
        "    @C.setter\n",
        "    def C(self, celsius):\n",
        "        if celsius < -273:\n",
        "            raise ValueError('Temperature is too small')\n",
        "        self.T = celsius\n",
        "\n",
        "    def __str__(self):\n",
        "        return f\"{self.C:.1f} \\u2103 ({self.F:.1f} \\u2109)\"\n",
        "\n",
        "    def __repr__(self):\n",
        "        return f\"{type(self).__name__}({self.C})\"\n",
        "    \n",
        "    "
      ]
    },
    {
      "cell_type": "markdown",
      "metadata": {
        "id": "W4bRJSU_EhNC"
      },
      "source": [
        "Példák."
      ]
    },
    {
      "cell_type": "code",
      "execution_count": 19,
      "metadata": {
        "colab": {
          "base_uri": "https://localhost:8080/"
        },
        "id": "rLxVU6B1EhNC",
        "outputId": "b723c8f9-79e6-4da6-f9e1-972cea06f514"
      },
      "outputs": [
        {
          "name": "stdout",
          "output_type": "stream",
          "text": [
            "-20.0 ℃ (-4.0 ℉)\n",
            "-15.0 ℃ (5.0 ℉)\n",
            "-10.0 ℃ (14.0 ℉)\n",
            "-5.0 ℃ (23.0 ℉)\n",
            "0.0 ℃ (32.0 ℉)\n",
            "5.0 ℃ (41.0 ℉)\n",
            "10.0 ℃ (50.0 ℉)\n",
            "15.0 ℃ (59.0 ℉)\n",
            "20.0 ℃ (68.0 ℉)\n",
            "25.0 ℃ (77.0 ℉)\n",
            "30.0 ℃ (86.0 ℉)\n",
            "35.0 ℃ (95.0 ℉)\n",
            "40.0 ℃ (104.0 ℉)\n"
          ]
        }
      ],
      "source": [
        "temp = Temperature()\n",
        "\n",
        "for t in range(-20, 45, 5):\n",
        "    temp.C = t\n",
        "    print(str(temp))\n",
        "     "
      ]
    },
    {
      "cell_type": "code",
      "execution_count": 20,
      "metadata": {
        "colab": {
          "base_uri": "https://localhost:8080/"
        },
        "id": "2rCAM-imEhND",
        "outputId": "e3e7e34c-6268-423d-fc16-fd35363cb272"
      },
      "outputs": [
        {
          "name": "stdout",
          "output_type": "stream",
          "text": [
            "37.8 ℃ (100.0 ℉)\n"
          ]
        },
        {
          "data": {
            "text/plain": [
              "Temperature(37.77777777777778)"
            ]
          },
          "execution_count": 20,
          "metadata": {},
          "output_type": "execute_result"
        }
      ],
      "source": [
        "temp.F = 100\n",
        "print(temp)\n",
        "temp"
      ]
    }
  ],
  "metadata": {
    "colab": {
      "provenance": []
    },
    "kernelspec": {
      "display_name": "base",
      "language": "python",
      "name": "python3"
    },
    "language_info": {
      "codemirror_mode": {
        "name": "ipython",
        "version": 3
      },
      "file_extension": ".py",
      "mimetype": "text/x-python",
      "name": "python",
      "nbconvert_exporter": "python",
      "pygments_lexer": "ipython3",
      "version": "3.8.13"
    },
    "orig_nbformat": 4,
    "vscode": {
      "interpreter": {
        "hash": "d8b53ac59aeb7dd99955ed1c7af180cec0b2adbd03b0a8162d4077beb5f10154"
      }
    }
  },
  "nbformat": 4,
  "nbformat_minor": 0
}
