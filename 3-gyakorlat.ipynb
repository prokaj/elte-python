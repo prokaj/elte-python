{
 "cells": [
  {
   "cell_type": "markdown",
   "id": "b9b22395-cc6a-4c0e-b89e-792b1c4c5bb4",
   "metadata": {},
   "source": [
    "[![Open In Colab](https://colab.research.google.com/assets/colab-badge.svg)](https://colab.research.google.com/github/prokaj/elte-python/blob/main/3-gyakorlat.ipynb)\n",
    "# Ciklusszervezés\n",
    "\n",
    "A programjainkban gyakran arra van szükség, hogy bizonyos utasítássort ismételten végrehajtsunk (iteráció). Van, amikor előre tudjuk, hogy hányszor kell végrehajtani ezt az utasítássort. Pl.\n",
    "\n",
    "- Keressük meg az összes 'a' betűt egy szóban.\n",
    "\n",
    "- Találjuk meg az összes 1000-nél kisebb prímet.\n",
    "\n",
    "- Írassuk ki az első 100 egész szám négyzetét.\n",
    "\n",
    "Az ilyet előírt lépésszámú ciklusnak hívjuk, és erre a Pythonban a for utasítás szolgál (`for` ciklus).\n",
    "\n",
    "Máskor addig ismétlünk valamit, amíg fennáll egy bizonyos feltétel. Pl.\n",
    "\n",
    "- Új jelszó ismételt bekérése mindaddig, amíg nem felel meg minden feltételnek.\n",
    "\n",
    "- Addig ismételjük a kockadobást, míg hatost nem dobunk.\n",
    "\n",
    "Az ilyen ciklust feltételes ciklusnak nevezzük, és erre a Pythonban a while utasítás szolgál (`while` ciklus).\n",
    "\n",
    "## A `for` ciklus\n",
    "\n",
    "Jelöljön `it` egy iterálható objektumot (pl. sztringet). A `for` ciklus sémája a következő:\n",
    "\n",
    "    for i in it:\n",
    "        do_something\n",
    "\n",
    "\n",
    "Azaz: vegyük sorban az `i` értékeket az `it` sorozatból és hajtódjon végre a do_something blokk összes utasítása. \n",
    "Az `i` (ciklusváltozó) helyett más betűt vagy változónevet is használhatunk. \n",
    "\n",
    "\n",
    "Pl. Írassuk ki egyenként a \"kutya\" szó összes betűjét!"
   ]
  },
  {
   "cell_type": "code",
   "execution_count": null,
   "id": "2742e02b",
   "metadata": {},
   "outputs": [],
   "source": [
    "for char in \"kutya\":\n",
    "    print(char)"
   ]
  },
  {
   "cell_type": "markdown",
   "id": "2f81667e",
   "metadata": {},
   "source": [
    "Mivel nagyon gyakori, hogy egész számok sorozatán akarunk végigiterálni, erre van egy beépített függvény: az előadáson látott `range`. Pl. Adjuk össze a számok négyzetét $0$-tól $n-1$-ig"
   ]
  },
  {
   "cell_type": "code",
   "execution_count": null,
   "id": "f8f0bcc2",
   "metadata": {},
   "outputs": [],
   "source": [
    "n = 10 \n",
    "sq_sum = 0\n",
    "for i in range(n):\n",
    "    sq_sum += i**2\n",
    "sq_sum"
   ]
  },
  {
   "cell_type": "markdown",
   "id": "8dbf39be-a01b-4c72-8a1e-f2577a71927c",
   "metadata": {},
   "source": [
    "A range függvény máshol is használható:"
   ]
  },
  {
   "cell_type": "code",
   "execution_count": null,
   "id": "cd416be9",
   "metadata": {},
   "outputs": [],
   "source": [
    "print(range(4, 11, 2))\n",
    "list(range(4,11,2))"
   ]
  },
  {
   "cell_type": "markdown",
   "id": "219849e7",
   "metadata": {},
   "source": [
    "Példák.\n",
    "\n",
    "1) Adjuk össze 1-től 100-ig az egész számokat!"
   ]
  },
  {
   "cell_type": "code",
   "execution_count": null,
   "id": "403bc267",
   "metadata": {},
   "outputs": [],
   "source": [
    "s = 0\n",
    "for k in range(1,101):\n",
    "    s += k  #Ugyanaz, mint s = s + k\n",
    "print(s)"
   ]
  },
  {
   "cell_type": "code",
   "execution_count": null,
   "id": "bc7f2286-222f-48f6-b2b7-e8c668cad46e",
   "metadata": {},
   "outputs": [],
   "source": [
    "## alternativa\n",
    "sum(range(1, 101))"
   ]
  },
  {
   "cell_type": "markdown",
   "id": "22a38ae3",
   "metadata": {},
   "source": [
    "2) Szokásos ciklusváltozónak az alulvonást használni, ha a végrehajtandó utasítás nem függ a ciklusváltozótól. Pl. írassuk ki 10-szer a képernyőre, hogy \"Szia!\""
   ]
  },
  {
   "cell_type": "code",
   "execution_count": null,
   "id": "71ec29d0",
   "metadata": {},
   "outputs": [],
   "source": [
    "for _ in range(10):\n",
    "    print(\"Szia!\")"
   ]
  },
  {
   "cell_type": "markdown",
   "id": "f4159420-0108-4cd2-a5c3-7dea684a76d0",
   "metadata": {},
   "source": [
    "3) Faktoriális"
   ]
  },
  {
   "cell_type": "code",
   "execution_count": null,
   "id": "03c57426-dab8-44b0-ab46-db8a47a17ae7",
   "metadata": {},
   "outputs": [],
   "source": [
    "n = 50\n",
    "f = 1\n",
    "for k in range(1, n+1):\n",
    "    f *= k  #Ugyanaz, mint s = s * k\n",
    "print(f\"{n} faktoriális jegyeinek a száma {len(str(f))}\\nértéke {f}\")"
   ]
  },
  {
   "cell_type": "markdown",
   "id": "c557f84f-03b6-4f88-9b36-2bbb5c9bbd2e",
   "metadata": {},
   "source": [
    "## Mi kerülhet a `for` ciklusban az `in` mögé?\n",
    "\n",
    "Tulajdonképpen bármi amin végig lehet iterálni. Mit jelent ezt?\n",
    "\n",
    "    for x in seq:\n",
    "        do_something_with(x)\n",
    "        \n",
    "nagyjából a következőt jelenti:\n",
    "\n",
    "    it = iter(seq)\n",
    "    START:\n",
    "        x = next(it)\n",
    "        do_something_with(x)\n",
    "        goto START\n",
    "\n",
    "hogyan lépünk ki a ciklusból.  Ha sorozat végére érünk az iterátor egy `StopIteration` kivételt dob, aminek hatására a ciklus félbeszakad."
   ]
  },
  {
   "cell_type": "code",
   "execution_count": null,
   "id": "a0a8c617-c3c6-47b4-b464-cc356436e931",
   "metadata": {},
   "outputs": [],
   "source": [
    "it = iter(\"kutya\")\n",
    "print(it)\n",
    "print(next(it))\n",
    "print(next(it))\n",
    "print(next(it))\n",
    "print(next(it))\n",
    "print(next(it))\n",
    "print(next(it))\n",
    "\n"
   ]
  },
  {
   "cell_type": "markdown",
   "id": "6c777f30-940d-402b-96b1-5b670143c755",
   "metadata": {},
   "source": [
    "Tegyük fel, hogy a sorozatban azon elemek száma érdekel minket, amelyek az előzőtől eltérnek."
   ]
  },
  {
   "cell_type": "code",
   "execution_count": null,
   "id": "3d1fc936-d3ea-4316-b7bd-95d24ccda86d",
   "metadata": {},
   "outputs": [],
   "source": [
    "seq = map(int, \"1 1 2 2 3 4 5 5 5\".split())\n",
    "print(seq)\n",
    "it = iter(seq)\n",
    "a = next(it)\n",
    "cnt = 0\n",
    "for b in it:\n",
    "    if b != a:\n",
    "        cnt += 1\n",
    "    a = b\n",
    "cnt"
   ]
  },
  {
   "cell_type": "markdown",
   "id": "4cbe7470-c3ae-4010-b2e4-03bf49da7906",
   "metadata": {},
   "source": [
    "Próbáljuk ugyanezt indexeléssel megoldani."
   ]
  },
  {
   "cell_type": "code",
   "execution_count": null,
   "id": "b93bcc19-e7d4-4685-a104-781950062711",
   "metadata": {},
   "outputs": [],
   "source": [
    "# seq = range(10)\n",
    "# seq = list(seq)\n",
    "print(seq)\n",
    "a = seq[0]\n",
    "# a = range(10)\n",
    "# a = list(range(10))\n",
    "cnt = 0\n",
    "for b in seq[1:]:\n",
    "    if b != a:\n",
    "        cnt += 1\n",
    "    a = b\n",
    "cnt\n"
   ]
  },
  {
   "cell_type": "markdown",
   "id": "455a4678-45c8-4ef6-8710-84a2db30340b",
   "metadata": {},
   "source": [
    "## Saját sorozatok\n",
    "\n",
    "pl. faktoriálisok sorozata"
   ]
  },
  {
   "cell_type": "code",
   "execution_count": null,
   "id": "23dce9e6-cdff-4f28-a4bc-7a94d915f7e8",
   "metadata": {},
   "outputs": [],
   "source": [
    "def factorials(n):\n",
    "    a = 1\n",
    "    ## 0!\n",
    "    yield a\n",
    "    for i in range(1, n+1):\n",
    "        a *= i\n",
    "        yield a\n",
    "\n",
    "print(factorials, factorials(3))\n",
    "print(list(factorials(3)))\n",
    "for f in factorials(3):\n",
    "    print(f, end=\" \")\n",
    "print()\n",
    "it = iter(factorials(3))\n",
    "print(it, next(it), next(it), next(it), next(it))\n",
    "next(it)"
   ]
  },
  {
   "cell_type": "markdown",
   "id": "2a4ba615-cb7f-450f-a2df-8aa377f7f7d6",
   "metadata": {},
   "source": [
    "Az első $n$, amire $n!>1\\_000\\_000\\_000$"
   ]
  },
  {
   "cell_type": "code",
   "execution_count": null,
   "id": "168195a4-3096-4132-a5d9-0d344f7d5584",
   "metadata": {},
   "outputs": [],
   "source": [
    "def factorials(n=None):\n",
    "    a = 1\n",
    "    i = 1\n",
    "    ## 0!\n",
    "    yield a\n",
    "    while (n is None) or (i <= n):\n",
    "        a *= i\n",
    "        yield a\n",
    "        i += 1\n",
    "\n",
    "threshold = 1_000_000_000\n",
    "for i, f in enumerate(factorials()):\n",
    "    if f>threshold:\n",
    "        break\n",
    "print(f\"{i}, {f:_}\")"
   ]
  },
  {
   "cell_type": "markdown",
   "id": "edb5dc60",
   "metadata": {},
   "source": [
    "## A while ciklus\n",
    "\n",
    "Legyen condition egy feltétel. A while ciklus sémája a következő:"
   ]
  },
  {
   "cell_type": "code",
   "execution_count": null,
   "id": "2ae255e4",
   "metadata": {},
   "outputs": [],
   "source": [
    "while condition:\n",
    "    do_something"
   ]
  },
  {
   "cell_type": "markdown",
   "id": "8238f944",
   "metadata": {},
   "source": [
    "Jelentése: Egészen addig ismételten hajtódjon végre a do_something blokk minden utasítása, amíg fennáll a 'condition' feltétel."
   ]
  },
  {
   "cell_type": "markdown",
   "id": "20364548",
   "metadata": {},
   "source": [
    "Példák.\n",
    "\n",
    "1) Amíg a felhasználó által megadott új jelszó hossza nem éri el a 8 karaktert, addig kérjen újat!"
   ]
  },
  {
   "cell_type": "code",
   "execution_count": null,
   "id": "4ac71bd6",
   "metadata": {},
   "outputs": [],
   "source": [
    "uj_jelszo = input('Add meg új jelszavadat! ')\n",
    "while len(uj_jelszo) < 8:\n",
    "    uj_jelszo = input('A jelszó hossza legalább 8 karakter legyen! Add meg új jelszavadat! ')\n",
    "print('Új jelszavad:', uj_jelszo)"
   ]
  },
  {
   "cell_type": "markdown",
   "id": "04532160",
   "metadata": {},
   "source": [
    "2) Adjuk össze az első 100 egész számot while ciklussal!"
   ]
  },
  {
   "cell_type": "code",
   "execution_count": null,
   "id": "e5cd7399",
   "metadata": {},
   "outputs": [],
   "source": [
    "s = 0\n",
    "i = 1\n",
    "while i <= 100:\n",
    "    s = s + i\n",
    "    i += 1\n",
    "print(s)"
   ]
  },
  {
   "cell_type": "code",
   "execution_count": null,
   "id": "ea87c4c7-e767-4f5b-9742-e4b5fc609a1d",
   "metadata": {},
   "outputs": [],
   "source": []
  },
  {
   "cell_type": "markdown",
   "id": "1f446902",
   "metadata": {},
   "source": [
    "### break\n",
    "\n",
    "Ha a cikluson belül break utasítás áll, akkor ott a ciklus végrehajtása megszakad. \n",
    "\n",
    "Pl. a jelszavas feladat másik megoldása:"
   ]
  },
  {
   "cell_type": "code",
   "execution_count": null,
   "id": "362661c8",
   "metadata": {},
   "outputs": [],
   "source": [
    "uj_jelszo = input('Add meg új jelszavadat! ')\n",
    "while True:\n",
    "    if len(uj_jelszo) >= 8:\n",
    "        break\n",
    "    uj_jelszo = input('A jelszó hossza legalább 8 karakter legyen! Add meg új jelszavadat! ') \n",
    "print('Új jelszavad:', uj_jelszo)"
   ]
  },
  {
   "cell_type": "markdown",
   "id": "3c6a2337",
   "metadata": {},
   "source": [
    "### continue\n",
    "\n",
    "Ugrás a ciklus következő iterációjára. Pl. írassuk ki egy szó betűit az 'a' betűk kivételével!"
   ]
  },
  {
   "cell_type": "code",
   "execution_count": null,
   "id": "95fe1a8d",
   "metadata": {},
   "outputs": [],
   "source": [
    "szo = \"katakomba\"\n",
    "for char in szo:\n",
    "    if char == 'a':\n",
    "        continue\n",
    "    print(char)"
   ]
  },
  {
   "cell_type": "markdown",
   "id": "467c7431",
   "metadata": {},
   "source": [
    "Ha a nagybetűkre is szeretnénk, hogy működjön:"
   ]
  },
  {
   "cell_type": "code",
   "execution_count": null,
   "id": "acd57394",
   "metadata": {},
   "outputs": [],
   "source": [
    "szo = \"KATAkomba\"\n",
    "for char in szo:\n",
    "    if char.lower() == 'a':\n",
    "        continue\n",
    "    print(char)"
   ]
  },
  {
   "cell_type": "markdown",
   "id": "40006e5d",
   "metadata": {},
   "source": [
    "## Rövidített értékadás\n",
    "\n",
    "Egy változó értékét, főleg ciklusban, gyakran növelni vagy csökkenteni kell, többnyire 1-gyel. Erre  a Pythonban van egy egyszerűsített szintakszis, amelyre feljebb már láttunk egy példát:"
   ]
  },
  {
   "cell_type": "code",
   "execution_count": null,
   "id": "8bdeb259",
   "metadata": {},
   "outputs": [],
   "source": [
    "i = 0\n",
    "i += 1\n",
    "i"
   ]
  },
  {
   "cell_type": "code",
   "execution_count": null,
   "id": "7d52a6d4",
   "metadata": {},
   "outputs": [],
   "source": [
    "\n",
    "j=i\n",
    "id(i) == id(j)"
   ]
  },
  {
   "cell_type": "code",
   "execution_count": null,
   "id": "e20be600",
   "metadata": {},
   "outputs": [],
   "source": [
    "i += 2\n",
    "i, j, id(i)==id(j)"
   ]
  },
  {
   "cell_type": "markdown",
   "id": "fcd376e2-e6db-4332-a99e-cd7e55314e54",
   "metadata": {},
   "source": [
    "De pl. a listák másképp működnek!"
   ]
  },
  {
   "cell_type": "code",
   "execution_count": null,
   "id": "8ab54db7-7bdd-4438-9184-7ab14e008230",
   "metadata": {},
   "outputs": [],
   "source": [
    "lst0 = [1, 2, 3]\n",
    "lst1 = lst0\n",
    "lst1.append(4)\n",
    "lst0, lst1, lst0 is lst1"
   ]
  },
  {
   "cell_type": "markdown",
   "id": "56d91431",
   "metadata": {},
   "source": [
    "Ez a többi aritmetikai műveletre is működik, pl."
   ]
  },
  {
   "cell_type": "code",
   "execution_count": null,
   "id": "1c78cafa",
   "metadata": {},
   "outputs": [],
   "source": [
    "n = 2\n",
    "n *= 3\n",
    "n"
   ]
  },
  {
   "cell_type": "markdown",
   "id": "f63d63dc-98eb-4bad-99a9-afbab7c79c0c",
   "metadata": {},
   "source": [
    "De listák esetén:"
   ]
  },
  {
   "cell_type": "code",
   "execution_count": null,
   "id": "99e49103-b051-4d10-ba56-fe94ad373815",
   "metadata": {},
   "outputs": [],
   "source": [
    "lst0 = [[1]]\n",
    "lst1 = lst0\n",
    "print(f\"{lst0=} {(lst0==lst1)=}\")\n",
    "lst0 *= 10\n",
    "print(lst0, lst1)\n",
    "lst0[0][0] = 2\n",
    "print(lst0, lst1)\n"
   ]
  },
  {
   "cell_type": "code",
   "execution_count": null,
   "id": "2a5d4120",
   "metadata": {},
   "outputs": [],
   "source": [
    "n -= 1\n",
    "n"
   ]
  },
  {
   "cell_type": "code",
   "execution_count": null,
   "id": "c2345a75",
   "metadata": {},
   "outputs": [],
   "source": [
    "n //= 2\n",
    "n"
   ]
  },
  {
   "cell_type": "code",
   "execution_count": null,
   "id": "2447eae5",
   "metadata": {},
   "outputs": [],
   "source": [
    "n %= 2\n",
    "n"
   ]
  },
  {
   "cell_type": "markdown",
   "id": "3e0381a5-bbb8-4482-979b-a4b6d0d7e982",
   "metadata": {},
   "source": [
    "Sztringekre is van ,,maradékos osztás''. "
   ]
  },
  {
   "cell_type": "code",
   "execution_count": null,
   "id": "693fe29a-42b5-4548-84c8-dc6fd1340f8e",
   "metadata": {},
   "outputs": [],
   "source": [
    "s = \"Az %s ára %d Ft/kg\"\n",
    "print(f\"{s=!r} ,,maradékos osztás'' előtt\")\n",
    "s %= \"alma\", 500\n",
    "print(f\"{s=!r} ,,maradékos osztás'' után\")\n"
   ]
  },
  {
   "cell_type": "markdown",
   "id": "511af6db",
   "metadata": {
    "tags": []
   },
   "source": [
    "### Táblázatkészítés ciklussal\n",
    "\n",
    "Készítsük el a 2-hatványok táblázatát 0-tól 10-ig az egész számokra!"
   ]
  },
  {
   "cell_type": "code",
   "execution_count": null,
   "id": "3a018afb",
   "metadata": {},
   "outputs": [],
   "source": [
    "for x in range(11):\n",
    "    print(f\"{x:4} {2**x:<6}\")"
   ]
  },
  {
   "cell_type": "markdown",
   "id": "d732f51d",
   "metadata": {},
   "source": [
    "Kétdimenziós táblázatot is készíthetünk beágyazott ciklussal. \n",
    "\n",
    "Nézzünk egy példát beágyazott ciklusra. Mit csinál az alábbi kód?"
   ]
  },
  {
   "cell_type": "code",
   "execution_count": null,
   "id": "956dfbf6",
   "metadata": {},
   "outputs": [],
   "source": [
    "for kulso in range(1,6):\n",
    "    print(kulso)\n",
    "    for belso in range(1,4):\n",
    "        print(\"\\t\", belso)"
   ]
  },
  {
   "cell_type": "markdown",
   "id": "3998775b",
   "metadata": {},
   "source": [
    "Készítsük el a szorzótáblát az 1,2,3,4,5 számok egymással vett szorzataira!"
   ]
  },
  {
   "cell_type": "code",
   "execution_count": null,
   "id": "c9a812c3",
   "metadata": {},
   "outputs": [],
   "source": [
    "for a in range(1,6):\n",
    "    for b in range(1,6):\n",
    "        print(a*b, end = \"\\t\")\n",
    "    print()  # Lejjebb ugrik egy sorral"
   ]
  },
  {
   "cell_type": "markdown",
   "id": "bf7efbec-07ee-4077-933e-9cd5bbd64775",
   "metadata": {},
   "source": [
    "## Függvények"
   ]
  },
  {
   "cell_type": "markdown",
   "id": "ddeeec7c-5aea-4b0f-88f6-cfa1413b1104",
   "metadata": {},
   "source": [
    "Függvény definíció\n",
    "\n",
    "    def \"fvname\"(\"argumentumok\"):\n",
    "        \"fvtörzs\"\n",
    "        return \"visszatérési érték\"\n",
    "\n",
    "alakban lehet definiálni.\n",
    "\n",
    "pl.\n",
    "\n",
    "    def add(x, y):\n",
    "        return x+y\n",
    "        \n",
    "Ha nincs `return` akkor a visszatérési érték `None`.\n",
    "\n",
    "pl.\n",
    "\n",
    "    def noop(a):\n",
    "        a = a + 1\n",
    "    b = noop(12)\n",
    "  \n",
    "esetén `b` értéke `None`"
   ]
  },
  {
   "cell_type": "markdown",
   "id": "0b172ecb-9e44-4217-b439-a464d3a8b0fa",
   "metadata": {},
   "source": [
    "### Láthatóság\n",
    "\n",
    "    def plus_one():\n",
    "        return new_variable+1\n",
    "    \n",
    "    plus_one() # -> Error\n",
    "    new_variable = 1\n",
    "    plus_one() # -> 2\n",
    "    \n",
    "esetén, `new_variable` egy globális valtozó. \n",
    "\n",
    "Globális változókat csak indokolt esetben használjunk, pl. konstansok tárolására!\n",
    "\n",
    "Bármi, aminek a függvény belsejében értéket adunk lokális változó lesz.\n",
    "\n",
    "    def plus_one():\n",
    "        new_variable_ += 1 \n",
    "        return new_variable_\n",
    "    \n",
    "    plus_one() # -> Error\n",
    "    new_variable_ = 1\n",
    "    plus_one() # -> Error\n",
    "\n",
    "Mindkét esetben hibát kapunk de nem ugyanazt mint az előbb!! Mi a különbség?\n",
    "\n"
   ]
  },
  {
   "cell_type": "markdown",
   "id": "8f5e0155-0307-4e04-98dc-24e7798a0844",
   "metadata": {},
   "source": [
    "### Függvényen belüli függvény definíció\n",
    "\n",
    "Találjuk ki mi a visszatérési érték az utolsó sorban!\n",
    "\n",
    "    a = 1\n",
    "    \n",
    "    def f1(x)\n",
    "        a = x\n",
    "        def g()\n",
    "            return a\n",
    "        return g\n",
    "\n",
    "    def f2(a)\n",
    "        def g()\n",
    "            return a\n",
    "        return g\n",
    "    \n",
    "    f1(3)(), f2(4)(), a"
   ]
  },
  {
   "cell_type": "markdown",
   "id": "03089179-0ba9-4482-b0eb-9108195a3f62",
   "metadata": {},
   "source": [
    "### Mutable típusú változók\n",
    "\n",
    "Találjuk ki mi a visszatérési érték az utolsó sorban!\n",
    "\n",
    "    a = [1]\n",
    "    \n",
    "    def f1(x):\n",
    "        a[0] = x\n",
    "        def g():\n",
    "            return a[0]\n",
    "        return g\n",
    "\n",
    "    def f2(x):\n",
    "        a = [x]\n",
    "        def g():\n",
    "            a[0] += 1 \n",
    "            return a[0]\n",
    "        return g\n",
    "    \n",
    "    g2 = f2(4)\n",
    "    f1(3)(), g2(), g2(), a"
   ]
  },
  {
   "cell_type": "markdown",
   "id": "e2e27a33-dc34-4101-a4dc-2a7ae77806ad",
   "metadata": {},
   "source": [
    "### Feladatok előadásról\n"
   ]
  },
  {
   "cell_type": "markdown",
   "id": "3e7ea864-c0f8-46c8-8a44-f4183c6b5332",
   "metadata": {},
   "source": [
    "Írjuk meg a faktoriális függvényt rekurzió nélkül."
   ]
  },
  {
   "cell_type": "code",
   "execution_count": null,
   "id": "64744cd5-1d2b-46d3-a74e-508e78e2ca8f",
   "metadata": {},
   "outputs": [],
   "source": [
    "def factorial(n):    \n",
    "        pass"
   ]
  },
  {
   "cell_type": "markdown",
   "id": "e008f26c-725e-4912-b33e-40c6f922fcaa",
   "metadata": {},
   "source": [
    "Írjunk egy függvényt, amely inputként vár két függvényt és az output az a függvény, amelyik a két input összege.\n",
    "\n",
    "Azaz ha $f$ és $g$ a két függvény (pl. $f(x)=x+1$, $g(x)=2x+1$), akkor az output legyen az a $h$ függvény, melyre\n",
    "$h(x) = f(x) + g(x)$."
   ]
  },
  {
   "cell_type": "code",
   "execution_count": null,
   "id": "409b7cab-2171-49be-b262-2c3333834295",
   "metadata": {},
   "outputs": [],
   "source": [
    "def add_two_functions(f, g):\n",
    "    def h(x):\n",
    "        pass\n",
    "    return h"
   ]
  },
  {
   "cell_type": "markdown",
   "id": "f42ed23d-606a-4285-929d-fd57dd2fd7e6",
   "metadata": {},
   "source": [
    "Írjunk egy függvényt, amely inputként vár két függvényt és az output az a függvény, amelyik a két input kompozíciója.\n",
    "\n",
    "Azaz ha\n",
    "$f$ és $g$ a két függvény (pl. $f(x)=x+1$, $g(x)=2x+1$), akkor az output legyen az a $h$ függvény, melyre\n",
    "$h(x) = f(g(x))$.\n"
   ]
  },
  {
   "cell_type": "code",
   "execution_count": null,
   "id": "2bec9a4e-0929-4f8a-b8c0-81760e3e44dc",
   "metadata": {},
   "outputs": [],
   "source": [
    "def compose(f, g):\n",
    "    def h(x):\n",
    "        pass\n",
    "    return h\n",
    "\n"
   ]
  },
  {
   "cell_type": "markdown",
   "id": "e8fddebf-0413-482a-8fc8-caae14ad125c",
   "metadata": {},
   "source": [
    "## Tesztelés\n",
    "\n",
    "***Előre érdemes megírni, ez is segít végiggondolni mit is várunk a függvénytől!***"
   ]
  },
  {
   "cell_type": "code",
   "execution_count": null,
   "id": "311a87af-55fb-4a33-8fec-541a1c913181",
   "metadata": {},
   "outputs": [],
   "source": [
    "## test\n",
    "def f(x):\n",
    "    return x+1\n",
    "def g(x):\n",
    "    return 2*x + 1\n",
    "\n",
    "h = add_two_functions(f, g)\n",
    "\n",
    "assert h(1) == f(1)+g(1)\n",
    "## további test esetek\n",
    "print(\"Átment a teszten\")"
   ]
  },
  {
   "cell_type": "code",
   "execution_count": null,
   "id": "321336cf-80c8-4d9e-8746-9381912ab46a",
   "metadata": {},
   "outputs": [],
   "source": [
    "# test \n",
    "\n",
    "def f(x):\n",
    "    return x+1\n",
    "def g(x):\n",
    "    return 2*x + 1\n",
    "\n",
    "h = compose(f, g)\n",
    "\n",
    "assert h(1) == f(g(1))\n",
    "## további test esetek\n",
    "print(\"Átment a teszten\")"
   ]
  },
  {
   "cell_type": "markdown",
   "id": "79269aca-6f6c-4e58-a9a6-013bfb445742",
   "metadata": {},
   "source": [
    "### Tesztelés szebben"
   ]
  },
  {
   "cell_type": "code",
   "execution_count": null,
   "id": "596d2d23-f3d4-4682-9daa-96bbcb24e20c",
   "metadata": {},
   "outputs": [],
   "source": [
    "# uncomment and run if ipytest is not installed\n",
    "# ! pip install ipytest --quiet"
   ]
  },
  {
   "cell_type": "code",
   "execution_count": null,
   "id": "a2b39882-7362-4443-8c9d-f8f0aa2d9b9c",
   "metadata": {},
   "outputs": [],
   "source": [
    "import ipytest\n",
    "ipytest.autoconfig()"
   ]
  },
  {
   "cell_type": "code",
   "execution_count": null,
   "id": "3e722605-8eb7-4eab-8549-7dc9dedce5b8",
   "metadata": {},
   "outputs": [],
   "source": [
    "%%ipytest\n",
    "\n",
    "def f(x):\n",
    "    return x+1\n",
    "\n",
    "def g(x):\n",
    "    return 2*x + 1\n",
    "\n",
    "def test_compose():\n",
    "    h = compose(f,g)\n",
    "    for x in [-100, 0, 100, 10000]:\n",
    "        assert h(x) == f(g(x))\n"
   ]
  },
  {
   "cell_type": "markdown",
   "id": "1db94c5d-be86-4475-9bad-5a7d0d641163",
   "metadata": {},
   "source": [
    "Egészítük ki az előző cellát a `test_add_two_functions` függvénnyel és írjuk meg a tesztelendő függvényeket is!"
   ]
  }
 ],
 "metadata": {
  "kernelspec": {
   "display_name": "Python 3 (ipykernel)",
   "language": "python",
   "name": "python3"
  },
  "language_info": {
   "codemirror_mode": {
    "name": "ipython",
    "version": 3
   },
   "file_extension": ".py",
   "mimetype": "text/x-python",
   "name": "python",
   "nbconvert_exporter": "python",
   "pygments_lexer": "ipython3",
   "version": "3.8.13"
  },
  "vscode": {
   "interpreter": {
    "hash": "d8b53ac59aeb7dd99955ed1c7af180cec0b2adbd03b0a8162d4077beb5f10154"
   }
  },
  "widgets": {
   "application/vnd.jupyter.widget-state+json": {
    "state": {},
    "version_major": 2,
    "version_minor": 0
   }
  }
 },
 "nbformat": 4,
 "nbformat_minor": 5
}
