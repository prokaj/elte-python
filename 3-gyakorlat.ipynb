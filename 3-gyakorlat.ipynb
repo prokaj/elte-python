{
 "cells": [
  {
   "cell_type": "markdown",
   "id": "b9b22395-cc6a-4c0e-b89e-792b1c4c5bb4",
   "metadata": {},
   "source": [
    "[![Open In Colab](https://colab.research.google.com/assets/colab-badge.svg)](https://colab.research.google.com/github/prokaj/elte-python/blob/main/3-gyakorlat.ipynb)\n",
    "# Ciklusszervezés\n",
    "\n",
    "A programjainkban gyakran arra van szükség, hogy bizonyos utasítássort ismételten végrehajtsunk (iteráció). Van, amikor előre tudjuk, hogy hányszor kell végrehajtani ezt az utasítássort. Pl.\n",
    "\n",
    "- Keressük meg az összes 'a' betűt egy szóban.\n",
    "\n",
    "- Találjuk meg az összes 1000-nél kisebb prímet.\n",
    "\n",
    "- Írassuk ki az első 100 egész szám négyzetét.\n",
    "\n",
    "Az ilyet előírt lépésszámú ciklusnak hívjuk, és erre a Pythonban a for utasítás szolgál (`for` ciklus).\n",
    "\n",
    "Máskor addig ismétlünk valamit, amíg fennáll egy bizonyos feltétel. Pl.\n",
    "\n",
    "- Új jelszó ismételt bekérése mindaddig, amíg nem felel meg minden feltételnek.\n",
    "\n",
    "- Addig ismételjük a kockadobást, míg hatost nem dobunk.\n",
    "\n",
    "Az ilyen ciklust feltételes ciklusnak nevezzük, és erre a Pythonban a while utasítás szolgál (`while` ciklus).\n",
    "\n",
    "## A `for` ciklus\n",
    "\n",
    "Jelöljön `it` egy iterálható objektumot (pl. sztringet). A `for` ciklus sémája a következő:\n",
    "\n",
    "    for i in it:\n",
    "        do_something\n",
    "\n",
    "\n",
    "Azaz: `i` minden értékére sorban az `it` objektumból hajtódjon végre a do_something blokk összes utasítása. Az `i` (ciklusváltozó) helyett más betűt vagy változónevet is használhatunk. Pl. Írassuk ki egyenként a \"kutya\" szó összes betűjét!"
   ]
  },
  {
   "cell_type": "code",
   "execution_count": 9,
   "id": "2742e02b",
   "metadata": {},
   "outputs": [
    {
     "name": "stdout",
     "output_type": "stream",
     "text": [
      "k\n",
      "u\n",
      "t\n",
      "y\n",
      "a\n"
     ]
    }
   ],
   "source": [
    "for char in \"kutya\":\n",
    "    print(char)"
   ]
  },
  {
   "cell_type": "markdown",
   "id": "2f81667e",
   "metadata": {},
   "source": [
    "Mivel nagyon gyakori, hogy egész számok sorozatán akarunk végigiterálni, erre van egy beépített függvény: az előadáson látott `range`. Pl. írassuk ki 0-tól 3-ig az egész számokat, majd 4-től 11-ig a páros számokat! "
   ]
  },
  {
   "cell_type": "code",
   "execution_count": 2,
   "id": "f8f0bcc2",
   "metadata": {},
   "outputs": [
    {
     "name": "stdout",
     "output_type": "stream",
     "text": [
      "0\n",
      "1\n",
      "2\n",
      "3\n"
     ]
    }
   ],
   "source": [
    "for i in range(4):\n",
    "    print(i)"
   ]
  },
  {
   "cell_type": "code",
   "execution_count": 5,
   "id": "cd416be9",
   "metadata": {},
   "outputs": [
    {
     "name": "stdout",
     "output_type": "stream",
     "text": [
      "4\n",
      "6\n",
      "8\n",
      "10\n"
     ]
    }
   ],
   "source": [
    "for i in range(4,11,2):\n",
    "    print(i)"
   ]
  },
  {
   "cell_type": "markdown",
   "id": "219849e7",
   "metadata": {},
   "source": [
    "Példák.\n",
    "\n",
    "1) Adjuk össze 1-től 100-ig az egész számokat!"
   ]
  },
  {
   "cell_type": "code",
   "execution_count": 7,
   "id": "403bc267",
   "metadata": {},
   "outputs": [
    {
     "name": "stdout",
     "output_type": "stream",
     "text": [
      "5050\n"
     ]
    }
   ],
   "source": [
    "s = 0\n",
    "for k in range(1,101):\n",
    "    s += k  #Ugyanaz, mint s = s + k\n",
    "print(s)"
   ]
  },
  {
   "cell_type": "markdown",
   "id": "22a38ae3",
   "metadata": {},
   "source": [
    "2) Szokásos ciklusváltozónak az alulvonást használni, ha a végrehajtandó utasítás nem függ a ciklusváltozótól. Pl. írassuk ki 10-szer a képernyőre, hogy \"Szia!\""
   ]
  },
  {
   "cell_type": "code",
   "execution_count": 8,
   "id": "71ec29d0",
   "metadata": {},
   "outputs": [
    {
     "name": "stdout",
     "output_type": "stream",
     "text": [
      "Szia!\n",
      "Szia!\n",
      "Szia!\n",
      "Szia!\n",
      "Szia!\n",
      "Szia!\n",
      "Szia!\n",
      "Szia!\n",
      "Szia!\n",
      "Szia!\n"
     ]
    }
   ],
   "source": [
    "for _ in range(10):\n",
    "    print(\"Szia!\")"
   ]
  },
  {
   "cell_type": "code",
   "execution_count": null,
   "id": "b8b512e8-e478-422d-9909-e21abe826464",
   "metadata": {},
   "outputs": [],
   "source": [
    "3) Faktoriális"
   ]
  },
  {
   "cell_type": "code",
   "execution_count": 5,
   "id": "03c57426-dab8-44b0-ab46-db8a47a17ae7",
   "metadata": {},
   "outputs": [
    {
     "name": "stdout",
     "output_type": "stream",
     "text": [
      "50 faktoriális jegyeinek a száma 65\n",
      "értéke 30414093201713378043612608166064768844377641568960512000000000000\n"
     ]
    }
   ],
   "source": [
    "n = 50\n",
    "f = 1\n",
    "for k in range(1, n+1):\n",
    "    f *= k  #Ugyanaz, mint s = s + k\n",
    "print(f\"{n} faktoriális jegyeinek a száma {len(str(f))}\\nértéke {f}\")"
   ]
  },
  {
   "cell_type": "markdown",
   "id": "edb5dc60",
   "metadata": {},
   "source": [
    "## A while ciklus\n",
    "\n",
    "Legyen condition egy feltétel. A while ciklus sémája a következő:"
   ]
  },
  {
   "cell_type": "code",
   "execution_count": null,
   "id": "2ae255e4",
   "metadata": {},
   "outputs": [],
   "source": [
    "while condition:\n",
    "    do_something"
   ]
  },
  {
   "cell_type": "markdown",
   "id": "8238f944",
   "metadata": {},
   "source": [
    "Jelentése: Egészen addig ismételten hajtódjon végre a do_something blokk minden utasítása, amíg fennáll a 'condition' feltétel."
   ]
  },
  {
   "cell_type": "markdown",
   "id": "20364548",
   "metadata": {},
   "source": [
    "Példák.\n",
    "\n",
    "1) Amíg a felhasználó által megadott új jelszó hossza nem éri el a 8 karaktert, addig kérjen újat!"
   ]
  },
  {
   "cell_type": "code",
   "execution_count": 2,
   "id": "4ac71bd6",
   "metadata": {},
   "outputs": [
    {
     "name": "stdout",
     "output_type": "stream",
     "text": [
      "Add meg új jelszavadat! klala\n",
      "A jelszó hossza legalább 8 karakter legyen! Add meg új jelszavadat! klala1980\n",
      "Új jelszavad: klala1980\n"
     ]
    }
   ],
   "source": [
    "uj_jelszo = input('Add meg új jelszavadat! ')\n",
    "while len(uj_jelszo) < 8:\n",
    "    uj_jelszo = input('A jelszó hossza legalább 8 karakter legyen! Add meg új jelszavadat! ')\n",
    "print('Új jelszavad:', uj_jelszo)"
   ]
  },
  {
   "cell_type": "markdown",
   "id": "04532160",
   "metadata": {},
   "source": [
    "2) Adjuk össze az első 100 egész számot while ciklussal!"
   ]
  },
  {
   "cell_type": "code",
   "execution_count": 14,
   "id": "e5cd7399",
   "metadata": {},
   "outputs": [
    {
     "name": "stdout",
     "output_type": "stream",
     "text": [
      "5050\n"
     ]
    }
   ],
   "source": [
    "s = 0\n",
    "i = 1\n",
    "while i <= 100:\n",
    "    s = s + i\n",
    "    i += 1\n",
    "print(s)"
   ]
  },
  {
   "cell_type": "markdown",
   "id": "1f446902",
   "metadata": {},
   "source": [
    "### break\n",
    "\n",
    "Ha a cikluson belül break utasítás áll, akkor ott a ciklus végrehajtása megszakad. \n",
    "\n",
    "Pl. a jelszavas feladat másik megoldása:"
   ]
  },
  {
   "cell_type": "code",
   "execution_count": 3,
   "id": "362661c8",
   "metadata": {},
   "outputs": [
    {
     "name": "stdout",
     "output_type": "stream",
     "text": [
      "Add meg új jelszavadat! klala\n",
      "A jelszó hossza legalább 8 karakter legyen! Add meg új jelszavadat! klala1980\n",
      "Új jelszavad: klala1980\n"
     ]
    }
   ],
   "source": [
    "uj_jelszo = input('Add meg új jelszavadat! ')\n",
    "while True:\n",
    "    if len(uj_jelszo) >= 8:\n",
    "        break\n",
    "    uj_jelszo = input('A jelszó hossza legalább 8 karakter legyen! Add meg új jelszavadat! ') \n",
    "print('Új jelszavad:', uj_jelszo)"
   ]
  },
  {
   "cell_type": "markdown",
   "id": "3c6a2337",
   "metadata": {},
   "source": [
    "### continue\n",
    "\n",
    "Ugrás a ciklus következő iterációjára. Pl. írassuk ki egy szó betűit az 'a' betűk kivételével!"
   ]
  },
  {
   "cell_type": "code",
   "execution_count": 19,
   "id": "95fe1a8d",
   "metadata": {},
   "outputs": [
    {
     "name": "stdout",
     "output_type": "stream",
     "text": [
      "k\n",
      "t\n",
      "k\n",
      "o\n",
      "m\n",
      "b\n"
     ]
    }
   ],
   "source": [
    "szo = \"katakomba\"\n",
    "for char in szo:\n",
    "    if char == 'a':\n",
    "        continue\n",
    "    print(char)"
   ]
  },
  {
   "cell_type": "markdown",
   "id": "467c7431",
   "metadata": {},
   "source": [
    "Ha a nagybetűkre is szeretnénk, hogy működjön:"
   ]
  },
  {
   "cell_type": "code",
   "execution_count": 21,
   "id": "acd57394",
   "metadata": {},
   "outputs": [
    {
     "name": "stdout",
     "output_type": "stream",
     "text": [
      "K\n",
      "T\n",
      "k\n",
      "o\n",
      "m\n",
      "b\n"
     ]
    }
   ],
   "source": [
    "szo = \"KATAkomba\"\n",
    "for char in szo:\n",
    "    if char.lower() == 'a':\n",
    "        continue\n",
    "    print(char)"
   ]
  },
  {
   "cell_type": "markdown",
   "id": "40006e5d",
   "metadata": {},
   "source": [
    "## Rövidített értékadás\n",
    "\n",
    "Egy változó értékét, főleg ciklusban, gyakran növelni vagy csökkenteni kell, többnyire 1-gyel. Erre  a Pythonban van egy egyszerűsített szintakszis, amelyre feljebb már láttunk egy példát:"
   ]
  },
  {
   "cell_type": "code",
   "execution_count": 22,
   "id": "8bdeb259",
   "metadata": {},
   "outputs": [],
   "source": [
    "i = 0\n",
    "i += 1"
   ]
  },
  {
   "cell_type": "code",
   "execution_count": 23,
   "id": "7d52a6d4",
   "metadata": {},
   "outputs": [
    {
     "data": {
      "text/plain": [
       "1"
      ]
     },
     "execution_count": 23,
     "metadata": {},
     "output_type": "execute_result"
    }
   ],
   "source": [
    "i"
   ]
  },
  {
   "cell_type": "code",
   "execution_count": 24,
   "id": "e20be600",
   "metadata": {},
   "outputs": [
    {
     "data": {
      "text/plain": [
       "3"
      ]
     },
     "execution_count": 24,
     "metadata": {},
     "output_type": "execute_result"
    }
   ],
   "source": [
    "i += 2\n",
    "i"
   ]
  },
  {
   "cell_type": "markdown",
   "id": "56d91431",
   "metadata": {},
   "source": [
    "Ez a többi aritmetikai műveletre is működik, pl."
   ]
  },
  {
   "cell_type": "code",
   "execution_count": 27,
   "id": "1c78cafa",
   "metadata": {},
   "outputs": [
    {
     "data": {
      "text/plain": [
       "6"
      ]
     },
     "execution_count": 27,
     "metadata": {},
     "output_type": "execute_result"
    }
   ],
   "source": [
    "n = 2\n",
    "n *= 3\n",
    "n"
   ]
  },
  {
   "cell_type": "code",
   "execution_count": 28,
   "id": "2a5d4120",
   "metadata": {},
   "outputs": [
    {
     "data": {
      "text/plain": [
       "5"
      ]
     },
     "execution_count": 28,
     "metadata": {},
     "output_type": "execute_result"
    }
   ],
   "source": [
    "n -= 1\n",
    "n"
   ]
  },
  {
   "cell_type": "code",
   "execution_count": 29,
   "id": "c2345a75",
   "metadata": {},
   "outputs": [
    {
     "data": {
      "text/plain": [
       "2"
      ]
     },
     "execution_count": 29,
     "metadata": {},
     "output_type": "execute_result"
    }
   ],
   "source": [
    "n //= 2\n",
    "n"
   ]
  },
  {
   "cell_type": "code",
   "execution_count": 31,
   "id": "2447eae5",
   "metadata": {},
   "outputs": [
    {
     "data": {
      "text/plain": [
       "0"
      ]
     },
     "execution_count": 31,
     "metadata": {},
     "output_type": "execute_result"
    }
   ],
   "source": [
    "n %= 2\n",
    "n"
   ]
  },
  {
   "cell_type": "markdown",
   "id": "511af6db",
   "metadata": {},
   "source": [
    "## Táblázatkészítés ciklussal\n",
    "\n",
    "Készítsük el a 2-hatványok táblázatát 0-tól 10-ig az egész számokra!"
   ]
  },
  {
   "cell_type": "code",
   "execution_count": 32,
   "id": "3a018afb",
   "metadata": {},
   "outputs": [
    {
     "name": "stdout",
     "output_type": "stream",
     "text": [
      "0 \t 1\n",
      "1 \t 2\n",
      "2 \t 4\n",
      "3 \t 8\n",
      "4 \t 16\n",
      "5 \t 32\n",
      "6 \t 64\n",
      "7 \t 128\n",
      "8 \t 256\n",
      "9 \t 512\n",
      "10 \t 1024\n"
     ]
    }
   ],
   "source": [
    "for x in range(11):\n",
    "    print(x, \"\\t\", 2**x)"
   ]
  },
  {
   "cell_type": "markdown",
   "id": "d732f51d",
   "metadata": {},
   "source": [
    "Kétdimenziós táblázatot is készíthetünk beágyazott ciklussal. \n",
    "\n",
    "Nézzünk egy példát beágyazott ciklusra. Mit csinál az alábbi kód?"
   ]
  },
  {
   "cell_type": "code",
   "execution_count": 33,
   "id": "956dfbf6",
   "metadata": {},
   "outputs": [
    {
     "name": "stdout",
     "output_type": "stream",
     "text": [
      "1\n",
      "\t 1\n",
      "\t 2\n",
      "\t 3\n",
      "2\n",
      "\t 1\n",
      "\t 2\n",
      "\t 3\n",
      "3\n",
      "\t 1\n",
      "\t 2\n",
      "\t 3\n",
      "4\n",
      "\t 1\n",
      "\t 2\n",
      "\t 3\n",
      "5\n",
      "\t 1\n",
      "\t 2\n",
      "\t 3\n"
     ]
    }
   ],
   "source": [
    "for kulso in range(1,6):\n",
    "    print(kulso)\n",
    "    for belso in range(1,4):\n",
    "        print(\"\\t\", belso)"
   ]
  },
  {
   "cell_type": "markdown",
   "id": "3998775b",
   "metadata": {},
   "source": [
    "Készítsük el a szorzótáblát az 1,2,3,4,5 számok egymással vett szorzataira!"
   ]
  },
  {
   "cell_type": "code",
   "execution_count": 42,
   "id": "c9a812c3",
   "metadata": {},
   "outputs": [
    {
     "name": "stdout",
     "output_type": "stream",
     "text": [
      "1\t2\t3\t4\t5\t\n",
      "2\t4\t6\t8\t10\t\n",
      "3\t6\t9\t12\t15\t\n",
      "4\t8\t12\t16\t20\t\n",
      "5\t10\t15\t20\t25\t\n"
     ]
    }
   ],
   "source": [
    "for a in range(1,6):\n",
    "    for b in range(1,6):\n",
    "        print(a*b, end = \"\\t\")\n",
    "    print()  # Lejjebb ugrik egy sorral"
   ]
  }
 ],
 "metadata": {
  "kernelspec": {
   "display_name": "Python 3 (ipykernel)",
   "language": "python",
   "name": "python3"
  },
  "language_info": {
   "codemirror_mode": {
    "name": "ipython",
    "version": 3
   },
   "file_extension": ".py",
   "mimetype": "text/x-python",
   "name": "python",
   "nbconvert_exporter": "python",
   "pygments_lexer": "ipython3",
   "version": "3.8.13"
  },
  "widgets": {
   "application/vnd.jupyter.widget-state+json": {
    "state": {},
    "version_major": 2,
    "version_minor": 0
   }
  }
 },
 "nbformat": 4,
 "nbformat_minor": 5
}
