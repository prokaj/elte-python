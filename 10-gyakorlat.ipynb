{
 "cells": [
  {
   "cell_type": "markdown",
   "metadata": {},
   "source": [
    "[![Open In Colab](https://colab.research.google.com/assets/colab-badge.svg)](https://colab.research.google.com/github/prokaj/elte-python/blob/main/10-gyakorlat.ipynb)"
   ]
  },
  {
   "cell_type": "markdown",
   "metadata": {},
   "source": [
    "# Házi feladatok"
   ]
  },
  {
   "cell_type": "markdown",
   "metadata": {},
   "source": [
    "## 1. Maximum eloszlása szimmetrikus bolyongásnál\n",
    "\n",
    "Szimmetrikus bolyongás alatt olyan véletlen sorozatot értünk, ami a nullából indul és minden lépése (megváltozása 1 vagy −1, 1/2–1/2 valószínűséggel a többi lépéstől függetlenül.\n",
    "\n",
    "Írjunk egy függvényt, ami a numpy könyvtár függvényei segítségével elkészíti n hosszú bolyongásoknak egy m elemű sorozatát! Azaz a függvény kimenete egy $m\\times n$ mátrix, az egyes sorok az egyes bolyongásokat írják le.\n",
    "\n",
    "Rajzoljunk ki néhány bolyongást! Készítsünk hisztogramot a bolyongások utolsó pozíciójából (ez a függvény által visszakapott mátrix utolsó oszlopa). Valamint készítsünk hisztogramot a bolyongások maximális értékéből is (ezek a mátrixunk soronkénti maximumai). $n$ legyen legalább 100 és $m$ legalább 1000. Észreveszünk-e valami összefüggést az ábrák között?\n",
    "\n",
    "A megoldás során jól jöhetnek a következő függvények:\n",
    "\n",
    "```\n",
    "import numpy as np\n",
    "import matplotlib.pyplot as plt\n",
    "np.random.binomial, np.cumsum, np.where, np.max\n",
    "plt.plot, plt.hist, plt.title, plt.grid\n",
    "```"
   ]
  },
  {
   "cell_type": "code",
   "execution_count": null,
   "metadata": {},
   "outputs": [],
   "source": [
    "import numpy as np \n",
    "import matplotlib.pyplot as plt\n",
    "\n",
    "def random_walk(n, m=1):\n",
    "    steps = np.empty((m, n+1), dtype=np.int32)\n",
    "    steps[:, 1:] = 2*np.random.binomial(1, 0.5, size=(m,n))-1\n",
    "    steps[:, 0] = 0\n",
    "    return steps.cumsum(axis=1)\n",
    "\n"
   ]
  },
  {
   "cell_type": "code",
   "execution_count": null,
   "metadata": {},
   "outputs": [],
   "source": [
    "import ipytest\n",
    "ipytest.autoconfig()"
   ]
  },
  {
   "cell_type": "code",
   "execution_count": null,
   "metadata": {},
   "outputs": [],
   "source": [
    "%%ipytest\n",
    "\n",
    "def test_random_walk():\n",
    "    rw = random_walk(10)\n",
    "    assert rw.shape == (1,11)\n",
    "\n",
    "    rw = random_walk(100)\n",
    "    assert set(np.diff(rw[0])) == {-1, 1}\n",
    "\n",
    "    rw = random_walk(100, 1000)\n",
    "    assert (rw[:, 0]==0).all()\n",
    "    \n",
    "    "
   ]
  },
  {
   "cell_type": "code",
   "execution_count": null,
   "metadata": {},
   "outputs": [],
   "source": []
  },
  {
   "cell_type": "code",
   "execution_count": null,
   "metadata": {},
   "outputs": [],
   "source": [
    "rw = random_walk(10000, 4)\n",
    "for i in range(4):\n",
    "    plt.plot(rw[i], linewidth=0.5)\n",
    "plt.grid()\n",
    "plt.show()"
   ]
  },
  {
   "cell_type": "code",
   "execution_count": null,
   "metadata": {},
   "outputs": [],
   "source": [
    "rw = random_walk(100, 50000)"
   ]
  },
  {
   "cell_type": "code",
   "execution_count": null,
   "metadata": {},
   "outputs": [],
   "source": [
    "rw_last  =  rw[:, -1]\n",
    "plt.hist(rw_last, density=True)\n",
    "plt.grid()\n",
    "plt.show()\n",
    "\n",
    "bins = np.arange(rw_last.min()-1, rw_last.max()+2, 2)\n",
    "plt.hist(rw_last, bins, density=True)\n",
    "plt.grid()\n",
    "plt.show()"
   ]
  },
  {
   "cell_type": "code",
   "execution_count": null,
   "metadata": {},
   "outputs": [],
   "source": [
    "rw_max = rw.max(axis=1)\n",
    "print(rw_max.shape)\n",
    "\n",
    "plt.hist(rw_max, density=True)\n",
    "plt.grid()\n",
    "plt.show()\n",
    "\n",
    "bins = np.arange(rw_max.max()+2)-0.5\n",
    "plt.hist(rw_max, bins, density=True)\n",
    "plt.grid()\n",
    "plt.show()"
   ]
  },
  {
   "cell_type": "markdown",
   "metadata": {},
   "source": [
    "## Magyarázat\n",
    "\n",
    "A két ábra nagyon hasonlít, a maximumok hisztogrammja olyan mint felső ábra pozitív fele.\n",
    "\n",
    "A szimmetikus bolyongás egy véletlen sorozat, a szokásos jelölés $(S_k)_{0\\leq k\\leq n}$.\n",
    "\n",
    "A maximum eloszlása pl. tükrözési elvvel számolható. $\\ell\\geq0$-ra:\n",
    "$$\n",
    "\\mathbb{P}(\\max_{k\\leq n} S_k\\geq x) = \n",
    "\\mathbb{P}(\\max_{k\\leq n} S_k\\geq x,\\, S_n\\geq x) +\n",
    "\\mathbb{P}(\\max_{k\\leq n} S_k\\geq x,\\, S_n<x)\n",
    "$$\n",
    "A második taggal kell foglalkozni. Nézzük azt az esetet, amikor $S_n=y< x$.\n",
    "\n",
    "Minden lehetséges út egyformán valószínű ($1/2^n$). Így az  a kérdés, hány olyan út van ami $(0,0)$-ból $(n,y)$-ba, aminek maximuma legalább $x$. Az ilyen utak a *jó* utak.\n",
    "\n",
    "Egy jó út esetén legyen $t$ az első olyan index, amikor az $x$ szinten jár, és a $t$ utáni lépéseket fordítsuk az ellentettjükre."
   ]
  },
  {
   "cell_type": "code",
   "execution_count": null,
   "metadata": {},
   "outputs": [],
   "source": [
    "\n",
    "x = 8\n",
    "idx = np.where((rw_last<x) & (rw_max>=x))[0]\n",
    "\n",
    "if len(idx)>0:\n",
    "    idx = idx.min()\n",
    "    rw0 = rw[idx]\n",
    "    t = np.where(rw0==x)[0].min()\n",
    "    rw1 = np.zeros_like(rw0)\n",
    "    rw1[:t+1] = rw0[:t+1]\n",
    "    rw1[t+1:] = 2*rw0[t]-rw0[t+1:]\n",
    "    plt.plot(rw0, label=\"eredeti út\", alpha=0.5)\n",
    "    plt.plot(rw1, label=\"tükrözött út\", alpha=0.5)\n",
    "    plt.hlines([ell], 0, len(rw0))\n",
    "    plt.plot(t, ell, 'ro')\n",
    "    plt.grid()\n",
    "    plt.legend()\n"
   ]
  },
  {
   "cell_type": "markdown",
   "metadata": {},
   "source": [
    "Ha $x\\geq 0$ és $y<x$, akkor \n",
    "a fenti hozzárendelés bijekció azon utak között, amik $(0,0)$-ból $(n,y)$-ba mennek és közben járnak $x$ magasságban és azon utak között, amik \n",
    "$(0,0)$-ból $(n,2x-y)$ mennek. A tükrözött útból úgy kaphatjuk vissza az eredetit, hogy $t$ a tükrözött útból is megkapható, mint az első olyan index, amikor az $x$ szinten jár a bolyongás, és a $t$ utáni növekményeket $-1$-gyel szorozzuk.\n",
    "$$\n",
    "\\begin{aligned}\n",
    "\\mathbb{P}(\\max_{k\\leq n} S_k\\geq x) &= \n",
    "\\mathbb{P}(\\max_{k\\leq n} S_k\\geq x,\\, S_n\\geq x) +\n",
    "\\mathbb{P}(\\max_{k\\leq n} S_k\\geq x,\\, S_n<x)\\\\\n",
    "&= \\mathbb{P}(S_n\\geq x) +\n",
    "\\mathbb{P}(S_n>x)\n",
    "\\end{aligned}\n",
    "$$\n",
    "\n",
    "Ebből\n",
    "$$\n",
    "\\mathbb{P}(\\max_{k\\leq n} S_k = x) = \\mathbb{P}(S_n = x) + \\mathbb{P}(S_n = x+1)\n",
    "$$\n",
    "\n",
    "A `plt.hist` függvény használata helyett célszerű magunknak kigyűjteni a gyakoriságokat."
   ]
  },
  {
   "cell_type": "code",
   "execution_count": null,
   "metadata": {},
   "outputs": [],
   "source": [
    "rw_last_values, rw_last_cnts = np.unique(rw_last, return_counts=True)\n",
    "rw_last_probs = rw_last_cnts/rw_last_cnts.sum()\n",
    "\n",
    "rw_max_values, rw_max_cnts = np.unique(rw_max, return_counts=True)\n",
    "rw_max_probs = rw_max_cnts/rw_max_cnts.sum()\n",
    "\n",
    "plt.bar(rw_last_values, rw_last_probs, width=2, alpha=0.5)\n",
    "plt.bar(rw_max_values, rw_max_probs, width=1, alpha=0.5)\n",
    "plt.show()"
   ]
  },
  {
   "cell_type": "markdown",
   "metadata": {},
   "source": [
    "Be tudjuk-e rajzolni a haranggörbét?\n",
    "\n",
    "Ehhez egyrészt használhatjuk a `scipy.stats` `normal` objektumának `pdf` (probablity density function) metódusát. Vagy megírhatjuk magunk is.\n",
    "\n",
    "Vegyük észre, hogy 100 lépés után az átlag 0  a szórás $10=\\sqrt{100}$. Pl. az mintában amit generáltunk ezek az értékek:"
   ]
  },
  {
   "cell_type": "code",
   "execution_count": null,
   "metadata": {},
   "outputs": [],
   "source": [
    "print(f\"minta átlag = {rw_last.mean():.3f}, minta szórása={rw_last.std():.3f}\")"
   ]
  },
  {
   "cell_type": "code",
   "execution_count": null,
   "metadata": {},
   "outputs": [],
   "source": [
    "from scipy.stats import norm as gauss"
   ]
  },
  {
   "cell_type": "code",
   "execution_count": null,
   "metadata": {},
   "outputs": [],
   "source": [
    "sigma = (rw.shape[1]-1)**0.5\n",
    "plt.plot(rw_last_values, gauss.pdf(rw_last_values, 0, sigma))\n",
    "plt.grid()\n",
    "plt.show()"
   ]
  },
  {
   "cell_type": "code",
   "execution_count": null,
   "metadata": {},
   "outputs": [],
   "source": [
    "plt.bar(rw_last_values, rw_last_probs, width=2, alpha=0.5)\n",
    "plt.bar(rw_max_values, rw_max_probs, width=1, alpha=0.5)\n",
    "plt.plot(rw_last_values, 2*gauss.pdf(rw_last_values, 0, sigma))\n",
    "plt.show()"
   ]
  },
  {
   "cell_type": "markdown",
   "metadata": {},
   "source": [
    "## 2. Ugyanez minimummal. "
   ]
  },
  {
   "cell_type": "markdown",
   "metadata": {},
   "source": [
    "## 3. Utolsó nullhely.\n",
    "\n",
    "Szimmetrikus bolyongás alatt olyan véletlen sorozatot értünk, ami a nullából indul és minden lépése (megváltozása) 1 vagy −1, 1/2–1/2\n",
    "valószínűséggel a többi lépéstől függetlenül.\n",
    "\n",
    "Írjunk egy függvényt, ami a numpy könyvtár függvényei segítségével elkészíti $n$\n",
    "hosszú bolyongásoknak egy $m$ elemű sorozatát! Azaz a függvény kimenete egy $m\\times n$\n",
    "mátrix, az egyes sorok az egyes bolyongásokat írják le.\n",
    "\n",
    "Rajzoljunk ki néhány bolyongást!\n",
    "\n",
    "A következő részhez $n$ legyen legalább 100 és $m$ legalább 1000.\n",
    "\n",
    "Minden bolyongásra számoljuk ki az utolsó nulla érték indexét és ezt osszuk el a bolyongás hosszával. Készítsünk hisztogramot az így kapott értékekből.\n",
    "\n",
    "Extra kérdés, a pontozásba nem számít bele: Van-e olyan szép függvény, ami illeszkedik a hisztogram alakjára."
   ]
  },
  {
   "cell_type": "markdown",
   "metadata": {},
   "source": [
    "A bolyongás legyártásában nincs különbség. Az utolsó nullhelyet nehézkesebb csak array műveletekkel számolni."
   ]
  },
  {
   "cell_type": "code",
   "execution_count": null,
   "metadata": {},
   "outputs": [],
   "source": [
    "def last_zero(rw):\n",
    "    return np.array([np.where(row==0)[0].max() for row in rw])\n",
    "\n",
    "def last_zero_2(rw):\n",
    "    return ((rw==0)*np.arange(0, rw.shape[1])).max(axis=1)\n"
   ]
  },
  {
   "cell_type": "code",
   "execution_count": null,
   "metadata": {},
   "outputs": [],
   "source": [
    "%%ipytest\n",
    "\n",
    "def last_zero_row(row):\n",
    "    idx = 0\n",
    "    for i, x in enumerate(row):\n",
    "        if x==0:\n",
    "            idx = i\n",
    "    return idx\n",
    "\n",
    "def last_zero_with_for(rw):\n",
    "    return np.array([last_zero_row(row) for row in rw])\n",
    "    \n",
    "\n",
    "def test_last_zero():\n",
    "    rw = random_walk(100,1000)\n",
    "    assert (last_zero(rw) == last_zero_with_for(rw)).all()\n",
    "    assert (last_zero_2(rw) == last_zero_with_for(rw)).all()\n",
    "    "
   ]
  },
  {
   "cell_type": "code",
   "execution_count": null,
   "metadata": {},
   "outputs": [],
   "source": [
    "\n",
    "rw_last_zero = last_zero(rw)/(rw.shape[1]-1)\n",
    "print(f\"{rw_last_zero.min()=}, {rw_last_zero.max()=}\")\n",
    "plt.hist(rw_last_zero)\n"
   ]
  },
  {
   "cell_type": "code",
   "execution_count": null,
   "metadata": {},
   "outputs": [],
   "source": [
    "rw_last_zero_values, rw_last_zero_cnts = np.unique(rw_last_zero, return_counts=True)\n",
    "rw_last_zero_probs = rw_last_zero_cnts/rw_last_zero_cnts.sum()\n",
    "width = np.diff(rw_last_zero_values).max()\n",
    "plt.bar(rw_last_zero_values, rw_last_zero_probs, width=0.9*width)\n",
    "plt.show()"
   ]
  },
  {
   "cell_type": "markdown",
   "metadata": {},
   "source": [
    "## Magyarázat.\n",
    "\n",
    "A fenti számolásból\n",
    "$$\n",
    "    \\mathbb{P}(S_{1}\\geq 0, \\dots S_n\\geq 0) = \\mathbb{P}(\\min_{k\\leq n} S_k\\geq 0) = \\mathbb{P}(\\max_{k\\leq n} S_k\\leq 0) = \\mathbb{P}(\\max_{k\\leq n} S_k= 0) = \\mathbb{P}(S_n=0)+\\mathbb{P}(S_n=1) = \\mathbb{P}(S_n=0)+\\mathbb{P}(S_{n+1}=0) \n",
    "$$\n",
    "\n",
    "Innen \n",
    "$$\n",
    "    \\mathbb{P}(S_{1}> 0, \\dots S_n> 0) = \\frac12\\mathbb{P}(\\min_{k\\leq n} S_k-S_1\\geq 0) = \\frac12\\left(\\mathbb{P}(S_{n-1}=0)+\\mathbb{P}(S_{n}=0)\\right)\n",
    "$$\n",
    "és \n",
    "$$\n",
    "    \\mathbb{P}(S_{1}\\neq 0, \\dots S_n\\neq 0) = \n",
    "    \\mathbb{P}(S_{1}> 0, \\dots S_n> 0)+\\mathbb{P}(S_{1}< 0, \\dots S_n< 0) = \\mathbb{P}(S_{n-1}=0)+\\mathbb{P}(S_{n}=0)\n",
    "$$\n",
    "\n",
    "Legyen $n=2k$ páros és $T_n$ az utolsó nullhely az első $n$ lépés során\n",
    "$$\n",
    "    \\mathbb{P}(T_n = 2\\ell)=\n",
    "    \\mathbb{P}(S_{2\\ell}=0,\\, S_{2\\ell+i}-S_{2\\ell}\\neq 0,\\, i=1,\\dots,2k-2\\ell)\n",
    "    =\\mathbb{P}(S_{2\\ell}=0)\\mathbb{P}(S_{2(n-\\ell)}=0)\n",
    "    =\\frac{1}{2^{2\\ell}}\\binom{2\\ell}{\\ell}\\frac{1}{2^{2(k-\\ell)}}\\binom{2(k-\\ell)}{k-\\ell}\n",
    "$$\n",
    "\n",
    "HF középiskolából: rekurzió $I_k = \\int_0^{\\pi/2}\\cos^k(\\alpha)d\\alpha$. Ha ezt felírjuk, kihasználjuk, hogy $I_0=\\pi/2$, $I_1=1$, akkor azt kapjuk, hogy\n",
    "$$\n",
    "    \\frac1{\\sqrt{\\pi(k+1/2)}}\\leq \\frac{1}{2^{2k}}\\binom{2k}{k}\\leq \\frac{1}{\\sqrt{\\pi k}},\n",
    "    \\quad\n",
    "    \\frac1{\\sqrt{\\pi(k+1/4)}}\\approx \\frac{1}{2^{2k}}\\binom{2k}{k}\n",
    "$$\n",
    "\n",
    "Azaz \n",
    "\n",
    "$$\n",
    "    \\mathbb{P}(T_n=2\\ell) \\approx \\frac{2}{n}\\left.\\frac{1}{\\pi}\\cdot\\frac1{\\sqrt{x(1-x)}}\\right|_{x=\\frac{2\\ell}{n}}\n",
    "$$"
   ]
  },
  {
   "cell_type": "markdown",
   "metadata": {},
   "source": [
    ",,Ellenőrizzük'' a kapott formulát "
   ]
  },
  {
   "cell_type": "code",
   "execution_count": null,
   "metadata": {},
   "outputs": [],
   "source": [
    "def arcsin_probs(x):\n",
    "    width = np.diff(rw_last_zero_values).max()\n",
    "    d = np.zeros_like(x)\n",
    "    y = (x+0.33*width)*(1-x+0.33*width)\n",
    "    d[y>0] = width/(np.sqrt(y[y>0])*np.pi)\n",
    "    return d\n",
    "    \n",
    "plt.bar(rw_last_zero_values, rw_last_zero_probs, width=0.9*width)\n",
    "plt.plot(rw_last_zero_values, arcsin_probs(rw_last_zero_values), color='red')\n",
    "plt.show()"
   ]
  },
  {
   "cell_type": "markdown",
   "metadata": {
    "id": "yo-PWRFqEhNe"
   },
   "source": [
    "# `with` statement"
   ]
  },
  {
   "cell_type": "markdown",
   "metadata": {
    "id": "6855010d-aa5b-4c95-a7ff-020598002ccd"
   },
   "source": [
    "\n",
    " \n",
    "## Mi történik a `with` statement alkalmazásakor?\n",
    "\n",
    "### Mit lehet a with mögé írni?\n",
    "\n",
    "Hasonlóan a `for`-hoz szinte bármit, aminek van két metódusa:\n",
    "\n",
    "- `__enter__`\n",
    "- `__exit__`\n",
    "\n",
    "\n",
    "    with obj as x:\n",
    "       do_something with x\n",
    "\n",
    "Itt az `obj.__enter__()` hívás eredménye lesz az x értéke és a block végén **GARANTÁLTAN** végrehajtódik az `obj.__exit__(...)` hívás.\n",
    "Az `__enter__` metódus végezheti az előkészítést, az `__exit__` a takarítást!\n",
    "\n",
    "#### Kell-e nekünk ezeket a metódusokat közvetlenül implementálni?\n",
    "\n",
    "Valójában nem. Elegendő egy generátor függvényt megírni:\n",
    "\n",
    "    import time\n",
    "    \n",
    "    def timer():\n",
    "        try:\n",
    "            start = time.time()\n",
    "            yield\n",
    "\n",
    "        finally:\n",
    "            runtime = time.time() - start\n",
    "            print(f\"run time: {runtime:3f}\")\n",
    "            \n",
    "\n",
    "Így még csak egy generátort kapunk ami egyszer visszaad semmit (`None`) majd jelzi, hogy vége van a sorozatnak. \n",
    "\n",
    "Próbáljuk ki `for`-ral"
   ]
  },
  {
   "cell_type": "code",
   "execution_count": null,
   "metadata": {
    "id": "bf7398f5-f860-4f54-bb34-4a23a657c6de"
   },
   "outputs": [],
   "source": [
    "import time\n",
    "    \n",
    "def timer():\n",
    "    try:\n",
    "        start = time.time()\n",
    "        yield\n",
    "\n",
    "    finally:\n",
    "        runtime = time.time() - start\n",
    "        print(f\"run time: {runtime:3f}\")\n",
    "        \n",
    "for x in timer():\n",
    "    print(x)"
   ]
  },
  {
   "cell_type": "markdown",
   "metadata": {
    "id": "9240a96f-f131-4ec6-bf82-9200ec8683d1"
   },
   "source": [
    "`with`-del hibát kapunk"
   ]
  },
  {
   "cell_type": "code",
   "execution_count": null,
   "metadata": {
    "id": "733bcf3e-ba03-4764-864d-dc86b59e4fb3"
   },
   "outputs": [],
   "source": [
    "with timer() as x:\n",
    "    print(x)"
   ]
  },
  {
   "cell_type": "markdown",
   "metadata": {
    "id": "985e67d1-afae-4523-a8df-7577354c7745"
   },
   "source": [
    "A `contextlib` module `contextmanager` függvénye generátorból `contextmanager`-t készít."
   ]
  },
  {
   "cell_type": "code",
   "execution_count": null,
   "metadata": {
    "id": "4bf4e118-d7a5-47cc-893c-f47a2bac8c44"
   },
   "outputs": [],
   "source": [
    "from contextlib import contextmanager\n",
    "timer2 = contextmanager(timer)\n",
    "with timer2() as x:\n",
    "    print(x)"
   ]
  },
  {
   "cell_type": "markdown",
   "metadata": {
    "id": "20b085c9-be51-4ad4-a5a4-40910f5c1587"
   },
   "source": [
    "Ha egy függvény akarunk alkalmazni egy függvényre, hogy azt átalakítsuk, de ugyanaz maradjon a neve akkor a python `@` szintakszist használja. Ilyenkor ,,dekoráljuk'' a függvényt. A `contextmanager` egy példa **dekorátor**ra.\n",
    "\n",
    "    @contextmanager\n",
    "    def timer():\n",
    "        try:\n",
    "            start = time.time()\n",
    "            yield\n",
    "\n",
    "        finally:\n",
    "            runtime = time.time() - start\n",
    "            print(f\"run time: {runtime:3f}\")\n",
    "    \n",
    "Példaként írjunk egy olyan contextmanager-t, ami jelzi nekünk, hogy mikor milyen hívás történik."
   ]
  },
  {
   "cell_type": "code",
   "execution_count": null,
   "metadata": {
    "id": "8666bd25-3915-428c-86ad-cbc4582003cd"
   },
   "outputs": [],
   "source": [
    "@contextmanager\n",
    "def print_whats_going_on(x):\n",
    "    print(\"try blokk előtt\")\n",
    "    try:\n",
    "        print(\"yield előtt\")\n",
    "        yield x\n",
    "        print(\"yield után\")\n",
    "    except:\n",
    "        print(\"except ág\")\n",
    "    finally:\n",
    "        print(\"finally ág\")\n",
    "    print(\"try blokk után\")"
   ]
  },
  {
   "cell_type": "code",
   "execution_count": null,
   "metadata": {
    "id": "c3ba90bb-2dde-429d-9dd8-75476b0a5225"
   },
   "outputs": [],
   "source": [
    "with print_whats_going_on(\"hello\") as x:\n",
    "    print(x)\n",
    "print(\"with után\")\n",
    "\n",
    "print(\"-\"*50)\n",
    "\n",
    "with print_whats_going_on(\"hello\") as x:\n",
    "    print(x)\n",
    "    raise ValueError\n",
    "print(\"with után\")\n"
   ]
  },
  {
   "cell_type": "code",
   "execution_count": null,
   "metadata": {
    "id": "39160ff6-b8bd-4e51-9117-5bb3f6a4eb59"
   },
   "outputs": [],
   "source": [
    "@contextmanager\n",
    "def timer():\n",
    "    try:\n",
    "        start = time.time()\n",
    "        yield\n",
    "\n",
    "    finally:\n",
    "        runtime = time.time() - start\n",
    "        print(f\"run time: {runtime:3f}\")"
   ]
  },
  {
   "cell_type": "code",
   "execution_count": null,
   "metadata": {
    "id": "j1pSQlLVEhNj"
   },
   "outputs": [],
   "source": [
    "t = timer()\n",
    "with t:\n",
    "    time.sleep(0.5)"
   ]
  },
  {
   "cell_type": "markdown",
   "metadata": {
    "id": "qH7u9zpOEhNk"
   },
   "source": [
    "Használhatjuk-e többször a `timer`-ünket?"
   ]
  },
  {
   "cell_type": "code",
   "execution_count": null,
   "metadata": {
    "id": "tD1QgoNDEhNk"
   },
   "outputs": [],
   "source": [
    "t = timer()\n",
    "with t:\n",
    "    time.sleep(0.5)\n",
    "with t:\n",
    "    time.sleep(0.5)\n"
   ]
  },
  {
   "cell_type": "markdown",
   "metadata": {
    "id": "124JUP-lEhNl"
   },
   "source": [
    "## Tudunk-e olyan contextmanagert készíteni, ami többször felhasználható?\n",
    "\n",
    "pl.\n",
    "\n",
    "```\n",
    "with indented:\n",
    "    indented.print(\"első\")\n",
    "    with indented:\n",
    "        indented.print(\"második\")\n",
    "    indented.print(\"harmadik\")\n",
    "```\n",
    "\n",
    "ahol kimenetként azt várnánk, hogy\n",
    "```\n",
    "  első\n",
    "    második\n",
    "  harmadik\n",
    "```"
   ]
  },
  {
   "cell_type": "code",
   "execution_count": null,
   "metadata": {
    "id": "-RZ15-Y-EhNu"
   },
   "outputs": [],
   "source": [
    "class Indent:\n",
    "    def __init__(self, indent='  '):\n",
    "        self.level = 0\n",
    "        self.indent = indent\n",
    "    \n",
    "    def __enter__(self):\n",
    "        self.level += 1\n",
    "        return None\n",
    "    \n",
    "    def __exit__(self, *args):\n",
    "        self.level -= 1\n",
    "    \n",
    "    def print(self, x):\n",
    "        indent = self.indent*self.level \n",
    "        x = str(x)\n",
    "        print('\\n'.join(indent+line for line in x.split('\\n')))\n"
   ]
  },
  {
   "cell_type": "code",
   "execution_count": null,
   "metadata": {
    "id": "dzXZVrjsEhNw"
   },
   "outputs": [],
   "source": [
    "indented = Indent('...')\n",
    "text = \"\"\"Többsoros szöveg:\n",
    "Első\n",
    "Második\n",
    "\"\"\"\n",
    "with indented:\n",
    "    indented.print(\"első\")\n",
    "    with indented:\n",
    "        indented.print(\"második\")\n",
    "        with indented:\n",
    "            indented.print(text)\n",
    "    indented.print(\"harmadik\")"
   ]
  },
  {
   "cell_type": "markdown",
   "metadata": {},
   "source": [
    "# Feladatok előadásról"
   ]
  },
  {
   "cell_type": "markdown",
   "metadata": {},
   "source": [
    "Előadáson a föld népességének alakulása szerepelt egy [Kaggle](https://www.kaggle.com) adathalmazon. Mi a \n",
    "[https://www.gapminder.org/data/] oldalról származó adatokat fogjuk használni. \n",
    "\n",
    "FREE DATA FROM WORLD BANK VIA GAPMINDER.ORG, CC-BY LICENSE\n",
    "\n",
    "Felmásoltam őket az óra github repojára, a letöltési címek:\n"
   ]
  },
  {
   "cell_type": "code",
   "execution_count": null,
   "metadata": {},
   "outputs": [],
   "source": [
    "csv_files = {\n",
    "    \"income\": \"income_per_person_gdppercapita_ppp_inflation_adjusted.csv\",\n",
    "    \"life_expectancy\": \"life_expectancy_years.csv\",\n",
    "    \"population\": \"population_total.csv\"\n",
    "}\n",
    "regions_url = \"http://gapm.io/dl_geo\"\n",
    "\n",
    "baseurl = \"https://github.com/prokaj/elte-python/raw/main/\""
   ]
  },
  {
   "cell_type": "markdown",
   "metadata": {},
   "source": [
    "## Kérdések előadásról:\n",
    "\n",
    "* Melyek a Föld legsűrűbben lakott országai?\n",
    "* Melyek a legritkábban lakott országok?\n",
    "* Földrészenként melyik a három legritkábban lakott ország?\n",
    "* Melyik földrész népessége nőtt a legtöbbet 1970 óta?"
   ]
  },
  {
   "cell_type": "code",
   "execution_count": null,
   "metadata": {},
   "outputs": [],
   "source": [
    "import pandas as pd\n",
    "import numpy as np\n",
    "import plotly.express as px"
   ]
  },
  {
   "cell_type": "code",
   "execution_count": null,
   "metadata": {},
   "outputs": [],
   "source": [
    "\n",
    "gapminder = px.data.gapminder()\n",
    "gapminder\n"
   ]
  },
  {
   "cell_type": "code",
   "execution_count": null,
   "metadata": {},
   "outputs": [],
   "source": [
    "print(gapminder.describe())\n",
    "print(gapminder.info())\n"
   ]
  },
  {
   "cell_type": "code",
   "execution_count": null,
   "metadata": {},
   "outputs": [],
   "source": [
    "px.scatter(data_frame= gapminder,\n",
    "           x= \"gdpPercap\",\n",
    "           y=\"lifeExp\", \n",
    "           animation_frame=\"year\",\n",
    "           animation_group=\"country\",\n",
    "           size=\"pop\", \n",
    "           color=\"continent\", \n",
    "           hover_name=\"country\",\n",
    "           log_x=True, \n",
    "           size_max=55, \n",
    "           range_x=[100, 100000], \n",
    "           range_y=[25,90])"
   ]
  },
  {
   "cell_type": "markdown",
   "metadata": {},
   "source": [
    "Részletesebb adatok:"
   ]
  },
  {
   "cell_type": "code",
   "execution_count": null,
   "metadata": {},
   "outputs": [],
   "source": [
    "\n",
    "url = baseurl+csv_files['income']\n",
    "print(url)\n",
    "df = pd.read_csv(url, dtype=str)\n",
    "df.head()"
   ]
  },
  {
   "cell_type": "code",
   "execution_count": null,
   "metadata": {},
   "outputs": [],
   "source": [
    "from collections import defaultdict\n",
    "col_types = defaultdict(list)\n",
    "for col in df.columns:\n",
    "    col_types[str(df[[col]].values.dtype)].append(col)\n",
    "\n",
    "print(dict(col_types))\n",
    "    \n"
   ]
  },
  {
   "cell_type": "markdown",
   "metadata": {},
   "source": [
    "## Feladat.\n",
    "\n",
    "Olvassuk be az adatokat és válaszoljuk meg a fenti kérdéseket: \n",
    "\n",
    "* Melyek a Föld legsűrűbben lakott országai?\n",
    "* Melyek a legritkábban lakott országok?\n",
    "* Földrészenként melyik a három legritkábban lakott ország?\n",
    "* Melyik földrész népessége nőtt a legtöbbet 1970 óta?"
   ]
  },
  {
   "cell_type": "markdown",
   "metadata": {
    "id": "eJH0SZ18EhNL"
   },
   "source": [
    "# Conway Game of Life"
   ]
  },
  {
   "cell_type": "markdown",
   "metadata": {
    "id": "PlXRypn7EhNL"
   },
   "source": [
    "\n",
    "The Game of Life is a cellular automaton created by mathematician John Conway in 1970. The game consists of a board of cells that are either on or off. One creates an initial configuration of these on/off states and observes how it evolves. There are four simple rules to determine the next state of the game board, given the current state:\n",
    "\n",
    "- **Overpopulation**: if a living cell is surrounded by more than three living cells, it dies.\n",
    "- **Stasis**: if a living cell is surrounded by two or three living cells, it survives.\n",
    "- **Underpopulation**: if a living cell is surrounded by fewer than two living cells, it dies.\n",
    "- **Reproduction**: if a dead cell is surrounded by exactly three cells, it becomes a live cell.\n",
    "\n",
    "\n",
    "Írjunk egy osztályt a játékhoz, pl. az `__init__` metódus hozzalétre a megadott konfigurációnak megfelelő objektumot. Legyen egy `step` metódus, ami a rendszert a következő állapotába viszi és az `__str__` metódus pedig\n",
    "valahogy ábrázolja az aktuális állapotot. \n",
    "\n",
    "Tegyük fel, hogy a rács amin a rendszer él, egy $n\\times n$-es rács, ahol mindkét irányban ciklikusan körbemegyünk,\n",
    "azaz a csúcsokat modulo $n$ tekintjük.\n"
   ]
  },
  {
   "cell_type": "code",
   "execution_count": null,
   "metadata": {
    "id": "XKnQLfutEhNM"
   },
   "outputs": [],
   "source": [
    "class ConwayGoL:\n",
    "    \n",
    "    def __init__(self, state):\n",
    "        self.state = list(state)\n",
    "\n",
    "    def step(self):\n",
    "        return self\n",
    "\n",
    "    def __repr__(self):\n",
    "        return f\"{type(self).__name__}({self.state})\""
   ]
  },
  {
   "cell_type": "code",
   "execution_count": null,
   "metadata": {
    "id": "xPaz5ZWJEhNN"
   },
   "outputs": [],
   "source": [
    "import random\n",
    "\n",
    "init_state = [] ## ???\n",
    "conway = ConwayGoL(init_state)\n",
    "\n",
    "conway.step()\n"
   ]
  },
  {
   "cell_type": "markdown",
   "metadata": {
    "id": "ncvyx37aEhNN"
   },
   "source": [
    "A játék állapotának leírásához egy $n\\times n$ rács minden pontjáról tudni kell, hogy foglalt-e vagy sem.\n",
    "\n",
    "```\n",
    "n = 11\n",
    "state = [[0]*n for _ in range(n)]\n",
    "```\n",
    "\n",
    "Véletlenszerű kezdeti állapot:\n",
    "```\n",
    "state = [[random.randint(0,1) for _ in range(n)] for _ in range(n)]\n",
    "```"
   ]
  },
  {
   "cell_type": "code",
   "execution_count": null,
   "metadata": {
    "id": "FBK6wsG6EhNO"
   },
   "outputs": [],
   "source": [
    "def random_state(n, m, p):\n",
    "    return [[int(random.random()<p) for _ in range(m)] for _ in range(n)]\n",
    "\n",
    "state = random_state(11, 25, 0.2)\n",
    "print(state)"
   ]
  },
  {
   "cell_type": "markdown",
   "metadata": {
    "id": "-E4t9V34EhNO"
   },
   "source": [
    "Szebb megjelenítés?"
   ]
  },
  {
   "cell_type": "code",
   "execution_count": null,
   "metadata": {
    "id": "rKm4aPSHEhNO"
   },
   "outputs": [],
   "source": [
    "def as_matrix(lst, n):\n",
    "    return [lst[i:i+n] for i in range(0, len(lst), n)]\n",
    "\n",
    "print('\\n'.join(''.join(map(str, line)) for line in state))\n"
   ]
  },
  {
   "cell_type": "code",
   "execution_count": null,
   "metadata": {
    "id": "Mo9lFIo5EhNP"
   },
   "outputs": [],
   "source": [
    "symbols = \"\\u2b1c\\u2b1b\"\n",
    "print('\\n'.join(''.join(symbols[x] for x in line) for line in state))\n"
   ]
  },
  {
   "cell_type": "code",
   "execution_count": null,
   "metadata": {
    "id": "5ynLSVHFEhNP"
   },
   "outputs": [],
   "source": [
    "import matplotlib.pyplot as plt \n",
    "\n",
    "img = plt.matshow(state, cmap=\"viridis\")\n",
    "#img.axes.axis(False)\n",
    "n, m = len(state), len(state[0])\n",
    "for pos in range(0, n+1):\n",
    "    img.axes.axhline(y=pos-0.5, color=\"white\")\n",
    "for pos in range(0, m+1):\n",
    "    img.axes.axvline(x=pos-0.5, color=\"white\")\n",
    "\n",
    "plt.show()\n"
   ]
  },
  {
   "cell_type": "code",
   "execution_count": null,
   "metadata": {
    "id": "53nRVem4EhNR"
   },
   "outputs": [],
   "source": [
    "\n",
    "def cgol_str(self):\n",
    "    symbols = \"\\u2b1c\\u2b1b\"\n",
    "    return '\\n'.join(''.join(symbols[x] for x in line) for line in self.state)\n",
    "\n",
    "ConwayGoL.__str__ = cgol_str\n",
    "\n",
    "    "
   ]
  },
  {
   "cell_type": "code",
   "execution_count": null,
   "metadata": {
    "id": "Js9icRItEhNR"
   },
   "outputs": [],
   "source": [
    "conway = ConwayGoL(state)\n",
    "print(conway)"
   ]
  },
  {
   "cell_type": "markdown",
   "metadata": {
    "id": "NwISMDDvEhNR"
   },
   "source": [
    "A `step` metódushoz ki kellene számolni egy adott csúcs foglalt szomszédainak számát `cnt`. Ha ez kész,\n",
    "akkor az $i$ csúcs új állapota:\n",
    "\n",
    "$$\n",
    "    \\text{state}_{t+1}[i]=\n",
    "    \\begin{cases}\n",
    "    1 &\\text{Ha $\\text{cnt}[i]\\in\\{2,3\\}$ és $\\text{state}_t[i]=1$}\\\\\n",
    "    1 &\\text{Ha $\\text{cnt}[i]\\in\\{3\\}$ és $\\text{state}_t[i]=0$}\\\\\n",
    "    0 &\\text{különben}\n",
    "    \\end{cases}\n",
    "$$"
   ]
  },
  {
   "cell_type": "code",
   "execution_count": null,
   "metadata": {
    "id": "NetE2InDEhNS"
   },
   "outputs": [],
   "source": [
    "def newstate(state, count):\n",
    "    return [int((c==3)|((c==2) & (s==1))) for s, c in  zip(state, count)]"
   ]
  },
  {
   "cell_type": "code",
   "execution_count": null,
   "metadata": {
    "id": "8CKn57ZDEhNS"
   },
   "outputs": [],
   "source": [
    "%%ipytest\n",
    "\n",
    "def test_newstate():\n",
    "    res = [0]*9\n",
    "    res[2] = 1\n",
    "    res[3] = 1\n",
    "    assert newstate([1]*9, list(range(9))) == res\n",
    "    res = [0]*9\n",
    "    res[3] = 1    \n",
    "    assert newstate([0]*9, list(range(9))) == res\n"
   ]
  },
  {
   "cell_type": "code",
   "execution_count": null,
   "metadata": {
    "id": "0ZpQJl2DEhNT"
   },
   "outputs": [],
   "source": [
    "def count_neighbors(state):\n",
    "    strides = [(0,-1), (0, 1), (1,-1), (1,0), (1,1), (-1,-1), (-1,0), (-1,1)] \n",
    "    n, m = len(state), len(state[0])\n",
    "    return [ [sum(state[(i+di) % n][(j+dj) % m] for di, dj in strides) for j in range(m)] for i in range(n)]\n",
    "\n",
    "def cgol_step(self):\n",
    "    counts = count_neighbors(self.state)\n",
    "    self.state = [ newstate(line, cnt) for line, cnt in zip(self.state, counts) ]\n",
    "    return self\n",
    "    \n",
    "ConwayGoL.step = cgol_step"
   ]
  },
  {
   "cell_type": "code",
   "execution_count": null,
   "metadata": {
    "id": "zyCFdmOIEhNT"
   },
   "outputs": [],
   "source": [
    "@classmethod\n",
    "def cgol_from_random_state(cls, n, m,  p):\n",
    "    return cls(random_state(n, m, p))\n",
    "\n",
    "ConwayGoL.from_random_state=cgol_from_random_state"
   ]
  },
  {
   "cell_type": "code",
   "execution_count": null,
   "metadata": {
    "id": "pYZAR6DyEhNU"
   },
   "outputs": [],
   "source": [
    "conway = ConwayGoL.from_random_state(4, 4, 0.3)\n",
    "print(conway)\n",
    "print(count_neighbors(conway.state))"
   ]
  },
  {
   "cell_type": "code",
   "execution_count": null,
   "metadata": {
    "id": "gULSpM2nEhNU"
   },
   "outputs": [],
   "source": [
    "conway = ConwayGoL.from_random_state(5, 5, 0.5)\n",
    "print(conway)\n",
    "print(\"-\"*20)\n",
    "print(conway.step())"
   ]
  },
  {
   "cell_type": "markdown",
   "metadata": {
    "id": "MMsJO58mEhNV"
   },
   "source": [
    "Tudunk-e valami animációszerűt készíteni? Jupyter notebook-ban pl. a következő képpen lehet: "
   ]
  },
  {
   "cell_type": "code",
   "execution_count": null,
   "metadata": {
    "id": "-VxEV5BEEhNV"
   },
   "outputs": [],
   "source": [
    "from ipywidgets import Output\n",
    "from time import sleep\n",
    "\n",
    "out = Output()\n",
    "display(out)\n",
    "conway = ConwayGoL.from_random_state(n=31, m=55, p=0.2)\n",
    "\n",
    "for i in range(100):\n",
    "    out.clear_output(True)\n",
    "    with out:\n",
    "        print(f\"After {i} steps:\\n{conway}\")  \n",
    "    sleep(0.2)\n",
    "    conway.step()\n"
   ]
  },
  {
   "cell_type": "markdown",
   "metadata": {
    "id": "NorKvbYvEhNV"
   },
   "source": [
    "Ha parancssorból dolgozunk, akkor valami ilyesmit lehetne tenni"
   ]
  },
  {
   "cell_type": "code",
   "execution_count": null,
   "metadata": {
    "id": "xpMYSt_SEhNW"
   },
   "outputs": [],
   "source": [
    "%%writefile conway.py\n",
    "\n",
    "import random\n",
    "\n",
    "\n",
    "def random_state(n, m, p):\n",
    "    return [ [ int(random.random()<p) for _ in range(m) ] for _ in range(n) ]\n",
    "\n",
    "def count_neighbors(state):\n",
    "    strides = [(0,-1), (0, 1), (1,-1), (1,0), (1,1), (-1,-1), (-1,0), (-1,1)] \n",
    "    n, m = len(state), len(state[0])\n",
    "    return [ [sum(state[(i+di) % n][(j+dj) % m] for di, dj in strides) for j in range(m)] for i in range(n)]\n",
    "\n",
    "def newstate(state, count):\n",
    "    return [int((c==3)|((c==2) & (s==1))) for s, c in  zip(state, count)]\n",
    "\n",
    "class ConwayGoL:\n",
    "    symbols = \"\\u2b1c\\u2b1b\"\n",
    "    \n",
    "    def __init__(self, state):\n",
    "        self.state = list(state)\n",
    "        \n",
    "    def step(self):\n",
    "        counts = count_neighbors(self.state)\n",
    "        self.state = [ newstate(line, cnt) for line, cnt in zip(self.state, counts) ]\n",
    "        return self\n",
    "\n",
    "    \n",
    "    def __str__(self): \n",
    "        symbols = self.symbols\n",
    "        return '\\n'.join(''.join(symbols[x] for x in line) for line in self.state)\n",
    "\n",
    "    def __repr__(self):\n",
    "        return f\"{type(self).__name__}({self.state})\"\n",
    "    \n",
    "    @classmethod\n",
    "    def from_random_state(cls, n, m, p):\n",
    "        return cls(random_state(n, m, p))\n",
    "\n",
    "    def is_empty(self):\n",
    "        return not any(any(line) for line in self.state)\n",
    "\n",
    "\n",
    "def clear_terminal(n):\n",
    "    print(f\"{chr(27)}[{n+1}A\", end=\"\")\n",
    "\n",
    "def main(n=11, m=25, p=0.2, nsteps=10, clear_screen=clear_terminal):\n",
    "    from time import sleep\n",
    "    conway = ConwayGoL.from_random_state(n, m, p)\n",
    "    for i in range(nsteps+1):\n",
    "        if i>0:\n",
    "            clear_screen(n)\n",
    "        print(f\"after {i} step:\")\n",
    "        print(conway)  \n",
    "        sleep(0.2)\n",
    "        conway.step()\n",
    "        if conway.is_empty():\n",
    "            break\n",
    "    \n",
    "if __name__ == \"__main__\":\n",
    "    main()\n",
    "    "
   ]
  },
  {
   "cell_type": "markdown",
   "metadata": {
    "id": "1sHjBkrrEhNX"
   },
   "source": [
    "Ha valamit már megírtunk és szeretnénk használni, `import`-tal elérhető. Pl."
   ]
  },
  {
   "cell_type": "markdown",
   "metadata": {
    "id": "vS2mPYU0EhNX"
   },
   "source": [
    "### Tudunk-e paramétereket adni a python scriptnek?\n",
    "\n",
    "Amikor egy python scriptet futtatunk, a parancssor (amivel a futást indítottuk) a `sys` modul `argv` változójában érhető el."
   ]
  },
  {
   "cell_type": "code",
   "execution_count": null,
   "metadata": {
    "id": "jHPXCutCEhNY"
   },
   "outputs": [],
   "source": [
    "import sys\n",
    "sys.argv"
   ]
  },
  {
   "cell_type": "code",
   "execution_count": null,
   "metadata": {
    "id": "wTyIkQrUEhNY"
   },
   "outputs": [],
   "source": [
    "! python -c 'import sys; print(sys.argv)' -alma\n"
   ]
  },
  {
   "cell_type": "markdown",
   "metadata": {
    "id": "B_WWySlnEhNY"
   },
   "source": [
    "Egy nagyon egyszerű megoldás, ha minden opciónak a neve a paraméter amit beállít és egyenlőségjel után az értéke:\n",
    "pl. n=11 m=25 nstep=10 p=0.2"
   ]
  },
  {
   "cell_type": "code",
   "execution_count": null,
   "metadata": {
    "id": "AcM_i35sEhNZ"
   },
   "outputs": [],
   "source": [
    "cmdline = \"conway.py -n=11 -m=25 -nstep=10 -p=0.2\"\n",
    "argv = cmdline.split()\n",
    "params =[param.split(\"=\") for param in argv[1:]]\n",
    "params"
   ]
  },
  {
   "cell_type": "markdown",
   "metadata": {
    "id": "9cgtJx-NEhNZ"
   },
   "source": [
    "Minden paraméterről tudni kellene, hogy milyen típusú!"
   ]
  },
  {
   "cell_type": "code",
   "execution_count": null,
   "metadata": {
    "id": "5aly_9AGEhNZ"
   },
   "outputs": [],
   "source": [
    "param_types={'-n': int, '-m': int, '-nstep': int, '-p': float}\n",
    "params = {k.replace(\"-\",\"\"): param_types[k](v)  for k, v in (param.split(\"=\") for param in argv[1:])}\n",
    "params"
   ]
  },
  {
   "cell_type": "markdown",
   "metadata": {
    "id": "CzA2jqxOEhNZ"
   },
   "source": [
    "Ezek után a `main` függvényt a megadott paraméterekkel meg tudjuk hívni:\n",
    "\n",
    "```\n",
    "    main(**params)\n",
    "```\n",
    "Mi van a `default` értékekkel, `help`-pel stb.\n",
    "\n",
    "Ezeket mind meg tudnánk írni, de nem kell. Van kész megoldás `python`-ban.\n",
    "\n",
    "Az `argparse` könvytár mindent megcsinál, ami nekünk kell."
   ]
  },
  {
   "cell_type": "code",
   "execution_count": null,
   "metadata": {
    "id": "55hNdPpxEhNa"
   },
   "outputs": [],
   "source": [
    "import argparse\n",
    "\n",
    "help(argparse)"
   ]
  },
  {
   "cell_type": "markdown",
   "metadata": {
    "id": "vsV1HWB1EhNa"
   },
   "source": [
    "A `conway.py` file végét cseréljük le erre.\n",
    "```\n",
    "if __name__==\"__main__\":\n",
    "\n",
    "    import argparse\n",
    "    \n",
    "    parser = argparse.ArgumentParser(description='Conways Game of Life')\n",
    "\n",
    "    parser.add_argument(\n",
    "        '-n', '--nrows', \n",
    "        type=int, \n",
    "        default=11, \n",
    "        help='number of rows'\n",
    "        )\n",
    "\n",
    "    parser.add_argument(\n",
    "        '-m', '--ncols',\n",
    "        type=int, \n",
    "        default=25, \n",
    "        help='number of columns'\n",
    "        )\n",
    "\n",
    "    parser.add_argument(\n",
    "        '-p', '--density',\n",
    "        type=float, \n",
    "        default=0.2,\n",
    "        help='initial density')\n",
    "    \n",
    "    parser.add_argument(\n",
    "        '--nsteps', \n",
    "        type=int, \n",
    "        default=10, \n",
    "        help='steps to display'\n",
    "        )\n",
    "\n",
    "    args = parser.parse_args()\n",
    "    \n",
    "    main(n=args.n, m=args.m, p=args.p, nsteps=args.nsteps)\n",
    "```\n",
    "    "
   ]
  },
  {
   "cell_type": "code",
   "execution_count": null,
   "metadata": {
    "id": "zBO2BpyXEhNb"
   },
   "outputs": [],
   "source": [
    "# import importlib\n",
    "# importlib.reload(conway)"
   ]
  },
  {
   "cell_type": "code",
   "execution_count": null,
   "metadata": {
    "id": "EOFyZa75EhNb"
   },
   "outputs": [],
   "source": [
    "import conway\n",
    "\n",
    "out1 = Output()\n",
    "display(out1)\n",
    "\n",
    "with out1:\n",
    "    conway.main(clear_screen=lambda n: out1.clear_output(True))"
   ]
  },
  {
   "cell_type": "markdown",
   "metadata": {
    "id": "2H4xKBosEhNc"
   },
   "source": [
    "Az `argparse` könyvtár nem a legkényelmesebb. Alternatívák:\n",
    "\n",
    "- [Docopt](http://docopt.org/)\n",
    "- [Click](https://pypi.org/project/click/)\n",
    "- [clize](https://github.com/epsy/clize)\n",
    "\n",
    "és még sok másik is!"
   ]
  },
  {
   "cell_type": "markdown",
   "metadata": {
    "id": "Iol-WRR9EhNc"
   },
   "source": [
    "## Itt is használhattunk volna dekorátort"
   ]
  },
  {
   "cell_type": "markdown",
   "metadata": {
    "id": "MhdsFQXqEhNc"
   },
   "source": [
    "\n",
    "A `ConwayGoL` példában utólag adtunk metódusokat az osztályunkhoz. Ezt is megtehettük volna dekorátorral.  "
   ]
  },
  {
   "cell_type": "code",
   "execution_count": null,
   "metadata": {
    "id": "7DMGcbR3EhNd"
   },
   "outputs": [],
   "source": [
    "def conway_method(f):\n",
    "    setattr(ConwayGoL, f.__name__, f)\n",
    "    return f\n",
    "\n",
    "\n",
    "@conway_method\n",
    "def dummy_method(self):\n",
    "    print(\"this is a message from the new method!\")\n",
    "\n",
    "c = ConwayGoL([], 0)\n",
    "c.dummy_method()"
   ]
  },
  {
   "cell_type": "markdown",
   "metadata": {
    "id": "Kfka4pDpEhNd"
   },
   "source": [
    "Azt is megtehettük volna, hogy a osztály nincs beleégetve a kódba."
   ]
  },
  {
   "cell_type": "code",
   "execution_count": null,
   "metadata": {
    "id": "5DmXIzA8EhNd"
   },
   "outputs": [],
   "source": [
    "def new_method(cls):\n",
    "    def decorator(f):\n",
    "        setattr(cls, f.__name__, f)\n",
    "        return f \n",
    "    return decorator\n",
    "\n",
    "@new_method(ConwayGoL)\n",
    "def dummy_method(self):\n",
    "    print(\"Note that the old value of dummy_method is overwritten!\")"
   ]
  },
  {
   "cell_type": "code",
   "execution_count": null,
   "metadata": {
    "id": "CTuWgR0KEhNe"
   },
   "outputs": [],
   "source": [
    "c.dummy_method()"
   ]
  }
 ],
 "metadata": {
  "kernelspec": {
   "display_name": "base",
   "language": "python",
   "name": "python3"
  },
  "language_info": {
   "codemirror_mode": {
    "name": "ipython",
    "version": 3
   },
   "file_extension": ".py",
   "mimetype": "text/x-python",
   "name": "python",
   "nbconvert_exporter": "python",
   "pygments_lexer": "ipython3",
   "version": "3.8.13"
  },
  "orig_nbformat": 4,
  "vscode": {
   "interpreter": {
    "hash": "d8b53ac59aeb7dd99955ed1c7af180cec0b2adbd03b0a8162d4077beb5f10154"
   }
  }
 },
 "nbformat": 4,
 "nbformat_minor": 2
}
