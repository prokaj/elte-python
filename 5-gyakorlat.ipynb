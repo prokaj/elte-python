{
 "cells": [
  {
   "cell_type": "markdown",
   "id": "47f0ae6c-0428-427d-8a86-e3d7509dba9f",
   "metadata": {},
   "source": [
    "[![Open In Colab](https://colab.research.google.com/assets/colab-badge.svg)](https://colab.research.google.com/github/prokaj/elte-python/blob/main/5-gyakorlat.ipynb)\n",
    "\n",
    "## Házi feladatok áttekintése"
   ]
  },
  {
   "cell_type": "markdown",
   "id": "704c4ac3-1b08-4633-aac5-90f10ebe5ba5",
   "metadata": {},
   "source": [
    "1. Adott egy `dictionary`, amiben hallgatók adatai szerepelnek. Minden neptun kódhoz két adat van feljegyezve, a név (name) és az előző félév tanulmányi átlaga (avg).\n",
    "\n",
    "Írjunk egy függvényt `list_students` névvel, aminek első paramétere a hallgatók adatait tartalmazó `dictionary` `students` névvel, a második pedig egy lebegő pontos szám az $[1,5]$\n",
    "intervallumból `min_avg` névvel, végül a visszatérési értéke azon hallgatók listája `name (neptun kód)` formátumban, akiknek az átlaga a megadott értéket elérte.\n",
    "\n",
    "A függvényünket lássuk el típus annotációval és adjuk hozzá a következő dokumentációs sztringet:\n",
    "\n",
    "    list of students having at least min_avg result\n",
    "\n",
    "A hallgatók neveit rendezzük lexikografikus sorrendbe.\n",
    "\n",
    "Pl.\n",
    "\n",
    "    students = {\n",
    "        \"ACF234\": {\"name\": \"Kiss Lajos\", \"avg\": 3.5},\n",
    "        \"NBF4DF\": {\"name\": \"Nagy Blanka\" , \"avg\": 4.5},\n",
    "        \"KUDFGE\": {\"name\": \"Kiss Lajos\", \"avg\": 4.75},\n",
    "        \"BNDF23\": {\"name\": \"Boros Attila\", \"avg\": 2.75},\n",
    "        \"ADGTLE\": {\"name\": \"Poros Elek\", \"avg\": 2.0},\n",
    "    }\n",
    "    list_students(students, 4)\n",
    "    # -> [\"Kiss Lajos (KUDFGE)\", \"Nagy Blanka (NBF4DF)\"]\n",
    "\n",
    "A fenti függvény mellett írjunk teszt függvényt is, ami legalább az alábbi esetekre ellenőrzi a helyes működést.\n",
    "\n",
    "- A hallgatók adatait tartalmazó dictionary üres.\n",
    "\n",
    "- Legalább öt hallgatót tartalmazó adatsorból senki sincs aki eléri a megadott küszöböt.\n",
    "\n",
    "- Legalább öt hallgatót tartalmazó adatsorból mindenki eléri a megadott küszöböt.\n",
    "\n",
    "- Legalább öt hallgatót tartalmazó adatsorból körülbelül a hallgatók fele éri el a megadott küszöböt.\n",
    "\n",
    "- Van olyan hallgató, akinek tanulmányi átlaga pont a megadott küszöb.\n"
   ]
  },
  {
   "cell_type": "code",
   "execution_count": null,
   "id": "79e3141f-7899-426b-9e2e-381cfa70de60",
   "metadata": {},
   "outputs": [],
   "source": [
    "def list_students(students: dict, min_avg: float) -> list:\n",
    "    \"\"\"list of students having at least min_avg result\"\"\"\n",
    "    pass"
   ]
  },
  {
   "cell_type": "markdown",
   "id": "fe0caa3d-0cd5-44e0-8861-7cc0ba483a45",
   "metadata": {},
   "source": [
    "Hogyan tudunk végig iterálni a hallgatókon?"
   ]
  },
  {
   "cell_type": "code",
   "execution_count": null,
   "id": "df74a721-4038-4a15-82c7-336866ee436f",
   "metadata": {},
   "outputs": [],
   "source": [
    "for key, value in students.items():\n",
    "    pass"
   ]
  },
  {
   "cell_type": "markdown",
   "id": "34299c1e-b72a-459d-9f9c-a8f8f6a7748e",
   "metadata": {},
   "source": [
    "Itt a `key` valojaban neptun kód. A `value` pedig egy dictionary a diák adataival."
   ]
  },
  {
   "cell_type": "code",
   "execution_count": null,
   "id": "a6a00d9e-0503-4aa5-84a0-d842dfc3e0a4",
   "metadata": {},
   "outputs": [],
   "source": [
    "for neptun_id, student in students.items():\n",
    "    pass"
   ]
  },
  {
   "cell_type": "markdown",
   "id": "619aa610-1ca8-4189-9795-085f76ded2dc",
   "metadata": {},
   "source": [
    "Össze kell rakni egy stringet a megadott adatokkal."
   ]
  },
  {
   "cell_type": "code",
   "execution_count": null,
   "id": "fd59c166-ff31-4712-9d7a-eb3c86a957b9",
   "metadata": {},
   "outputs": [],
   "source": [
    "students = {\n",
    "        \"ACF234\": {\"name\": \"Kiss Lajos\", \"avg\": 3.5},\n",
    "        \"NBF4DF\": {\"name\": \"Nagy Blanka\" , \"avg\": 4.5},\n",
    "        \"KUDFGE\": {\"name\": \"Kiss Lajos\", \"avg\": 4.75},\n",
    "        \"BNDF23\": {\"name\": \"Boros Attila\", \"avg\": 2.75},\n",
    "        \"ADGTLE\": {\"name\": \"Poros Elek\", \"avg\": 2.0},\n",
    "    }\n",
    "\n",
    "neptun_id, student = next(iter(students.items()))\n",
    "\n",
    "f\"{student['name']} ({neptun_id})\""
   ]
  },
  {
   "cell_type": "markdown",
   "id": "c2cdc28a-f37e-461b-b60f-3b7a63bab189",
   "metadata": {},
   "source": [
    "Ezt minden diakra meg kell csinalni, aki elég jó.\n",
    "Lehet `if` a `for` cikluson belül, de lehet `list comprehension`nel is\n",
    "Végül még rendezni is kell"
   ]
  },
  {
   "cell_type": "code",
   "execution_count": null,
   "id": "6ccd9c35-173c-426f-9c6e-fcfa9f63dac2",
   "metadata": {},
   "outputs": [],
   "source": [
    "min_avg = 2.5\n",
    "result = [f\"{student['name']} ({neptun_id})\" for neptun_id, student in students.items() if student[\"avg\"]>=min_avg]\n",
    "result = sorted(result)\n",
    "# vagy\n",
    "result.sort()\n",
    "result"
   ]
  },
  {
   "cell_type": "markdown",
   "id": "bb4b6e98-a051-4fb8-aa28-38c0eeac87ce",
   "metadata": {},
   "source": [
    "Összerakva:"
   ]
  },
  {
   "cell_type": "code",
   "execution_count": null,
   "id": "a8ca04c1-f62f-42ad-99cf-b08648d8004a",
   "metadata": {},
   "outputs": [],
   "source": [
    "def list_students(students: dict, min_avg: float) -> list:\n",
    "    \"\"\"list of students having at least min_avg result\"\"\"\n",
    "    result = [f\"{student['name']} ({neptun_id})\" for neptun_id, student in students.items() if student[\"avg\"]>=min_avg]\n",
    "    result.sort()\n",
    "    return result\n",
    "\n",
    "## vagy \n",
    "def list_students(students: dict, min_avg: float) -> list:\n",
    "    \"\"\"list of students having at least min_avg result\"\"\"\n",
    "    result = [f\"{student['name']} ({neptun_id})\" for neptun_id, student in students.items() if student[\"avg\"]>=min_avg]\n",
    "    return sorted(result)\n"
   ]
  },
  {
   "cell_type": "markdown",
   "id": "73696a16-2abb-480e-a983-8864c1ac7006",
   "metadata": {},
   "source": [
    "Teszt függvény"
   ]
  },
  {
   "cell_type": "code",
   "execution_count": null,
   "id": "b4938f1d-c342-4c51-b235-18c31f1bcf35",
   "metadata": {},
   "outputs": [],
   "source": [
    "def test_list_student():\n",
    "    students = {\n",
    "        \"ACF234\": {\"name\": \"Kiss Lajos\", \"avg\": 3.5},\n",
    "        \"NBF4DF\": {\"name\": \"Nagy Blanka\" , \"avg\": 4.5},\n",
    "        \"KUDFGE\": {\"name\": \"Kiss Lajos\", \"avg\": 4.75},\n",
    "        \"BNDF23\": {\"name\": \"Boros Attila\", \"avg\": 2.75},\n",
    "        \"ADGTLE\": {\"name\": \"Poros Elek\", \"avg\": 2.0},\n",
    "    }\n",
    "    ## hallgatok listaja ures\n",
    "    assert list_students({}, 2) == []\n",
    "    assert list_students({}, 5) == []\n",
    "    ## senki nem eleg jo \n",
    "    assert list_students(students, 4.8) == []\n",
    "    answer = [\n",
    "        \"Boros Attila (BNDF23)\",\n",
    "        \"Kiss Lajos (ACF234)\",\n",
    "        \"Kiss Lajos (KUDFGE)\",\n",
    "        \"Nagy Blanka (NBF4DF)\",\n",
    "        \"Poros Elek (ADGTLE)\"\n",
    "    ]\n",
    "    assert list_students(students, 1.0) == answer\n",
    "    \n",
    "    assert list_students(students, 3.0) == answer[1:4]\n",
    "    \n",
    "    assert list_students(students, 3.5) == answer[1:4]\n",
    "    \n",
    "    \n",
    "    \n"
   ]
  },
  {
   "cell_type": "markdown",
   "id": "eb338307-954f-4ae9-abb6-64692f69260e",
   "metadata": {},
   "source": [
    "<span style=\"color: darkred; font-size:20px;\">Jupyter notebookban vagyunk!</span>\n",
    "\n",
    "Importáljuk az ipytest csomagot!\n",
    "\n",
    "Konfiguráljuk az ipytest.autoconfig() hívással és az előző cella tetejébe illesszük a\n",
    "\n",
    "```\n",
    "%%ipytest\n",
    "```\n",
    "\n",
    "magic command-ot!"
   ]
  },
  {
   "cell_type": "markdown",
   "id": "2c25431a-a2b9-4e0d-a2fd-cc96e8e7acb0",
   "metadata": {},
   "source": [
    "<hr style=\"color:darkblue; background:darkblue; height:20px\"/>"
   ]
  },
  {
   "cell_type": "markdown",
   "id": "fd54903d-bb4e-4144-b97c-7e4c13a77bbc",
   "metadata": {},
   "source": [
    "\n",
    "2. Gráfok csúcsait gyakran rövid sztringekkel címkézik. Írjunk egy függvényt, aminek egyetlen paramétere az élek listája, visszatérési értéke pedig egy dictionary, ami minden csúcshoz egy listát tárol a szomszédos csúcsok címkéivel.\n",
    "\n",
    "        def neighbors(edges):\n",
    "            pass\n",
    "\n",
    "   Többszörös él esetén is minden csúcs legfeljebb egyszer szerepeljen a listában. A szomszédokat lexikografikusan rendezve soroljuk fel!\n",
    "\n",
    "   Pl. ha\n",
    "\n",
    "        edges = [(\"A\", \"B\"), (\"C\", \"A\"), (\"A\", \"D\"), (\"C\",\"D\"), (\"D\", \"C\"), (\"E\", \"E\")]\n",
    "\n",
    "   akkor a neighbors(edges) hívás eredménye:\n",
    "\n",
    "        {\n",
    "            \"A\" : [\"B\", \"C\", \"D\"],\n",
    "            \"B\" : [\"A\"],\n",
    "            \"C\" : [\"A\", \"D\"],\n",
    "            \"D\" : [\"A\", \"C\"],\n",
    "            \"E\" : [\"E\"],\n",
    "        }\n",
    "\n",
    "   Lássuk el a függvényt típus annotációval és adjuk hozzá a következő dokumentációs sztringet:\n",
    "\n",
    "        sparse adjacency matrix of a graph given by edges\n",
    "\n",
    "   A fenti függvény mellett írjunk teszt függvényt is, ami legalább az alábbi esetekre ellenőrzi a helyes működést.\n",
    "\n",
    "   - Az élek listája üres.\n",
    "\n",
    "   - Legalább öt él esetén minden él hurok él.\n",
    "\n",
    "   - Legalább négy pont esetén bármely két pont között megy él.\n",
    "\n",
    "   - Legalább öt él esetén nem összefüggő a gráf.\n",
    " \n",
    "   - Legalább öt él esetén van többszörös él.\n"
   ]
  },
  {
   "cell_type": "markdown",
   "id": "a90f7e72-1800-4421-b092-196d7b3cb385",
   "metadata": {},
   "source": [
    "Az első lépés most is könnyű"
   ]
  },
  {
   "cell_type": "code",
   "execution_count": null,
   "id": "d0521e4f-3fe1-44cf-877a-8d838e308a48",
   "metadata": {},
   "outputs": [],
   "source": [
    "def neighbors(edges: list) -> dict:\n",
    "    \"\"\"sparse adjacency matrix of a graph given by edges\"\"\"\n",
    "    pass"
   ]
  },
  {
   "cell_type": "markdown",
   "id": "9f2a8838-abb5-4f7c-868c-4eb9c26f08a0",
   "metadata": {},
   "source": [
    "Ötlet. Menjünk végig az éleken és minden él hozzávétele után legyen egy dictionary-nk, ami az első néhány él által meghatározott gráfnak felel meg.\n",
    "\n",
    "A példának megadott éllista:\n",
    "\n",
    "    edges = [(\"A\", \"B\"), (\"C\", \"A\"), (\"A\", \"D\"), (\"C\",\"D\"), (\"D\", \"C\"), (\"E\", \"E\")]\n",
    "   \n",
    "Az egyes lépések után a gráf és az eredmény `d` a következőképpen alakul\n",
    "\n",
    "0. `edges = []`, `d = {}`\n",
    "\n",
    "1. `edges = [(\"A\", \"B\")]`, `d = {\"A\": [\"B\"], \"B\": [\"A\"] }`\n",
    "\n",
    "2. `edges = [(\"A\", \"B\"), (\"C\", \"A\")]`, `d = {\"A\": [\"B\", \"C\"], \"B\": [\"A\"], \"C\": [\"A\"]}`\n",
    "\n",
    "...\n",
    "\n",
    "Ha `a`, `b` az új él két végpontja, akkor `d[a]`-hoz kell hozzáadni `b`-t, ill. `d[b]`-hez `a`-t.\n",
    "\n",
    "Nehézségek.\n",
    "\n",
    "- Mi van, ha még nincs `d[a]`?\n",
    "\n",
    "- Mi van, ha `b` már szerepel `d[a]`-ban?\n",
    "\n",
    "- Mi van, ha `a == b`?\n",
    "\n",
    "- Hogyan lehet `a`, `b`-t elővarázsolni az `edges` lista eleméből?\n"
   ]
  },
  {
   "cell_type": "code",
   "execution_count": null,
   "id": "e8614e6b-48f3-4cbb-9d16-cef014befd95",
   "metadata": {},
   "outputs": [],
   "source": [
    "edge = (\"A\", \"B\")\n",
    "a, b = edge\n",
    "print(f\"a={repr(a)}, b={repr(b)}\")"
   ]
  },
  {
   "cell_type": "code",
   "execution_count": null,
   "id": "9fa45e20-4c57-45f2-926a-65aba1699ecb",
   "metadata": {},
   "outputs": [],
   "source": [
    "edges = [(\"A\", \"B\"), (\"C\", \"A\"), (\"A\", \"D\"), (\"C\",\"D\"), (\"D\", \"C\"), (\"E\", \"E\")]\n",
    "\n",
    "for a, b in edges:\n",
    "    print(f\"a={repr(a)}, b={repr(b)}\")"
   ]
  },
  {
   "cell_type": "markdown",
   "id": "9b51e28a-cd2e-4191-9638-4bb6c7bce05a",
   "metadata": {},
   "source": [
    "A kibontás többszinten is működik.\n",
    "\n",
    "`enumerate(edges)` egy olyan iterator, aminek eredménye `(i, edge)`, ahol `i` a él sorszáma és `edge` az él"
   ]
  },
  {
   "cell_type": "code",
   "execution_count": null,
   "id": "a9391373-71aa-41ac-a5d6-74283f25ccb8",
   "metadata": {},
   "outputs": [],
   "source": [
    "edges = [(\"A\", \"B\"), (\"C\", \"A\"), (\"A\", \"D\"), (\"C\",\"D\"), (\"D\", \"C\"), (\"E\", \"E\")]\n",
    "\n",
    "for i, (a, b) in enumerate(edges):\n",
    "    print(f\"{i}. edge: a={repr(a)}, b={repr(b)}\")"
   ]
  },
  {
   "cell_type": "markdown",
   "id": "bfc38f0a-a0a9-4f36-8d1e-95c7c0069bc6",
   "metadata": {},
   "source": [
    "Mi van, ha `b` már szerepel `d[a]`-ban?\n",
    "\n",
    "Előadáson szerepelt a `set` típus. Ez pont a matematikai halmaz megfelelője. \n",
    "Azaz, ha egy elem már szerepel benne, akkor a hozzáadása már nem bővíti a halmazt."
   ]
  },
  {
   "cell_type": "code",
   "execution_count": null,
   "id": "43f080c6-a56d-4693-a79a-875e2db433bb",
   "metadata": {},
   "outputs": [],
   "source": [
    "nset = set()\n",
    "print(nset)\n",
    "nset.add(\"A\")\n",
    "print(f\"nset after adding 'A': {nset}\")\n",
    "nset.add(\"A\")\n",
    "print(f\"nset after adding 'A' again: {nset}\")\n"
   ]
  },
  {
   "cell_type": "markdown",
   "id": "83070b9d-73bb-47da-b5d0-0013f61256ac",
   "metadata": {},
   "source": [
    "Olyan dictionary-t akarunk, aminek értékei halmazok."
   ]
  },
  {
   "cell_type": "code",
   "execution_count": null,
   "id": "2ca19a75-208a-4031-a99c-078ab972fc40",
   "metadata": {},
   "outputs": [],
   "source": [
    "d = {}\n",
    "for a, b in edges:\n",
    "    d[a].add(b)\n",
    "    d[b].add(a)"
   ]
  },
  {
   "cell_type": "markdown",
   "id": "cd774737-4ec9-4112-ae0f-6761a8e22f07",
   "metadata": {},
   "source": [
    "Ez csak akkor működne, ha lenne `a` kulcs `d`-ben.\n",
    "\n",
    "Egyik lehetőség: `dict.setdefault` metódus\n"
   ]
  },
  {
   "cell_type": "code",
   "execution_count": null,
   "id": "841276c6-0bfd-4858-8fa7-d86a8fb3de10",
   "metadata": {},
   "outputs": [],
   "source": [
    "help(dict.setdefault)"
   ]
  },
  {
   "cell_type": "code",
   "execution_count": null,
   "id": "ed4755a0-a1e5-4721-bc98-8f12d0c0224a",
   "metadata": {},
   "outputs": [],
   "source": [
    "d = {}\n",
    "for a, b in edges:\n",
    "    d.setdefault(a, set()).add(b)\n",
    "    d.setdefault(b, set()).add(a)\n",
    "d"
   ]
  },
  {
   "cell_type": "markdown",
   "id": "67731963-f07c-46ff-859f-240f8c9afa06",
   "metadata": {},
   "source": [
    "Ez már majdnem jó, de nekünk lista értékek kellenek, es a lista elemeinek abc sorrendben kellene lennie.\n",
    "Itt véletlenül abc sorrendben vannak, de ha az edges listát permutáljuk, akkor ez elromolhat!!\n",
    "\n",
    "Eszköz: `dict comprehension`"
   ]
  },
  {
   "cell_type": "code",
   "execution_count": null,
   "id": "2dec28fc-b346-468c-b546-4a074b852fdd",
   "metadata": {},
   "outputs": [],
   "source": [
    "d = {}\n",
    "edges_permuted = edges[::-1]\n",
    "\n",
    "for a, b in edges:\n",
    "    d.setdefault(a, set()).add(b)\n",
    "    d.setdefault(b, set()).add(a)\n",
    "\n",
    "print(\"sorted nélkül:\", {key: list(value) for key, value in d.items()})\n",
    "print(\"sorted-del   :\", {key: sorted(value) for key, value in d.items()})"
   ]
  },
  {
   "cell_type": "markdown",
   "id": "39e412d9-c4a4-4f29-92b6-9d4e29f08771",
   "metadata": {},
   "source": [
    "Másik lehetőség: `defaultdict` a `collections` modulból"
   ]
  },
  {
   "cell_type": "code",
   "execution_count": null,
   "id": "d29a69f5-ee27-4d03-8521-b736df6c12f8",
   "metadata": {},
   "outputs": [],
   "source": [
    "from collections import defaultdict\n",
    "\n",
    "d = defaultdict(set)\n",
    "for a, b in edges:\n",
    "    d[a].add(b)\n",
    "    d[b].add(a)\n",
    "    \n",
    "{key: sorted(value) for key, value in d.items()}"
   ]
  },
  {
   "cell_type": "markdown",
   "id": "ac3a3e7e-e2d6-44d3-a000-e3314da27860",
   "metadata": {},
   "source": [
    "Összerakva"
   ]
  },
  {
   "cell_type": "code",
   "execution_count": null,
   "id": "b621e662-bd32-4ffd-90ed-61c2cd5868d2",
   "metadata": {},
   "outputs": [],
   "source": [
    "import itertools\n",
    "\n",
    "def neighbors(edges: list) -> dict:\n",
    "    \"\"\"sparse adjacency matrix of a graph given by edges\"\"\"\n",
    "    d = defaultdict(set)\n",
    "    for a, b in edges:\n",
    "        d[a].add(b)\n",
    "        d[b].add(a)\n",
    "\n",
    "    return {key: sorted(value) for key, value in d.items()}\n",
    "\n",
    "def test_neighbor():\n",
    "    \n",
    "    assert neighbors([]) == {}\n",
    "    \n",
    "    edges0 = [(x, x) for x in \"abcde\"]\n",
    "    \n",
    "    assert neighbors(edges0) == {\"a\": [\"a\"], \"b\": [\"b\"], \"c\": [\"c\"], \"d\": [\"d\"], \"e\": [\"e\"]}\n",
    "    \n",
    "    edges1 = [(a,b) for a, b in itertools.combinations(\"abcd\", 2)]\n",
    "    \n",
    "    assert neighbors(edges1) == {\"a\": [\"b\", \"c\", \"d\"], \"b\": [\"a\", \"c\", \"d\"], \"c\": [\"a\", \"b\", \"d\"], \"d\": [\"a\", \"b\", \"c\"]}\n",
    "    \n",
    "    ## irjuk meg a maradek ket tesztet! \n",
    "    "
   ]
  },
  {
   "cell_type": "markdown",
   "id": "0c4b49ee-8225-4841-b49d-339eceb1a85f",
   "metadata": {},
   "source": [
    "<span style=\"color: darkred; font-size:20px;\">Jupyter notebookban vagyunk!</span>\n",
    "\n",
    "Importáljuk az ipytest csomagot!\n",
    "\n",
    "Konfiguráljuk az ipytest.autoconfig() hívással és az előző cella tetejébe illesszük a\n",
    "\n",
    "```\n",
    "%%ipytest\n",
    "```\n",
    "\n",
    "magic command-ot!"
   ]
  },
  {
   "cell_type": "markdown",
   "id": "af911c60-bd6d-4d8a-83d0-5094119500a2",
   "metadata": {},
   "source": [
    "<hr style=\"color:darkblue; background:darkblue; height:20px\"/>"
   ]
  },
  {
   "cell_type": "markdown",
   "id": "395cbba7-dc4f-49e8-9b07-e39031b54306",
   "metadata": {},
   "source": [
    "3. Éleivel adott egy élsúlyozott gráf. Írjunk egy függvényt, ami minden csúcsra kiszámolja a hozzá csatlakozó élek összsúlyát. A függvény egyetlen argumentuma egy lista, aminek   elemei számhármasok `(a,b,w)` alakban. `a` és `b` az él két végpontja, `w` az `(a,b)` él súlya. Többszörös élek előfordulhatnak.\n",
    "\n",
    "   A függvény visszatérési értéke egy dictionary, csúcsok a hozzájuk tartozó összsúllyal.\n",
    "\n",
    "   pl. ha\n",
    "\n",
    "        edges =  [(100, 200, 1), (100, 200, 2), (100, 1, -1), (1, 1, 5)]\n",
    "\n",
    "   és a függvényt `node_weight`-nek hívjuk, akkor\n",
    "\n",
    "        node_weight(edges)\n",
    "\n",
    "   eredménye a következő dictionary\n",
    "\n",
    "        {100: 2, 200: 3, 1: 4}\n",
    "\n",
    "   Vegyük észre a hurok él hatását.\n",
    "   Lássuk el a függvényt típus annotációval és adjuk hozzá a következő dokumentációs sztringet:\n",
    "   \n",
    "        node weights from edge weights\n",
    "\n",
    "   A fenti függvény mellett írjunk teszt függvényt is, ami legalább az alábbi esetekre ellenőrzi a helyes működést.\n",
    "\n",
    "   - Az élek listája üres.\n",
    "\n",
    "   - Legalább öt él esetén van hurok él.\n",
    "\n",
    "   - Legalább öt él esetén minden élsúly 1.\n",
    "\n",
    "   - Legalább öt él esetén az élsúlyok ,,véletlenszerűek”.\n",
    "\n",
    "   - Legalább öt él esetén van többszörös él.\n"
   ]
  },
  {
   "cell_type": "code",
   "execution_count": null,
   "id": "da4333d8-f05c-47ca-b4fb-c5f5d597c4ec",
   "metadata": {},
   "outputs": [],
   "source": [
    "def node_weight(edges: list) -> dict:\n",
    "    \"\"\"node weights from edge weights\"\"\"\n",
    "    \n",
    "    d = defaultdict(float)\n",
    "    \n",
    "    for a, b, w in edges:\n",
    "        d[a] += w\n",
    "        d[b] += w\n",
    "\n",
    "    return dict(d)\n"
   ]
  },
  {
   "cell_type": "code",
   "execution_count": null,
   "id": "6a72c598-433d-4f2b-8b23-6991b0f53ff2",
   "metadata": {},
   "outputs": [],
   "source": [
    "edges =  [(100, 200, 1), (100, 200, 2), (100, 1, -1), (1, 1, 5)]\n",
    "answer = {100: 2, 200: 3, 1: 4}\n",
    "assert node_weight(edges) == answer"
   ]
  },
  {
   "cell_type": "markdown",
   "id": "4137dda2-84f7-4c08-9009-1a4b885278c4",
   "metadata": {},
   "source": [
    "Ez így nem jó! Mi lehet a gond? Hurok él?\n",
    "\n",
    "Javítsuk ki!\n",
    "\n",
    "Írjuk meg a teszt függvényt (otthon), ha nem ez volt a házink!\n",
    "\n",
    "Könnyen eltéveszthető:\n",
    "\n",
    "- `float` a típus neve egyben függvény, ami a típus konverziót végzi, vagy ha nincs argumentuma 0.0-t ad.\n",
    "- float() -> 0\n",
    "- defaultdict argumentuma függvény, amit argumentumok nelkül is meg lehet hívni es visszatérési értéke, az új elem értéke.\n"
   ]
  },
  {
   "cell_type": "code",
   "execution_count": null,
   "id": "a0edcacd-e554-4f50-8889-b96262212ca5",
   "metadata": {},
   "outputs": [],
   "source": [
    "float, float()"
   ]
  },
  {
   "cell_type": "markdown",
   "id": "5cfe71b6-8010-41d4-8c8b-16f3299c0694",
   "metadata": {},
   "source": [
    "Bugyuta példa `defaultdict`-re"
   ]
  },
  {
   "cell_type": "code",
   "execution_count": null,
   "id": "26d91065-650d-44e5-a469-62278369db25",
   "metadata": {},
   "outputs": [],
   "source": [
    "\n",
    "d = defaultdict(lambda : len(d))\n",
    "for x in \"abbcccdad\":\n",
    "    d[x]\n",
    "    # x in d\n",
    "    # d.get(x) \n",
    "d"
   ]
  },
  {
   "cell_type": "markdown",
   "id": "23bd0f55-14e4-4665-9997-594279e10202",
   "metadata": {},
   "source": [
    "<hr style=\"color:darkblue; background:darkblue; height:20px\"/>"
   ]
  },
  {
   "cell_type": "markdown",
   "id": "471c8097-a2f2-41e7-b537-ca5cf0c33bac",
   "metadata": {},
   "source": [
    "## Új téma.\n",
    "\n",
    "További eszközök a `collections`, `itertools` modulból."
   ]
  },
  {
   "cell_type": "code",
   "execution_count": null,
   "id": "382fe427-4e9b-4f88-a5ff-f18269b9a134",
   "metadata": {},
   "outputs": [],
   "source": [
    "import collections\n",
    "\n",
    "print(collections.__doc__)"
   ]
  },
  {
   "cell_type": "code",
   "execution_count": null,
   "id": "99fbc1a7-4b4d-404a-9c76-26001ee9c79c",
   "metadata": {},
   "outputs": [],
   "source": [
    "print(itertools.__doc__)"
   ]
  },
  {
   "cell_type": "markdown",
   "id": "71460458-f8fc-4048-bbe4-1409edb204d8",
   "metadata": {},
   "source": [
    "### Kivételkezelés\n",
    "\n",
    "    try:\n",
    "        pass\n",
    "    except:\n",
    "        pass\n",
    "    finally:\n",
    "        pass\n",
    "        \n",
    "Nem nagyon fogunk olyan kódot írni, ami ezt használja. Kivéve két esetet:\n",
    "\n",
    "- üres sorozat kezelése `next` `iter` hívásoknál: `StopIteration`\n",
    "\n",
    "- Saját kontexus `with` statementhez, hasonló ahhoz, amit file olvasásnál láttunk előadáson.\n",
    "\n",
    "\n",
    "****\n",
    "\n",
    "#### Feladat.\n",
    "\n",
    "Írjuk meg a `grep` program egyszerűsített változatát.\n",
    "\n",
    "A `grep` soronként olvas egy szövegfileból és a megadott mintát tartalmazó sorokat kiírja a kimenetre.\n",
    "\n",
    "Képes arra, hogy kiírja a mintát tartalmazó sorral együtt azt megelőző és azt követő néhány sort is.\n",
    "\n",
    "A mi változatunk egy generator függvény lesz, ami a megadott file soraiból azokat tartja meg, amik az adott mintát tartalmazzák.\n"
   ]
  },
  {
   "cell_type": "markdown",
   "id": "11a9530e-0696-4185-a8df-df9fe5be1adf",
   "metadata": {},
   "source": [
    "### Olvasás fileból\n",
    "\n",
    "    with open(filename, mode) as file:\n",
    "       do_something with file\n",
    "       \n",
    "- `filename` a file elérési útja\n",
    "- `mode` \n",
    "  + `r` reading olvasás\n",
    "  + `w` writing írás\n",
    "  + `b` binary\n",
    "  + `t` text\n",
    "  + `a` append\n",
    "  \n",
    "  Ha nem adjuk meg `rt`.\n",
    "  \n",
    "  Lehetne még `r, w, rb, wb, a`\n",
    "  "
   ]
  },
  {
   "cell_type": "code",
   "execution_count": null,
   "id": "316c42df-3182-4844-816e-782a682ca47e",
   "metadata": {},
   "outputs": [],
   "source": [
    "%%writefile test.txt\n",
    "első sor\n",
    "második sor\n",
    "harmadik\n",
    "utolsó"
   ]
  },
  {
   "cell_type": "code",
   "execution_count": null,
   "id": "931f66a4-17e6-4c3a-83b6-9c6642c8d768",
   "metadata": {},
   "outputs": [],
   "source": [
    "filename = \"test.txt\"\n",
    "\n",
    "with open(filename, \"r\") as file:\n",
    "    print(file)\n",
    "    print(f\"---{filename}:\")\n",
    "    for line in file:\n",
    "        print(line, end=\"\")\n",
    "    print(\"---\")\n",
    "        "
   ]
  },
  {
   "cell_type": "markdown",
   "id": "382882e8-7677-4958-893e-fc5bc7cc78aa",
   "metadata": {},
   "source": [
    "Egészítsük ki a következő kódot!"
   ]
  },
  {
   "cell_type": "code",
   "execution_count": null,
   "id": "f79f9dec-df6f-4da2-8f60-e1eb6a73666d",
   "metadata": {},
   "outputs": [],
   "source": [
    "def simple_grep(filename: str, pattern: str): # Generator[str]\n",
    "    with open(filename, \"r\") as file:\n",
    "        for line in ???:\n",
    "            if ???:\n",
    "                yield line"
   ]
  },
  {
   "cell_type": "markdown",
   "id": "467cd086-bc0e-4136-83f9-0744201ee400",
   "metadata": {},
   "source": [
    "### Adatok olvasása netről\n",
    "\n",
    "Ez  megoldható `urllib.request` modullal\n"
   ]
  },
  {
   "cell_type": "code",
   "execution_count": null,
   "id": "6926f7d9-313c-4d54-a0be-d4e52ec1ec60",
   "metadata": {},
   "outputs": [],
   "source": [
    "import urllib.request as request\n",
    "\n",
    "url = \"https://www.gutenberg.org/files/1342/1342-0.txt\" # Pride and prejudice\n",
    "url = \"https://www.gutenberg.org/ebooks/67098.txt.utf-8\" # Winnie the pooh\n",
    "\n",
    "with request.urlopen(url) as file:\n",
    "    btext = file.read()\n",
    "\n",
    "print(type(btext))"
   ]
  },
  {
   "cell_type": "code",
   "execution_count": null,
   "id": "aad25cf6-7c2d-45bb-a896-392bd82932f7",
   "metadata": {},
   "outputs": [],
   "source": [
    "text = btext.decode()\n",
    "lines = text.split(\"\\r\\n\")\n"
   ]
  },
  {
   "cell_type": "code",
   "execution_count": null,
   "id": "0a6e99ef-dcb0-4d27-abca-4c92ae3fde7f",
   "metadata": {},
   "outputs": [],
   "source": [
    "len(lines), lines[:50]"
   ]
  },
  {
   "cell_type": "code",
   "execution_count": null,
   "id": "feed9d0b-ee55-4058-b405-3c541d74683f",
   "metadata": {},
   "outputs": [],
   "source": [
    "request.urlretrieve?"
   ]
  },
  {
   "cell_type": "code",
   "execution_count": null,
   "id": "03c2511c-6590-4ff5-a4ea-494b615f235f",
   "metadata": {},
   "outputs": [],
   "source": [
    "request.urlretrieve(url, \"winnie-the-pooh.txt\")"
   ]
  },
  {
   "cell_type": "code",
   "execution_count": null,
   "id": "50fb50d7-c730-4082-baf8-212e44dc909a",
   "metadata": {},
   "outputs": [],
   "source": [
    "! ls"
   ]
  },
  {
   "cell_type": "code",
   "execution_count": null,
   "id": "ee22c0a8-aabf-4319-b2a9-8175407e561d",
   "metadata": {},
   "outputs": [],
   "source": [
    "! head winnie-the-pooh.txt"
   ]
  },
  {
   "cell_type": "code",
   "execution_count": null,
   "id": "981ef8c7-eb1d-43d5-876d-d28cd7d6c61c",
   "metadata": {},
   "outputs": [],
   "source": [
    "def simple_grep(filename: str, pattern: str): # Generator[str]\n",
    "    with open(filename, \"r\") as file:\n",
    "        for lineno, line in enumerate(file):\n",
    "            if pattern in line.lower():\n",
    "                yield lineno, line"
   ]
  },
  {
   "cell_type": "code",
   "execution_count": null,
   "id": "b6bce9f2-de37-484f-b746-c8d30b38325a",
   "metadata": {},
   "outputs": [],
   "source": [
    "list(itertools.islice(simple_grep(\"winnie-the-pooh.txt\", \"eeyore\"), 5))"
   ]
  },
  {
   "cell_type": "code",
   "execution_count": null,
   "id": "b47e2007-0018-4179-8088-a9c256d3c310",
   "metadata": {},
   "outputs": [],
   "source": [
    "#open?"
   ]
  },
  {
   "cell_type": "markdown",
   "id": "a3d5efda-87d1-43cb-9737-12c9eb9d4d7e",
   "metadata": {},
   "source": [
    "## Melyek a leggyakoribb szavak a Micimackó angol változatában? "
   ]
  },
  {
   "cell_type": "code",
   "execution_count": null,
   "id": "cc2303ad-145a-4070-afd3-184f0511c0a0",
   "metadata": {},
   "outputs": [],
   "source": [
    "from collections import Counter"
   ]
  },
  {
   "cell_type": "code",
   "execution_count": null,
   "id": "5fdc87fc-ef4a-40a3-8209-cf028530bf5a",
   "metadata": {},
   "outputs": [],
   "source": [
    "def words(lines):\n",
    "    for line in lines:\n",
    "        for word in line.split():\n",
    "            yield word"
   ]
  },
  {
   "cell_type": "code",
   "execution_count": null,
   "id": "b9b7315a-3da4-4657-9e42-c000b7438b6f",
   "metadata": {},
   "outputs": [],
   "source": [
    "with open(\"winnie-the-pooh.txt\") as textfile:\n",
    "    counter = Counter(map(str.lower, words(islice(textfile, 50_000))))\n",
    "len(counter)"
   ]
  },
  {
   "cell_type": "code",
   "execution_count": null,
   "id": "4346c5fe-0ab5-4acb-b412-304e543b2126",
   "metadata": {},
   "outputs": [],
   "source": [
    "counter.most_common(50)"
   ]
  },
  {
   "cell_type": "markdown",
   "id": "6855010d-aa5b-4c95-a7ff-020598002ccd",
   "metadata": {},
   "source": [
    "### Mi történik a `with` statement alkalmazásakor?\n",
    "\n",
    "#### Mit lehet a with mögé írni?\n",
    "\n",
    "Hasonlóan a `for`-hoz szinte bármit, aminek van két metódusa:\n",
    "\n",
    "- `__enter__`\n",
    "- `__exit__`\n",
    "\n",
    "\n",
    "    with obj as x:\n",
    "       do_something with x\n",
    "\n",
    "Itt az `obj.__enter__()` hívás eredménye lesz az x értéke és a block végén **GARANTÁLTAN** végrehajtódik az `obj.__exit__(...)` hívás.\n",
    "Az `__enter__` metódus végezheti az előkészítést, az `__exit__` a takarítást!\n",
    "\n",
    "#### Kell-e nekünk ezeket a metódusokat közvetlenül implementálni?\n",
    "\n",
    "Valójában nem. Elegendő egy generátor függvényt megírni:\n",
    "\n",
    "    import time\n",
    "    \n",
    "    def timer():\n",
    "        try:\n",
    "            start = time.time()\n",
    "            yield\n",
    "\n",
    "        finally:\n",
    "            runtime = time.time() - start\n",
    "            print(f\"run time: {runtime:3f}\")\n",
    "            \n",
    "\n",
    "Így még csak egy generátort kapunk ami egyszer visszaad semmit (`None`) majd jelzi, hogy vége van a sorozatnak. \n",
    "\n",
    "Próbáljuk ki `for`-ral"
   ]
  },
  {
   "cell_type": "code",
   "execution_count": null,
   "id": "bf7398f5-f860-4f54-bb34-4a23a657c6de",
   "metadata": {},
   "outputs": [],
   "source": [
    "import time\n",
    "    \n",
    "def timer():\n",
    "    try:\n",
    "        start = time.time()\n",
    "        yield\n",
    "\n",
    "    finally:\n",
    "        runtime = time.time() - start\n",
    "        print(f\"run time: {runtime:3f}\")\n",
    "        \n",
    "for x in timer():\n",
    "    print(x)"
   ]
  },
  {
   "cell_type": "markdown",
   "id": "9240a96f-f131-4ec6-bf82-9200ec8683d1",
   "metadata": {},
   "source": [
    "`with`-del hibát kapunk"
   ]
  },
  {
   "cell_type": "code",
   "execution_count": null,
   "id": "733bcf3e-ba03-4764-864d-dc86b59e4fb3",
   "metadata": {},
   "outputs": [],
   "source": [
    "with timer() as x:\n",
    "    print(x)"
   ]
  },
  {
   "cell_type": "markdown",
   "id": "985e67d1-afae-4523-a8df-7577354c7745",
   "metadata": {},
   "source": [
    "A `contextlib` module `contextmanager` függvénye generatorból `contextmanager` készít."
   ]
  },
  {
   "cell_type": "code",
   "execution_count": null,
   "id": "4bf4e118-d7a5-47cc-893c-f47a2bac8c44",
   "metadata": {},
   "outputs": [],
   "source": [
    "from contextlib import contextmanager\n",
    "timer2 = contextmanager(timer)\n",
    "with timer2() as x:\n",
    "    print(x)"
   ]
  },
  {
   "cell_type": "markdown",
   "id": "20b085c9-be51-4ad4-a5a4-40910f5c1587",
   "metadata": {},
   "source": [
    "Ha egy függvény akarunk alkalmazni egy függvényre, hogy azt átalakítsuk, de ugyanaz maradjon a neve akkor a python `@` szintakszist használja.\n",
    "\n",
    "    @contextmanager\n",
    "    def timer():\n",
    "        try:\n",
    "            start = time.time()\n",
    "            yield\n",
    "\n",
    "        finally:\n",
    "            runtime = time.time() - start\n",
    "            print(f\"run time: {runtime:3f}\")\n",
    "    \n",
    "Példaként írjunk egy olyan contextmanager-t, ami jelzi nekünk, hogy mikor milyen hívás történik."
   ]
  },
  {
   "cell_type": "code",
   "execution_count": null,
   "id": "8666bd25-3915-428c-86ad-cbc4582003cd",
   "metadata": {},
   "outputs": [],
   "source": [
    "@contextmanager\n",
    "def print_whats_going_on(x):\n",
    "    print(\"try blokk előtt\")\n",
    "    try:\n",
    "        print(\"yield előtt\")\n",
    "        yield x\n",
    "        print(\"yield után\")\n",
    "    except:\n",
    "        print(\"except ág\")\n",
    "    finally:\n",
    "        print(\"finally ág\")\n",
    "    print(\"try blokk után\")"
   ]
  },
  {
   "cell_type": "code",
   "execution_count": null,
   "id": "c3ba90bb-2dde-429d-9dd8-75476b0a5225",
   "metadata": {},
   "outputs": [],
   "source": [
    "with print_whats_going_on(\"hello\") as x:\n",
    "    print(x)\n",
    "print(\"with után\")\n",
    "\n",
    "print(\"-\"*50)\n",
    "\n",
    "with print_whats_going_on(\"hello\") as x:\n",
    "    print(x)\n",
    "    raise ValueError\n",
    "print(\"with után\")\n"
   ]
  },
  {
   "cell_type": "code",
   "execution_count": null,
   "id": "39160ff6-b8bd-4e51-9117-5bb3f6a4eb59",
   "metadata": {},
   "outputs": [],
   "source": []
  }
 ],
 "metadata": {
  "kernelspec": {
   "display_name": "Python 3 (ipykernel)",
   "language": "python",
   "name": "python3"
  },
  "language_info": {
   "codemirror_mode": {
    "name": "ipython",
    "version": 3
   },
   "file_extension": ".py",
   "mimetype": "text/x-python",
   "name": "python",
   "nbconvert_exporter": "python",
   "pygments_lexer": "ipython3",
   "version": "3.8.13"
  }
 },
 "nbformat": 4,
 "nbformat_minor": 5
}
